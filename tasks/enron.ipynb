{
 "metadata": {
  "language_info": {
   "codemirror_mode": {
    "name": "ipython",
    "version": 3
   },
   "file_extension": ".py",
   "mimetype": "text/x-python",
   "name": "python",
   "nbconvert_exporter": "python",
   "pygments_lexer": "ipython3",
   "version": "3.7.3"
  },
  "orig_nbformat": 2,
  "kernelspec": {
   "name": "python373jvsc74a57bd0f358aaac028402b253f44e245e95f70ab31f76a023495906a2997df9473e7445",
   "display_name": "Python 3.7.3 64-bit ('base': conda)"
  }
 },
 "nbformat": 4,
 "nbformat_minor": 2,
 "cells": [
  {
   "source": [
    "# Finding emails relevant to meetings in Enron dataset\n",
    "\n",
    "Plan:\n",
    "\n",
    "1. Read Enron dataset\n",
    "    - Read raw messages, parse them and convert into easily accessible format\n",
    "    - Split meetings and emails\n",
    "    - Exploratory data analysis\n",
    "2. L1 ranking: find candidate emails (up to 200) to each meeting\n",
    "    - Build document frequency for each word in email\n",
    "    - Build text query for each meeting (up to 5 most important words from subject + body)\n",
    "    - Filter emails by text query or by people intersection\n",
    "    - Replicate same idea using PyTerrier\n",
    "3. L2 ranking: rank candidate emails using OpenAI GPT-3\n",
    "    - Send data to OpenAI GPT-3 for evaluation\n",
    "\n",
    "Stretch goals:\n",
    "\n",
    "- Process data using PySpark\n"
   ],
   "cell_type": "markdown",
   "metadata": {}
  },
  {
   "cell_type": "code",
   "execution_count": 1,
   "metadata": {},
   "outputs": [],
   "source": [
    "import email\n",
    "from email import policy\n",
    "import bs4\n",
    "import pickle\n",
    "import openai\n",
    "import spacy\n",
    "import pandas as pd\n",
    "import numpy as np\n",
    "from tqdm.notebook import tqdm\n",
    "from collections import Counter, defaultdict\n",
    "import json\n",
    "import os\n",
    "import re"
   ]
  },
  {
   "cell_type": "code",
   "execution_count": 2,
   "metadata": {},
   "outputs": [],
   "source": [
    "# Create new `pandas` methods which use `tqdm` progress\n",
    "# https://stackoverflow.com/questions/18603270/progress-indicator-during-pandas-operations\n",
    "# https://pypi.org/project/tqdm/#pandas-integration\n",
    "tqdm.pandas()"
   ]
  },
  {
   "cell_type": "code",
   "execution_count": 36,
   "metadata": {},
   "outputs": [
    {
     "output_type": "stream",
     "name": "stdout",
     "text": [
      "Collecting en-core-web-sm==3.0.0\n",
      "  Using cached https://github.com/explosion/spacy-models/releases/download/en_core_web_sm-3.0.0/en_core_web_sm-3.0.0-py3-none-any.whl (13.7 MB)\n",
      "Requirement already satisfied: spacy<3.1.0,>=3.0.0 in /Users/anton/anaconda3/lib/python3.7/site-packages (from en-core-web-sm==3.0.0) (3.0.5)\n",
      "Requirement already satisfied: pathy>=0.3.5 in /Users/anton/anaconda3/lib/python3.7/site-packages (from spacy<3.1.0,>=3.0.0->en-core-web-sm==3.0.0) (0.4.0)\n",
      "Requirement already satisfied: typing-extensions<4.0.0.0,>=3.7.4 in /Users/anton/anaconda3/lib/python3.7/site-packages (from spacy<3.1.0,>=3.0.0->en-core-web-sm==3.0.0) (3.7.4.3)\n",
      "Requirement already satisfied: preshed<3.1.0,>=3.0.2 in /Users/anton/anaconda3/lib/python3.7/site-packages (from spacy<3.1.0,>=3.0.0->en-core-web-sm==3.0.0) (3.0.5)\n",
      "Requirement already satisfied: thinc<8.1.0,>=8.0.2 in /Users/anton/anaconda3/lib/python3.7/site-packages (from spacy<3.1.0,>=3.0.0->en-core-web-sm==3.0.0) (8.0.2)\n",
      "Requirement already satisfied: murmurhash<1.1.0,>=0.28.0 in /Users/anton/anaconda3/lib/python3.7/site-packages (from spacy<3.1.0,>=3.0.0->en-core-web-sm==3.0.0) (1.0.5)\n",
      "Requirement already satisfied: pydantic<1.8.0,>=1.7.1 in /Users/anton/anaconda3/lib/python3.7/site-packages (from spacy<3.1.0,>=3.0.0->en-core-web-sm==3.0.0) (1.7.3)\n",
      "Requirement already satisfied: spacy-legacy<3.1.0,>=3.0.0 in /Users/anton/anaconda3/lib/python3.7/site-packages (from spacy<3.1.0,>=3.0.0->en-core-web-sm==3.0.0) (3.0.2)\n",
      "Requirement already satisfied: srsly<3.0.0,>=2.4.0 in /Users/anton/anaconda3/lib/python3.7/site-packages (from spacy<3.1.0,>=3.0.0->en-core-web-sm==3.0.0) (2.4.0)\n",
      "Requirement already satisfied: catalogue<2.1.0,>=2.0.1 in /Users/anton/anaconda3/lib/python3.7/site-packages (from spacy<3.1.0,>=3.0.0->en-core-web-sm==3.0.0) (2.0.1)\n",
      "Requirement already satisfied: requests<3.0.0,>=2.13.0 in /Users/anton/anaconda3/lib/python3.7/site-packages (from spacy<3.1.0,>=3.0.0->en-core-web-sm==3.0.0) (2.25.1)\n",
      "Requirement already satisfied: importlib-metadata>=0.20 in /Users/anton/anaconda3/lib/python3.7/site-packages (from spacy<3.1.0,>=3.0.0->en-core-web-sm==3.0.0) (3.10.0)\n",
      "Requirement already satisfied: tqdm<5.0.0,>=4.38.0 in /Users/anton/anaconda3/lib/python3.7/site-packages (from spacy<3.1.0,>=3.0.0->en-core-web-sm==3.0.0) (4.59.0)\n",
      "Requirement already satisfied: blis<0.8.0,>=0.4.0 in /Users/anton/anaconda3/lib/python3.7/site-packages (from spacy<3.1.0,>=3.0.0->en-core-web-sm==3.0.0) (0.7.4)\n",
      "Requirement already satisfied: jinja2 in /Users/anton/anaconda3/lib/python3.7/site-packages (from spacy<3.1.0,>=3.0.0->en-core-web-sm==3.0.0) (2.11.3)\n",
      "Requirement already satisfied: wasabi<1.1.0,>=0.8.1 in /Users/anton/anaconda3/lib/python3.7/site-packages (from spacy<3.1.0,>=3.0.0->en-core-web-sm==3.0.0) (0.8.2)\n",
      "Requirement already satisfied: numpy>=1.15.0 in /Users/anton/anaconda3/lib/python3.7/site-packages (from spacy<3.1.0,>=3.0.0->en-core-web-sm==3.0.0) (1.19.5)\n",
      "Requirement already satisfied: cymem<2.1.0,>=2.0.2 in /Users/anton/anaconda3/lib/python3.7/site-packages (from spacy<3.1.0,>=3.0.0->en-core-web-sm==3.0.0) (2.0.5)\n",
      "Requirement already satisfied: setuptools in /Users/anton/anaconda3/lib/python3.7/site-packages (from spacy<3.1.0,>=3.0.0->en-core-web-sm==3.0.0) (54.2.0)\n",
      "Requirement already satisfied: packaging>=20.0 in /Users/anton/anaconda3/lib/python3.7/site-packages (from spacy<3.1.0,>=3.0.0->en-core-web-sm==3.0.0) (20.9)\n",
      "Requirement already satisfied: typer<0.4.0,>=0.3.0 in /Users/anton/anaconda3/lib/python3.7/site-packages (from spacy<3.1.0,>=3.0.0->en-core-web-sm==3.0.0) (0.3.2)\n",
      "Requirement already satisfied: zipp>=0.5 in /Users/anton/anaconda3/lib/python3.7/site-packages (from importlib-metadata>=0.20->spacy<3.1.0,>=3.0.0->en-core-web-sm==3.0.0) (3.4.1)\n",
      "Requirement already satisfied: pyparsing>=2.0.2 in /Users/anton/anaconda3/lib/python3.7/site-packages (from packaging>=20.0->spacy<3.1.0,>=3.0.0->en-core-web-sm==3.0.0) (2.4.7)\n",
      "Requirement already satisfied: smart-open<4.0.0,>=2.2.0 in /Users/anton/anaconda3/lib/python3.7/site-packages (from pathy>=0.3.5->spacy<3.1.0,>=3.0.0->en-core-web-sm==3.0.0) (3.0.0)\n",
      "Requirement already satisfied: urllib3<1.27,>=1.21.1 in /Users/anton/anaconda3/lib/python3.7/site-packages (from requests<3.0.0,>=2.13.0->spacy<3.1.0,>=3.0.0->en-core-web-sm==3.0.0) (1.26.4)\n",
      "Requirement already satisfied: certifi>=2017.4.17 in /Users/anton/anaconda3/lib/python3.7/site-packages (from requests<3.0.0,>=2.13.0->spacy<3.1.0,>=3.0.0->en-core-web-sm==3.0.0) (2020.12.5)\n",
      "Requirement already satisfied: chardet<5,>=3.0.2 in /Users/anton/anaconda3/lib/python3.7/site-packages (from requests<3.0.0,>=2.13.0->spacy<3.1.0,>=3.0.0->en-core-web-sm==3.0.0) (4.0.0)\n",
      "Requirement already satisfied: idna<3,>=2.5 in /Users/anton/anaconda3/lib/python3.7/site-packages (from requests<3.0.0,>=2.13.0->spacy<3.1.0,>=3.0.0->en-core-web-sm==3.0.0) (2.10)\n",
      "Requirement already satisfied: click<7.2.0,>=7.1.1 in /Users/anton/anaconda3/lib/python3.7/site-packages (from typer<0.4.0,>=0.3.0->spacy<3.1.0,>=3.0.0->en-core-web-sm==3.0.0) (7.1.2)\n",
      "Requirement already satisfied: MarkupSafe>=0.23 in /Users/anton/anaconda3/lib/python3.7/site-packages (from jinja2->spacy<3.1.0,>=3.0.0->en-core-web-sm==3.0.0) (1.1.1)\n",
      "\u001b[38;5;2m✔ Download and installation successful\u001b[0m\n",
      "You can now load the package via spacy.load('en_core_web_sm')\n"
     ]
    }
   ],
   "source": [
    "!python -m spacy download en_core_web_sm"
   ]
  },
  {
   "cell_type": "code",
   "execution_count": 2,
   "metadata": {},
   "outputs": [
    {
     "output_type": "stream",
     "name": "stdout",
     "text": [
      "PyTerrier 0.5.0 has loaded Terrier 5.4 (built by craigm on 2021-01-16 14:17)\n"
     ]
    }
   ],
   "source": [
    "import pyterrier as pt\n",
    "if not pt.started():\n",
    "    pt.init()"
   ]
  },
  {
   "source": [
    "## 0. Helper functions\n",
    "\n",
    "Tokenization references:\n",
    "\n",
    "- https://towardsdatascience.com/benchmarking-python-nlp-tokenizers-3ac4735100c5\n",
    "- https://stackoverflow.com/questions/48691087/which-is-the-fastest-tokenization-function-in-python-3\n",
    "- https://realpython.com/natural-language-processing-spacy-python/"
   ],
   "cell_type": "markdown",
   "metadata": {}
  },
  {
   "cell_type": "code",
   "execution_count": 3,
   "metadata": {},
   "outputs": [],
   "source": [
    "sample_text = \"John:\\n?\\nI'm not really sure what happened between us.? I was  under the impression \\nafter my visit to Houston that we were about to enter into  a trial agreement \\nfor my advisory work.? Somehow,?this never  occurred.? Did I say or do \\nsomething wrong to screw this  up???\\n?\\nI don't know if you've blown this whole thing off, but I still  hope you are \\ninterested in trying?to create an arrangement.? As a  courtesy, here is my \\nreport from this past weekend.? If you are no longer  interested in my work, \\nplease tell me so.??Best wishes,\\n?\\nMark Sagel\\nPsytech Analytics\\n(410)308-0245? \\n - energy2000-1112.doc\""
   ]
  },
  {
   "cell_type": "code",
   "execution_count": 4,
   "metadata": {},
   "outputs": [],
   "source": [
    "nlp = spacy.load(\"en_core_web_sm\")\n",
    "def tokenize_spacy(text):\n",
    "    doc = nlp(text)\n",
    "    return [token.lemma_ for token in doc]"
   ]
  },
  {
   "cell_type": "code",
   "execution_count": 5,
   "metadata": {},
   "outputs": [
    {
     "output_type": "execute_result",
     "data": {
      "text/plain": [
       "\"John : \\n ? \\n I be not really sure what happen between we . ? I be   under the impression \\n after my visit to Houston that we be about to enter into   a trial agreement \\n for my advisory work . ? somehow,?this never   occur . ? do I say or do \\n something wrong to screw this   up ? ? ? \\n ? \\n I do n't know if you 've blow this whole thing off , but I still   hope you be \\n interested in trying?to create an arrangement . ? as a   courtesy , here be my \\n report from this past weekend . ? if you be no long   interested in my work , \\n please tell I so.??Best wish , \\n ? \\n Mark Sagel \\n Psytech Analytics \\n ( 410)308 - 0245 ? \\n  - energy2000-1112.doc\""
      ]
     },
     "metadata": {},
     "execution_count": 5
    }
   ],
   "source": [
    "\" \".join(tokenize_spacy(sample_text))"
   ]
  },
  {
   "cell_type": "code",
   "execution_count": 6,
   "metadata": {
    "tags": []
   },
   "outputs": [
    {
     "output_type": "stream",
     "name": "stdout",
     "text": [
      "34 ms ± 1.29 ms per loop (mean ± std. dev. of 7 runs, 10 loops each)\n"
     ]
    }
   ],
   "source": [
    "t_spacy = %timeit -o tokenize_spacy(sample_text)"
   ]
  },
  {
   "cell_type": "code",
   "execution_count": 7,
   "metadata": {},
   "outputs": [
    {
     "output_type": "stream",
     "name": "stdout",
     "text": [
      "tokenize_spacy could take about 4.72 hours\n"
     ]
    }
   ],
   "source": [
    "print(f\"tokenize_spacy could take about {(500_000 * t_spacy.average / 60 / 60):.2f} hours\")"
   ]
  },
  {
   "cell_type": "code",
   "execution_count": 8,
   "metadata": {},
   "outputs": [],
   "source": [
    "WORD = re.compile(r'\\w+')\n",
    "def tokenize_regexp(text):\n",
    "    return WORD.findall(text)"
   ]
  },
  {
   "cell_type": "code",
   "execution_count": 9,
   "metadata": {},
   "outputs": [
    {
     "output_type": "execute_result",
     "data": {
      "text/plain": [
       "'John I m not really sure what happened between us I was under the impression after my visit to Houston that we were about to enter into a trial agreement for my advisory work Somehow this never occurred Did I say or do something wrong to screw this up I don t know if you ve blown this whole thing off but I still hope you are interested in trying to create an arrangement As a courtesy here is my report from this past weekend If you are no longer interested in my work please tell me so Best wishes Mark Sagel Psytech Analytics 410 308 0245 energy2000 1112 doc'"
      ]
     },
     "metadata": {},
     "execution_count": 9
    }
   ],
   "source": [
    "\" \".join(tokenize_regexp(sample_text))"
   ]
  },
  {
   "cell_type": "code",
   "execution_count": 10,
   "metadata": {},
   "outputs": [
    {
     "output_type": "stream",
     "name": "stdout",
     "text": [
      "41.6 µs ± 1.93 µs per loop (mean ± std. dev. of 7 runs, 10000 loops each)\n"
     ]
    }
   ],
   "source": [
    "t_regexp = %timeit -o tokenize_regexp(sample_text)"
   ]
  },
  {
   "cell_type": "code",
   "execution_count": 11,
   "metadata": {},
   "outputs": [
    {
     "output_type": "stream",
     "name": "stdout",
     "text": [
      "tokenize_regexp could take about 0.01 hours\n"
     ]
    }
   ],
   "source": [
    "print(f\"tokenize_regexp could take about {(500_000 * t_regexp.average / 60 / 60):.2f} hours\")"
   ]
  },
  {
   "cell_type": "code",
   "execution_count": 12,
   "metadata": {},
   "outputs": [],
   "source": [
    "# Choosing regexp tokenization for this moment, since it is faster\n",
    "tokenize = tokenize_regexp"
   ]
  },
  {
   "source": [
    "## 1. Read Enron dataset"
   ],
   "cell_type": "markdown",
   "metadata": {}
  },
  {
   "cell_type": "code",
   "execution_count": 14,
   "metadata": {},
   "outputs": [],
   "source": [
    "def extract_msg_body(msg):\n",
    "    body = msg.get_body()\n",
    "    if not body['content-type']:\n",
    "        return body.get_content()\n",
    "    if body['content-type'].maintype == 'text':\n",
    "        if body['content-type'].subtype == 'plain':\n",
    "            return body.get_content()\n",
    "        elif body['content-type'].subtype == 'html':\n",
    "            content = DOCTYPE_REGEX.sub(\"\", body.get_content())\n",
    "            soup = bs4.BeautifulSoup(content, 'lxml')\n",
    "            [s.extract() for s in soup(['style', 'script', '[document]', 'head', 'title'])]\n",
    "            return soup.get_text()\n",
    "    return \"\"\n",
    "\n",
    "def parse_message(msg):\n",
    "    return {\n",
    "        'ID': msg['Message-ID'],\n",
    "        'Date': msg['Date'],\n",
    "        'Subject': msg['Subject'],\n",
    "        'To': msg['To'],\n",
    "        'From': msg['From'],\n",
    "        'Cc': msg['Cc'],\n",
    "        'Bcc': msg['Bcc'],\n",
    "        'X-To': msg['X-To'],\n",
    "        'X-From': msg['X-From'],\n",
    "        'X-Cc': msg['X-cc'],\n",
    "        'X-Bcc': msg['X-bcc'],\n",
    "        'Body': extract_msg_body(msg)\n",
    "    }"
   ]
  },
  {
   "cell_type": "code",
   "execution_count": 15,
   "metadata": {},
   "outputs": [],
   "source": [
    "enron_input_path = r\"/Users/anton/Downloads/maildir\"\n",
    "enron_processed_path = r\"/Users/anton/datasets/enron.jsonl\""
   ]
  },
  {
   "cell_type": "code",
   "execution_count": 16,
   "metadata": {},
   "outputs": [],
   "source": [
    "def preprocess_enron_data():\n",
    "    print(\"Counting number of messages in Enron dataset...\")\n",
    "    msg_count = sum([len(files) for _, _, files in os.walk(enron_input_path)])\n",
    "    print(\"Found {} messages\".format(msg_count))\n",
    "\n",
    "    print(\"Reading messages in Enron dataset...\")\n",
    "    with open(enron_processed_path, \"w\", encoding=\"utf-8\") as output_file:\n",
    "        with tqdm(total=msg_count) as pbar:\n",
    "            for root, _, files in os.walk(enron_input_path):\n",
    "                rel_dir = os.path.relpath(root, enron_input_path)\n",
    "                pbar.set_description(f'Processing \"{rel_dir}\"')\n",
    "                for file_name in files:\n",
    "                    rel_file = os.path.join(rel_dir, file_name)\n",
    "\n",
    "                    with open(os.path.join(enron_input_path, rel_file), 'rb') as f:\n",
    "                        try:\n",
    "                            msg = email.parser.BytesParser(policy=policy.default).parse(f)\n",
    "                            parsed_msg = parse_message(msg)\n",
    "                        except Exception as e:\n",
    "                            pbar.write(f'Ignoring {rel_file}, parsing failed with exception: {e}')\n",
    "\n",
    "                        if not parsed_msg['ID']:\n",
    "                            pbar.write(f'Ignoring {rel_file}, does not look like proper a message')\n",
    "                        else:\n",
    "                            parsed_msg['File'] = rel_file\n",
    "                            output_file.write(json.dumps(parsed_msg) + \"\\n\")\n",
    "\n",
    "                    pbar.update(1)\n",
    "    print(\"Done\")"
   ]
  },
  {
   "cell_type": "code",
   "execution_count": 28,
   "metadata": {},
   "outputs": [
    {
     "output_type": "stream",
     "name": "stdout",
     "text": [
      "Counting number of messages in Enron dataset...\n",
      "Found 517404 messages\n",
      "Reading messages in Enron dataset...\n"
     ]
    },
    {
     "output_type": "display_data",
     "data": {
      "text/plain": "  0%|          | 0/517404 [00:00<?, ?it/s]",
      "application/vnd.jupyter.widget-view+json": {
       "version_major": 2,
       "version_minor": 0,
       "model_id": "6933d909eec746118baa098eaaa62051"
      }
     },
     "metadata": {}
    },
    {
     "output_type": "stream",
     "name": "stdout",
     "text": [
      "Ignoring ./.DS_Store, does not look like proper a message\n",
      "Ignoring kitchen-l/sent_items/24., parsing failed with exception: 'ValueTerminal' object does not support item assignment\n",
      "Ignoring kitchen-l/sent_items/29., parsing failed with exception: 'ValueTerminal' object does not support item assignment\n",
      "Ignoring kitchen-l/sent_items/20., parsing failed with exception: 'ValueTerminal' object does not support item assignment\n",
      "Ignoring kitchen-l/_americas/netco_eol/83., parsing failed with exception: 'ValueTerminal' object does not support item assignment\n",
      "Ignoring kitchen-l/_americas/netco_eol/82., parsing failed with exception: 'ValueTerminal' object does not support item assignment\n",
      "Ignoring kitchen-l/_americas/netco_eol/1., parsing failed with exception: 'ValueTerminal' object does not support item assignment\n",
      "Ignoring kitchen-l/_americas/esvl/87., parsing failed with exception: 'ValueTerminal' object does not support item assignment\n",
      "Ignoring kitchen-l/_americas/netco_restart/3., parsing failed with exception: 'ValueTerminal' object does not support item assignment\n",
      "Ignoring kitchen-l/_americas/netco_restart/4., parsing failed with exception: 'ValueTerminal' object does not support item assignment\n",
      "Ignoring kitchen-l/_americas/netco_restart/7., parsing failed with exception: 'ValueTerminal' object does not support item assignment\n",
      "Ignoring kitchen-l/_americas/netco_restart/5., parsing failed with exception: 'ValueTerminal' object does not support item assignment\n",
      "Ignoring kitchen-l/_americas/netco_restart/2., parsing failed with exception: 'ValueTerminal' object does not support item assignment\n",
      "Ignoring campbell-l/.DS_Store, does not look like proper a message\n",
      "Ignoring campbell-l/et/.DS_Store, does not look like proper a message\n",
      "Done\n"
     ]
    }
   ],
   "source": [
    "preprocess_enron_data()"
   ]
  },
  {
   "cell_type": "code",
   "execution_count": 30,
   "metadata": {},
   "outputs": [],
   "source": [
    "df = pd.read_json(enron_processed_path, lines=True)\n",
    "df.to_parquet(r\"/Users/anton/datasets/enron.parquet\")"
   ]
  },
  {
   "cell_type": "code",
   "execution_count": 13,
   "metadata": {},
   "outputs": [],
   "source": [
    "df = pd.read_parquet(r\"/Users/anton/datasets/enron.parquet\")"
   ]
  },
  {
   "cell_type": "code",
   "execution_count": 14,
   "metadata": {},
   "outputs": [
    {
     "output_type": "stream",
     "name": "stdout",
     "text": [
      "Total number of messages: 517401\n"
     ]
    }
   ],
   "source": [
    "print(f\"Total number of messages: {df.shape[0]}\")"
   ]
  },
  {
   "cell_type": "code",
   "execution_count": 19,
   "metadata": {},
   "outputs": [
    {
     "output_type": "execute_result",
     "data": {
      "text/plain": [
       "Index            128\n",
       "ID          52603300\n",
       "Date        45531288\n",
       "Subject     44153383\n",
       "To         103506888\n",
       "From        41142712\n",
       "Cc          29974977\n",
       "Bcc         29974977\n",
       "X-To       133026209\n",
       "X-From      44442913\n",
       "X-Cc        46754093\n",
       "X-Bcc       29634964\n",
       "Body       977529990\n",
       "File        42845664\n",
       "dtype: int64"
      ]
     },
     "metadata": {},
     "execution_count": 19
    }
   ],
   "source": [
    "df.memory_usage(deep=True)"
   ]
  },
  {
   "cell_type": "code",
   "execution_count": 18,
   "metadata": {},
   "outputs": [
    {
     "output_type": "execute_result",
     "data": {
      "text/plain": [
       "                                              ID  \\\n",
       "0  <17334447.1075857585446.JavaMail.evans@thyme>   \n",
       "1  <19171686.1075857585034.JavaMail.evans@thyme>   \n",
       "2  <29887033.1075857630725.JavaMail.evans@thyme>   \n",
       "3  <29084893.1075849630138.JavaMail.evans@thyme>   \n",
       "4  <30248874.1075857584813.JavaMail.evans@thyme>   \n",
       "\n",
       "                              Date  \\\n",
       "0  Thu, 16 Nov 2000 09:30:00 -0800   \n",
       "1  Fri, 08 Dec 2000 05:05:00 -0800   \n",
       "2  Tue, 15 May 2001 09:43:00 -0700   \n",
       "3  Mon, 27 Nov 2000 01:49:00 -0800   \n",
       "4  Tue, 12 Dec 2000 09:33:00 -0800   \n",
       "\n",
       "                                             Subject  \\\n",
       "0                                             Status   \n",
       "1                                 re:summer inverses   \n",
       "2                      The WTI Bullet swap contracts   \n",
       "3  Invitation: EBS/GSS Meeting w/Bristol Babcock ...   \n",
       "4                                       Harvard Mgmt   \n",
       "\n",
       "                                                  To  \\\n",
       "0                                  jarnold@enron.com   \n",
       "1                              john.arnold@enron.com   \n",
       "2  icehelpdesk@intcx.com, internalmarketing@intcx...   \n",
       "3  anthony.gilmore@enron.com, colleen.koenig@enro...   \n",
       "4                             mike.grigsby@enron.com   \n",
       "\n",
       "                        From                     Cc                    Bcc  \\\n",
       "0            msagel@home.com                   None                   None   \n",
       "1    slafontaine@globalp.com                   None                   None   \n",
       "2    iceoperations@intcx.com                   None                   None   \n",
       "3  jeff.youngflesh@enron.com                   None                   None   \n",
       "4  caroline.abramo@enron.com  john.arnold@enron.com  john.arnold@enron.com   \n",
       "\n",
       "                                                X-To  \\\n",
       "0                  \"John Arnold\" <jarnold@enron.com>   \n",
       "1                              John.Arnold@enron.com   \n",
       "2  **ICEHELPDESK <**ICEHELPDESK@intcx.com>, **Int...   \n",
       "3  Anthony Gilmore, Colleen Koenig, Jennifer Stew...   \n",
       "4                                       Mike Grigsby   \n",
       "\n",
       "                                     X-From         X-Cc X-Bcc  \\\n",
       "0            \"Mark Sagel\" <msagel@home.com>                      \n",
       "1                   slafontaine@globalp.com                      \n",
       "2  ICE Operations <ICEOperations@intcx.com>                      \n",
       "3                           Jeff Youngflesh                      \n",
       "4                           Caroline Abramo  John Arnold         \n",
       "\n",
       "                                                Body                      File  \n",
       "0  John:\\n?\\nI'm not really sure what happened be...  arnold-j/notes_inbox/36.  \n",
       "1  i suck-hope youve made more money in natgas la...  arnold-j/notes_inbox/19.  \n",
       "2   Hi,\\n\\n\\n  Following the e-mail you have rece...  arnold-j/notes_inbox/50.  \n",
       "3  Conference Room TBD.  \\n\\nThis meeting will be...   arnold-j/notes_inbox/3.  \n",
       "4  Mike- I have their trader coming into the offi...   arnold-j/notes_inbox/9.  "
      ],
      "text/html": "<div>\n<style scoped>\n    .dataframe tbody tr th:only-of-type {\n        vertical-align: middle;\n    }\n\n    .dataframe tbody tr th {\n        vertical-align: top;\n    }\n\n    .dataframe thead th {\n        text-align: right;\n    }\n</style>\n<table border=\"1\" class=\"dataframe\">\n  <thead>\n    <tr style=\"text-align: right;\">\n      <th></th>\n      <th>ID</th>\n      <th>Date</th>\n      <th>Subject</th>\n      <th>To</th>\n      <th>From</th>\n      <th>Cc</th>\n      <th>Bcc</th>\n      <th>X-To</th>\n      <th>X-From</th>\n      <th>X-Cc</th>\n      <th>X-Bcc</th>\n      <th>Body</th>\n      <th>File</th>\n    </tr>\n  </thead>\n  <tbody>\n    <tr>\n      <th>0</th>\n      <td>&lt;17334447.1075857585446.JavaMail.evans@thyme&gt;</td>\n      <td>Thu, 16 Nov 2000 09:30:00 -0800</td>\n      <td>Status</td>\n      <td>jarnold@enron.com</td>\n      <td>msagel@home.com</td>\n      <td>None</td>\n      <td>None</td>\n      <td>\"John Arnold\" &lt;jarnold@enron.com&gt;</td>\n      <td>\"Mark Sagel\" &lt;msagel@home.com&gt;</td>\n      <td></td>\n      <td></td>\n      <td>John:\\n?\\nI'm not really sure what happened be...</td>\n      <td>arnold-j/notes_inbox/36.</td>\n    </tr>\n    <tr>\n      <th>1</th>\n      <td>&lt;19171686.1075857585034.JavaMail.evans@thyme&gt;</td>\n      <td>Fri, 08 Dec 2000 05:05:00 -0800</td>\n      <td>re:summer inverses</td>\n      <td>john.arnold@enron.com</td>\n      <td>slafontaine@globalp.com</td>\n      <td>None</td>\n      <td>None</td>\n      <td>John.Arnold@enron.com</td>\n      <td>slafontaine@globalp.com</td>\n      <td></td>\n      <td></td>\n      <td>i suck-hope youve made more money in natgas la...</td>\n      <td>arnold-j/notes_inbox/19.</td>\n    </tr>\n    <tr>\n      <th>2</th>\n      <td>&lt;29887033.1075857630725.JavaMail.evans@thyme&gt;</td>\n      <td>Tue, 15 May 2001 09:43:00 -0700</td>\n      <td>The WTI Bullet swap contracts</td>\n      <td>icehelpdesk@intcx.com, internalmarketing@intcx...</td>\n      <td>iceoperations@intcx.com</td>\n      <td>None</td>\n      <td>None</td>\n      <td>**ICEHELPDESK &lt;**ICEHELPDESK@intcx.com&gt;, **Int...</td>\n      <td>ICE Operations &lt;ICEOperations@intcx.com&gt;</td>\n      <td></td>\n      <td></td>\n      <td>Hi,\\n\\n\\n  Following the e-mail you have rece...</td>\n      <td>arnold-j/notes_inbox/50.</td>\n    </tr>\n    <tr>\n      <th>3</th>\n      <td>&lt;29084893.1075849630138.JavaMail.evans@thyme&gt;</td>\n      <td>Mon, 27 Nov 2000 01:49:00 -0800</td>\n      <td>Invitation: EBS/GSS Meeting w/Bristol Babcock ...</td>\n      <td>anthony.gilmore@enron.com, colleen.koenig@enro...</td>\n      <td>jeff.youngflesh@enron.com</td>\n      <td>None</td>\n      <td>None</td>\n      <td>Anthony Gilmore, Colleen Koenig, Jennifer Stew...</td>\n      <td>Jeff Youngflesh</td>\n      <td></td>\n      <td></td>\n      <td>Conference Room TBD.  \\n\\nThis meeting will be...</td>\n      <td>arnold-j/notes_inbox/3.</td>\n    </tr>\n    <tr>\n      <th>4</th>\n      <td>&lt;30248874.1075857584813.JavaMail.evans@thyme&gt;</td>\n      <td>Tue, 12 Dec 2000 09:33:00 -0800</td>\n      <td>Harvard Mgmt</td>\n      <td>mike.grigsby@enron.com</td>\n      <td>caroline.abramo@enron.com</td>\n      <td>john.arnold@enron.com</td>\n      <td>john.arnold@enron.com</td>\n      <td>Mike Grigsby</td>\n      <td>Caroline Abramo</td>\n      <td>John Arnold</td>\n      <td></td>\n      <td>Mike- I have their trader coming into the offi...</td>\n      <td>arnold-j/notes_inbox/9.</td>\n    </tr>\n  </tbody>\n</table>\n</div>"
     },
     "metadata": {},
     "execution_count": 18
    }
   ],
   "source": [
    "df.head()"
   ]
  },
  {
   "cell_type": "code",
   "execution_count": 15,
   "metadata": {},
   "outputs": [],
   "source": [
    "filter = df.File.str.contains(\"calendar\")\n",
    "df_meetings = df[filter]\n",
    "df_emails = df[~filter]"
   ]
  },
  {
   "cell_type": "code",
   "execution_count": 16,
   "metadata": {},
   "outputs": [
    {
     "output_type": "stream",
     "name": "stdout",
     "text": [
      "Number of meetings: 6232\nNumber of emails: 511169\nEmails / Meetings ratio: 82.02326700898588\n"
     ]
    }
   ],
   "source": [
    "print(f\"Number of meetings: {df_meetings.shape[0]}\")\n",
    "print(f\"Number of emails: {df_emails.shape[0]}\")\n",
    "print(f\"Emails / Meetings ratio: {df_emails.shape[0] / df_meetings.shape[0]}\")"
   ]
  },
  {
   "source": [
    "## 2. L1 ranking: find candidate emails (up to 200) to each meeting\n",
    "### 2.1. Build document frequency for each word in email"
   ],
   "cell_type": "markdown",
   "metadata": {}
  },
  {
   "cell_type": "code",
   "execution_count": 22,
   "metadata": {},
   "outputs": [
    {
     "output_type": "display_data",
     "data": {
      "text/plain": "  0%|          | 0/517401 [00:00<?, ?it/s]",
      "application/vnd.jupyter.widget-view+json": {
       "version_major": 2,
       "version_minor": 0,
       "model_id": "6c81c2d70d3d4d30bbf570b87f063ffc"
      }
     },
     "metadata": {}
    },
    {
     "output_type": "display_data",
     "data": {
      "text/plain": "  0%|          | 0/517401 [00:00<?, ?it/s]",
      "application/vnd.jupyter.widget-view+json": {
       "version_major": 2,
       "version_minor": 0,
       "model_id": "521895e5207c4a78830f811b7f83c1a5"
      }
     },
     "metadata": {}
    }
   ],
   "source": [
    "doc_freq = Counter()\n",
    "for column in ['Subject', 'Body']:\n",
    "    for text in tqdm(df[column]):\n",
    "        doc_freq.update(set(tokenize(text)))"
   ]
  },
  {
   "cell_type": "code",
   "execution_count": 17,
   "metadata": {},
   "outputs": [],
   "source": [
    "enron_df_path = r\"/Users/anton/datasets/enron_df.p\""
   ]
  },
  {
   "cell_type": "code",
   "execution_count": 23,
   "metadata": {},
   "outputs": [
    {
     "output_type": "stream",
     "name": "stdout",
     "text": [
      "18254379\n"
     ]
    }
   ],
   "source": [
    "pickle.dump(doc_freq, open(enron_df_path, \"wb\"))\n",
    "print(os.path.getsize(enron_df_path))"
   ]
  },
  {
   "cell_type": "code",
   "execution_count": 18,
   "metadata": {},
   "outputs": [],
   "source": [
    "doc_freq = pickle.load(open(enron_df_path, \"rb\"))"
   ]
  },
  {
   "cell_type": "code",
   "execution_count": 19,
   "metadata": {},
   "outputs": [
    {
     "output_type": "execute_result",
     "data": {
      "text/plain": [
       "698155"
      ]
     },
     "metadata": {},
     "execution_count": 19
    }
   ],
   "source": [
    "len(doc_freq)"
   ]
  },
  {
   "cell_type": "code",
   "execution_count": 24,
   "metadata": {},
   "outputs": [
    {
     "output_type": "execute_result",
     "data": {
      "text/plain": [
       "[('the', 423056),\n",
       " ('to', 413287),\n",
       " ('and', 368052),\n",
       " ('for', 363579),\n",
       " ('of', 345295),\n",
       " ('on', 331826),\n",
       " ('you', 326065),\n",
       " ('a', 321187),\n",
       " ('is', 305843),\n",
       " ('in', 305037),\n",
       " ('I', 274604),\n",
       " ('To', 256965),\n",
       " ('have', 253450),\n",
       " ('this', 252973),\n",
       " ('be', 250607),\n",
       " ('that', 244642),\n",
       " ('with', 238975),\n",
       " ('by', 225529),\n",
       " ('s', 225062),\n",
       " ('Subject', 224242)]"
      ]
     },
     "metadata": {},
     "execution_count": 24
    }
   ],
   "source": [
    "doc_freq.most_common(20)  # most common words"
   ]
  },
  {
   "cell_type": "code",
   "execution_count": 27,
   "metadata": {},
   "outputs": [
    {
     "output_type": "execute_result",
     "data": {
      "text/plain": [
       "[('Correctable', 1),\n",
       " ('PACIFICORP_OU', 1),\n",
       " ('emis_transmission_scheduling', 1),\n",
       " ('EMISOASIS', 1),\n",
       " ('SCHDOASIS', 1),\n",
       " ('Robert_L', 1),\n",
       " ('singlebus', 1),\n",
       " ('ARef', 1),\n",
       " ('ETags', 1),\n",
       " ('SLC_CN', 1),\n",
       " ('Larocco', 1),\n",
       " ('40wscc', 1),\n",
       " ('ISASarians', 1),\n",
       " ('WON_Security_Policy', 1),\n",
       " ('01CL', 1),\n",
       " ('01RL', 1),\n",
       " ('ATC_posting_background_10', 1),\n",
       " ('ATCmethodolgy_10', 1),\n",
       " ('VancouverMinutes', 1),\n",
       " ('ESIBW', 1)]"
      ]
     },
     "metadata": {},
     "execution_count": 27
    }
   ],
   "source": [
    "doc_freq.most_common()[:-20-1:-1]   # least common words"
   ]
  },
  {
   "cell_type": "code",
   "execution_count": 22,
   "metadata": {},
   "outputs": [
    {
     "output_type": "stream",
     "name": "stdout",
     "text": [
      "Mtg: Budget Meeting - Whalley\nGreg Whalley will be holding a budget meeting on Tuesday, Feb. 6 @ 3:00 p.m. in EB3321.  This invitation is extended to all CEOs and/or COOs reporting to Wholesale Services.  Should you have any questions, please contact me immediately.  \n\nConfirmed Attendees:\nLouise Kitchen\nDave Delainey\nJeff McMahon\nJeff Shankman\nJim Hughes\nWes Colwell\n\n"
     ]
    },
    {
     "output_type": "execute_result",
     "data": {
      "text/plain": [
       "[('COOs', 16),\n",
       " ('EB3321', 258),\n",
       " ('Confirmed', 534),\n",
       " ('Attendees', 981),\n",
       " ('CEOs', 1014),\n",
       " ('Colwell', 1780),\n",
       " ('Wes', 2308),\n",
       " ('Budget', 2327),\n",
       " ('Mtg', 2834),\n",
       " ('McMahon', 2923)]"
      ]
     },
     "metadata": {},
     "execution_count": 22
    }
   ],
   "source": [
    "subject = df_meetings.iloc[0].Subject\n",
    "body = df_meetings.iloc[0].Body\n",
    "print(subject)\n",
    "print(body)\n",
    "Counter({word: doc_freq[word] for word in tokenize(subject + \" \" + body)}).most_common()[:-11:-1]"
   ]
  },
  {
   "cell_type": "code",
   "execution_count": 25,
   "metadata": {},
   "outputs": [
    {
     "output_type": "execute_result",
     "data": {
      "text/plain": [
       "           Word    Freq\n",
       "31         COOs      16\n",
       "21       EB3321     258\n",
       "45    Confirmed     534\n",
       "46    Attendees     981\n",
       "28         CEOs    1014\n",
       "58      Colwell    1780\n",
       "57          Wes    2308\n",
       "1        Budget    2327\n",
       "0           Mtg    2834\n",
       "52      McMahon    2923\n",
       "56       Hughes    3559\n",
       "23   invitation    3871\n",
       "25     extended    4063\n",
       "3       Whalley    4895\n",
       "5       Whalley    4895\n",
       "10       budget    5374\n",
       "54     Shankman    5743\n",
       "8       holding    5747\n",
       "48      Kitchen    6387\n",
       "34    Wholesale    6559\n",
       "50     Delainey    6614\n",
       "32    reporting    7951\n",
       "47       Louise    8156\n",
       "14          Feb    8205\n",
       "36       Should    8870\n",
       "4          Greg   17057\n",
       "49         Dave   17059\n",
       "18            p   19653\n",
       "44  immediately   22205\n",
       "2       Meeting   23268\n",
       "55          Jim   23637\n",
       "35     Services   28713\n",
       "13      Tuesday   43878\n",
       "53         Jeff   47568\n",
       "51         Jeff   47568\n",
       "11      meeting   54142\n",
       "15            6   59324\n",
       "42      contact   59890\n",
       "19            m   68961\n",
       "40    questions   80035\n",
       "17           00   81665\n",
       "16            3  106966\n",
       "22         This  108813\n",
       "41       please  127457\n",
       "27          all  128818\n",
       "39          any  155849\n",
       "43           me  178058\n",
       "30           or  183690\n",
       "6          will  222131\n",
       "7            be  250607\n",
       "38         have  253450\n",
       "20           in  305037\n",
       "24           is  305843\n",
       "9             a  321187\n",
       "37          you  326065\n",
       "12           on  331826\n",
       "29          and  368052\n",
       "26           to  413287\n",
       "33           to  413287"
      ],
      "text/html": "<div>\n<style scoped>\n    .dataframe tbody tr th:only-of-type {\n        vertical-align: middle;\n    }\n\n    .dataframe tbody tr th {\n        vertical-align: top;\n    }\n\n    .dataframe thead th {\n        text-align: right;\n    }\n</style>\n<table border=\"1\" class=\"dataframe\">\n  <thead>\n    <tr style=\"text-align: right;\">\n      <th></th>\n      <th>Word</th>\n      <th>Freq</th>\n    </tr>\n  </thead>\n  <tbody>\n    <tr>\n      <th>31</th>\n      <td>COOs</td>\n      <td>16</td>\n    </tr>\n    <tr>\n      <th>21</th>\n      <td>EB3321</td>\n      <td>258</td>\n    </tr>\n    <tr>\n      <th>45</th>\n      <td>Confirmed</td>\n      <td>534</td>\n    </tr>\n    <tr>\n      <th>46</th>\n      <td>Attendees</td>\n      <td>981</td>\n    </tr>\n    <tr>\n      <th>28</th>\n      <td>CEOs</td>\n      <td>1014</td>\n    </tr>\n    <tr>\n      <th>58</th>\n      <td>Colwell</td>\n      <td>1780</td>\n    </tr>\n    <tr>\n      <th>57</th>\n      <td>Wes</td>\n      <td>2308</td>\n    </tr>\n    <tr>\n      <th>1</th>\n      <td>Budget</td>\n      <td>2327</td>\n    </tr>\n    <tr>\n      <th>0</th>\n      <td>Mtg</td>\n      <td>2834</td>\n    </tr>\n    <tr>\n      <th>52</th>\n      <td>McMahon</td>\n      <td>2923</td>\n    </tr>\n    <tr>\n      <th>56</th>\n      <td>Hughes</td>\n      <td>3559</td>\n    </tr>\n    <tr>\n      <th>23</th>\n      <td>invitation</td>\n      <td>3871</td>\n    </tr>\n    <tr>\n      <th>25</th>\n      <td>extended</td>\n      <td>4063</td>\n    </tr>\n    <tr>\n      <th>3</th>\n      <td>Whalley</td>\n      <td>4895</td>\n    </tr>\n    <tr>\n      <th>5</th>\n      <td>Whalley</td>\n      <td>4895</td>\n    </tr>\n    <tr>\n      <th>10</th>\n      <td>budget</td>\n      <td>5374</td>\n    </tr>\n    <tr>\n      <th>54</th>\n      <td>Shankman</td>\n      <td>5743</td>\n    </tr>\n    <tr>\n      <th>8</th>\n      <td>holding</td>\n      <td>5747</td>\n    </tr>\n    <tr>\n      <th>48</th>\n      <td>Kitchen</td>\n      <td>6387</td>\n    </tr>\n    <tr>\n      <th>34</th>\n      <td>Wholesale</td>\n      <td>6559</td>\n    </tr>\n    <tr>\n      <th>50</th>\n      <td>Delainey</td>\n      <td>6614</td>\n    </tr>\n    <tr>\n      <th>32</th>\n      <td>reporting</td>\n      <td>7951</td>\n    </tr>\n    <tr>\n      <th>47</th>\n      <td>Louise</td>\n      <td>8156</td>\n    </tr>\n    <tr>\n      <th>14</th>\n      <td>Feb</td>\n      <td>8205</td>\n    </tr>\n    <tr>\n      <th>36</th>\n      <td>Should</td>\n      <td>8870</td>\n    </tr>\n    <tr>\n      <th>4</th>\n      <td>Greg</td>\n      <td>17057</td>\n    </tr>\n    <tr>\n      <th>49</th>\n      <td>Dave</td>\n      <td>17059</td>\n    </tr>\n    <tr>\n      <th>18</th>\n      <td>p</td>\n      <td>19653</td>\n    </tr>\n    <tr>\n      <th>44</th>\n      <td>immediately</td>\n      <td>22205</td>\n    </tr>\n    <tr>\n      <th>2</th>\n      <td>Meeting</td>\n      <td>23268</td>\n    </tr>\n    <tr>\n      <th>55</th>\n      <td>Jim</td>\n      <td>23637</td>\n    </tr>\n    <tr>\n      <th>35</th>\n      <td>Services</td>\n      <td>28713</td>\n    </tr>\n    <tr>\n      <th>13</th>\n      <td>Tuesday</td>\n      <td>43878</td>\n    </tr>\n    <tr>\n      <th>53</th>\n      <td>Jeff</td>\n      <td>47568</td>\n    </tr>\n    <tr>\n      <th>51</th>\n      <td>Jeff</td>\n      <td>47568</td>\n    </tr>\n    <tr>\n      <th>11</th>\n      <td>meeting</td>\n      <td>54142</td>\n    </tr>\n    <tr>\n      <th>15</th>\n      <td>6</td>\n      <td>59324</td>\n    </tr>\n    <tr>\n      <th>42</th>\n      <td>contact</td>\n      <td>59890</td>\n    </tr>\n    <tr>\n      <th>19</th>\n      <td>m</td>\n      <td>68961</td>\n    </tr>\n    <tr>\n      <th>40</th>\n      <td>questions</td>\n      <td>80035</td>\n    </tr>\n    <tr>\n      <th>17</th>\n      <td>00</td>\n      <td>81665</td>\n    </tr>\n    <tr>\n      <th>16</th>\n      <td>3</td>\n      <td>106966</td>\n    </tr>\n    <tr>\n      <th>22</th>\n      <td>This</td>\n      <td>108813</td>\n    </tr>\n    <tr>\n      <th>41</th>\n      <td>please</td>\n      <td>127457</td>\n    </tr>\n    <tr>\n      <th>27</th>\n      <td>all</td>\n      <td>128818</td>\n    </tr>\n    <tr>\n      <th>39</th>\n      <td>any</td>\n      <td>155849</td>\n    </tr>\n    <tr>\n      <th>43</th>\n      <td>me</td>\n      <td>178058</td>\n    </tr>\n    <tr>\n      <th>30</th>\n      <td>or</td>\n      <td>183690</td>\n    </tr>\n    <tr>\n      <th>6</th>\n      <td>will</td>\n      <td>222131</td>\n    </tr>\n    <tr>\n      <th>7</th>\n      <td>be</td>\n      <td>250607</td>\n    </tr>\n    <tr>\n      <th>38</th>\n      <td>have</td>\n      <td>253450</td>\n    </tr>\n    <tr>\n      <th>20</th>\n      <td>in</td>\n      <td>305037</td>\n    </tr>\n    <tr>\n      <th>24</th>\n      <td>is</td>\n      <td>305843</td>\n    </tr>\n    <tr>\n      <th>9</th>\n      <td>a</td>\n      <td>321187</td>\n    </tr>\n    <tr>\n      <th>37</th>\n      <td>you</td>\n      <td>326065</td>\n    </tr>\n    <tr>\n      <th>12</th>\n      <td>on</td>\n      <td>331826</td>\n    </tr>\n    <tr>\n      <th>29</th>\n      <td>and</td>\n      <td>368052</td>\n    </tr>\n    <tr>\n      <th>26</th>\n      <td>to</td>\n      <td>413287</td>\n    </tr>\n    <tr>\n      <th>33</th>\n      <td>to</td>\n      <td>413287</td>\n    </tr>\n  </tbody>\n</table>\n</div>"
     },
     "metadata": {},
     "execution_count": 25
    }
   ],
   "source": [
    "pd.DataFrame([{\"Word\": word, \"Freq\": doc_freq[word]} for word in tokenize(subject + \" \" + body)]).sort_values(by=\"Freq\")"
   ]
  },
  {
   "cell_type": "code",
   "execution_count": 20,
   "metadata": {},
   "outputs": [
    {
     "output_type": "display_data",
     "data": {
      "text/plain": "  0%|          | 0/511169 [00:00<?, ?it/s]",
      "application/vnd.jupyter.widget-view+json": {
       "version_major": 2,
       "version_minor": 0,
       "model_id": "c09081f084a143eeb9a80e0aea54fb5f"
      }
     },
     "metadata": {}
    }
   ],
   "source": [
    "MAX_DOC_FREQ = 100\n",
    "\n",
    "postings = defaultdict(list)\n",
    "\n",
    "for index, email in tqdm(df_emails.iterrows(), total=df_emails.shape[0]):\n",
    "    email_words = set(tokenize(email.Subject + \" \" + email.Body))\n",
    "    for word in email_words:\n",
    "        if doc_freq[word] < MAX_DOC_FREQ:\n",
    "            postings[word].append(index)"
   ]
  },
  {
   "cell_type": "code",
   "execution_count": 41,
   "metadata": {},
   "outputs": [
    {
     "output_type": "stream",
     "name": "stderr",
     "text": [
      "ERROR:root:Internal Python error in the inspect module.\n",
      "Below is the traceback from this internal error.\n",
      "\n",
      "ERROR:root:Internal Python error in the inspect module.\n",
      "Below is the traceback from this internal error.\n",
      "\n",
      "ERROR:root:Internal Python error in the inspect module.\n",
      "Below is the traceback from this internal error.\n",
      "\n",
      "ERROR! Session/line number was not unique in database. History logging moved to new session 89\n",
      "Traceback (most recent call last):\n",
      "  File \"/Users/anton/anaconda3/lib/python3.7/site-packages/pandas/core/indexes/base.py\", line 3080, in get_loc\n",
      "    return self._engine.get_loc(casted_key)\n",
      "  File \"pandas/_libs/index.pyx\", line 70, in pandas._libs.index.IndexEngine.get_loc\n",
      "  File \"pandas/_libs/index.pyx\", line 98, in pandas._libs.index.IndexEngine.get_loc\n",
      "  File \"pandas/_libs/index_class_helper.pxi\", line 89, in pandas._libs.index.Int64Engine._check_type\n",
      "KeyError: 'Subject'\n",
      "\n",
      "The above exception was the direct cause of the following exception:\n",
      "\n",
      "Traceback (most recent call last):\n",
      "  File \"/Users/anton/anaconda3/lib/python3.7/site-packages/IPython/core/interactiveshell.py\", line 3437, in run_code\n",
      "    exec(code_obj, self.user_global_ns, self.user_ns)\n",
      "  File \"<ipython-input-41-63b33ca9a0c9>\", line 4, in <module>\n",
      "    df_meetings.apply(get_query)\n",
      "  File \"/Users/anton/anaconda3/lib/python3.7/site-packages/pandas/core/frame.py\", line 7768, in apply\n",
      "    return op.get_result()\n",
      "  File \"/Users/anton/anaconda3/lib/python3.7/site-packages/pandas/core/apply.py\", line 185, in get_result\n",
      "    return self.apply_standard()\n",
      "  File \"/Users/anton/anaconda3/lib/python3.7/site-packages/pandas/core/apply.py\", line 276, in apply_standard\n",
      "    results, res_index = self.apply_series_generator()\n",
      "  File \"/Users/anton/anaconda3/lib/python3.7/site-packages/pandas/core/apply.py\", line 290, in apply_series_generator\n",
      "    results[i] = self.f(v)\n",
      "  File \"<ipython-input-41-63b33ca9a0c9>\", line 2, in get_query\n",
      "    return tuple({word: (1 / (doc_freq[word] or 1)) for word in tokenize(meeting[column])} for column in ['Subject', 'Body'])\n",
      "  File \"<ipython-input-41-63b33ca9a0c9>\", line 2, in <genexpr>\n",
      "    return tuple({word: (1 / (doc_freq[word] or 1)) for word in tokenize(meeting[column])} for column in ['Subject', 'Body'])\n",
      "  File \"/Users/anton/anaconda3/lib/python3.7/site-packages/pandas/core/series.py\", line 853, in __getitem__\n",
      "    return self._get_value(key)\n",
      "  File \"/Users/anton/anaconda3/lib/python3.7/site-packages/pandas/core/series.py\", line 961, in _get_value\n",
      "    loc = self.index.get_loc(label)\n",
      "  File \"/Users/anton/anaconda3/lib/python3.7/site-packages/pandas/core/indexes/base.py\", line 3082, in get_loc\n",
      "    raise KeyError(key) from err\n",
      "KeyError: 'Subject'\n",
      "\n",
      "During handling of the above exception, another exception occurred:\n",
      "\n",
      "Traceback (most recent call last):\n",
      "  File \"/Users/anton/anaconda3/lib/python3.7/site-packages/IPython/core/interactiveshell.py\", line 2061, in showtraceback\n",
      "    stb = value._render_traceback_()\n",
      "AttributeError: 'KeyError' object has no attribute '_render_traceback_'\n",
      "\n",
      "During handling of the above exception, another exception occurred:\n",
      "\n",
      "Traceback (most recent call last):\n",
      "  File \"/Users/anton/anaconda3/lib/python3.7/site-packages/IPython/core/ultratb.py\", line 1101, in get_records\n",
      "    return _fixed_getinnerframes(etb, number_of_lines_of_context, tb_offset)\n",
      "  File \"/Users/anton/anaconda3/lib/python3.7/site-packages/IPython/core/ultratb.py\", line 248, in wrapped\n",
      "    return f(*args, **kwargs)\n",
      "  File \"/Users/anton/anaconda3/lib/python3.7/site-packages/IPython/core/ultratb.py\", line 281, in _fixed_getinnerframes\n",
      "    records = fix_frame_records_filenames(inspect.getinnerframes(etb, context))\n",
      "  File \"/Users/anton/anaconda3/lib/python3.7/inspect.py\", line 1502, in getinnerframes\n",
      "    frameinfo = (tb.tb_frame,) + getframeinfo(tb, context)\n",
      "  File \"/Users/anton/anaconda3/lib/python3.7/inspect.py\", line 1460, in getframeinfo\n",
      "    filename = getsourcefile(frame) or getfile(frame)\n",
      "  File \"/Users/anton/anaconda3/lib/python3.7/inspect.py\", line 696, in getsourcefile\n",
      "    if getattr(getmodule(object, filename), '__loader__', None) is not None:\n",
      "  File \"/Users/anton/anaconda3/lib/python3.7/inspect.py\", line 733, in getmodule\n",
      "    if ismodule(module) and hasattr(module, '__file__'):\n",
      "  File \"/Users/anton/anaconda3/lib/python3.7/site-packages/tensorflow/__init__.py\", line 50, in __getattr__\n",
      "    module = self._load()\n",
      "  File \"/Users/anton/anaconda3/lib/python3.7/site-packages/tensorflow/__init__.py\", line 44, in _load\n",
      "    module = _importlib.import_module(self.__name__)\n",
      "  File \"/Users/anton/anaconda3/lib/python3.7/importlib/__init__.py\", line 127, in import_module\n",
      "    return _bootstrap._gcd_import(name[level:], package, level)\n",
      "  File \"<frozen importlib._bootstrap>\", line 1006, in _gcd_import\n",
      "  File \"<frozen importlib._bootstrap>\", line 983, in _find_and_load\n",
      "  File \"<frozen importlib._bootstrap>\", line 965, in _find_and_load_unlocked\n",
      "ModuleNotFoundError: No module named 'tensorflow_core.estimator'\n",
      "Traceback (most recent call last):\n",
      "  File \"/Users/anton/anaconda3/lib/python3.7/site-packages/pandas/core/indexes/base.py\", line 3080, in get_loc\n",
      "    return self._engine.get_loc(casted_key)\n",
      "  File \"pandas/_libs/index.pyx\", line 70, in pandas._libs.index.IndexEngine.get_loc\n",
      "  File \"pandas/_libs/index.pyx\", line 98, in pandas._libs.index.IndexEngine.get_loc\n",
      "  File \"pandas/_libs/index_class_helper.pxi\", line 89, in pandas._libs.index.Int64Engine._check_type\n",
      "KeyError: 'Subject'\n",
      "\n",
      "The above exception was the direct cause of the following exception:\n",
      "\n",
      "Traceback (most recent call last):\n",
      "  File \"/Users/anton/anaconda3/lib/python3.7/site-packages/IPython/core/interactiveshell.py\", line 3437, in run_code\n",
      "    exec(code_obj, self.user_global_ns, self.user_ns)\n",
      "  File \"<ipython-input-41-63b33ca9a0c9>\", line 4, in <module>\n",
      "    df_meetings.apply(get_query)\n",
      "  File \"/Users/anton/anaconda3/lib/python3.7/site-packages/pandas/core/frame.py\", line 7768, in apply\n",
      "    return op.get_result()\n",
      "  File \"/Users/anton/anaconda3/lib/python3.7/site-packages/pandas/core/apply.py\", line 185, in get_result\n",
      "    return self.apply_standard()\n",
      "  File \"/Users/anton/anaconda3/lib/python3.7/site-packages/pandas/core/apply.py\", line 276, in apply_standard\n",
      "    results, res_index = self.apply_series_generator()\n",
      "  File \"/Users/anton/anaconda3/lib/python3.7/site-packages/pandas/core/apply.py\", line 290, in apply_series_generator\n",
      "    results[i] = self.f(v)\n",
      "  File \"<ipython-input-41-63b33ca9a0c9>\", line 2, in get_query\n",
      "    return tuple({word: (1 / (doc_freq[word] or 1)) for word in tokenize(meeting[column])} for column in ['Subject', 'Body'])\n",
      "  File \"<ipython-input-41-63b33ca9a0c9>\", line 2, in <genexpr>\n",
      "    return tuple({word: (1 / (doc_freq[word] or 1)) for word in tokenize(meeting[column])} for column in ['Subject', 'Body'])\n",
      "  File \"/Users/anton/anaconda3/lib/python3.7/site-packages/pandas/core/series.py\", line 853, in __getitem__\n",
      "    return self._get_value(key)\n",
      "  File \"/Users/anton/anaconda3/lib/python3.7/site-packages/pandas/core/series.py\", line 961, in _get_value\n",
      "    loc = self.index.get_loc(label)\n",
      "  File \"/Users/anton/anaconda3/lib/python3.7/site-packages/pandas/core/indexes/base.py\", line 3082, in get_loc\n",
      "    raise KeyError(key) from err\n",
      "KeyError: 'Subject'\n",
      "\n",
      "During handling of the above exception, another exception occurred:\n",
      "\n",
      "Traceback (most recent call last):\n",
      "  File \"/Users/anton/anaconda3/lib/python3.7/site-packages/IPython/core/interactiveshell.py\", line 2061, in showtraceback\n",
      "    stb = value._render_traceback_()\n",
      "AttributeError: 'KeyError' object has no attribute '_render_traceback_'\n",
      "\n",
      "During handling of the above exception, another exception occurred:\n",
      "\n",
      "Traceback (most recent call last):\n",
      "  File \"/Users/anton/anaconda3/lib/python3.7/site-packages/IPython/core/interactiveshell.py\", line 3357, in run_ast_nodes\n",
      "    if (await self.run_code(code, result,  async_=asy)):\n",
      "  File \"/Users/anton/anaconda3/lib/python3.7/site-packages/IPython/core/interactiveshell.py\", line 3454, in run_code\n",
      "    self.showtraceback(running_compiled_code=True)\n",
      "  File \"/Users/anton/anaconda3/lib/python3.7/site-packages/IPython/core/interactiveshell.py\", line 2064, in showtraceback\n",
      "    value, tb, tb_offset=tb_offset)\n",
      "  File \"/Users/anton/anaconda3/lib/python3.7/site-packages/IPython/core/ultratb.py\", line 1368, in structured_traceback\n",
      "    self, etype, value, tb, tb_offset, number_of_lines_of_context)\n",
      "  File \"/Users/anton/anaconda3/lib/python3.7/site-packages/IPython/core/ultratb.py\", line 1268, in structured_traceback\n",
      "    self, etype, value, tb, tb_offset, number_of_lines_of_context\n",
      "  File \"/Users/anton/anaconda3/lib/python3.7/site-packages/IPython/core/ultratb.py\", line 1125, in structured_traceback\n",
      "    tb_offset)\n",
      "  File \"/Users/anton/anaconda3/lib/python3.7/site-packages/IPython/core/ultratb.py\", line 1082, in format_exception_as_a_whole\n",
      "    last_unique, recursion_repeat = find_recursion(orig_etype, evalue, records)\n",
      "  File \"/Users/anton/anaconda3/lib/python3.7/site-packages/IPython/core/ultratb.py\", line 382, in find_recursion\n",
      "    return len(records), 0\n",
      "TypeError: object of type 'NoneType' has no len()\n",
      "\n",
      "During handling of the above exception, another exception occurred:\n",
      "\n",
      "Traceback (most recent call last):\n",
      "  File \"/Users/anton/anaconda3/lib/python3.7/site-packages/IPython/core/interactiveshell.py\", line 2061, in showtraceback\n",
      "    stb = value._render_traceback_()\n",
      "AttributeError: 'TypeError' object has no attribute '_render_traceback_'\n",
      "\n",
      "During handling of the above exception, another exception occurred:\n",
      "\n",
      "Traceback (most recent call last):\n",
      "  File \"/Users/anton/anaconda3/lib/python3.7/site-packages/IPython/core/ultratb.py\", line 1101, in get_records\n",
      "    return _fixed_getinnerframes(etb, number_of_lines_of_context, tb_offset)\n",
      "  File \"/Users/anton/anaconda3/lib/python3.7/site-packages/IPython/core/ultratb.py\", line 248, in wrapped\n",
      "    return f(*args, **kwargs)\n",
      "  File \"/Users/anton/anaconda3/lib/python3.7/site-packages/IPython/core/ultratb.py\", line 281, in _fixed_getinnerframes\n",
      "    records = fix_frame_records_filenames(inspect.getinnerframes(etb, context))\n",
      "  File \"/Users/anton/anaconda3/lib/python3.7/inspect.py\", line 1502, in getinnerframes\n",
      "    frameinfo = (tb.tb_frame,) + getframeinfo(tb, context)\n",
      "  File \"/Users/anton/anaconda3/lib/python3.7/inspect.py\", line 1460, in getframeinfo\n",
      "    filename = getsourcefile(frame) or getfile(frame)\n",
      "  File \"/Users/anton/anaconda3/lib/python3.7/inspect.py\", line 696, in getsourcefile\n",
      "    if getattr(getmodule(object, filename), '__loader__', None) is not None:\n",
      "  File \"/Users/anton/anaconda3/lib/python3.7/inspect.py\", line 733, in getmodule\n",
      "    if ismodule(module) and hasattr(module, '__file__'):\n",
      "  File \"/Users/anton/anaconda3/lib/python3.7/site-packages/tensorflow/__init__.py\", line 50, in __getattr__\n",
      "    module = self._load()\n",
      "  File \"/Users/anton/anaconda3/lib/python3.7/site-packages/tensorflow/__init__.py\", line 44, in _load\n",
      "    module = _importlib.import_module(self.__name__)\n",
      "  File \"/Users/anton/anaconda3/lib/python3.7/importlib/__init__.py\", line 127, in import_module\n",
      "    return _bootstrap._gcd_import(name[level:], package, level)\n",
      "  File \"<frozen importlib._bootstrap>\", line 1006, in _gcd_import\n",
      "  File \"<frozen importlib._bootstrap>\", line 983, in _find_and_load\n",
      "  File \"<frozen importlib._bootstrap>\", line 965, in _find_and_load_unlocked\n",
      "ModuleNotFoundError: No module named 'tensorflow_core.estimator'\n",
      "Traceback (most recent call last):\n",
      "  File \"/Users/anton/anaconda3/lib/python3.7/site-packages/pandas/core/indexes/base.py\", line 3080, in get_loc\n",
      "    return self._engine.get_loc(casted_key)\n",
      "  File \"pandas/_libs/index.pyx\", line 70, in pandas._libs.index.IndexEngine.get_loc\n",
      "  File \"pandas/_libs/index.pyx\", line 98, in pandas._libs.index.IndexEngine.get_loc\n",
      "  File \"pandas/_libs/index_class_helper.pxi\", line 89, in pandas._libs.index.Int64Engine._check_type\n",
      "KeyError: 'Subject'\n",
      "\n",
      "The above exception was the direct cause of the following exception:\n",
      "\n",
      "Traceback (most recent call last):\n",
      "  File \"/Users/anton/anaconda3/lib/python3.7/site-packages/IPython/core/interactiveshell.py\", line 3437, in run_code\n",
      "    exec(code_obj, self.user_global_ns, self.user_ns)\n",
      "  File \"<ipython-input-41-63b33ca9a0c9>\", line 4, in <module>\n",
      "    df_meetings.apply(get_query)\n",
      "  File \"/Users/anton/anaconda3/lib/python3.7/site-packages/pandas/core/frame.py\", line 7768, in apply\n",
      "    return op.get_result()\n",
      "  File \"/Users/anton/anaconda3/lib/python3.7/site-packages/pandas/core/apply.py\", line 185, in get_result\n",
      "    return self.apply_standard()\n",
      "  File \"/Users/anton/anaconda3/lib/python3.7/site-packages/pandas/core/apply.py\", line 276, in apply_standard\n",
      "    results, res_index = self.apply_series_generator()\n",
      "  File \"/Users/anton/anaconda3/lib/python3.7/site-packages/pandas/core/apply.py\", line 290, in apply_series_generator\n",
      "    results[i] = self.f(v)\n",
      "  File \"<ipython-input-41-63b33ca9a0c9>\", line 2, in get_query\n",
      "    return tuple({word: (1 / (doc_freq[word] or 1)) for word in tokenize(meeting[column])} for column in ['Subject', 'Body'])\n",
      "  File \"<ipython-input-41-63b33ca9a0c9>\", line 2, in <genexpr>\n",
      "    return tuple({word: (1 / (doc_freq[word] or 1)) for word in tokenize(meeting[column])} for column in ['Subject', 'Body'])\n",
      "  File \"/Users/anton/anaconda3/lib/python3.7/site-packages/pandas/core/series.py\", line 853, in __getitem__\n",
      "    return self._get_value(key)\n",
      "  File \"/Users/anton/anaconda3/lib/python3.7/site-packages/pandas/core/series.py\", line 961, in _get_value\n",
      "    loc = self.index.get_loc(label)\n",
      "  File \"/Users/anton/anaconda3/lib/python3.7/site-packages/pandas/core/indexes/base.py\", line 3082, in get_loc\n",
      "    raise KeyError(key) from err\n",
      "KeyError: 'Subject'\n",
      "\n",
      "During handling of the above exception, another exception occurred:\n",
      "\n",
      "Traceback (most recent call last):\n",
      "  File \"/Users/anton/anaconda3/lib/python3.7/site-packages/IPython/core/interactiveshell.py\", line 2061, in showtraceback\n",
      "    stb = value._render_traceback_()\n",
      "AttributeError: 'KeyError' object has no attribute '_render_traceback_'\n",
      "\n",
      "During handling of the above exception, another exception occurred:\n",
      "\n",
      "Traceback (most recent call last):\n",
      "  File \"/Users/anton/anaconda3/lib/python3.7/site-packages/IPython/core/interactiveshell.py\", line 3357, in run_ast_nodes\n",
      "    if (await self.run_code(code, result,  async_=asy)):\n",
      "  File \"/Users/anton/anaconda3/lib/python3.7/site-packages/IPython/core/interactiveshell.py\", line 3454, in run_code\n",
      "    self.showtraceback(running_compiled_code=True)\n",
      "  File \"/Users/anton/anaconda3/lib/python3.7/site-packages/IPython/core/interactiveshell.py\", line 2064, in showtraceback\n",
      "    value, tb, tb_offset=tb_offset)\n",
      "  File \"/Users/anton/anaconda3/lib/python3.7/site-packages/IPython/core/ultratb.py\", line 1368, in structured_traceback\n",
      "    self, etype, value, tb, tb_offset, number_of_lines_of_context)\n",
      "  File \"/Users/anton/anaconda3/lib/python3.7/site-packages/IPython/core/ultratb.py\", line 1268, in structured_traceback\n",
      "    self, etype, value, tb, tb_offset, number_of_lines_of_context\n",
      "  File \"/Users/anton/anaconda3/lib/python3.7/site-packages/IPython/core/ultratb.py\", line 1125, in structured_traceback\n",
      "    tb_offset)\n",
      "  File \"/Users/anton/anaconda3/lib/python3.7/site-packages/IPython/core/ultratb.py\", line 1082, in format_exception_as_a_whole\n",
      "    last_unique, recursion_repeat = find_recursion(orig_etype, evalue, records)\n",
      "  File \"/Users/anton/anaconda3/lib/python3.7/site-packages/IPython/core/ultratb.py\", line 382, in find_recursion\n",
      "    return len(records), 0\n",
      "TypeError: object of type 'NoneType' has no len()\n",
      "\n",
      "During handling of the above exception, another exception occurred:\n",
      "\n",
      "Traceback (most recent call last):\n",
      "  File \"/Users/anton/anaconda3/lib/python3.7/site-packages/IPython/core/interactiveshell.py\", line 2061, in showtraceback\n",
      "    stb = value._render_traceback_()\n",
      "AttributeError: 'TypeError' object has no attribute '_render_traceback_'\n",
      "\n",
      "During handling of the above exception, another exception occurred:\n",
      "\n",
      "Traceback (most recent call last):\n",
      "  File \"/Users/anton/anaconda3/lib/python3.7/site-packages/IPython/core/interactiveshell.py\", line 2940, in _run_cell\n",
      "    return runner(coro)\n",
      "  File \"/Users/anton/anaconda3/lib/python3.7/site-packages/IPython/core/async_helpers.py\", line 68, in _pseudo_sync_runner\n",
      "    coro.send(None)\n",
      "  File \"/Users/anton/anaconda3/lib/python3.7/site-packages/IPython/core/interactiveshell.py\", line 3166, in run_cell_async\n",
      "    interactivity=interactivity, compiler=compiler, result=result)\n",
      "  File \"/Users/anton/anaconda3/lib/python3.7/site-packages/IPython/core/interactiveshell.py\", line 3376, in run_ast_nodes\n",
      "    self.showtraceback()\n",
      "  File \"/Users/anton/anaconda3/lib/python3.7/site-packages/IPython/core/interactiveshell.py\", line 2064, in showtraceback\n",
      "    value, tb, tb_offset=tb_offset)\n",
      "  File \"/Users/anton/anaconda3/lib/python3.7/site-packages/IPython/core/ultratb.py\", line 1368, in structured_traceback\n",
      "    self, etype, value, tb, tb_offset, number_of_lines_of_context)\n",
      "  File \"/Users/anton/anaconda3/lib/python3.7/site-packages/IPython/core/ultratb.py\", line 1268, in structured_traceback\n",
      "    self, etype, value, tb, tb_offset, number_of_lines_of_context\n",
      "  File \"/Users/anton/anaconda3/lib/python3.7/site-packages/IPython/core/ultratb.py\", line 1143, in structured_traceback\n",
      "    chained_exceptions_tb_offset)\n",
      "  File \"/Users/anton/anaconda3/lib/python3.7/site-packages/IPython/core/ultratb.py\", line 1082, in format_exception_as_a_whole\n",
      "    last_unique, recursion_repeat = find_recursion(orig_etype, evalue, records)\n",
      "  File \"/Users/anton/anaconda3/lib/python3.7/site-packages/IPython/core/ultratb.py\", line 382, in find_recursion\n",
      "    return len(records), 0\n",
      "TypeError: object of type 'NoneType' has no len()\n",
      "\n",
      "During handling of the above exception, another exception occurred:\n",
      "\n",
      "Traceback (most recent call last):\n",
      "  File \"/Users/anton/anaconda3/lib/python3.7/site-packages/IPython/core/interactiveshell.py\", line 2061, in showtraceback\n",
      "    stb = value._render_traceback_()\n",
      "AttributeError: 'TypeError' object has no attribute '_render_traceback_'\n",
      "\n",
      "During handling of the above exception, another exception occurred:\n",
      "\n",
      "Traceback (most recent call last):\n",
      "  File \"/Users/anton/anaconda3/lib/python3.7/site-packages/IPython/core/ultratb.py\", line 1101, in get_records\n",
      "    return _fixed_getinnerframes(etb, number_of_lines_of_context, tb_offset)\n",
      "  File \"/Users/anton/anaconda3/lib/python3.7/site-packages/IPython/core/ultratb.py\", line 248, in wrapped\n",
      "    return f(*args, **kwargs)\n",
      "  File \"/Users/anton/anaconda3/lib/python3.7/site-packages/IPython/core/ultratb.py\", line 281, in _fixed_getinnerframes\n",
      "    records = fix_frame_records_filenames(inspect.getinnerframes(etb, context))\n",
      "  File \"/Users/anton/anaconda3/lib/python3.7/inspect.py\", line 1502, in getinnerframes\n",
      "    frameinfo = (tb.tb_frame,) + getframeinfo(tb, context)\n",
      "  File \"/Users/anton/anaconda3/lib/python3.7/inspect.py\", line 1460, in getframeinfo\n",
      "    filename = getsourcefile(frame) or getfile(frame)\n",
      "  File \"/Users/anton/anaconda3/lib/python3.7/inspect.py\", line 696, in getsourcefile\n",
      "    if getattr(getmodule(object, filename), '__loader__', None) is not None:\n",
      "  File \"/Users/anton/anaconda3/lib/python3.7/inspect.py\", line 733, in getmodule\n",
      "    if ismodule(module) and hasattr(module, '__file__'):\n",
      "  File \"/Users/anton/anaconda3/lib/python3.7/site-packages/tensorflow/__init__.py\", line 50, in __getattr__\n",
      "    module = self._load()\n",
      "  File \"/Users/anton/anaconda3/lib/python3.7/site-packages/tensorflow/__init__.py\", line 44, in _load\n",
      "    module = _importlib.import_module(self.__name__)\n",
      "  File \"/Users/anton/anaconda3/lib/python3.7/importlib/__init__.py\", line 127, in import_module\n",
      "    return _bootstrap._gcd_import(name[level:], package, level)\n",
      "  File \"<frozen importlib._bootstrap>\", line 1006, in _gcd_import\n",
      "  File \"<frozen importlib._bootstrap>\", line 983, in _find_and_load\n",
      "  File \"<frozen importlib._bootstrap>\", line 965, in _find_and_load_unlocked\n",
      "ModuleNotFoundError: No module named 'tensorflow_core.estimator'\n"
     ]
    }
   ],
   "source": [
    "def get_query(meeting):\n",
    "    return tuple({word: (1 / (doc_freq[word] or 1)) for word in tokenize(meeting[column])} for column in ['Subject', 'Body'])\n",
    "\n",
    "df_meetings_with_query = df_meetings.assign(Query = df_meetings.apply(lambda meeting: get_query(meeting), axis=1))"
   ]
  },
  {
   "cell_type": "code",
   "execution_count": 23,
   "metadata": {},
   "outputs": [
    {
     "output_type": "display_data",
     "data": {
      "text/plain": "  0%|          | 0/6232 [00:00<?, ?it/s]",
      "application/vnd.jupyter.widget-view+json": {
       "version_major": 2,
       "version_minor": 0,
       "model_id": "8cdc63ba35e34698ba42929e8ad5eea4"
      }
     },
     "metadata": {}
    }
   ],
   "source": [
    "EMAILS_PER_MEETING = 200\n",
    "\n",
    "def get_email_to_score(query):\n",
    "    email_to_score = defaultdict(float)\n",
    "    for word in tokenize(query):\n",
    "        for email in postings.get(word, []):\n",
    "            email_to_score[email] += 1 / (doc_freq[word] or 1)\n",
    "    return email_to_score\n",
    "\n",
    "subject_query_emails = []\n",
    "body_query_emails = []\n",
    "for index, meeting in tqdm(df_meetings.iterrows(), total=df_meetings.shape[0]):\n",
    "    subject_query_emails.append(len(get_email_to_score(meeting.Subject)))\n",
    "    body_query_emails.append(len(get_email_to_score(meeting.Body)))"
   ]
  },
  {
   "cell_type": "code",
   "execution_count": 26,
   "metadata": {},
   "outputs": [
    {
     "output_type": "execute_result",
     "data": {
      "text/plain": [
       "194.44608472400515"
      ]
     },
     "metadata": {},
     "execution_count": 26
    }
   ],
   "source": [
    "(sum(subject_query_emails) + sum(body_query_emails)) / df_meetings.shape[0]"
   ]
  },
  {
   "cell_type": "code",
   "execution_count": 29,
   "metadata": {},
   "outputs": [
    {
     "output_type": "stream",
     "name": "stderr",
     "text": [
      "ERROR:root:Internal Python error in the inspect module.\n",
      "Below is the traceback from this internal error.\n",
      "\n",
      "ERROR:root:Internal Python error in the inspect module.\n",
      "Below is the traceback from this internal error.\n",
      "\n",
      "ERROR:root:Internal Python error in the inspect module.\n",
      "Below is the traceback from this internal error.\n",
      "\n",
      "Traceback (most recent call last):\n",
      "  File \"/Users/anton/anaconda3/lib/python3.7/site-packages/IPython/core/interactiveshell.py\", line 3437, in run_code\n",
      "    exec(code_obj, self.user_global_ns, self.user_ns)\n",
      "  File \"<ipython-input-29-64290846851a>\", line 25, in <module>\n",
      "    scores = [(index, compute_score(meeting_subject, email), compute_score(meeting_body, email)) for index, email in df_emails.iterrows()]\n",
      "  File \"<ipython-input-29-64290846851a>\", line 25, in <listcomp>\n",
      "    scores = [(index, compute_score(meeting_subject, email), compute_score(meeting_body, email)) for index, email in df_emails.iterrows()]\n",
      "  File \"<ipython-input-29-64290846851a>\", line 8, in compute_score\n",
      "    for word in email_words:\n",
      "KeyboardInterrupt\n",
      "\n",
      "During handling of the above exception, another exception occurred:\n",
      "\n",
      "Traceback (most recent call last):\n",
      "  File \"/Users/anton/anaconda3/lib/python3.7/site-packages/IPython/core/interactiveshell.py\", line 2061, in showtraceback\n",
      "    stb = value._render_traceback_()\n",
      "AttributeError: 'KeyboardInterrupt' object has no attribute '_render_traceback_'\n",
      "\n",
      "During handling of the above exception, another exception occurred:\n",
      "\n",
      "Traceback (most recent call last):\n",
      "  File \"/Users/anton/anaconda3/lib/python3.7/site-packages/IPython/core/ultratb.py\", line 1101, in get_records\n",
      "    return _fixed_getinnerframes(etb, number_of_lines_of_context, tb_offset)\n",
      "  File \"/Users/anton/anaconda3/lib/python3.7/site-packages/IPython/core/ultratb.py\", line 248, in wrapped\n",
      "    return f(*args, **kwargs)\n",
      "  File \"/Users/anton/anaconda3/lib/python3.7/site-packages/IPython/core/ultratb.py\", line 281, in _fixed_getinnerframes\n",
      "    records = fix_frame_records_filenames(inspect.getinnerframes(etb, context))\n",
      "  File \"/Users/anton/anaconda3/lib/python3.7/inspect.py\", line 1502, in getinnerframes\n",
      "    frameinfo = (tb.tb_frame,) + getframeinfo(tb, context)\n",
      "  File \"/Users/anton/anaconda3/lib/python3.7/inspect.py\", line 1460, in getframeinfo\n",
      "    filename = getsourcefile(frame) or getfile(frame)\n",
      "  File \"/Users/anton/anaconda3/lib/python3.7/inspect.py\", line 696, in getsourcefile\n",
      "    if getattr(getmodule(object, filename), '__loader__', None) is not None:\n",
      "  File \"/Users/anton/anaconda3/lib/python3.7/inspect.py\", line 733, in getmodule\n",
      "    if ismodule(module) and hasattr(module, '__file__'):\n",
      "  File \"/Users/anton/anaconda3/lib/python3.7/site-packages/tensorflow/__init__.py\", line 50, in __getattr__\n",
      "    module = self._load()\n",
      "  File \"/Users/anton/anaconda3/lib/python3.7/site-packages/tensorflow/__init__.py\", line 44, in _load\n",
      "    module = _importlib.import_module(self.__name__)\n",
      "  File \"/Users/anton/anaconda3/lib/python3.7/importlib/__init__.py\", line 127, in import_module\n",
      "    return _bootstrap._gcd_import(name[level:], package, level)\n",
      "  File \"<frozen importlib._bootstrap>\", line 1006, in _gcd_import\n",
      "  File \"<frozen importlib._bootstrap>\", line 983, in _find_and_load\n",
      "  File \"<frozen importlib._bootstrap>\", line 965, in _find_and_load_unlocked\n",
      "ModuleNotFoundError: No module named 'tensorflow_core.estimator'\n",
      "Traceback (most recent call last):\n",
      "  File \"/Users/anton/anaconda3/lib/python3.7/site-packages/IPython/core/interactiveshell.py\", line 3437, in run_code\n",
      "    exec(code_obj, self.user_global_ns, self.user_ns)\n",
      "  File \"<ipython-input-29-64290846851a>\", line 25, in <module>\n",
      "    scores = [(index, compute_score(meeting_subject, email), compute_score(meeting_body, email)) for index, email in df_emails.iterrows()]\n",
      "  File \"<ipython-input-29-64290846851a>\", line 25, in <listcomp>\n",
      "    scores = [(index, compute_score(meeting_subject, email), compute_score(meeting_body, email)) for index, email in df_emails.iterrows()]\n",
      "  File \"<ipython-input-29-64290846851a>\", line 8, in compute_score\n",
      "    for word in email_words:\n",
      "KeyboardInterrupt\n",
      "\n",
      "During handling of the above exception, another exception occurred:\n",
      "\n",
      "Traceback (most recent call last):\n",
      "  File \"/Users/anton/anaconda3/lib/python3.7/site-packages/IPython/core/interactiveshell.py\", line 2061, in showtraceback\n",
      "    stb = value._render_traceback_()\n",
      "AttributeError: 'KeyboardInterrupt' object has no attribute '_render_traceback_'\n",
      "\n",
      "During handling of the above exception, another exception occurred:\n",
      "\n",
      "Traceback (most recent call last):\n",
      "  File \"/Users/anton/anaconda3/lib/python3.7/site-packages/IPython/core/interactiveshell.py\", line 3357, in run_ast_nodes\n",
      "    if (await self.run_code(code, result,  async_=asy)):\n",
      "  File \"/Users/anton/anaconda3/lib/python3.7/site-packages/IPython/core/interactiveshell.py\", line 3454, in run_code\n",
      "    self.showtraceback(running_compiled_code=True)\n",
      "  File \"/Users/anton/anaconda3/lib/python3.7/site-packages/IPython/core/interactiveshell.py\", line 2064, in showtraceback\n",
      "    value, tb, tb_offset=tb_offset)\n",
      "  File \"/Users/anton/anaconda3/lib/python3.7/site-packages/IPython/core/ultratb.py\", line 1368, in structured_traceback\n",
      "    self, etype, value, tb, tb_offset, number_of_lines_of_context)\n",
      "  File \"/Users/anton/anaconda3/lib/python3.7/site-packages/IPython/core/ultratb.py\", line 1268, in structured_traceback\n",
      "    self, etype, value, tb, tb_offset, number_of_lines_of_context\n",
      "  File \"/Users/anton/anaconda3/lib/python3.7/site-packages/IPython/core/ultratb.py\", line 1125, in structured_traceback\n",
      "    tb_offset)\n",
      "  File \"/Users/anton/anaconda3/lib/python3.7/site-packages/IPython/core/ultratb.py\", line 1082, in format_exception_as_a_whole\n",
      "    last_unique, recursion_repeat = find_recursion(orig_etype, evalue, records)\n",
      "  File \"/Users/anton/anaconda3/lib/python3.7/site-packages/IPython/core/ultratb.py\", line 382, in find_recursion\n",
      "    return len(records), 0\n",
      "TypeError: object of type 'NoneType' has no len()\n",
      "\n",
      "During handling of the above exception, another exception occurred:\n",
      "\n",
      "Traceback (most recent call last):\n",
      "  File \"/Users/anton/anaconda3/lib/python3.7/site-packages/IPython/core/interactiveshell.py\", line 2061, in showtraceback\n",
      "    stb = value._render_traceback_()\n",
      "AttributeError: 'TypeError' object has no attribute '_render_traceback_'\n",
      "\n",
      "During handling of the above exception, another exception occurred:\n",
      "\n",
      "Traceback (most recent call last):\n",
      "  File \"/Users/anton/anaconda3/lib/python3.7/site-packages/IPython/core/ultratb.py\", line 1101, in get_records\n",
      "    return _fixed_getinnerframes(etb, number_of_lines_of_context, tb_offset)\n",
      "  File \"/Users/anton/anaconda3/lib/python3.7/site-packages/IPython/core/ultratb.py\", line 248, in wrapped\n",
      "    return f(*args, **kwargs)\n",
      "  File \"/Users/anton/anaconda3/lib/python3.7/site-packages/IPython/core/ultratb.py\", line 281, in _fixed_getinnerframes\n",
      "    records = fix_frame_records_filenames(inspect.getinnerframes(etb, context))\n",
      "  File \"/Users/anton/anaconda3/lib/python3.7/inspect.py\", line 1502, in getinnerframes\n",
      "    frameinfo = (tb.tb_frame,) + getframeinfo(tb, context)\n",
      "  File \"/Users/anton/anaconda3/lib/python3.7/inspect.py\", line 1460, in getframeinfo\n",
      "    filename = getsourcefile(frame) or getfile(frame)\n",
      "  File \"/Users/anton/anaconda3/lib/python3.7/inspect.py\", line 696, in getsourcefile\n",
      "    if getattr(getmodule(object, filename), '__loader__', None) is not None:\n",
      "  File \"/Users/anton/anaconda3/lib/python3.7/inspect.py\", line 733, in getmodule\n",
      "    if ismodule(module) and hasattr(module, '__file__'):\n",
      "  File \"/Users/anton/anaconda3/lib/python3.7/site-packages/tensorflow/__init__.py\", line 50, in __getattr__\n",
      "    module = self._load()\n",
      "  File \"/Users/anton/anaconda3/lib/python3.7/site-packages/tensorflow/__init__.py\", line 44, in _load\n",
      "    module = _importlib.import_module(self.__name__)\n",
      "  File \"/Users/anton/anaconda3/lib/python3.7/importlib/__init__.py\", line 127, in import_module\n",
      "    return _bootstrap._gcd_import(name[level:], package, level)\n",
      "  File \"<frozen importlib._bootstrap>\", line 1006, in _gcd_import\n",
      "  File \"<frozen importlib._bootstrap>\", line 983, in _find_and_load\n",
      "  File \"<frozen importlib._bootstrap>\", line 965, in _find_and_load_unlocked\n",
      "ModuleNotFoundError: No module named 'tensorflow_core.estimator'\n",
      "Traceback (most recent call last):\n",
      "  File \"/Users/anton/anaconda3/lib/python3.7/site-packages/IPython/core/interactiveshell.py\", line 3437, in run_code\n",
      "    exec(code_obj, self.user_global_ns, self.user_ns)\n",
      "  File \"<ipython-input-29-64290846851a>\", line 25, in <module>\n",
      "    scores = [(index, compute_score(meeting_subject, email), compute_score(meeting_body, email)) for index, email in df_emails.iterrows()]\n",
      "  File \"<ipython-input-29-64290846851a>\", line 25, in <listcomp>\n",
      "    scores = [(index, compute_score(meeting_subject, email), compute_score(meeting_body, email)) for index, email in df_emails.iterrows()]\n",
      "  File \"<ipython-input-29-64290846851a>\", line 8, in compute_score\n",
      "    for word in email_words:\n",
      "KeyboardInterrupt\n",
      "\n",
      "During handling of the above exception, another exception occurred:\n",
      "\n",
      "Traceback (most recent call last):\n",
      "  File \"/Users/anton/anaconda3/lib/python3.7/site-packages/IPython/core/interactiveshell.py\", line 2061, in showtraceback\n",
      "    stb = value._render_traceback_()\n",
      "AttributeError: 'KeyboardInterrupt' object has no attribute '_render_traceback_'\n",
      "\n",
      "During handling of the above exception, another exception occurred:\n",
      "\n",
      "Traceback (most recent call last):\n",
      "  File \"/Users/anton/anaconda3/lib/python3.7/site-packages/IPython/core/interactiveshell.py\", line 3357, in run_ast_nodes\n",
      "    if (await self.run_code(code, result,  async_=asy)):\n",
      "  File \"/Users/anton/anaconda3/lib/python3.7/site-packages/IPython/core/interactiveshell.py\", line 3454, in run_code\n",
      "    self.showtraceback(running_compiled_code=True)\n",
      "  File \"/Users/anton/anaconda3/lib/python3.7/site-packages/IPython/core/interactiveshell.py\", line 2064, in showtraceback\n",
      "    value, tb, tb_offset=tb_offset)\n",
      "  File \"/Users/anton/anaconda3/lib/python3.7/site-packages/IPython/core/ultratb.py\", line 1368, in structured_traceback\n",
      "    self, etype, value, tb, tb_offset, number_of_lines_of_context)\n",
      "  File \"/Users/anton/anaconda3/lib/python3.7/site-packages/IPython/core/ultratb.py\", line 1268, in structured_traceback\n",
      "    self, etype, value, tb, tb_offset, number_of_lines_of_context\n",
      "  File \"/Users/anton/anaconda3/lib/python3.7/site-packages/IPython/core/ultratb.py\", line 1125, in structured_traceback\n",
      "    tb_offset)\n",
      "  File \"/Users/anton/anaconda3/lib/python3.7/site-packages/IPython/core/ultratb.py\", line 1082, in format_exception_as_a_whole\n",
      "    last_unique, recursion_repeat = find_recursion(orig_etype, evalue, records)\n",
      "  File \"/Users/anton/anaconda3/lib/python3.7/site-packages/IPython/core/ultratb.py\", line 382, in find_recursion\n",
      "    return len(records), 0\n",
      "TypeError: object of type 'NoneType' has no len()\n",
      "\n",
      "During handling of the above exception, another exception occurred:\n",
      "\n",
      "Traceback (most recent call last):\n",
      "  File \"/Users/anton/anaconda3/lib/python3.7/site-packages/IPython/core/interactiveshell.py\", line 2061, in showtraceback\n",
      "    stb = value._render_traceback_()\n",
      "AttributeError: 'TypeError' object has no attribute '_render_traceback_'\n",
      "\n",
      "During handling of the above exception, another exception occurred:\n",
      "\n",
      "Traceback (most recent call last):\n",
      "  File \"/Users/anton/anaconda3/lib/python3.7/site-packages/IPython/core/interactiveshell.py\", line 2940, in _run_cell\n",
      "    return runner(coro)\n",
      "  File \"/Users/anton/anaconda3/lib/python3.7/site-packages/IPython/core/async_helpers.py\", line 68, in _pseudo_sync_runner\n",
      "    coro.send(None)\n",
      "  File \"/Users/anton/anaconda3/lib/python3.7/site-packages/IPython/core/interactiveshell.py\", line 3166, in run_cell_async\n",
      "    interactivity=interactivity, compiler=compiler, result=result)\n",
      "  File \"/Users/anton/anaconda3/lib/python3.7/site-packages/IPython/core/interactiveshell.py\", line 3376, in run_ast_nodes\n",
      "    self.showtraceback()\n",
      "  File \"/Users/anton/anaconda3/lib/python3.7/site-packages/IPython/core/interactiveshell.py\", line 2064, in showtraceback\n",
      "    value, tb, tb_offset=tb_offset)\n",
      "  File \"/Users/anton/anaconda3/lib/python3.7/site-packages/IPython/core/ultratb.py\", line 1368, in structured_traceback\n",
      "    self, etype, value, tb, tb_offset, number_of_lines_of_context)\n",
      "  File \"/Users/anton/anaconda3/lib/python3.7/site-packages/IPython/core/ultratb.py\", line 1268, in structured_traceback\n",
      "    self, etype, value, tb, tb_offset, number_of_lines_of_context\n",
      "  File \"/Users/anton/anaconda3/lib/python3.7/site-packages/IPython/core/ultratb.py\", line 1143, in structured_traceback\n",
      "    chained_exceptions_tb_offset)\n",
      "  File \"/Users/anton/anaconda3/lib/python3.7/site-packages/IPython/core/ultratb.py\", line 1082, in format_exception_as_a_whole\n",
      "    last_unique, recursion_repeat = find_recursion(orig_etype, evalue, records)\n",
      "  File \"/Users/anton/anaconda3/lib/python3.7/site-packages/IPython/core/ultratb.py\", line 382, in find_recursion\n",
      "    return len(records), 0\n",
      "TypeError: object of type 'NoneType' has no len()\n",
      "\n",
      "During handling of the above exception, another exception occurred:\n",
      "\n",
      "Traceback (most recent call last):\n",
      "  File \"/Users/anton/anaconda3/lib/python3.7/site-packages/IPython/core/interactiveshell.py\", line 2061, in showtraceback\n",
      "    stb = value._render_traceback_()\n",
      "AttributeError: 'TypeError' object has no attribute '_render_traceback_'\n",
      "\n",
      "During handling of the above exception, another exception occurred:\n",
      "\n",
      "Traceback (most recent call last):\n",
      "  File \"/Users/anton/anaconda3/lib/python3.7/site-packages/IPython/core/ultratb.py\", line 1101, in get_records\n",
      "    return _fixed_getinnerframes(etb, number_of_lines_of_context, tb_offset)\n",
      "  File \"/Users/anton/anaconda3/lib/python3.7/site-packages/IPython/core/ultratb.py\", line 248, in wrapped\n",
      "    return f(*args, **kwargs)\n",
      "  File \"/Users/anton/anaconda3/lib/python3.7/site-packages/IPython/core/ultratb.py\", line 281, in _fixed_getinnerframes\n",
      "    records = fix_frame_records_filenames(inspect.getinnerframes(etb, context))\n",
      "  File \"/Users/anton/anaconda3/lib/python3.7/inspect.py\", line 1502, in getinnerframes\n",
      "    frameinfo = (tb.tb_frame,) + getframeinfo(tb, context)\n",
      "  File \"/Users/anton/anaconda3/lib/python3.7/inspect.py\", line 1460, in getframeinfo\n",
      "    filename = getsourcefile(frame) or getfile(frame)\n",
      "  File \"/Users/anton/anaconda3/lib/python3.7/inspect.py\", line 696, in getsourcefile\n",
      "    if getattr(getmodule(object, filename), '__loader__', None) is not None:\n",
      "  File \"/Users/anton/anaconda3/lib/python3.7/inspect.py\", line 733, in getmodule\n",
      "    if ismodule(module) and hasattr(module, '__file__'):\n",
      "  File \"/Users/anton/anaconda3/lib/python3.7/site-packages/tensorflow/__init__.py\", line 50, in __getattr__\n",
      "    module = self._load()\n",
      "  File \"/Users/anton/anaconda3/lib/python3.7/site-packages/tensorflow/__init__.py\", line 44, in _load\n",
      "    module = _importlib.import_module(self.__name__)\n",
      "  File \"/Users/anton/anaconda3/lib/python3.7/importlib/__init__.py\", line 127, in import_module\n",
      "    return _bootstrap._gcd_import(name[level:], package, level)\n",
      "  File \"<frozen importlib._bootstrap>\", line 1006, in _gcd_import\n",
      "  File \"<frozen importlib._bootstrap>\", line 983, in _find_and_load\n",
      "  File \"<frozen importlib._bootstrap>\", line 965, in _find_and_load_unlocked\n",
      "ModuleNotFoundError: No module named 'tensorflow_core.estimator'\n"
     ]
    }
   ],
   "source": [
    "EMAILS_PER_MEETING = 200\n",
    "\n",
    "def compute_score(query, email_words):\n",
    "    #score = sum([(query.get(word) or 0) for word in email_words])\n",
    "    query_keys = query.keys()\n",
    "    common_words = email_words.intersection(query_keys)\n",
    "    score = sum([query.get(word) for word in common_words])\n",
    "    return score\n",
    "\n",
    "# for meeting in df_meetings.iterrows():\n",
    "#     meeting_subject = meeting.Subject\n",
    "#     meeting_body = meeting.Body\n",
    "\n",
    "#     scores = [(compute_score(meeting_subject, email), compute_score(meeting_body, email)) for email in df_emails.iterrows()]\n",
    "#     numpy.argsort(scores)[:EMAILS_PER_MEETING]\n",
    "\n",
    "def test():\n",
    "    for index, email in tqdm(df_emails.head(10).iterrows(), total=10):\n",
    "        email_words = set(tokenize(email.Subject + \" \" + email.Body))\n",
    "        scores = [(compute_score(meeting.Query[0], email_words), compute_score(meeting.Query[1], email_words)) for _, meeting in df_meetings_with_query.iterrows()]\n",
    "\n",
    "    # meeting_subject = df_meetings.iloc[0].Subject\n",
    "    # meeting_body = df_meetings.iloc[0].Body\n",
    "\n",
    "    # scores = [(index, compute_score(meeting_subject, email), compute_score(meeting_body, email)) for index, email in ]\n",
    "    # sorted(scores, key=lambda element: (element[1], element[2]), reverse=True)\n",
    "    # return None\n",
    "\n",
    "#numpy.argsort(scores)[:EMAILS_PER_MEETING]"
   ]
  },
  {
   "cell_type": "code",
   "execution_count": 60,
   "metadata": {},
   "outputs": [
    {
     "output_type": "display_data",
     "data": {
      "text/plain": "  0%|          | 0/10 [00:00<?, ?it/s]",
      "application/vnd.jupyter.widget-view+json": {
       "version_major": 2,
       "version_minor": 0,
       "model_id": "9f89f81d856a48beac5c44b27ed5b46e"
      }
     },
     "metadata": {}
    },
    {
     "output_type": "stream",
     "name": "stderr",
     "text": [
      "ERROR:root:Internal Python error in the inspect module.\n",
      "Below is the traceback from this internal error.\n",
      "\n",
      "ERROR:root:Internal Python error in the inspect module.\n",
      "Below is the traceback from this internal error.\n",
      "\n",
      "ERROR:root:Internal Python error in the inspect module.\n",
      "Below is the traceback from this internal error.\n",
      "\n",
      "{'blown', 'impression', 'create', 'enter', 'interested', 'no', 'so', 'agreement', 've', 'do', 'hope', 'from', 'what', 'in', 'between', 'Psytech', 'here', 'If', 'past', 'for', 'or', 'still', 'into', 'wrong', 'under', 'Analytics', 'screw', 'were', 'wishes', 'whole', 'a', 'John', 'weekend', 'are', 'was', 'don', 'Somehow', 'say', 'you', 'sure', 'know', 'but', 'my', 'trial', 'if', 'off', '1112', 'longer', 'work', 'not', 'Best', '0245', 'we', 't', 'arrangement', 'visit', 'something', 'Did', 'Mark', 'report', 'happened', 'that', 'courtesy', 'to', 'Sagel', 'doc', 'advisory', 'after', 'this', 'is', 'm', 'really', '308', 'As', '410', 'I', 'occurred', 'Houston', 'us', 'about', 'me', 'please', 'up', 'energy2000', 'Status', 'never', 'thing', 'the', 'tell', 'an', 'trying'}\n",
      "Traceback (most recent call last):\n",
      "  File \"/Users/anton/anaconda3/lib/python3.7/site-packages/IPython/core/interactiveshell.py\", line 3437, in run_code\n",
      "    exec(code_obj, self.user_global_ns, self.user_ns)\n",
      "  File \"<ipython-input-60-fbd55f77ab7c>\", line 1, in <module>\n",
      "    test()\n",
      "  File \"<ipython-input-59-ec4d37928c18>\", line 20, in test\n",
      "    scores = [(compute_score(meeting.Query[0], email), compute_score(meeting.Query[1], email)) for _, meeting in df_meetings_with_query.iterrows()]\n",
      "  File \"<ipython-input-59-ec4d37928c18>\", line 20, in <listcomp>\n",
      "    scores = [(compute_score(meeting.Query[0], email), compute_score(meeting.Query[1], email)) for _, meeting in df_meetings_with_query.iterrows()]\n",
      "  File \"<ipython-input-59-ec4d37928c18>\", line 5, in compute_score\n",
      "    common_words = email_words.intersection(query.keys())\n",
      "  File \"/Users/anton/anaconda3/lib/python3.7/site-packages/pandas/core/generic.py\", line 5465, in __getattr__\n",
      "    return object.__getattribute__(self, name)\n",
      "AttributeError: 'Series' object has no attribute 'intersection'\n",
      "\n",
      "During handling of the above exception, another exception occurred:\n",
      "\n",
      "Traceback (most recent call last):\n",
      "  File \"/Users/anton/anaconda3/lib/python3.7/site-packages/IPython/core/interactiveshell.py\", line 2061, in showtraceback\n",
      "    stb = value._render_traceback_()\n",
      "AttributeError: 'AttributeError' object has no attribute '_render_traceback_'\n",
      "\n",
      "During handling of the above exception, another exception occurred:\n",
      "\n",
      "Traceback (most recent call last):\n",
      "  File \"/Users/anton/anaconda3/lib/python3.7/site-packages/IPython/core/ultratb.py\", line 1101, in get_records\n",
      "    return _fixed_getinnerframes(etb, number_of_lines_of_context, tb_offset)\n",
      "  File \"/Users/anton/anaconda3/lib/python3.7/site-packages/IPython/core/ultratb.py\", line 248, in wrapped\n",
      "    return f(*args, **kwargs)\n",
      "  File \"/Users/anton/anaconda3/lib/python3.7/site-packages/IPython/core/ultratb.py\", line 281, in _fixed_getinnerframes\n",
      "    records = fix_frame_records_filenames(inspect.getinnerframes(etb, context))\n",
      "  File \"/Users/anton/anaconda3/lib/python3.7/inspect.py\", line 1502, in getinnerframes\n",
      "    frameinfo = (tb.tb_frame,) + getframeinfo(tb, context)\n",
      "  File \"/Users/anton/anaconda3/lib/python3.7/inspect.py\", line 1460, in getframeinfo\n",
      "    filename = getsourcefile(frame) or getfile(frame)\n",
      "  File \"/Users/anton/anaconda3/lib/python3.7/inspect.py\", line 696, in getsourcefile\n",
      "    if getattr(getmodule(object, filename), '__loader__', None) is not None:\n",
      "  File \"/Users/anton/anaconda3/lib/python3.7/inspect.py\", line 733, in getmodule\n",
      "    if ismodule(module) and hasattr(module, '__file__'):\n",
      "  File \"/Users/anton/anaconda3/lib/python3.7/site-packages/tensorflow/__init__.py\", line 50, in __getattr__\n",
      "    module = self._load()\n",
      "  File \"/Users/anton/anaconda3/lib/python3.7/site-packages/tensorflow/__init__.py\", line 44, in _load\n",
      "    module = _importlib.import_module(self.__name__)\n",
      "  File \"/Users/anton/anaconda3/lib/python3.7/importlib/__init__.py\", line 127, in import_module\n",
      "    return _bootstrap._gcd_import(name[level:], package, level)\n",
      "  File \"<frozen importlib._bootstrap>\", line 1006, in _gcd_import\n",
      "  File \"<frozen importlib._bootstrap>\", line 983, in _find_and_load\n",
      "  File \"<frozen importlib._bootstrap>\", line 965, in _find_and_load_unlocked\n",
      "ModuleNotFoundError: No module named 'tensorflow_core.estimator'\n",
      "Traceback (most recent call last):\n",
      "  File \"/Users/anton/anaconda3/lib/python3.7/site-packages/IPython/core/interactiveshell.py\", line 3437, in run_code\n",
      "    exec(code_obj, self.user_global_ns, self.user_ns)\n",
      "  File \"<ipython-input-60-fbd55f77ab7c>\", line 1, in <module>\n",
      "    test()\n",
      "  File \"<ipython-input-59-ec4d37928c18>\", line 20, in test\n",
      "    scores = [(compute_score(meeting.Query[0], email), compute_score(meeting.Query[1], email)) for _, meeting in df_meetings_with_query.iterrows()]\n",
      "  File \"<ipython-input-59-ec4d37928c18>\", line 20, in <listcomp>\n",
      "    scores = [(compute_score(meeting.Query[0], email), compute_score(meeting.Query[1], email)) for _, meeting in df_meetings_with_query.iterrows()]\n",
      "  File \"<ipython-input-59-ec4d37928c18>\", line 5, in compute_score\n",
      "    common_words = email_words.intersection(query.keys())\n",
      "  File \"/Users/anton/anaconda3/lib/python3.7/site-packages/pandas/core/generic.py\", line 5465, in __getattr__\n",
      "    return object.__getattribute__(self, name)\n",
      "AttributeError: 'Series' object has no attribute 'intersection'\n",
      "\n",
      "During handling of the above exception, another exception occurred:\n",
      "\n",
      "Traceback (most recent call last):\n",
      "  File \"/Users/anton/anaconda3/lib/python3.7/site-packages/IPython/core/interactiveshell.py\", line 2061, in showtraceback\n",
      "    stb = value._render_traceback_()\n",
      "AttributeError: 'AttributeError' object has no attribute '_render_traceback_'\n",
      "\n",
      "During handling of the above exception, another exception occurred:\n",
      "\n",
      "Traceback (most recent call last):\n",
      "  File \"/Users/anton/anaconda3/lib/python3.7/site-packages/IPython/core/interactiveshell.py\", line 3357, in run_ast_nodes\n",
      "    if (await self.run_code(code, result,  async_=asy)):\n",
      "  File \"/Users/anton/anaconda3/lib/python3.7/site-packages/IPython/core/interactiveshell.py\", line 3454, in run_code\n",
      "    self.showtraceback(running_compiled_code=True)\n",
      "  File \"/Users/anton/anaconda3/lib/python3.7/site-packages/IPython/core/interactiveshell.py\", line 2064, in showtraceback\n",
      "    value, tb, tb_offset=tb_offset)\n",
      "  File \"/Users/anton/anaconda3/lib/python3.7/site-packages/IPython/core/ultratb.py\", line 1368, in structured_traceback\n",
      "    self, etype, value, tb, tb_offset, number_of_lines_of_context)\n",
      "  File \"/Users/anton/anaconda3/lib/python3.7/site-packages/IPython/core/ultratb.py\", line 1268, in structured_traceback\n",
      "    self, etype, value, tb, tb_offset, number_of_lines_of_context\n",
      "  File \"/Users/anton/anaconda3/lib/python3.7/site-packages/IPython/core/ultratb.py\", line 1125, in structured_traceback\n",
      "    tb_offset)\n",
      "  File \"/Users/anton/anaconda3/lib/python3.7/site-packages/IPython/core/ultratb.py\", line 1082, in format_exception_as_a_whole\n",
      "    last_unique, recursion_repeat = find_recursion(orig_etype, evalue, records)\n",
      "  File \"/Users/anton/anaconda3/lib/python3.7/site-packages/IPython/core/ultratb.py\", line 382, in find_recursion\n",
      "    return len(records), 0\n",
      "TypeError: object of type 'NoneType' has no len()\n",
      "\n",
      "During handling of the above exception, another exception occurred:\n",
      "\n",
      "Traceback (most recent call last):\n",
      "  File \"/Users/anton/anaconda3/lib/python3.7/site-packages/IPython/core/interactiveshell.py\", line 2061, in showtraceback\n",
      "    stb = value._render_traceback_()\n",
      "AttributeError: 'TypeError' object has no attribute '_render_traceback_'\n",
      "\n",
      "During handling of the above exception, another exception occurred:\n",
      "\n",
      "Traceback (most recent call last):\n",
      "  File \"/Users/anton/anaconda3/lib/python3.7/site-packages/IPython/core/ultratb.py\", line 1101, in get_records\n",
      "    return _fixed_getinnerframes(etb, number_of_lines_of_context, tb_offset)\n",
      "  File \"/Users/anton/anaconda3/lib/python3.7/site-packages/IPython/core/ultratb.py\", line 248, in wrapped\n",
      "    return f(*args, **kwargs)\n",
      "  File \"/Users/anton/anaconda3/lib/python3.7/site-packages/IPython/core/ultratb.py\", line 281, in _fixed_getinnerframes\n",
      "    records = fix_frame_records_filenames(inspect.getinnerframes(etb, context))\n",
      "  File \"/Users/anton/anaconda3/lib/python3.7/inspect.py\", line 1502, in getinnerframes\n",
      "    frameinfo = (tb.tb_frame,) + getframeinfo(tb, context)\n",
      "  File \"/Users/anton/anaconda3/lib/python3.7/inspect.py\", line 1460, in getframeinfo\n",
      "    filename = getsourcefile(frame) or getfile(frame)\n",
      "  File \"/Users/anton/anaconda3/lib/python3.7/inspect.py\", line 696, in getsourcefile\n",
      "    if getattr(getmodule(object, filename), '__loader__', None) is not None:\n",
      "  File \"/Users/anton/anaconda3/lib/python3.7/inspect.py\", line 733, in getmodule\n",
      "    if ismodule(module) and hasattr(module, '__file__'):\n",
      "  File \"/Users/anton/anaconda3/lib/python3.7/site-packages/tensorflow/__init__.py\", line 50, in __getattr__\n",
      "    module = self._load()\n",
      "  File \"/Users/anton/anaconda3/lib/python3.7/site-packages/tensorflow/__init__.py\", line 44, in _load\n",
      "    module = _importlib.import_module(self.__name__)\n",
      "  File \"/Users/anton/anaconda3/lib/python3.7/importlib/__init__.py\", line 127, in import_module\n",
      "    return _bootstrap._gcd_import(name[level:], package, level)\n",
      "  File \"<frozen importlib._bootstrap>\", line 1006, in _gcd_import\n",
      "  File \"<frozen importlib._bootstrap>\", line 983, in _find_and_load\n",
      "  File \"<frozen importlib._bootstrap>\", line 965, in _find_and_load_unlocked\n",
      "ModuleNotFoundError: No module named 'tensorflow_core.estimator'\n",
      "Traceback (most recent call last):\n",
      "  File \"/Users/anton/anaconda3/lib/python3.7/site-packages/IPython/core/interactiveshell.py\", line 3437, in run_code\n",
      "    exec(code_obj, self.user_global_ns, self.user_ns)\n",
      "  File \"<ipython-input-60-fbd55f77ab7c>\", line 1, in <module>\n",
      "    test()\n",
      "  File \"<ipython-input-59-ec4d37928c18>\", line 20, in test\n",
      "    scores = [(compute_score(meeting.Query[0], email), compute_score(meeting.Query[1], email)) for _, meeting in df_meetings_with_query.iterrows()]\n",
      "  File \"<ipython-input-59-ec4d37928c18>\", line 20, in <listcomp>\n",
      "    scores = [(compute_score(meeting.Query[0], email), compute_score(meeting.Query[1], email)) for _, meeting in df_meetings_with_query.iterrows()]\n",
      "  File \"<ipython-input-59-ec4d37928c18>\", line 5, in compute_score\n",
      "    common_words = email_words.intersection(query.keys())\n",
      "  File \"/Users/anton/anaconda3/lib/python3.7/site-packages/pandas/core/generic.py\", line 5465, in __getattr__\n",
      "    return object.__getattribute__(self, name)\n",
      "AttributeError: 'Series' object has no attribute 'intersection'\n",
      "\n",
      "During handling of the above exception, another exception occurred:\n",
      "\n",
      "Traceback (most recent call last):\n",
      "  File \"/Users/anton/anaconda3/lib/python3.7/site-packages/IPython/core/interactiveshell.py\", line 2061, in showtraceback\n",
      "    stb = value._render_traceback_()\n",
      "AttributeError: 'AttributeError' object has no attribute '_render_traceback_'\n",
      "\n",
      "During handling of the above exception, another exception occurred:\n",
      "\n",
      "Traceback (most recent call last):\n",
      "  File \"/Users/anton/anaconda3/lib/python3.7/site-packages/IPython/core/interactiveshell.py\", line 3357, in run_ast_nodes\n",
      "    if (await self.run_code(code, result,  async_=asy)):\n",
      "  File \"/Users/anton/anaconda3/lib/python3.7/site-packages/IPython/core/interactiveshell.py\", line 3454, in run_code\n",
      "    self.showtraceback(running_compiled_code=True)\n",
      "  File \"/Users/anton/anaconda3/lib/python3.7/site-packages/IPython/core/interactiveshell.py\", line 2064, in showtraceback\n",
      "    value, tb, tb_offset=tb_offset)\n",
      "  File \"/Users/anton/anaconda3/lib/python3.7/site-packages/IPython/core/ultratb.py\", line 1368, in structured_traceback\n",
      "    self, etype, value, tb, tb_offset, number_of_lines_of_context)\n",
      "  File \"/Users/anton/anaconda3/lib/python3.7/site-packages/IPython/core/ultratb.py\", line 1268, in structured_traceback\n",
      "    self, etype, value, tb, tb_offset, number_of_lines_of_context\n",
      "  File \"/Users/anton/anaconda3/lib/python3.7/site-packages/IPython/core/ultratb.py\", line 1125, in structured_traceback\n",
      "    tb_offset)\n",
      "  File \"/Users/anton/anaconda3/lib/python3.7/site-packages/IPython/core/ultratb.py\", line 1082, in format_exception_as_a_whole\n",
      "    last_unique, recursion_repeat = find_recursion(orig_etype, evalue, records)\n",
      "  File \"/Users/anton/anaconda3/lib/python3.7/site-packages/IPython/core/ultratb.py\", line 382, in find_recursion\n",
      "    return len(records), 0\n",
      "TypeError: object of type 'NoneType' has no len()\n",
      "\n",
      "During handling of the above exception, another exception occurred:\n",
      "\n",
      "Traceback (most recent call last):\n",
      "  File \"/Users/anton/anaconda3/lib/python3.7/site-packages/IPython/core/interactiveshell.py\", line 2061, in showtraceback\n",
      "    stb = value._render_traceback_()\n",
      "AttributeError: 'TypeError' object has no attribute '_render_traceback_'\n",
      "\n",
      "During handling of the above exception, another exception occurred:\n",
      "\n",
      "Traceback (most recent call last):\n",
      "  File \"/Users/anton/anaconda3/lib/python3.7/site-packages/IPython/core/interactiveshell.py\", line 2940, in _run_cell\n",
      "    return runner(coro)\n",
      "  File \"/Users/anton/anaconda3/lib/python3.7/site-packages/IPython/core/async_helpers.py\", line 68, in _pseudo_sync_runner\n",
      "    coro.send(None)\n",
      "  File \"/Users/anton/anaconda3/lib/python3.7/site-packages/IPython/core/interactiveshell.py\", line 3166, in run_cell_async\n",
      "    interactivity=interactivity, compiler=compiler, result=result)\n",
      "  File \"/Users/anton/anaconda3/lib/python3.7/site-packages/IPython/core/interactiveshell.py\", line 3376, in run_ast_nodes\n",
      "    self.showtraceback()\n",
      "  File \"/Users/anton/anaconda3/lib/python3.7/site-packages/IPython/core/interactiveshell.py\", line 2064, in showtraceback\n",
      "    value, tb, tb_offset=tb_offset)\n",
      "  File \"/Users/anton/anaconda3/lib/python3.7/site-packages/IPython/core/ultratb.py\", line 1368, in structured_traceback\n",
      "    self, etype, value, tb, tb_offset, number_of_lines_of_context)\n",
      "  File \"/Users/anton/anaconda3/lib/python3.7/site-packages/IPython/core/ultratb.py\", line 1268, in structured_traceback\n",
      "    self, etype, value, tb, tb_offset, number_of_lines_of_context\n",
      "  File \"/Users/anton/anaconda3/lib/python3.7/site-packages/IPython/core/ultratb.py\", line 1143, in structured_traceback\n",
      "    chained_exceptions_tb_offset)\n",
      "  File \"/Users/anton/anaconda3/lib/python3.7/site-packages/IPython/core/ultratb.py\", line 1082, in format_exception_as_a_whole\n",
      "    last_unique, recursion_repeat = find_recursion(orig_etype, evalue, records)\n",
      "  File \"/Users/anton/anaconda3/lib/python3.7/site-packages/IPython/core/ultratb.py\", line 382, in find_recursion\n",
      "    return len(records), 0\n",
      "TypeError: object of type 'NoneType' has no len()\n",
      "\n",
      "During handling of the above exception, another exception occurred:\n",
      "\n",
      "Traceback (most recent call last):\n",
      "  File \"/Users/anton/anaconda3/lib/python3.7/site-packages/IPython/core/interactiveshell.py\", line 2061, in showtraceback\n",
      "    stb = value._render_traceback_()\n",
      "AttributeError: 'TypeError' object has no attribute '_render_traceback_'\n",
      "\n",
      "During handling of the above exception, another exception occurred:\n",
      "\n",
      "Traceback (most recent call last):\n",
      "  File \"/Users/anton/anaconda3/lib/python3.7/site-packages/IPython/core/ultratb.py\", line 1101, in get_records\n",
      "    return _fixed_getinnerframes(etb, number_of_lines_of_context, tb_offset)\n",
      "  File \"/Users/anton/anaconda3/lib/python3.7/site-packages/IPython/core/ultratb.py\", line 248, in wrapped\n",
      "    return f(*args, **kwargs)\n",
      "  File \"/Users/anton/anaconda3/lib/python3.7/site-packages/IPython/core/ultratb.py\", line 281, in _fixed_getinnerframes\n",
      "    records = fix_frame_records_filenames(inspect.getinnerframes(etb, context))\n",
      "  File \"/Users/anton/anaconda3/lib/python3.7/inspect.py\", line 1502, in getinnerframes\n",
      "    frameinfo = (tb.tb_frame,) + getframeinfo(tb, context)\n",
      "  File \"/Users/anton/anaconda3/lib/python3.7/inspect.py\", line 1460, in getframeinfo\n",
      "    filename = getsourcefile(frame) or getfile(frame)\n",
      "  File \"/Users/anton/anaconda3/lib/python3.7/inspect.py\", line 696, in getsourcefile\n",
      "    if getattr(getmodule(object, filename), '__loader__', None) is not None:\n",
      "  File \"/Users/anton/anaconda3/lib/python3.7/inspect.py\", line 733, in getmodule\n",
      "    if ismodule(module) and hasattr(module, '__file__'):\n",
      "  File \"/Users/anton/anaconda3/lib/python3.7/site-packages/tensorflow/__init__.py\", line 50, in __getattr__\n",
      "    module = self._load()\n",
      "  File \"/Users/anton/anaconda3/lib/python3.7/site-packages/tensorflow/__init__.py\", line 44, in _load\n",
      "    module = _importlib.import_module(self.__name__)\n",
      "  File \"/Users/anton/anaconda3/lib/python3.7/importlib/__init__.py\", line 127, in import_module\n",
      "    return _bootstrap._gcd_import(name[level:], package, level)\n",
      "  File \"<frozen importlib._bootstrap>\", line 1006, in _gcd_import\n",
      "  File \"<frozen importlib._bootstrap>\", line 983, in _find_and_load\n",
      "  File \"<frozen importlib._bootstrap>\", line 965, in _find_and_load_unlocked\n",
      "ModuleNotFoundError: No module named 'tensorflow_core.estimator'\n"
     ]
    }
   ],
   "source": [
    "test()"
   ]
  },
  {
   "cell_type": "code",
   "execution_count": 55,
   "metadata": {},
   "outputs": [
    {
     "output_type": "execute_result",
     "data": {
      "text/plain": [
       "138.88888888888889"
      ]
     },
     "metadata": {},
     "execution_count": 55
    }
   ],
   "source": [
    "500_000/60/60"
   ]
  },
  {
   "cell_type": "code",
   "execution_count": 63,
   "metadata": {},
   "outputs": [
    {
     "output_type": "display_data",
     "data": {
      "text/plain": "  0%|          | 0/10 [00:00<?, ?it/s]",
      "application/vnd.jupyter.widget-view+json": {
       "version_major": 2,
       "version_minor": 0,
       "model_id": "bbed04b11b2e4a8685859a5b8b0dbbe9"
      }
     },
     "metadata": {}
    },
    {
     "output_type": "stream",
     "text": [
      "Timer unit: 1e-06 s\n",
      "\n",
      "Total time: 1.5725 s\n",
      "File: <ipython-input-62-298096d3f635>\n",
      "Function: compute_score at line 3\n",
      "\n",
      "Line #      Hits         Time  Per Hit   % Time  Line Contents\n",
      "==============================================================\n",
      "     3                                           def compute_score(query, email_words):\n",
      "     4                                               #score = sum([(query.get(word) or 0) for word in email_words])\n",
      "     5    124640     152213.0      1.2      9.7      query_keys = query.keys()\n",
      "     6    124640     643617.0      5.2     40.9      common_words = email_words.intersection(query_keys)\n",
      "     7    124640     708258.0      5.7     45.0      score = sum([query.get(word) for word in common_words])\n",
      "     8    124640      68416.0      0.5      4.4      return score"
     ],
     "name": "stdout"
    }
   ],
   "source": [
    "%lprun -f compute_score test()"
   ]
  },
  {
   "cell_type": "code",
   "execution_count": null,
   "metadata": {},
   "outputs": [],
   "source": []
  },
  {
   "cell_type": "code",
   "execution_count": null,
   "metadata": {},
   "outputs": [],
   "source": []
  },
  {
   "cell_type": "code",
   "execution_count": null,
   "metadata": {},
   "outputs": [],
   "source": []
  },
  {
   "cell_type": "code",
   "execution_count": null,
   "metadata": {},
   "outputs": [],
   "source": []
  },
  {
   "cell_type": "code",
   "execution_count": null,
   "metadata": {},
   "outputs": [],
   "source": []
  },
  {
   "cell_type": "code",
   "execution_count": null,
   "metadata": {},
   "outputs": [],
   "source": []
  },
  {
   "cell_type": "code",
   "execution_count": null,
   "metadata": {},
   "outputs": [],
   "source": []
  },
  {
   "cell_type": "code",
   "execution_count": null,
   "metadata": {},
   "outputs": [],
   "source": []
  },
  {
   "cell_type": "code",
   "execution_count": null,
   "metadata": {},
   "outputs": [],
   "source": []
  },
  {
   "cell_type": "code",
   "execution_count": null,
   "metadata": {},
   "outputs": [],
   "source": []
  },
  {
   "cell_type": "code",
   "execution_count": null,
   "metadata": {},
   "outputs": [],
   "source": []
  },
  {
   "cell_type": "code",
   "execution_count": null,
   "metadata": {},
   "outputs": [],
   "source": []
  },
  {
   "cell_type": "code",
   "execution_count": null,
   "metadata": {},
   "outputs": [],
   "source": []
  },
  {
   "cell_type": "code",
   "execution_count": null,
   "metadata": {},
   "outputs": [],
   "source": []
  },
  {
   "cell_type": "code",
   "execution_count": null,
   "metadata": {},
   "outputs": [],
   "source": []
  },
  {
   "cell_type": "code",
   "execution_count": null,
   "metadata": {},
   "outputs": [],
   "source": []
  },
  {
   "cell_type": "code",
   "execution_count": null,
   "metadata": {},
   "outputs": [],
   "source": []
  },
  {
   "cell_type": "code",
   "execution_count": 3,
   "metadata": {},
   "outputs": [
    {
     "output_type": "execute_result",
     "data": {
      "text/plain": [
       "  docno                                          text\n",
       "0    d1  this is the first document of many documents\n",
       "1    d2                      this is another document\n",
       "2    d3         the topic of this document is unknown"
      ],
      "text/html": "<div>\n<style scoped>\n    .dataframe tbody tr th:only-of-type {\n        vertical-align: middle;\n    }\n\n    .dataframe tbody tr th {\n        vertical-align: top;\n    }\n\n    .dataframe thead th {\n        text-align: right;\n    }\n</style>\n<table border=\"1\" class=\"dataframe\">\n  <thead>\n    <tr style=\"text-align: right;\">\n      <th></th>\n      <th>docno</th>\n      <th>text</th>\n    </tr>\n  </thead>\n  <tbody>\n    <tr>\n      <th>0</th>\n      <td>d1</td>\n      <td>this is the first document of many documents</td>\n    </tr>\n    <tr>\n      <th>1</th>\n      <td>d2</td>\n      <td>this is another document</td>\n    </tr>\n    <tr>\n      <th>2</th>\n      <td>d3</td>\n      <td>the topic of this document is unknown</td>\n    </tr>\n  </tbody>\n</table>\n</div>"
     },
     "metadata": {},
     "execution_count": 3
    }
   ],
   "source": [
    "import pandas as pd\n",
    "\n",
    "# lets not truncate output too much\n",
    "pd.set_option('display.max_colwidth', 150)\n",
    "\n",
    "docs_df = pd.DataFrame([\n",
    "        [\"d1\", \"this is the first document of many documents\"],\n",
    "        [\"d2\", \"this is another document\"],\n",
    "        [\"d3\", \"the topic of this document is unknown\"]\n",
    "    ], columns=[\"docno\", \"text\"])\n",
    "\n",
    "docs_df"
   ]
  },
  {
   "cell_type": "code",
   "execution_count": 4,
   "metadata": {},
   "outputs": [
    {
     "output_type": "execute_result",
     "data": {
      "text/plain": [
       "'/Users/Anton/datasets/index_3docs/data.properties'"
      ]
     },
     "metadata": {},
     "execution_count": 4
    }
   ],
   "source": [
    "indexer = pt.DFIndexer(\"/Users/Anton/datasets/index_3docs\", overwrite=True)\n",
    "index_ref = indexer.index(docs_df[\"text\"], docs_df[\"docno\"])\n",
    "index_ref.toString()"
   ]
  },
  {
   "cell_type": "code",
   "execution_count": 5,
   "metadata": {},
   "outputs": [
    {
     "output_type": "stream",
     "name": "stdout",
     "text": [
      "total 72\ndrwxr-xr-x  10 anton  staff   320 Apr  5 17:22 \u001b[1m\u001b[36m.\u001b[m\u001b[m\ndrwxr-xr-x   5 anton  staff   160 Apr  5 17:22 \u001b[1m\u001b[36m..\u001b[m\u001b[m\n-rw-r--r--   1 anton  staff     3 Apr  5 17:22 data.direct.bf\n-rw-r--r--   1 anton  staff    51 Apr  5 17:22 data.document.fsarrayfile\n-rw-r--r--   1 anton  staff     4 Apr  5 17:22 data.inverted.bf\n-rw-r--r--   1 anton  staff   344 Apr  5 17:22 data.lexicon.fsomapfile\n-rw-r--r--   1 anton  staff   249 Apr  5 17:22 data.lexicon.fsomaphash\n-rw-r--r--   1 anton  staff    24 Apr  5 17:22 data.meta.idx\n-rw-r--r--   1 anton  staff    36 Apr  5 17:22 data.meta.zdata\n-rw-r--r--   1 anton  staff  4193 Apr  5 17:22 data.properties\n"
     ]
    }
   ],
   "source": [
    "!ls -al /Users/Anton/datasets/index_3docs"
   ]
  },
  {
   "cell_type": "code",
   "execution_count": 6,
   "metadata": {},
   "outputs": [
    {
     "output_type": "execute_result",
     "data": {
      "text/plain": [
       "jnius.reflect.org.terrier.structures.Index"
      ]
     },
     "metadata": {},
     "execution_count": 6
    }
   ],
   "source": [
    "index = pt.IndexFactory.of(index_ref)\n",
    "\n",
    "#lets see what type index is.\n",
    "type(index)"
   ]
  },
  {
   "cell_type": "code",
   "execution_count": 7,
   "metadata": {},
   "outputs": [
    {
     "output_type": "execute_result",
     "data": {
      "text/plain": [
       "  qid  docid docno  rank  score     query\n",
       "0   1      0    d1     0    2.0  document\n",
       "1   1      2    d3     1    1.0  document\n",
       "2   1      1    d2     2    1.0  document"
      ],
      "text/html": "<div>\n<style scoped>\n    .dataframe tbody tr th:only-of-type {\n        vertical-align: middle;\n    }\n\n    .dataframe tbody tr th {\n        vertical-align: top;\n    }\n\n    .dataframe thead th {\n        text-align: right;\n    }\n</style>\n<table border=\"1\" class=\"dataframe\">\n  <thead>\n    <tr style=\"text-align: right;\">\n      <th></th>\n      <th>qid</th>\n      <th>docid</th>\n      <th>docno</th>\n      <th>rank</th>\n      <th>score</th>\n      <th>query</th>\n    </tr>\n  </thead>\n  <tbody>\n    <tr>\n      <th>0</th>\n      <td>1</td>\n      <td>0</td>\n      <td>d1</td>\n      <td>0</td>\n      <td>2.0</td>\n      <td>document</td>\n    </tr>\n    <tr>\n      <th>1</th>\n      <td>1</td>\n      <td>2</td>\n      <td>d3</td>\n      <td>1</td>\n      <td>1.0</td>\n      <td>document</td>\n    </tr>\n    <tr>\n      <th>2</th>\n      <td>1</td>\n      <td>1</td>\n      <td>d2</td>\n      <td>2</td>\n      <td>1.0</td>\n      <td>document</td>\n    </tr>\n  </tbody>\n</table>\n</div>"
     },
     "metadata": {},
     "execution_count": 7
    }
   ],
   "source": [
    "br = pt.BatchRetrieve(index, wmodel=\"Tf\")\n",
    "br.search(\"document\")"
   ]
  },
  {
   "cell_type": "code",
   "execution_count": null,
   "metadata": {},
   "outputs": [],
   "source": []
  },
  {
   "cell_type": "code",
   "execution_count": null,
   "metadata": {},
   "outputs": [],
   "source": []
  },
  {
   "cell_type": "code",
   "execution_count": null,
   "metadata": {},
   "outputs": [],
   "source": []
  },
  {
   "cell_type": "code",
   "execution_count": null,
   "metadata": {},
   "outputs": [],
   "source": []
  },
  {
   "cell_type": "code",
   "execution_count": 59,
   "metadata": {},
   "outputs": [],
   "source": [
    "with open(\"/Users/anton/openai_api_key.txt\", \"r\") as f:\n",
    "    openai.api_key = f.read().strip()"
   ]
  },
  {
   "cell_type": "code",
   "execution_count": 4,
   "metadata": {},
   "outputs": [],
   "source": []
  },
  {
   "cell_type": "code",
   "execution_count": 5,
   "metadata": {
    "tags": []
   },
   "outputs": [
    {
     "output_type": "stream",
     "name": "stdout",
     "text": [
      "3313\n"
     ]
    }
   ],
   "source": []
  },
  {
   "cell_type": "code",
   "execution_count": 6,
   "metadata": {},
   "outputs": [
    {
     "output_type": "execute_result",
     "data": {
      "text/plain": [
       "'hyatt-k/deleted_items/atoka_lateral/3.'"
      ]
     },
     "metadata": {},
     "execution_count": 6
    }
   ],
   "source": [
    "mail_files[150]"
   ]
  },
  {
   "cell_type": "code",
   "execution_count": 28,
   "metadata": {
    "tags": []
   },
   "outputs": [
    {
     "output_type": "stream",
     "name": "stdout",
     "text": [
      "6133\n"
     ]
    }
   ],
   "source": [
    "calendar_messages = []\n",
    "\n",
    "for user in os.listdir(enron_path):\n",
    "    calendar_dir = os.path.join(enron_path, user, \"calendar\")\n",
    "    if os.path.isdir(calendar_dir):\n",
    "        for root, _, files in os.walk(calendar_dir):\n",
    "            for file_name in files:\n",
    "                f = os.path.join(root, file_name)\n",
    "                with open(os.path.join(calendar_dir, f), 'rb') as file:\n",
    "                    msg = email.parser.BytesParser(policy=policy.default).parse(file)\n",
    "                    calendar_messages.append(parse_message(msg))\n",
    "\n",
    "print(len(calendar_messages))"
   ]
  },
  {
   "cell_type": "code",
   "execution_count": 29,
   "metadata": {
    "tags": []
   },
   "outputs": [],
   "source": [
    "df_calendar = pd.DataFrame(calendar_messages)"
   ]
  },
  {
   "cell_type": "code",
   "execution_count": 30,
   "metadata": {},
   "outputs": [
    {
     "output_type": "execute_result",
     "data": {
      "text/plain": [
       "{'Date': 'Wed, 21 Feb 2001 12:39:49 -0800',\n",
       " 'Subject': 'Mtg: Budget Meeting - Whalley',\n",
       " 'To': None,\n",
       " 'From': 'lavorato@enron.com',\n",
       " 'Cc': None,\n",
       " 'Bcc': None,\n",
       " 'X-To': '',\n",
       " 'X-From': 'Lavorato, John',\n",
       " 'X-Cc': '',\n",
       " 'X-Bcc': '',\n",
       " 'Body': 'Greg Whalley will be holding a budget meeting on Tuesday, Feb. 6 @ 3:00 p.m. in EB3321.  This invitation is extended to all CEOs and/or COOs reporting to Wholesale Services.  Should you have any questions, please contact me immediately.  \\n\\nConfirmed Attendees:\\nLouise Kitchen\\nDave Delainey\\nJeff McMahon\\nJeff Shankman\\nJim Hughes\\nWes Colwell\\n'}"
      ]
     },
     "metadata": {},
     "execution_count": 30
    }
   ],
   "source": [
    "calendar_messages[0]"
   ]
  },
  {
   "cell_type": "code",
   "execution_count": 31,
   "metadata": {},
   "outputs": [
    {
     "output_type": "execute_result",
     "data": {
      "text/plain": [
       "                                 Date  \\\n",
       "0     Wed, 21 Feb 2001 12:39:49 -0800   \n",
       "1     Thu, 14 Jun 2001 13:16:25 -0700   \n",
       "2     Thu, 26 Jul 2001 07:05:22 -0700   \n",
       "3     Wed, 23 May 2001 12:08:24 -0700   \n",
       "4     Wed, 21 Mar 2001 06:16:25 -0800   \n",
       "...                               ...   \n",
       "6128  Mon, 05 Nov 2001 11:24:29 -0800   \n",
       "6129  Thu, 18 Oct 2001 16:35:17 -0700   \n",
       "6130  Mon, 01 Oct 2001 12:49:10 -0700   \n",
       "6131  Mon, 01 Oct 2001 12:49:10 -0700   \n",
       "6132  Fri, 14 Sep 2001 11:31:32 -0700   \n",
       "\n",
       "                                                                                                 Subject  \\\n",
       "0                                                                          Mtg: Budget Meeting - Whalley   \n",
       "1                                                                                        Lunch: Dan Leff   \n",
       "2                                                                     Mtg: Heath Schiesser - Xcellorator   \n",
       "3                                                                     Mtg: Wes Colwell - Flash to Actual   \n",
       "4                                                                  Golf: With Greg Whalley (Noon T-time)   \n",
       "...                                                                                                  ...   \n",
       "6128                                                                 Air Products Interruptible Proposal   \n",
       "6129                                                   Action Required:  Attend West Power Staff Meeting   \n",
       "6130                                                                               Revised:  Randy Hardy   \n",
       "6131                                                                               Revised:  Randy Hardy   \n",
       "6132  Updated: Want a Workable Market for Coordinated Transmission, Energy, and A/S Markets in the West?   \n",
       "\n",
       "                                                                                                                                                         To  \\\n",
       "0                                                                                                                                                      None   \n",
       "1                                                                                                                                                      None   \n",
       "2                                                                                                                                                      None   \n",
       "3                                                                                                                                                      None   \n",
       "4                                                                                                                                                      None   \n",
       "...                                                                                                                                                     ...   \n",
       "6128  mike.curry@enron.com, doug.gilbert-smith@enron.com, m..forney@enron.com, l..day@enron.com, madhup.kumar@enron.com, jeffrey.miller@enron.com, judy....   \n",
       "6129  debra.davidson@enron.com, tim.belden@enron.com, tom.alonso@enron.com, mark.fischer@enron.com, sean.crandall@enron.com, robert.badeer@enron.com, h....   \n",
       "6130  anna.mehrer@enron.com, tim.belden@enron.com, sean.crandall@enron.com, diana.scholtes@enron.com, mike.swerzbin@enron.com, h..foster@enron.com, paul...   \n",
       "6131  anna.mehrer@enron.com, tim.belden@enron.com, sean.crandall@enron.com, diana.scholtes@enron.com, mike.swerzbin@enron.com, h..foster@enron.com, paul...   \n",
       "6132  alan.comnes@enron.com, diana.scholtes@enron.com, sean.crandall@enron.com, mark.fischer@enron.com, tom.alonso@enron.com, chris.mallory@enron.com, b...   \n",
       "\n",
       "                           From                        Cc  \\\n",
       "0            lavorato@enron.com                      None   \n",
       "1     kimberly.hillis@enron.com                      None   \n",
       "2     kimberly.hillis@enron.com                      None   \n",
       "3              hillis@enron.com                      None   \n",
       "4              hillis@enron.com                      None   \n",
       "...                         ...                       ...   \n",
       "6128    judy.martinez@enron.com                      None   \n",
       "6129   debra.davidson@enron.com     anna.mehrer@enron.com   \n",
       "6130      anna.mehrer@enron.com  debra.davidson@enron.com   \n",
       "6131      anna.mehrer@enron.com  debra.davidson@enron.com   \n",
       "6132      alan.comnes@enron.com      lysa.tracy@enron.com   \n",
       "\n",
       "                           Bcc  \\\n",
       "0                         None   \n",
       "1                         None   \n",
       "2                         None   \n",
       "3                         None   \n",
       "4                         None   \n",
       "...                        ...   \n",
       "6128                      None   \n",
       "6129     anna.mehrer@enron.com   \n",
       "6130  debra.davidson@enron.com   \n",
       "6131  debra.davidson@enron.com   \n",
       "6132      lysa.tracy@enron.com   \n",
       "\n",
       "                                                                                                                                                       X-To  \\\n",
       "0                                                                                                                                                             \n",
       "1                                                                                                                                                             \n",
       "2                                                                                                                                                             \n",
       "3                                                                                                                                                             \n",
       "4                                                                                                                                                             \n",
       "...                                                                                                                                                     ...   \n",
       "6128  Curry, Mike </O=ENRON/OU=NA/CN=RECIPIENTS/CN=Mcurry>, Gilbert-smith, Doug </O=ENRON/OU=NA/CN=RECIPIENTS/CN=Dsmith3>, Forney, John M. </O=ENRON/OU=...   \n",
       "6129  Davidson, Debra </O=ENRON/OU=NA/CN=RECIPIENTS/CN=Ddavids3>, Belden, Tim </O=ENRON/OU=NA/CN=RECIPIENTS/CN=Tbelden>, Alonso, Tom </O=ENRON/OU=NA/CN=...   \n",
       "6130  Mehrer, Anna </O=ENRON/OU=NA/CN=RECIPIENTS/CN=Amehrer>, Belden, Tim </O=ENRON/OU=NA/CN=RECIPIENTS/CN=Tbelden>, Crandall, Sean </O=ENRON/OU=NA/CN=R...   \n",
       "6131  Mehrer, Anna </O=ENRON/OU=NA/CN=RECIPIENTS/CN=Amehrer>, Belden, Tim </O=ENRON/OU=NA/CN=RECIPIENTS/CN=Tbelden>, Crandall, Sean </O=ENRON/OU=NA/CN=R...   \n",
       "6132  Comnes, Alan </O=ENRON/OU=NA/CN=RECIPIENTS/CN=Acomnes>, Scholtes, Diana </O=ENRON/OU=NA/CN=RECIPIENTS/CN=Dscholt>, Crandall, Sean </O=ENRON/OU=NA/...   \n",
       "\n",
       "                                                          X-From  \\\n",
       "0                                                 Lavorato, John   \n",
       "1     Hillis, Kimberly </O=ENRON/OU=NA/CN=RECIPIENTS/CN=KHILLIS>   \n",
       "2     Hillis, Kimberly </O=ENRON/OU=NA/CN=RECIPIENTS/CN=KHILLIS>   \n",
       "3                                               Hillis, Kimberly   \n",
       "4                                               Hillis, Kimberly   \n",
       "...                                                          ...   \n",
       "6128   Martinez, Judy </O=ENRON/OU=NA/CN=RECIPIENTS/CN=JMARTIN2>   \n",
       "6129  Davidson, Debra </O=ENRON/OU=NA/CN=RECIPIENTS/CN=DDAVIDS3>   \n",
       "6130      Mehrer, Anna </O=ENRON/OU=NA/CN=RECIPIENTS/CN=AMEHRER>   \n",
       "6131      Mehrer, Anna </O=ENRON/OU=NA/CN=RECIPIENTS/CN=AMEHRER>   \n",
       "6132      Comnes, Alan </O=ENRON/OU=NA/CN=RECIPIENTS/CN=ACOMNES>   \n",
       "\n",
       "                                                            X-Cc X-Bcc  \\\n",
       "0                                                                        \n",
       "1                                                                        \n",
       "2                                                                        \n",
       "3                                                                        \n",
       "4                                                                        \n",
       "...                                                          ...   ...   \n",
       "6128                                                                     \n",
       "6129      Mehrer, Anna </O=ENRON/OU=NA/CN=RECIPIENTS/CN=Amehrer>         \n",
       "6130  Davidson, Debra </O=ENRON/OU=NA/CN=RECIPIENTS/CN=Ddavids3>         \n",
       "6131  Davidson, Debra </O=ENRON/OU=NA/CN=RECIPIENTS/CN=Ddavids3>         \n",
       "6132        Tracy, Lysa </O=ENRON/OU=NA/CN=RECIPIENTS/CN=Ltracy>         \n",
       "\n",
       "                                                                                                                                                       Body  \n",
       "0     Greg Whalley will be holding a budget meeting on Tuesday, Feb. 6 @ 3:00 p.m. in EB3321.  This invitation is extended to all CEOs and/or COOs repor...  \n",
       "1                                                                                                                               Esmerelda Hinojosa - x57390  \n",
       "2                                                                                                                                   Annitta Granado - 39724  \n",
       "3     \\n\\n -----Original Message-----\\nFrom: \\tTijerina, Shirley  \\nSent:\\tWednesday, May 23, 2001 2:34 PM\\nTo:\\tBlack, Don; Ruffer, Mary Lynne; Herndon...  \n",
       "4     Kim,\\n\\nJust blk off from 11:00a.m. til the rest of the day.  Memorial Park Golf Course.  (Florida Scramble)  I forward more details later.  \\nNoo...  \n",
       "...                                                                                                                                                     ...  \n",
       "6128                When: Wednesday, November 07, 2001 9:00 AM-10:00 AM (GMT-06:00) Central Time (US & Canada).\\nWhere: EB - 3143B\\n\\n*~*~*~*~*~*~*~*~*~*\\n  \n",
       "6129  Please make plans to attend a West Power Trading luncheon staff meeting.\\n\\nDate:  Monday, October 22\\nPlace:  Mt. Hood Conference Room\\nTime:  11...  \n",
       "6130                                                                                                    This has replaced the previously scheduled meeting.  \n",
       "6131                                                                                                    This has replaced the previously scheduled meeting.  \n",
       "6132  Had to reschedule because D. Perrino could not get a flight in time.\\n\\nGovernment Affairs is participating in WSCC committees that are trying to ...  \n",
       "\n",
       "[6133 rows x 11 columns]"
      ],
      "text/html": "<div>\n<style scoped>\n    .dataframe tbody tr th:only-of-type {\n        vertical-align: middle;\n    }\n\n    .dataframe tbody tr th {\n        vertical-align: top;\n    }\n\n    .dataframe thead th {\n        text-align: right;\n    }\n</style>\n<table border=\"1\" class=\"dataframe\">\n  <thead>\n    <tr style=\"text-align: right;\">\n      <th></th>\n      <th>Date</th>\n      <th>Subject</th>\n      <th>To</th>\n      <th>From</th>\n      <th>Cc</th>\n      <th>Bcc</th>\n      <th>X-To</th>\n      <th>X-From</th>\n      <th>X-Cc</th>\n      <th>X-Bcc</th>\n      <th>Body</th>\n    </tr>\n  </thead>\n  <tbody>\n    <tr>\n      <th>0</th>\n      <td>Wed, 21 Feb 2001 12:39:49 -0800</td>\n      <td>Mtg: Budget Meeting - Whalley</td>\n      <td>None</td>\n      <td>lavorato@enron.com</td>\n      <td>None</td>\n      <td>None</td>\n      <td></td>\n      <td>Lavorato, John</td>\n      <td></td>\n      <td></td>\n      <td>Greg Whalley will be holding a budget meeting on Tuesday, Feb. 6 @ 3:00 p.m. in EB3321.  This invitation is extended to all CEOs and/or COOs repor...</td>\n    </tr>\n    <tr>\n      <th>1</th>\n      <td>Thu, 14 Jun 2001 13:16:25 -0700</td>\n      <td>Lunch: Dan Leff</td>\n      <td>None</td>\n      <td>kimberly.hillis@enron.com</td>\n      <td>None</td>\n      <td>None</td>\n      <td></td>\n      <td>Hillis, Kimberly &lt;/O=ENRON/OU=NA/CN=RECIPIENTS/CN=KHILLIS&gt;</td>\n      <td></td>\n      <td></td>\n      <td>Esmerelda Hinojosa - x57390</td>\n    </tr>\n    <tr>\n      <th>2</th>\n      <td>Thu, 26 Jul 2001 07:05:22 -0700</td>\n      <td>Mtg: Heath Schiesser - Xcellorator</td>\n      <td>None</td>\n      <td>kimberly.hillis@enron.com</td>\n      <td>None</td>\n      <td>None</td>\n      <td></td>\n      <td>Hillis, Kimberly &lt;/O=ENRON/OU=NA/CN=RECIPIENTS/CN=KHILLIS&gt;</td>\n      <td></td>\n      <td></td>\n      <td>Annitta Granado - 39724</td>\n    </tr>\n    <tr>\n      <th>3</th>\n      <td>Wed, 23 May 2001 12:08:24 -0700</td>\n      <td>Mtg: Wes Colwell - Flash to Actual</td>\n      <td>None</td>\n      <td>hillis@enron.com</td>\n      <td>None</td>\n      <td>None</td>\n      <td></td>\n      <td>Hillis, Kimberly</td>\n      <td></td>\n      <td></td>\n      <td>\\n\\n -----Original Message-----\\nFrom: \\tTijerina, Shirley  \\nSent:\\tWednesday, May 23, 2001 2:34 PM\\nTo:\\tBlack, Don; Ruffer, Mary Lynne; Herndon...</td>\n    </tr>\n    <tr>\n      <th>4</th>\n      <td>Wed, 21 Mar 2001 06:16:25 -0800</td>\n      <td>Golf: With Greg Whalley (Noon T-time)</td>\n      <td>None</td>\n      <td>hillis@enron.com</td>\n      <td>None</td>\n      <td>None</td>\n      <td></td>\n      <td>Hillis, Kimberly</td>\n      <td></td>\n      <td></td>\n      <td>Kim,\\n\\nJust blk off from 11:00a.m. til the rest of the day.  Memorial Park Golf Course.  (Florida Scramble)  I forward more details later.  \\nNoo...</td>\n    </tr>\n    <tr>\n      <th>...</th>\n      <td>...</td>\n      <td>...</td>\n      <td>...</td>\n      <td>...</td>\n      <td>...</td>\n      <td>...</td>\n      <td>...</td>\n      <td>...</td>\n      <td>...</td>\n      <td>...</td>\n      <td>...</td>\n    </tr>\n    <tr>\n      <th>6128</th>\n      <td>Mon, 05 Nov 2001 11:24:29 -0800</td>\n      <td>Air Products Interruptible Proposal</td>\n      <td>mike.curry@enron.com, doug.gilbert-smith@enron.com, m..forney@enron.com, l..day@enron.com, madhup.kumar@enron.com, jeffrey.miller@enron.com, judy....</td>\n      <td>judy.martinez@enron.com</td>\n      <td>None</td>\n      <td>None</td>\n      <td>Curry, Mike &lt;/O=ENRON/OU=NA/CN=RECIPIENTS/CN=Mcurry&gt;, Gilbert-smith, Doug &lt;/O=ENRON/OU=NA/CN=RECIPIENTS/CN=Dsmith3&gt;, Forney, John M. &lt;/O=ENRON/OU=...</td>\n      <td>Martinez, Judy &lt;/O=ENRON/OU=NA/CN=RECIPIENTS/CN=JMARTIN2&gt;</td>\n      <td></td>\n      <td></td>\n      <td>When: Wednesday, November 07, 2001 9:00 AM-10:00 AM (GMT-06:00) Central Time (US &amp; Canada).\\nWhere: EB - 3143B\\n\\n*~*~*~*~*~*~*~*~*~*\\n</td>\n    </tr>\n    <tr>\n      <th>6129</th>\n      <td>Thu, 18 Oct 2001 16:35:17 -0700</td>\n      <td>Action Required:  Attend West Power Staff Meeting</td>\n      <td>debra.davidson@enron.com, tim.belden@enron.com, tom.alonso@enron.com, mark.fischer@enron.com, sean.crandall@enron.com, robert.badeer@enron.com, h....</td>\n      <td>debra.davidson@enron.com</td>\n      <td>anna.mehrer@enron.com</td>\n      <td>anna.mehrer@enron.com</td>\n      <td>Davidson, Debra &lt;/O=ENRON/OU=NA/CN=RECIPIENTS/CN=Ddavids3&gt;, Belden, Tim &lt;/O=ENRON/OU=NA/CN=RECIPIENTS/CN=Tbelden&gt;, Alonso, Tom &lt;/O=ENRON/OU=NA/CN=...</td>\n      <td>Davidson, Debra &lt;/O=ENRON/OU=NA/CN=RECIPIENTS/CN=DDAVIDS3&gt;</td>\n      <td>Mehrer, Anna &lt;/O=ENRON/OU=NA/CN=RECIPIENTS/CN=Amehrer&gt;</td>\n      <td></td>\n      <td>Please make plans to attend a West Power Trading luncheon staff meeting.\\n\\nDate:  Monday, October 22\\nPlace:  Mt. Hood Conference Room\\nTime:  11...</td>\n    </tr>\n    <tr>\n      <th>6130</th>\n      <td>Mon, 01 Oct 2001 12:49:10 -0700</td>\n      <td>Revised:  Randy Hardy</td>\n      <td>anna.mehrer@enron.com, tim.belden@enron.com, sean.crandall@enron.com, diana.scholtes@enron.com, mike.swerzbin@enron.com, h..foster@enron.com, paul...</td>\n      <td>anna.mehrer@enron.com</td>\n      <td>debra.davidson@enron.com</td>\n      <td>debra.davidson@enron.com</td>\n      <td>Mehrer, Anna &lt;/O=ENRON/OU=NA/CN=RECIPIENTS/CN=Amehrer&gt;, Belden, Tim &lt;/O=ENRON/OU=NA/CN=RECIPIENTS/CN=Tbelden&gt;, Crandall, Sean &lt;/O=ENRON/OU=NA/CN=R...</td>\n      <td>Mehrer, Anna &lt;/O=ENRON/OU=NA/CN=RECIPIENTS/CN=AMEHRER&gt;</td>\n      <td>Davidson, Debra &lt;/O=ENRON/OU=NA/CN=RECIPIENTS/CN=Ddavids3&gt;</td>\n      <td></td>\n      <td>This has replaced the previously scheduled meeting.</td>\n    </tr>\n    <tr>\n      <th>6131</th>\n      <td>Mon, 01 Oct 2001 12:49:10 -0700</td>\n      <td>Revised:  Randy Hardy</td>\n      <td>anna.mehrer@enron.com, tim.belden@enron.com, sean.crandall@enron.com, diana.scholtes@enron.com, mike.swerzbin@enron.com, h..foster@enron.com, paul...</td>\n      <td>anna.mehrer@enron.com</td>\n      <td>debra.davidson@enron.com</td>\n      <td>debra.davidson@enron.com</td>\n      <td>Mehrer, Anna &lt;/O=ENRON/OU=NA/CN=RECIPIENTS/CN=Amehrer&gt;, Belden, Tim &lt;/O=ENRON/OU=NA/CN=RECIPIENTS/CN=Tbelden&gt;, Crandall, Sean &lt;/O=ENRON/OU=NA/CN=R...</td>\n      <td>Mehrer, Anna &lt;/O=ENRON/OU=NA/CN=RECIPIENTS/CN=AMEHRER&gt;</td>\n      <td>Davidson, Debra &lt;/O=ENRON/OU=NA/CN=RECIPIENTS/CN=Ddavids3&gt;</td>\n      <td></td>\n      <td>This has replaced the previously scheduled meeting.</td>\n    </tr>\n    <tr>\n      <th>6132</th>\n      <td>Fri, 14 Sep 2001 11:31:32 -0700</td>\n      <td>Updated: Want a Workable Market for Coordinated Transmission, Energy, and A/S Markets in the West?</td>\n      <td>alan.comnes@enron.com, diana.scholtes@enron.com, sean.crandall@enron.com, mark.fischer@enron.com, tom.alonso@enron.com, chris.mallory@enron.com, b...</td>\n      <td>alan.comnes@enron.com</td>\n      <td>lysa.tracy@enron.com</td>\n      <td>lysa.tracy@enron.com</td>\n      <td>Comnes, Alan &lt;/O=ENRON/OU=NA/CN=RECIPIENTS/CN=Acomnes&gt;, Scholtes, Diana &lt;/O=ENRON/OU=NA/CN=RECIPIENTS/CN=Dscholt&gt;, Crandall, Sean &lt;/O=ENRON/OU=NA/...</td>\n      <td>Comnes, Alan &lt;/O=ENRON/OU=NA/CN=RECIPIENTS/CN=ACOMNES&gt;</td>\n      <td>Tracy, Lysa &lt;/O=ENRON/OU=NA/CN=RECIPIENTS/CN=Ltracy&gt;</td>\n      <td></td>\n      <td>Had to reschedule because D. Perrino could not get a flight in time.\\n\\nGovernment Affairs is participating in WSCC committees that are trying to ...</td>\n    </tr>\n  </tbody>\n</table>\n<p>6133 rows × 11 columns</p>\n</div>"
     },
     "metadata": {},
     "execution_count": 31
    }
   ],
   "source": [
    "df_calendar"
   ]
  },
  {
   "cell_type": "code",
   "execution_count": 33,
   "metadata": {},
   "outputs": [
    {
     "output_type": "execute_result",
     "data": {
      "text/plain": [
       "5154"
      ]
     },
     "metadata": {},
     "execution_count": 33
    }
   ],
   "source": [
    "df_calendar.Subject.nunique()"
   ]
  },
  {
   "cell_type": "code",
   "execution_count": null,
   "metadata": {},
   "outputs": [],
   "source": []
  },
  {
   "cell_type": "code",
   "execution_count": 16,
   "metadata": {},
   "outputs": [
    {
     "output_type": "stream",
     "name": "stdout",
     "text": [
      "Message-ID: <21156393.1075857700266.JavaMail.evans@thyme>\nDate: Wed, 21 Feb 2001 12:39:49 -0800 (PST)\nFrom: lavorato@enron.com\nSubject: Mtg: Budget Meeting - Whalley\nMime-Version: 1.0\nContent-Type: text/plain; charset=us-ascii\nContent-Transfer-Encoding: 7bit\nX-From: Lavorato, John\nX-To: \nX-cc: \nX-bcc: \nX-Folder: \\jlavora\\Calendar\nX-Origin: Lavorado-J\nX-FileName: jlavora.pst\n\nGreg Whalley will be holding a budget meeting on Tuesday, Feb. 6 @ 3:00 p.m. in EB3321.  This invitation is extended to all CEOs and/or COOs reporting to Wholesale Services.  Should you have any questions, please contact me immediately.  \n\nConfirmed Attendees:\nLouise Kitchen\nDave Delainey\nJeff McMahon\nJeff Shankman\nJim Hughes\nWes Colwell\n\n"
     ]
    }
   ],
   "source": [
    "print(msg)"
   ]
  },
  {
   "cell_type": "code",
   "execution_count": 11,
   "metadata": {},
   "outputs": [
    {
     "output_type": "execute_result",
     "data": {
      "text/plain": [
       "<email.message.EmailMessage at 0x7ff32dda4710>"
      ]
     },
     "metadata": {},
     "execution_count": 11
    }
   ],
   "source": [
    "msg.get_body()"
   ]
  },
  {
   "cell_type": "code",
   "execution_count": 11,
   "metadata": {},
   "outputs": [],
   "source": [
    "def extract_msg_body(msg):\n",
    "    body = msg.get_body()\n",
    "    if not body['content-type']:\n",
    "        return body.get_content()\n",
    "    if body['content-type'].maintype == 'text':\n",
    "        if body['content-type'].subtype == 'plain':\n",
    "            return body.get_content()\n",
    "        elif body['content-type'].subtype == 'html':\n",
    "            content = DOCTYPE_REGEX.sub(\"\", body.get_content())\n",
    "            soup = bs4.BeautifulSoup(content, 'lxml')\n",
    "            [s.extract() for s in soup(['style', 'script', '[document]', 'head', 'title'])]\n",
    "            return soup.get_text()\n",
    "    return \"\""
   ]
  },
  {
   "cell_type": "code",
   "execution_count": 19,
   "metadata": {},
   "outputs": [
    {
     "output_type": "execute_result",
     "data": {
      "text/plain": [
       "'Greg Whalley will be holding a budget meeting on Tuesday, Feb. 6 @ 3:00 p.m. in EB3321.  This invitation is extended to all CEOs and/or COOs reporting to Wholesale Services.  Should you have any questions, please contact me immediately.  \\n\\nConfirmed Attendees:\\nLouise Kitchen\\nDave Delainey\\nJeff McMahon\\nJeff Shankman\\nJim Hughes\\nWes Colwell\\n'"
      ]
     },
     "metadata": {},
     "execution_count": 19
    }
   ],
   "source": [
    "extract_msg_body(msg)"
   ]
  },
  {
   "cell_type": "code",
   "execution_count": 20,
   "metadata": {},
   "outputs": [
    {
     "output_type": "execute_result",
     "data": {
      "text/plain": [
       "'Mtg: Budget Meeting - Whalley'"
      ]
     },
     "metadata": {},
     "execution_count": 20
    }
   ],
   "source": [
    "msg['Subject']"
   ]
  },
  {
   "cell_type": "code",
   "execution_count": 21,
   "metadata": {},
   "outputs": [
    {
     "output_type": "execute_result",
     "data": {
      "text/plain": [
       "['Message-ID',\n",
       " 'Date',\n",
       " 'From',\n",
       " 'Subject',\n",
       " 'Mime-Version',\n",
       " 'Content-Type',\n",
       " 'Content-Transfer-Encoding',\n",
       " 'X-From',\n",
       " 'X-To',\n",
       " 'X-cc',\n",
       " 'X-bcc',\n",
       " 'X-Folder',\n",
       " 'X-Origin',\n",
       " 'X-FileName']"
      ]
     },
     "metadata": {},
     "execution_count": 21
    }
   ],
   "source": [
    "msg.keys()"
   ]
  },
  {
   "cell_type": "code",
   "execution_count": 22,
   "metadata": {},
   "outputs": [],
   "source": [
    "with open(\"/Users/anton/Downloads/maildir/campbell-l/sent/7.\", 'rb') as file:\n",
    "    random_msg = email.parser.BytesParser(policy=policy.default).parse(file)"
   ]
  },
  {
   "cell_type": "code",
   "execution_count": 24,
   "metadata": {},
   "outputs": [
    {
     "output_type": "stream",
     "name": "stdout",
     "text": [
      "Message-ID: <26730414.1075851918003.JavaMail.evans@thyme>\nDate: Thu, 15 Jul 1999 09:09:00 -0700 (PDT)\nFrom: larry.campbell@enron.com\nTo: team.monahans@enron.com\nSubject: Groundwater Monitoring to be Discontinued at the Puckett Plant\nCc: william.kendrick@enron.com, michael.terraso@enron.com, \n\tbutch.russell@enron.com, rich.jolly@enron.com, bob.bandel@enron.com\nMime-Version: 1.0\nContent-Type: text/plain; charset=us-ascii\nContent-Transfer-Encoding: 7bit\nBcc: william.kendrick@enron.com, michael.terraso@enron.com, \n\tbutch.russell@enron.com, rich.jolly@enron.com, bob.bandel@enron.com\nX-From: Larry Campbell\nX-To: Team Monahans\nX-cc: William Kendrick, Michael Terraso, Butch Russell, Rich Jolly, Bob Bandel\nX-bcc: \nX-Folder: \\Larry_Campbell_Nov2001_1\\Notes Folders\\Sent\nX-Origin: CAMPBELL-L\nX-FileName: lcampbe.nsf\n\nApproval was received from the Texas Railroad Commission to discontinue \ngroundwater monitoring at the Pucket Plant.  As you may remember, \nTranswestern constructed a permitted landfill to dispose of the entire \nfacility near Ft. Stockton.  Groundwater montioring activities have been \nongoing since aprox. 1988.  A permit condition states that if three years of \ngroundwater sampling data confirms that the groundwater protection standard \nhas not been exceeded, the groundwater monitoring activities can be \nterminated.  A letter from Leslie Savage granting this approval was received \non July 14, 1999.  \n\nKen Gray, all other conditions of the permit are still in effect (noxious \nweed and mesquite control, monthly site inspections recordkeeping etc.....).  \nContinue to keep the records accurate and up to date.  I anticipate that we \nwill be required to monitor  and conduct housekeeping activities at the site \nindefinately.\n"
     ]
    }
   ],
   "source": [
    "print(random_msg)"
   ]
  },
  {
   "cell_type": "code",
   "execution_count": 8,
   "metadata": {},
   "outputs": [],
   "source": [
    "with open(\"/Users/anton/Downloads/maildir/campbell-l/importantstuff/5.\", 'rb') as file:\n",
    "    random_msg2 = email.parser.BytesParser(policy=policy.default).parse(file)"
   ]
  },
  {
   "cell_type": "code",
   "execution_count": 9,
   "metadata": {},
   "outputs": [
    {
     "output_type": "stream",
     "name": "stdout",
     "text": [
      "Message-ID: <17123273.1075857873789.JavaMail.evans@thyme>\nDate: Tue, 5 Sep 2000 04:34:00 -0700 (PDT)\nFrom: kayne.coulter@enron.com\nTo: larry.jester@enron.com, jay.wills@enron.com, cyril.price@enron.com, \n\tjohn.kinser@enron.com, rudy.acevedo@enron.com, \n\trichard.hrabal@enron.com, wayne.herndon@enron.com, \n\tjason.choate@enron.com, juan.hernandez@enron.com, \n\tgreg.trefz@enron.com, miguel.garcia@enron.com, \n\trussell.ballato@enron.com, joe.stepenovitch@enron.com, \n\tjoe.errigo@enron.com, doug.miller@enron.com, \n\tlarry.campbell@enron.com, juan.hernandez@enron.com, \n\tkeller.mayeaux@enron.com, chad.starnes@enron.com, \n\tdean.laurent@enron.com, don.baughman@enron.com, \n\tlawrence.clayton@enron.com\nSubject: NERC Training schedule\nMime-Version: 1.0\nContent-Type: text/plain; charset=us-ascii\nContent-Transfer-Encoding: 7bit\nX-From: Kayne Coulter\nX-To: Larry Jester, Jay Wills, Cyril Price, John Kinser, Rudy Acevedo, Richard\n Hrabal, Wayne Herndon, Jason Choate, Juan Hernandez, Greg Trefz, Miguel\n Garcia, Russell Ballato, Joe Stepenovitch, Joe Errigo, Doug Miller, Larry F\n Campbell, Juan Hernandez, Keller Mayeaux, Chad Starnes, Dean Laurent, Don\n Baughman, Lawrence Clayton\nX-cc: \nX-bcc: \nX-Folder: \\Larry_Campbell_Dec2000\\Notes Folders\\Importantstuff\nX-Origin: Campbell-L\nX-FileName: lcampbel.nsf\n\n---------------------- Forwarded by Kayne Coulter/HOU/ECT on 09/05/2000 11:37 \nAM ---------------------------\n\n\nKeith Comeaux\n09/05/2000 11:03 AM\nTo: mitch.robinson@enron.com, kayne.coulter@enron.com\ncc: Lloyd Will/HOU/ECT@ECT \nSubject: NERC Training schedule\n\nMitch attached you will find the schedule for the NERC training . I will need \nroom 3109 next to the control room for the weeks listed as classroom \ntraining. Kayne and Lloyd please share this schedule with all interested \nparties in your group. I will rely on you to have your people attend the \ntraining as listed or advise me of any problems.\nThanks,\nKeith\n\n  \n\n"
     ]
    }
   ],
   "source": [
    "print(random_msg2)"
   ]
  },
  {
   "cell_type": "code",
   "execution_count": 26,
   "metadata": {},
   "outputs": [
    {
     "output_type": "execute_result",
     "data": {
      "text/plain": [
       "2373"
      ]
     },
     "metadata": {},
     "execution_count": 26
    }
   ],
   "source": [
    "len(pickle.dumps(random_msg2))"
   ]
  },
  {
   "cell_type": "code",
   "execution_count": 12,
   "metadata": {},
   "outputs": [
    {
     "output_type": "stream",
     "name": "stdout",
     "text": [
      "{'Date': 'Tue, 05 Sep 2000 04:34:00 -0700', 'Subject': 'NERC Training schedule', 'To': 'larry.jester@enron.com, jay.wills@enron.com, cyril.price@enron.com, john.kinser@enron.com, rudy.acevedo@enron.com, richard.hrabal@enron.com, wayne.herndon@enron.com, jason.choate@enron.com, juan.hernandez@enron.com, greg.trefz@enron.com, miguel.garcia@enron.com, russell.ballato@enron.com, joe.stepenovitch@enron.com, joe.errigo@enron.com, doug.miller@enron.com, larry.campbell@enron.com, juan.hernandez@enron.com, keller.mayeaux@enron.com, chad.starnes@enron.com, dean.laurent@enron.com, don.baughman@enron.com, lawrence.clayton@enron.com', 'From': 'kayne.coulter@enron.com', 'Cc': None, 'Bcc': None, 'X-To': 'Larry Jester, Jay Wills, Cyril Price, John Kinser, Rudy Acevedo, Richard Hrabal, Wayne Herndon, Jason Choate, Juan Hernandez, Greg Trefz, Miguel Garcia, Russell Ballato, Joe Stepenovitch, Joe Errigo, Doug Miller, Larry F Campbell, Juan Hernandez, Keller Mayeaux, Chad Starnes, Dean Laurent, Don Baughman, Lawrence Clayton', 'X-From': 'Kayne Coulter', 'X-Cc': '', 'X-Bcc': '', 'Body': '---------------------- Forwarded by Kayne Coulter/HOU/ECT on 09/05/2000 11:37 \\nAM ---------------------------\\n\\n\\nKeith Comeaux\\n09/05/2000 11:03 AM\\nTo: mitch.robinson@enron.com, kayne.coulter@enron.com\\ncc: Lloyd Will/HOU/ECT@ECT \\nSubject: NERC Training schedule\\n\\nMitch attached you will find the schedule for the NERC training . I will need \\nroom 3109 next to the control room for the weeks listed as classroom \\ntraining. Kayne and Lloyd please share this schedule with all interested \\nparties in your group. I will rely on you to have your people attend the \\ntraining as listed or advise me of any problems.\\nThanks,\\nKeith\\n\\n  \\n'}\n"
     ]
    }
   ],
   "source": [
    "def parse_message(msg):\n",
    "    return {\n",
    "        'ID': msg['Message-ID'],\n",
    "        'Date': msg['Date'],\n",
    "        'Subject': msg['Subject'],\n",
    "        'To': msg['To'],\n",
    "        'From': msg['From'],\n",
    "        'Cc': msg['Cc'],\n",
    "        'Bcc': msg['Bcc'],\n",
    "        'X-To': msg['X-To'],\n",
    "        'X-From': msg['X-From'],\n",
    "        'X-Cc': msg['X-cc'],\n",
    "        'X-Bcc': msg['X-bcc'],\n",
    "        'Body': extract_msg_body(msg)\n",
    "    }"
   ]
  },
  {
   "cell_type": "code",
   "execution_count": 74,
   "metadata": {},
   "outputs": [],
   "source": [
    "def number_of_words(s):\n",
    "    return len(s.split())"
   ]
  },
  {
   "cell_type": "code",
   "execution_count": 75,
   "metadata": {},
   "outputs": [
    {
     "output_type": "stream",
     "name": "stdout",
     "text": [
      "NERC Training schedule \n ---------------------- Forwarded by Kayne Coulter/HOU/ECT on 09/05/2000 11:37 \nAM ---------------------------\n\n\nKeith Comeaux\n09/05/2000 11:03 AM\nTo: mitch.robinson@enron.com, kayne.coulter@enron.com\ncc: Lloyd Will/HOU/ECT@ECT \nSubject: NERC Training schedule\n\nMitch attached you will find the schedule for the NERC training . I will need \nroom 3109 next to the control room for the weeks listed as classroom \ntraining. Kayne and Lloyd please share this schedule with all interested \nparties in your group. I will rely on you to have your people attend the \ntraining as listed or advise me of any problems.\nThanks,\nKeith\n\n  \n \n 90\n"
     ]
    }
   ],
   "source": [
    "subject = random_msg2['Subject']\n",
    "body = extract_msg_body(random_msg2)\n",
    "print(subject, \"\\n\", body, \"\\n\", number_of_words(body))"
   ]
  },
  {
   "cell_type": "code",
   "execution_count": 65,
   "metadata": {},
   "outputs": [],
   "source": [
    "def query_openai_search(query, documents):\n",
    "    return openai.Engine(\"davinci-msft\").search(query=query, documents=documents)"
   ]
  },
  {
   "cell_type": "code",
   "execution_count": 82,
   "metadata": {},
   "outputs": [
    {
     "output_type": "stream",
     "name": "stdout",
     "text": [
      "CPU times: user 8.97 ms, sys: 2.46 ms, total: 11.4 ms\nWall time: 5.22 s\n"
     ]
    }
   ],
   "source": [
    "%%time\n",
    "result = query_openai_search(query=subject + body, documents=[subject + body for i in range(100)])"
   ]
  },
  {
   "cell_type": "code",
   "execution_count": 79,
   "metadata": {},
   "outputs": [
    {
     "output_type": "execute_result",
     "data": {
      "text/plain": [
       "[<OpenAIObject search_result at 0x7fc74f7b67d8> JSON: {\n",
       "   \"document\": 0,\n",
       "   \"object\": \"search_result\",\n",
       "   \"score\": 301.315\n",
       " }, <OpenAIObject search_result at 0x7fc74f7b64c0> JSON: {\n",
       "   \"document\": 1,\n",
       "   \"object\": \"search_result\",\n",
       "   \"score\": 301.227\n",
       " }, <OpenAIObject search_result at 0x7fc74f7b6728> JSON: {\n",
       "   \"document\": 2,\n",
       "   \"object\": \"search_result\",\n",
       "   \"score\": 301.359\n",
       " }, <OpenAIObject search_result at 0x7fc74f7b6780> JSON: {\n",
       "   \"document\": 3,\n",
       "   \"object\": \"search_result\",\n",
       "   \"score\": 301.19\n",
       " }, <OpenAIObject search_result at 0x7fc74f7b6830> JSON: {\n",
       "   \"document\": 4,\n",
       "   \"object\": \"search_result\",\n",
       "   \"score\": 301.202\n",
       " }, <OpenAIObject search_result at 0x7fc74f7b6888> JSON: {\n",
       "   \"document\": 5,\n",
       "   \"object\": \"search_result\",\n",
       "   \"score\": 301.301\n",
       " }, <OpenAIObject search_result at 0x7fc74f7b6990> JSON: {\n",
       "   \"document\": 6,\n",
       "   \"object\": \"search_result\",\n",
       "   \"score\": 301.335\n",
       " }, <OpenAIObject search_result at 0x7fc74f7b69e8> JSON: {\n",
       "   \"document\": 7,\n",
       "   \"object\": \"search_result\",\n",
       "   \"score\": 301.267\n",
       " }, <OpenAIObject search_result at 0x7fc74f7b6a40> JSON: {\n",
       "   \"document\": 8,\n",
       "   \"object\": \"search_result\",\n",
       "   \"score\": 301.234\n",
       " }, <OpenAIObject search_result at 0x7fc74f7b6a98> JSON: {\n",
       "   \"document\": 9,\n",
       "   \"object\": \"search_result\",\n",
       "   \"score\": 301.319\n",
       " }, <OpenAIObject search_result at 0x7fc74f7b6af0> JSON: {\n",
       "   \"document\": 10,\n",
       "   \"object\": \"search_result\",\n",
       "   \"score\": 301.137\n",
       " }, <OpenAIObject search_result at 0x7fc74f7b6b48> JSON: {\n",
       "   \"document\": 11,\n",
       "   \"object\": \"search_result\",\n",
       "   \"score\": 301.226\n",
       " }, <OpenAIObject search_result at 0x7fc74f7b6ba0> JSON: {\n",
       "   \"document\": 12,\n",
       "   \"object\": \"search_result\",\n",
       "   \"score\": 301.336\n",
       " }, <OpenAIObject search_result at 0x7fc74f7b6bf8> JSON: {\n",
       "   \"document\": 13,\n",
       "   \"object\": \"search_result\",\n",
       "   \"score\": 301.186\n",
       " }, <OpenAIObject search_result at 0x7fc74f7b6c50> JSON: {\n",
       "   \"document\": 14,\n",
       "   \"object\": \"search_result\",\n",
       "   \"score\": 301.177\n",
       " }, <OpenAIObject search_result at 0x7fc74f7b6ca8> JSON: {\n",
       "   \"document\": 15,\n",
       "   \"object\": \"search_result\",\n",
       "   \"score\": 301.268\n",
       " }, <OpenAIObject search_result at 0x7fc74f7b6d00> JSON: {\n",
       "   \"document\": 16,\n",
       "   \"object\": \"search_result\",\n",
       "   \"score\": 301.23\n",
       " }, <OpenAIObject search_result at 0x7fc74f7b6d58> JSON: {\n",
       "   \"document\": 17,\n",
       "   \"object\": \"search_result\",\n",
       "   \"score\": 301.334\n",
       " }, <OpenAIObject search_result at 0x7fc74f7b6db0> JSON: {\n",
       "   \"document\": 18,\n",
       "   \"object\": \"search_result\",\n",
       "   \"score\": 301.127\n",
       " }, <OpenAIObject search_result at 0x7fc74f7b6e08> JSON: {\n",
       "   \"document\": 19,\n",
       "   \"object\": \"search_result\",\n",
       "   \"score\": 301.419\n",
       " }, <OpenAIObject search_result at 0x7fc74f7b6e60> JSON: {\n",
       "   \"document\": 20,\n",
       "   \"object\": \"search_result\",\n",
       "   \"score\": 301.205\n",
       " }, <OpenAIObject search_result at 0x7fc74f7b6eb8> JSON: {\n",
       "   \"document\": 21,\n",
       "   \"object\": \"search_result\",\n",
       "   \"score\": 301.378\n",
       " }, <OpenAIObject search_result at 0x7fc74f7b6f10> JSON: {\n",
       "   \"document\": 22,\n",
       "   \"object\": \"search_result\",\n",
       "   \"score\": 301.186\n",
       " }, <OpenAIObject search_result at 0x7fc74f7b6f68> JSON: {\n",
       "   \"document\": 23,\n",
       "   \"object\": \"search_result\",\n",
       "   \"score\": 301.256\n",
       " }, <OpenAIObject search_result at 0x7fc74f7b6fc0> JSON: {\n",
       "   \"document\": 24,\n",
       "   \"object\": \"search_result\",\n",
       "   \"score\": 301.256\n",
       " }, <OpenAIObject search_result at 0x7fc74fb58048> JSON: {\n",
       "   \"document\": 25,\n",
       "   \"object\": \"search_result\",\n",
       "   \"score\": 301.211\n",
       " }, <OpenAIObject search_result at 0x7fc74fb580a0> JSON: {\n",
       "   \"document\": 26,\n",
       "   \"object\": \"search_result\",\n",
       "   \"score\": 301.288\n",
       " }, <OpenAIObject search_result at 0x7fc74fb580f8> JSON: {\n",
       "   \"document\": 27,\n",
       "   \"object\": \"search_result\",\n",
       "   \"score\": 301.189\n",
       " }, <OpenAIObject search_result at 0x7fc74fb58150> JSON: {\n",
       "   \"document\": 28,\n",
       "   \"object\": \"search_result\",\n",
       "   \"score\": 301.197\n",
       " }, <OpenAIObject search_result at 0x7fc74fb581a8> JSON: {\n",
       "   \"document\": 29,\n",
       "   \"object\": \"search_result\",\n",
       "   \"score\": 301.102\n",
       " }, <OpenAIObject search_result at 0x7fc74fb58200> JSON: {\n",
       "   \"document\": 30,\n",
       "   \"object\": \"search_result\",\n",
       "   \"score\": 301.296\n",
       " }, <OpenAIObject search_result at 0x7fc74fb58258> JSON: {\n",
       "   \"document\": 31,\n",
       "   \"object\": \"search_result\",\n",
       "   \"score\": 301.302\n",
       " }, <OpenAIObject search_result at 0x7fc74fb582b0> JSON: {\n",
       "   \"document\": 32,\n",
       "   \"object\": \"search_result\",\n",
       "   \"score\": 301.149\n",
       " }, <OpenAIObject search_result at 0x7fc74fb58308> JSON: {\n",
       "   \"document\": 33,\n",
       "   \"object\": \"search_result\",\n",
       "   \"score\": 301.354\n",
       " }, <OpenAIObject search_result at 0x7fc74fb58360> JSON: {\n",
       "   \"document\": 34,\n",
       "   \"object\": \"search_result\",\n",
       "   \"score\": 301.334\n",
       " }, <OpenAIObject search_result at 0x7fc74fb583b8> JSON: {\n",
       "   \"document\": 35,\n",
       "   \"object\": \"search_result\",\n",
       "   \"score\": 301.192\n",
       " }, <OpenAIObject search_result at 0x7fc74fb58410> JSON: {\n",
       "   \"document\": 36,\n",
       "   \"object\": \"search_result\",\n",
       "   \"score\": 301.324\n",
       " }, <OpenAIObject search_result at 0x7fc74fb58468> JSON: {\n",
       "   \"document\": 37,\n",
       "   \"object\": \"search_result\",\n",
       "   \"score\": 301.343\n",
       " }, <OpenAIObject search_result at 0x7fc74fb584c0> JSON: {\n",
       "   \"document\": 38,\n",
       "   \"object\": \"search_result\",\n",
       "   \"score\": 301.348\n",
       " }, <OpenAIObject search_result at 0x7fc74fb58518> JSON: {\n",
       "   \"document\": 39,\n",
       "   \"object\": \"search_result\",\n",
       "   \"score\": 301.3\n",
       " }, <OpenAIObject search_result at 0x7fc74fb58570> JSON: {\n",
       "   \"document\": 40,\n",
       "   \"object\": \"search_result\",\n",
       "   \"score\": 301.205\n",
       " }, <OpenAIObject search_result at 0x7fc74fb585c8> JSON: {\n",
       "   \"document\": 41,\n",
       "   \"object\": \"search_result\",\n",
       "   \"score\": 301.226\n",
       " }, <OpenAIObject search_result at 0x7fc74fb58620> JSON: {\n",
       "   \"document\": 42,\n",
       "   \"object\": \"search_result\",\n",
       "   \"score\": 301.301\n",
       " }, <OpenAIObject search_result at 0x7fc74fb58678> JSON: {\n",
       "   \"document\": 43,\n",
       "   \"object\": \"search_result\",\n",
       "   \"score\": 301.331\n",
       " }, <OpenAIObject search_result at 0x7fc74fb586d0> JSON: {\n",
       "   \"document\": 44,\n",
       "   \"object\": \"search_result\",\n",
       "   \"score\": 301.2\n",
       " }, <OpenAIObject search_result at 0x7fc74fb58728> JSON: {\n",
       "   \"document\": 45,\n",
       "   \"object\": \"search_result\",\n",
       "   \"score\": 301.21\n",
       " }, <OpenAIObject search_result at 0x7fc74fb58780> JSON: {\n",
       "   \"document\": 46,\n",
       "   \"object\": \"search_result\",\n",
       "   \"score\": 301.268\n",
       " }, <OpenAIObject search_result at 0x7fc74fb587d8> JSON: {\n",
       "   \"document\": 47,\n",
       "   \"object\": \"search_result\",\n",
       "   \"score\": 301.273\n",
       " }, <OpenAIObject search_result at 0x7fc74fb58830> JSON: {\n",
       "   \"document\": 48,\n",
       "   \"object\": \"search_result\",\n",
       "   \"score\": 301.28\n",
       " }, <OpenAIObject search_result at 0x7fc74fb58888> JSON: {\n",
       "   \"document\": 49,\n",
       "   \"object\": \"search_result\",\n",
       "   \"score\": 301.256\n",
       " }, <OpenAIObject search_result at 0x7fc74fb588e0> JSON: {\n",
       "   \"document\": 50,\n",
       "   \"object\": \"search_result\",\n",
       "   \"score\": 301.105\n",
       " }, <OpenAIObject search_result at 0x7fc74fb58938> JSON: {\n",
       "   \"document\": 51,\n",
       "   \"object\": \"search_result\",\n",
       "   \"score\": 301.365\n",
       " }, <OpenAIObject search_result at 0x7fc74fb58990> JSON: {\n",
       "   \"document\": 52,\n",
       "   \"object\": \"search_result\",\n",
       "   \"score\": 301.254\n",
       " }, <OpenAIObject search_result at 0x7fc74fb589e8> JSON: {\n",
       "   \"document\": 53,\n",
       "   \"object\": \"search_result\",\n",
       "   \"score\": 301.041\n",
       " }, <OpenAIObject search_result at 0x7fc74fb58a40> JSON: {\n",
       "   \"document\": 54,\n",
       "   \"object\": \"search_result\",\n",
       "   \"score\": 301.249\n",
       " }, <OpenAIObject search_result at 0x7fc74fb58a98> JSON: {\n",
       "   \"document\": 55,\n",
       "   \"object\": \"search_result\",\n",
       "   \"score\": 301.255\n",
       " }, <OpenAIObject search_result at 0x7fc74fb58af0> JSON: {\n",
       "   \"document\": 56,\n",
       "   \"object\": \"search_result\",\n",
       "   \"score\": 301.126\n",
       " }, <OpenAIObject search_result at 0x7fc74fb58b48> JSON: {\n",
       "   \"document\": 57,\n",
       "   \"object\": \"search_result\",\n",
       "   \"score\": 301.3\n",
       " }, <OpenAIObject search_result at 0x7fc74fb58ba0> JSON: {\n",
       "   \"document\": 58,\n",
       "   \"object\": \"search_result\",\n",
       "   \"score\": 301.126\n",
       " }, <OpenAIObject search_result at 0x7fc74fb58bf8> JSON: {\n",
       "   \"document\": 59,\n",
       "   \"object\": \"search_result\",\n",
       "   \"score\": 301.443\n",
       " }, <OpenAIObject search_result at 0x7fc74fb58c50> JSON: {\n",
       "   \"document\": 60,\n",
       "   \"object\": \"search_result\",\n",
       "   \"score\": 301.292\n",
       " }, <OpenAIObject search_result at 0x7fc74fb58ca8> JSON: {\n",
       "   \"document\": 61,\n",
       "   \"object\": \"search_result\",\n",
       "   \"score\": 301.183\n",
       " }, <OpenAIObject search_result at 0x7fc74fb58d00> JSON: {\n",
       "   \"document\": 62,\n",
       "   \"object\": \"search_result\",\n",
       "   \"score\": 301.327\n",
       " }, <OpenAIObject search_result at 0x7fc74f20bba0> JSON: {\n",
       "   \"document\": 63,\n",
       "   \"object\": \"search_result\",\n",
       "   \"score\": 301.301\n",
       " }, <OpenAIObject search_result at 0x7fc74f681a98> JSON: {\n",
       "   \"document\": 64,\n",
       "   \"object\": \"search_result\",\n",
       "   \"score\": 301.287\n",
       " }, <OpenAIObject search_result at 0x7fc74f7b6570> JSON: {\n",
       "   \"document\": 65,\n",
       "   \"object\": \"search_result\",\n",
       "   \"score\": 301.343\n",
       " }, <OpenAIObject search_result at 0x7fc74f7b6468> JSON: {\n",
       "   \"document\": 66,\n",
       "   \"object\": \"search_result\",\n",
       "   \"score\": 301.24\n",
       " }, <OpenAIObject search_result at 0x7fc74f7b6678> JSON: {\n",
       "   \"document\": 67,\n",
       "   \"object\": \"search_result\",\n",
       "   \"score\": 301.289\n",
       " }, <OpenAIObject search_result at 0x7fc74fb58d58> JSON: {\n",
       "   \"document\": 68,\n",
       "   \"object\": \"search_result\",\n",
       "   \"score\": 301.287\n",
       " }, <OpenAIObject search_result at 0x7fc74fb58db0> JSON: {\n",
       "   \"document\": 69,\n",
       "   \"object\": \"search_result\",\n",
       "   \"score\": 301.221\n",
       " }, <OpenAIObject search_result at 0x7fc74fb58e08> JSON: {\n",
       "   \"document\": 70,\n",
       "   \"object\": \"search_result\",\n",
       "   \"score\": 301.126\n",
       " }, <OpenAIObject search_result at 0x7fc74fb58e60> JSON: {\n",
       "   \"document\": 71,\n",
       "   \"object\": \"search_result\",\n",
       "   \"score\": 301.212\n",
       " }, <OpenAIObject search_result at 0x7fc74fb58eb8> JSON: {\n",
       "   \"document\": 72,\n",
       "   \"object\": \"search_result\",\n",
       "   \"score\": 301.287\n",
       " }, <OpenAIObject search_result at 0x7fc74fb58f10> JSON: {\n",
       "   \"document\": 73,\n",
       "   \"object\": \"search_result\",\n",
       "   \"score\": 301.25\n",
       " }, <OpenAIObject search_result at 0x7fc74fb58f68> JSON: {\n",
       "   \"document\": 74,\n",
       "   \"object\": \"search_result\",\n",
       "   \"score\": 301.282\n",
       " }, <OpenAIObject search_result at 0x7fc74fb58fc0> JSON: {\n",
       "   \"document\": 75,\n",
       "   \"object\": \"search_result\",\n",
       "   \"score\": 301.249\n",
       " }, <OpenAIObject search_result at 0x7fc74fac6048> JSON: {\n",
       "   \"document\": 76,\n",
       "   \"object\": \"search_result\",\n",
       "   \"score\": 301.278\n",
       " }, <OpenAIObject search_result at 0x7fc74fac60a0> JSON: {\n",
       "   \"document\": 77,\n",
       "   \"object\": \"search_result\",\n",
       "   \"score\": 301.231\n",
       " }, <OpenAIObject search_result at 0x7fc74fac60f8> JSON: {\n",
       "   \"document\": 78,\n",
       "   \"object\": \"search_result\",\n",
       "   \"score\": 301.253\n",
       " }, <OpenAIObject search_result at 0x7fc74fac6150> JSON: {\n",
       "   \"document\": 79,\n",
       "   \"object\": \"search_result\",\n",
       "   \"score\": 301.325\n",
       " }, <OpenAIObject search_result at 0x7fc74fac61a8> JSON: {\n",
       "   \"document\": 80,\n",
       "   \"object\": \"search_result\",\n",
       "   \"score\": 301.243\n",
       " }, <OpenAIObject search_result at 0x7fc74fac6200> JSON: {\n",
       "   \"document\": 81,\n",
       "   \"object\": \"search_result\",\n",
       "   \"score\": 301.277\n",
       " }, <OpenAIObject search_result at 0x7fc74fac6258> JSON: {\n",
       "   \"document\": 82,\n",
       "   \"object\": \"search_result\",\n",
       "   \"score\": 301.174\n",
       " }, <OpenAIObject search_result at 0x7fc74fac62b0> JSON: {\n",
       "   \"document\": 83,\n",
       "   \"object\": \"search_result\",\n",
       "   \"score\": 301.211\n",
       " }, <OpenAIObject search_result at 0x7fc74fac6308> JSON: {\n",
       "   \"document\": 84,\n",
       "   \"object\": \"search_result\",\n",
       "   \"score\": 301.182\n",
       " }, <OpenAIObject search_result at 0x7fc74fac6360> JSON: {\n",
       "   \"document\": 85,\n",
       "   \"object\": \"search_result\",\n",
       "   \"score\": 301.213\n",
       " }, <OpenAIObject search_result at 0x7fc74fac63b8> JSON: {\n",
       "   \"document\": 86,\n",
       "   \"object\": \"search_result\",\n",
       "   \"score\": 301.234\n",
       " }, <OpenAIObject search_result at 0x7fc74fac6410> JSON: {\n",
       "   \"document\": 87,\n",
       "   \"object\": \"search_result\",\n",
       "   \"score\": 301.192\n",
       " }, <OpenAIObject search_result at 0x7fc74fac6468> JSON: {\n",
       "   \"document\": 88,\n",
       "   \"object\": \"search_result\",\n",
       "   \"score\": 301.249\n",
       " }, <OpenAIObject search_result at 0x7fc74fac64c0> JSON: {\n",
       "   \"document\": 89,\n",
       "   \"object\": \"search_result\",\n",
       "   \"score\": 301.205\n",
       " }, <OpenAIObject search_result at 0x7fc74fac6518> JSON: {\n",
       "   \"document\": 90,\n",
       "   \"object\": \"search_result\",\n",
       "   \"score\": 301.243\n",
       " }, <OpenAIObject search_result at 0x7fc74fac6570> JSON: {\n",
       "   \"document\": 91,\n",
       "   \"object\": \"search_result\",\n",
       "   \"score\": 301.212\n",
       " }, <OpenAIObject search_result at 0x7fc74fac65c8> JSON: {\n",
       "   \"document\": 92,\n",
       "   \"object\": \"search_result\",\n",
       "   \"score\": 301.221\n",
       " }, <OpenAIObject search_result at 0x7fc74fac6620> JSON: {\n",
       "   \"document\": 93,\n",
       "   \"object\": \"search_result\",\n",
       "   \"score\": 301.197\n",
       " }, <OpenAIObject search_result at 0x7fc74fac6678> JSON: {\n",
       "   \"document\": 94,\n",
       "   \"object\": \"search_result\",\n",
       "   \"score\": 301.249\n",
       " }, <OpenAIObject search_result at 0x7fc74fac66d0> JSON: {\n",
       "   \"document\": 95,\n",
       "   \"object\": \"search_result\",\n",
       "   \"score\": 301.283\n",
       " }, <OpenAIObject search_result at 0x7fc74fac6728> JSON: {\n",
       "   \"document\": 96,\n",
       "   \"object\": \"search_result\",\n",
       "   \"score\": 301.215\n",
       " }, <OpenAIObject search_result at 0x7fc74fac6780> JSON: {\n",
       "   \"document\": 97,\n",
       "   \"object\": \"search_result\",\n",
       "   \"score\": 301.112\n",
       " }, <OpenAIObject search_result at 0x7fc74fac67d8> JSON: {\n",
       "   \"document\": 98,\n",
       "   \"object\": \"search_result\",\n",
       "   \"score\": 301.194\n",
       " }, <OpenAIObject search_result at 0x7fc74fac6830> JSON: {\n",
       "   \"document\": 99,\n",
       "   \"object\": \"search_result\",\n",
       "   \"score\": 301.26\n",
       " }]"
      ]
     },
     "metadata": {},
     "execution_count": 79
    }
   ],
   "source": [
    "result.data"
   ]
  },
  {
   "cell_type": "code",
   "execution_count": null,
   "metadata": {},
   "outputs": [],
   "source": []
  }
 ]
}