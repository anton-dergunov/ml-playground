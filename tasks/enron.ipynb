{
 "metadata": {
  "language_info": {
   "codemirror_mode": {
    "name": "ipython",
    "version": 3
   },
   "file_extension": ".py",
   "mimetype": "text/x-python",
   "name": "python",
   "nbconvert_exporter": "python",
   "pygments_lexer": "ipython3",
   "version": "3.7.3"
  },
  "orig_nbformat": 2,
  "kernelspec": {
   "name": "python3",
   "display_name": "Python 3.7.3 64-bit ('base': conda)"
  },
  "interpreter": {
   "hash": "f358aaac028402b253f44e245e95f70ab31f76a023495906a2997df9473e7445"
  }
 },
 "nbformat": 4,
 "nbformat_minor": 2,
 "cells": [
  {
   "cell_type": "markdown",
   "source": [
    "# Finding emails relevant to meetings in Enron dataset\n",
    "\n",
    "Plan:\n",
    "\n",
    "1. Read Enron dataset\n",
    "    - Read raw messages, parse them and convert into easily accessible format\n",
    "    - Split meetings and emails\n",
    "    - Exploratory data analysis\n",
    "2. L1 ranking: find candidate emails (up to 200) to each meeting\n",
    "    - Build document frequency for each word in email\n",
    "    - Build text query for each meeting (up to 5 most important words from subject + body)\n",
    "    - Filter emails by text query or by people intersection\n",
    "    - Replicate same idea using PyTerrier\n",
    "3. L2 ranking: rank candidate emails using OpenAI GPT-3\n",
    "    - Send data to OpenAI GPT-3 for evaluation\n",
    "\n",
    "Stretch goals:\n",
    "\n",
    "- Process data using PySpark\n"
   ],
   "metadata": {}
  },
  {
   "cell_type": "code",
   "execution_count": 2,
   "source": [
    "import email\n",
    "from email import policy\n",
    "import bs4\n",
    "import pickle\n",
    "import openai\n",
    "import spacy\n",
    "import pandas as pd\n",
    "import numpy as np\n",
    "from tqdm.notebook import tqdm\n",
    "from collections import Counter, defaultdict\n",
    "import json\n",
    "import os\n",
    "import re"
   ],
   "outputs": [],
   "metadata": {}
  },
  {
   "cell_type": "code",
   "execution_count": 2,
   "source": [
    "# Create new `pandas` methods which use `tqdm` progress\n",
    "# https://stackoverflow.com/questions/18603270/progress-indicator-during-pandas-operations\n",
    "# https://pypi.org/project/tqdm/#pandas-integration\n",
    "tqdm.pandas()"
   ],
   "outputs": [],
   "metadata": {}
  },
  {
   "cell_type": "code",
   "execution_count": 36,
   "source": [
    "!python -m spacy download en_core_web_sm"
   ],
   "outputs": [
    {
     "output_type": "stream",
     "name": "stdout",
     "text": [
      "Collecting en-core-web-sm==3.0.0\n",
      "  Using cached https://github.com/explosion/spacy-models/releases/download/en_core_web_sm-3.0.0/en_core_web_sm-3.0.0-py3-none-any.whl (13.7 MB)\n",
      "Requirement already satisfied: spacy<3.1.0,>=3.0.0 in /Users/anton/anaconda3/lib/python3.7/site-packages (from en-core-web-sm==3.0.0) (3.0.5)\n",
      "Requirement already satisfied: pathy>=0.3.5 in /Users/anton/anaconda3/lib/python3.7/site-packages (from spacy<3.1.0,>=3.0.0->en-core-web-sm==3.0.0) (0.4.0)\n",
      "Requirement already satisfied: typing-extensions<4.0.0.0,>=3.7.4 in /Users/anton/anaconda3/lib/python3.7/site-packages (from spacy<3.1.0,>=3.0.0->en-core-web-sm==3.0.0) (3.7.4.3)\n",
      "Requirement already satisfied: preshed<3.1.0,>=3.0.2 in /Users/anton/anaconda3/lib/python3.7/site-packages (from spacy<3.1.0,>=3.0.0->en-core-web-sm==3.0.0) (3.0.5)\n",
      "Requirement already satisfied: thinc<8.1.0,>=8.0.2 in /Users/anton/anaconda3/lib/python3.7/site-packages (from spacy<3.1.0,>=3.0.0->en-core-web-sm==3.0.0) (8.0.2)\n",
      "Requirement already satisfied: murmurhash<1.1.0,>=0.28.0 in /Users/anton/anaconda3/lib/python3.7/site-packages (from spacy<3.1.0,>=3.0.0->en-core-web-sm==3.0.0) (1.0.5)\n",
      "Requirement already satisfied: pydantic<1.8.0,>=1.7.1 in /Users/anton/anaconda3/lib/python3.7/site-packages (from spacy<3.1.0,>=3.0.0->en-core-web-sm==3.0.0) (1.7.3)\n",
      "Requirement already satisfied: spacy-legacy<3.1.0,>=3.0.0 in /Users/anton/anaconda3/lib/python3.7/site-packages (from spacy<3.1.0,>=3.0.0->en-core-web-sm==3.0.0) (3.0.2)\n",
      "Requirement already satisfied: srsly<3.0.0,>=2.4.0 in /Users/anton/anaconda3/lib/python3.7/site-packages (from spacy<3.1.0,>=3.0.0->en-core-web-sm==3.0.0) (2.4.0)\n",
      "Requirement already satisfied: catalogue<2.1.0,>=2.0.1 in /Users/anton/anaconda3/lib/python3.7/site-packages (from spacy<3.1.0,>=3.0.0->en-core-web-sm==3.0.0) (2.0.1)\n",
      "Requirement already satisfied: requests<3.0.0,>=2.13.0 in /Users/anton/anaconda3/lib/python3.7/site-packages (from spacy<3.1.0,>=3.0.0->en-core-web-sm==3.0.0) (2.25.1)\n",
      "Requirement already satisfied: importlib-metadata>=0.20 in /Users/anton/anaconda3/lib/python3.7/site-packages (from spacy<3.1.0,>=3.0.0->en-core-web-sm==3.0.0) (3.10.0)\n",
      "Requirement already satisfied: tqdm<5.0.0,>=4.38.0 in /Users/anton/anaconda3/lib/python3.7/site-packages (from spacy<3.1.0,>=3.0.0->en-core-web-sm==3.0.0) (4.59.0)\n",
      "Requirement already satisfied: blis<0.8.0,>=0.4.0 in /Users/anton/anaconda3/lib/python3.7/site-packages (from spacy<3.1.0,>=3.0.0->en-core-web-sm==3.0.0) (0.7.4)\n",
      "Requirement already satisfied: jinja2 in /Users/anton/anaconda3/lib/python3.7/site-packages (from spacy<3.1.0,>=3.0.0->en-core-web-sm==3.0.0) (2.11.3)\n",
      "Requirement already satisfied: wasabi<1.1.0,>=0.8.1 in /Users/anton/anaconda3/lib/python3.7/site-packages (from spacy<3.1.0,>=3.0.0->en-core-web-sm==3.0.0) (0.8.2)\n",
      "Requirement already satisfied: numpy>=1.15.0 in /Users/anton/anaconda3/lib/python3.7/site-packages (from spacy<3.1.0,>=3.0.0->en-core-web-sm==3.0.0) (1.19.5)\n",
      "Requirement already satisfied: cymem<2.1.0,>=2.0.2 in /Users/anton/anaconda3/lib/python3.7/site-packages (from spacy<3.1.0,>=3.0.0->en-core-web-sm==3.0.0) (2.0.5)\n",
      "Requirement already satisfied: setuptools in /Users/anton/anaconda3/lib/python3.7/site-packages (from spacy<3.1.0,>=3.0.0->en-core-web-sm==3.0.0) (54.2.0)\n",
      "Requirement already satisfied: packaging>=20.0 in /Users/anton/anaconda3/lib/python3.7/site-packages (from spacy<3.1.0,>=3.0.0->en-core-web-sm==3.0.0) (20.9)\n",
      "Requirement already satisfied: typer<0.4.0,>=0.3.0 in /Users/anton/anaconda3/lib/python3.7/site-packages (from spacy<3.1.0,>=3.0.0->en-core-web-sm==3.0.0) (0.3.2)\n",
      "Requirement already satisfied: zipp>=0.5 in /Users/anton/anaconda3/lib/python3.7/site-packages (from importlib-metadata>=0.20->spacy<3.1.0,>=3.0.0->en-core-web-sm==3.0.0) (3.4.1)\n",
      "Requirement already satisfied: pyparsing>=2.0.2 in /Users/anton/anaconda3/lib/python3.7/site-packages (from packaging>=20.0->spacy<3.1.0,>=3.0.0->en-core-web-sm==3.0.0) (2.4.7)\n",
      "Requirement already satisfied: smart-open<4.0.0,>=2.2.0 in /Users/anton/anaconda3/lib/python3.7/site-packages (from pathy>=0.3.5->spacy<3.1.0,>=3.0.0->en-core-web-sm==3.0.0) (3.0.0)\n",
      "Requirement already satisfied: urllib3<1.27,>=1.21.1 in /Users/anton/anaconda3/lib/python3.7/site-packages (from requests<3.0.0,>=2.13.0->spacy<3.1.0,>=3.0.0->en-core-web-sm==3.0.0) (1.26.4)\n",
      "Requirement already satisfied: certifi>=2017.4.17 in /Users/anton/anaconda3/lib/python3.7/site-packages (from requests<3.0.0,>=2.13.0->spacy<3.1.0,>=3.0.0->en-core-web-sm==3.0.0) (2020.12.5)\n",
      "Requirement already satisfied: chardet<5,>=3.0.2 in /Users/anton/anaconda3/lib/python3.7/site-packages (from requests<3.0.0,>=2.13.0->spacy<3.1.0,>=3.0.0->en-core-web-sm==3.0.0) (4.0.0)\n",
      "Requirement already satisfied: idna<3,>=2.5 in /Users/anton/anaconda3/lib/python3.7/site-packages (from requests<3.0.0,>=2.13.0->spacy<3.1.0,>=3.0.0->en-core-web-sm==3.0.0) (2.10)\n",
      "Requirement already satisfied: click<7.2.0,>=7.1.1 in /Users/anton/anaconda3/lib/python3.7/site-packages (from typer<0.4.0,>=0.3.0->spacy<3.1.0,>=3.0.0->en-core-web-sm==3.0.0) (7.1.2)\n",
      "Requirement already satisfied: MarkupSafe>=0.23 in /Users/anton/anaconda3/lib/python3.7/site-packages (from jinja2->spacy<3.1.0,>=3.0.0->en-core-web-sm==3.0.0) (1.1.1)\n",
      "\u001b[38;5;2m✔ Download and installation successful\u001b[0m\n",
      "You can now load the package via spacy.load('en_core_web_sm')\n"
     ]
    }
   ],
   "metadata": {}
  },
  {
   "cell_type": "code",
   "execution_count": 2,
   "source": [
    "import pyterrier as pt\n",
    "if not pt.started():\n",
    "    pt.init()"
   ],
   "outputs": [
    {
     "output_type": "stream",
     "name": "stdout",
     "text": [
      "PyTerrier 0.5.0 has loaded Terrier 5.4 (built by craigm on 2021-01-16 14:17)\n"
     ]
    }
   ],
   "metadata": {}
  },
  {
   "cell_type": "markdown",
   "source": [
    "## 0. Helper functions\n",
    "\n",
    "Tokenization references:\n",
    "\n",
    "- https://towardsdatascience.com/benchmarking-python-nlp-tokenizers-3ac4735100c5\n",
    "- https://stackoverflow.com/questions/48691087/which-is-the-fastest-tokenization-function-in-python-3\n",
    "- https://realpython.com/natural-language-processing-spacy-python/"
   ],
   "metadata": {}
  },
  {
   "cell_type": "code",
   "execution_count": 3,
   "source": [
    "sample_text = \"John:\\n?\\nI'm not really sure what happened between us.? I was  under the impression \\nafter my visit to Houston that we were about to enter into  a trial agreement \\nfor my advisory work.? Somehow,?this never  occurred.? Did I say or do \\nsomething wrong to screw this  up???\\n?\\nI don't know if you've blown this whole thing off, but I still  hope you are \\ninterested in trying?to create an arrangement.? As a  courtesy, here is my \\nreport from this past weekend.? If you are no longer  interested in my work, \\nplease tell me so.??Best wishes,\\n?\\nMark Sagel\\nPsytech Analytics\\n(410)308-0245? \\n - energy2000-1112.doc\""
   ],
   "outputs": [],
   "metadata": {}
  },
  {
   "cell_type": "code",
   "execution_count": 4,
   "source": [
    "nlp = spacy.load(\"en_core_web_sm\")\n",
    "def tokenize_spacy(text):\n",
    "    doc = nlp(text)\n",
    "    return [token.lemma_ for token in doc]"
   ],
   "outputs": [],
   "metadata": {}
  },
  {
   "cell_type": "code",
   "execution_count": 5,
   "source": [
    "\" \".join(tokenize_spacy(sample_text))"
   ],
   "outputs": [
    {
     "output_type": "execute_result",
     "data": {
      "text/plain": [
       "\"John : \\n ? \\n I be not really sure what happen between we . ? I be   under the impression \\n after my visit to Houston that we be about to enter into   a trial agreement \\n for my advisory work . ? somehow,?this never   occur . ? do I say or do \\n something wrong to screw this   up ? ? ? \\n ? \\n I do n't know if you 've blow this whole thing off , but I still   hope you be \\n interested in trying?to create an arrangement . ? as a   courtesy , here be my \\n report from this past weekend . ? if you be no long   interested in my work , \\n please tell I so.??Best wish , \\n ? \\n Mark Sagel \\n Psytech Analytics \\n ( 410)308 - 0245 ? \\n  - energy2000-1112.doc\""
      ]
     },
     "metadata": {},
     "execution_count": 5
    }
   ],
   "metadata": {}
  },
  {
   "cell_type": "code",
   "execution_count": 6,
   "source": [
    "t_spacy = %timeit -o tokenize_spacy(sample_text)"
   ],
   "outputs": [
    {
     "output_type": "stream",
     "name": "stdout",
     "text": [
      "33.8 ms ± 1.11 ms per loop (mean ± std. dev. of 7 runs, 10 loops each)\n"
     ]
    }
   ],
   "metadata": {
    "tags": []
   }
  },
  {
   "cell_type": "code",
   "execution_count": 7,
   "source": [
    "print(f\"tokenize_spacy could take about {(500_000 * t_spacy.average / 60 / 60):.2f} hours\")"
   ],
   "outputs": [
    {
     "output_type": "stream",
     "name": "stdout",
     "text": [
      "tokenize_spacy could take about 4.70 hours\n"
     ]
    }
   ],
   "metadata": {}
  },
  {
   "cell_type": "code",
   "execution_count": 8,
   "source": [
    "WORD = re.compile(r'\\w+')\n",
    "def tokenize_regexp(text):\n",
    "    return WORD.findall(text)"
   ],
   "outputs": [],
   "metadata": {}
  },
  {
   "cell_type": "code",
   "execution_count": 9,
   "source": [
    "\" \".join(tokenize_regexp(sample_text))"
   ],
   "outputs": [
    {
     "output_type": "execute_result",
     "data": {
      "text/plain": [
       "'John I m not really sure what happened between us I was under the impression after my visit to Houston that we were about to enter into a trial agreement for my advisory work Somehow this never occurred Did I say or do something wrong to screw this up I don t know if you ve blown this whole thing off but I still hope you are interested in trying to create an arrangement As a courtesy here is my report from this past weekend If you are no longer interested in my work please tell me so Best wishes Mark Sagel Psytech Analytics 410 308 0245 energy2000 1112 doc'"
      ]
     },
     "metadata": {},
     "execution_count": 9
    }
   ],
   "metadata": {}
  },
  {
   "cell_type": "code",
   "execution_count": 10,
   "source": [
    "t_regexp = %timeit -o tokenize_regexp(sample_text)"
   ],
   "outputs": [
    {
     "output_type": "stream",
     "name": "stdout",
     "text": [
      "40.5 µs ± 490 ns per loop (mean ± std. dev. of 7 runs, 10000 loops each)\n"
     ]
    }
   ],
   "metadata": {}
  },
  {
   "cell_type": "code",
   "execution_count": 11,
   "source": [
    "print(f\"tokenize_regexp could take about {(500_000 * t_regexp.average / 60 / 60):.2f} hours\")"
   ],
   "outputs": [
    {
     "output_type": "stream",
     "name": "stdout",
     "text": [
      "tokenize_regexp could take about 0.01 hours\n"
     ]
    }
   ],
   "metadata": {}
  },
  {
   "cell_type": "code",
   "execution_count": 12,
   "source": [
    "# Choosing regexp tokenization for this moment, since it is faster\n",
    "tokenize = tokenize_regexp"
   ],
   "outputs": [],
   "metadata": {}
  },
  {
   "cell_type": "markdown",
   "source": [
    "## 1. Read Enron dataset"
   ],
   "metadata": {}
  },
  {
   "cell_type": "code",
   "execution_count": 14,
   "source": [
    "def extract_msg_body(msg):\n",
    "    body = msg.get_body()\n",
    "    if not body['content-type']:\n",
    "        return body.get_content()\n",
    "    if body['content-type'].maintype == 'text':\n",
    "        if body['content-type'].subtype == 'plain':\n",
    "            return body.get_content()\n",
    "        elif body['content-type'].subtype == 'html':\n",
    "            content = DOCTYPE_REGEX.sub(\"\", body.get_content())\n",
    "            soup = bs4.BeautifulSoup(content, 'lxml')\n",
    "            [s.extract() for s in soup(['style', 'script', '[document]', 'head', 'title'])]\n",
    "            return soup.get_text()\n",
    "    return \"\"\n",
    "\n",
    "def parse_message(msg):\n",
    "    return {\n",
    "        'ID': msg['Message-ID'],\n",
    "        'Date': msg['Date'],\n",
    "        'Subject': msg['Subject'],\n",
    "        'To': msg['To'],\n",
    "        'From': msg['From'],\n",
    "        'Cc': msg['Cc'],\n",
    "        'Bcc': msg['Bcc'],\n",
    "        'X-To': msg['X-To'],\n",
    "        'X-From': msg['X-From'],\n",
    "        'X-Cc': msg['X-cc'],\n",
    "        'X-Bcc': msg['X-bcc'],\n",
    "        'Body': extract_msg_body(msg)\n",
    "    }"
   ],
   "outputs": [],
   "metadata": {}
  },
  {
   "cell_type": "code",
   "execution_count": 15,
   "source": [
    "enron_input_path = r\"/Users/anton/Downloads/maildir\"\n",
    "enron_processed_path = r\"/Users/anton/datasets/enron.jsonl\""
   ],
   "outputs": [],
   "metadata": {}
  },
  {
   "cell_type": "code",
   "execution_count": 16,
   "source": [
    "def preprocess_enron_data():\n",
    "    print(\"Counting number of messages in Enron dataset...\")\n",
    "    msg_count = sum([len(files) for _, _, files in os.walk(enron_input_path)])\n",
    "    print(\"Found {} messages\".format(msg_count))\n",
    "\n",
    "    print(\"Reading messages in Enron dataset...\")\n",
    "    with open(enron_processed_path, \"w\", encoding=\"utf-8\") as output_file:\n",
    "        with tqdm(total=msg_count) as pbar:\n",
    "            for root, _, files in os.walk(enron_input_path):\n",
    "                rel_dir = os.path.relpath(root, enron_input_path)\n",
    "                pbar.set_description(f'Processing \"{rel_dir}\"')\n",
    "                for file_name in files:\n",
    "                    rel_file = os.path.join(rel_dir, file_name)\n",
    "\n",
    "                    with open(os.path.join(enron_input_path, rel_file), 'rb') as f:\n",
    "                        try:\n",
    "                            msg = email.parser.BytesParser(policy=policy.default).parse(f)\n",
    "                            parsed_msg = parse_message(msg)\n",
    "                        except Exception as e:\n",
    "                            pbar.write(f'Ignoring {rel_file}, parsing failed with exception: {e}')\n",
    "\n",
    "                        if not parsed_msg['ID']:\n",
    "                            pbar.write(f'Ignoring {rel_file}, does not look like proper a message')\n",
    "                        else:\n",
    "                            parsed_msg['File'] = rel_file\n",
    "                            output_file.write(json.dumps(parsed_msg) + \"\\n\")\n",
    "\n",
    "                    pbar.update(1)\n",
    "    print(\"Done\")"
   ],
   "outputs": [],
   "metadata": {}
  },
  {
   "cell_type": "code",
   "execution_count": 28,
   "source": [
    "preprocess_enron_data()"
   ],
   "outputs": [
    {
     "output_type": "stream",
     "name": "stdout",
     "text": [
      "Counting number of messages in Enron dataset...\n",
      "Found 517404 messages\n",
      "Reading messages in Enron dataset...\n"
     ]
    },
    {
     "output_type": "display_data",
     "data": {
      "application/vnd.jupyter.widget-view+json": {
       "version_major": 2,
       "version_minor": 0,
       "model_id": "6933d909eec746118baa098eaaa62051"
      },
      "text/plain": [
       "  0%|          | 0/517404 [00:00<?, ?it/s]"
      ]
     },
     "metadata": {}
    },
    {
     "output_type": "stream",
     "name": "stdout",
     "text": [
      "Ignoring ./.DS_Store, does not look like proper a message\n",
      "Ignoring kitchen-l/sent_items/24., parsing failed with exception: 'ValueTerminal' object does not support item assignment\n",
      "Ignoring kitchen-l/sent_items/29., parsing failed with exception: 'ValueTerminal' object does not support item assignment\n",
      "Ignoring kitchen-l/sent_items/20., parsing failed with exception: 'ValueTerminal' object does not support item assignment\n",
      "Ignoring kitchen-l/_americas/netco_eol/83., parsing failed with exception: 'ValueTerminal' object does not support item assignment\n",
      "Ignoring kitchen-l/_americas/netco_eol/82., parsing failed with exception: 'ValueTerminal' object does not support item assignment\n",
      "Ignoring kitchen-l/_americas/netco_eol/1., parsing failed with exception: 'ValueTerminal' object does not support item assignment\n",
      "Ignoring kitchen-l/_americas/esvl/87., parsing failed with exception: 'ValueTerminal' object does not support item assignment\n",
      "Ignoring kitchen-l/_americas/netco_restart/3., parsing failed with exception: 'ValueTerminal' object does not support item assignment\n",
      "Ignoring kitchen-l/_americas/netco_restart/4., parsing failed with exception: 'ValueTerminal' object does not support item assignment\n",
      "Ignoring kitchen-l/_americas/netco_restart/7., parsing failed with exception: 'ValueTerminal' object does not support item assignment\n",
      "Ignoring kitchen-l/_americas/netco_restart/5., parsing failed with exception: 'ValueTerminal' object does not support item assignment\n",
      "Ignoring kitchen-l/_americas/netco_restart/2., parsing failed with exception: 'ValueTerminal' object does not support item assignment\n",
      "Ignoring campbell-l/.DS_Store, does not look like proper a message\n",
      "Ignoring campbell-l/et/.DS_Store, does not look like proper a message\n",
      "Done\n"
     ]
    }
   ],
   "metadata": {}
  },
  {
   "cell_type": "code",
   "execution_count": 30,
   "source": [
    "df = pd.read_json(enron_processed_path, lines=True)\n",
    "df.to_parquet(r\"/Users/anton/datasets/enron.parquet\")"
   ],
   "outputs": [],
   "metadata": {}
  },
  {
   "cell_type": "code",
   "execution_count": 13,
   "source": [
    "df = pd.read_parquet(r\"/Users/anton/datasets/enron.parquet\")"
   ],
   "outputs": [],
   "metadata": {}
  },
  {
   "cell_type": "code",
   "execution_count": 14,
   "source": [
    "print(f\"Total number of messages: {df.shape[0]}\")"
   ],
   "outputs": [
    {
     "output_type": "stream",
     "name": "stdout",
     "text": [
      "Total number of messages: 517401\n"
     ]
    }
   ],
   "metadata": {}
  },
  {
   "cell_type": "code",
   "execution_count": 15,
   "source": [
    "df.memory_usage(deep=True)"
   ],
   "outputs": [
    {
     "output_type": "execute_result",
     "data": {
      "text/plain": [
       "Index            128\n",
       "ID          52603300\n",
       "Date        45531288\n",
       "Subject     44153383\n",
       "To         103506888\n",
       "From        41142712\n",
       "Cc          29974977\n",
       "Bcc         29974977\n",
       "X-To       133026209\n",
       "X-From      44442913\n",
       "X-Cc        46754093\n",
       "X-Bcc       29634964\n",
       "Body       977529990\n",
       "File        42845664\n",
       "dtype: int64"
      ]
     },
     "metadata": {},
     "execution_count": 15
    }
   ],
   "metadata": {}
  },
  {
   "cell_type": "code",
   "execution_count": 18,
   "source": [
    "df.head()"
   ],
   "outputs": [
    {
     "output_type": "execute_result",
     "data": {
      "text/html": [
       "<div>\n",
       "<style scoped>\n",
       "    .dataframe tbody tr th:only-of-type {\n",
       "        vertical-align: middle;\n",
       "    }\n",
       "\n",
       "    .dataframe tbody tr th {\n",
       "        vertical-align: top;\n",
       "    }\n",
       "\n",
       "    .dataframe thead th {\n",
       "        text-align: right;\n",
       "    }\n",
       "</style>\n",
       "<table border=\"1\" class=\"dataframe\">\n",
       "  <thead>\n",
       "    <tr style=\"text-align: right;\">\n",
       "      <th></th>\n",
       "      <th>ID</th>\n",
       "      <th>Date</th>\n",
       "      <th>Subject</th>\n",
       "      <th>To</th>\n",
       "      <th>From</th>\n",
       "      <th>Cc</th>\n",
       "      <th>Bcc</th>\n",
       "      <th>X-To</th>\n",
       "      <th>X-From</th>\n",
       "      <th>X-Cc</th>\n",
       "      <th>X-Bcc</th>\n",
       "      <th>Body</th>\n",
       "      <th>File</th>\n",
       "    </tr>\n",
       "  </thead>\n",
       "  <tbody>\n",
       "    <tr>\n",
       "      <th>0</th>\n",
       "      <td>&lt;17334447.1075857585446.JavaMail.evans@thyme&gt;</td>\n",
       "      <td>Thu, 16 Nov 2000 09:30:00 -0800</td>\n",
       "      <td>Status</td>\n",
       "      <td>jarnold@enron.com</td>\n",
       "      <td>msagel@home.com</td>\n",
       "      <td>None</td>\n",
       "      <td>None</td>\n",
       "      <td>\"John Arnold\" &lt;jarnold@enron.com&gt;</td>\n",
       "      <td>\"Mark Sagel\" &lt;msagel@home.com&gt;</td>\n",
       "      <td></td>\n",
       "      <td></td>\n",
       "      <td>John:\\n?\\nI'm not really sure what happened be...</td>\n",
       "      <td>arnold-j/notes_inbox/36.</td>\n",
       "    </tr>\n",
       "    <tr>\n",
       "      <th>1</th>\n",
       "      <td>&lt;19171686.1075857585034.JavaMail.evans@thyme&gt;</td>\n",
       "      <td>Fri, 08 Dec 2000 05:05:00 -0800</td>\n",
       "      <td>re:summer inverses</td>\n",
       "      <td>john.arnold@enron.com</td>\n",
       "      <td>slafontaine@globalp.com</td>\n",
       "      <td>None</td>\n",
       "      <td>None</td>\n",
       "      <td>John.Arnold@enron.com</td>\n",
       "      <td>slafontaine@globalp.com</td>\n",
       "      <td></td>\n",
       "      <td></td>\n",
       "      <td>i suck-hope youve made more money in natgas la...</td>\n",
       "      <td>arnold-j/notes_inbox/19.</td>\n",
       "    </tr>\n",
       "    <tr>\n",
       "      <th>2</th>\n",
       "      <td>&lt;29887033.1075857630725.JavaMail.evans@thyme&gt;</td>\n",
       "      <td>Tue, 15 May 2001 09:43:00 -0700</td>\n",
       "      <td>The WTI Bullet swap contracts</td>\n",
       "      <td>icehelpdesk@intcx.com, internalmarketing@intcx...</td>\n",
       "      <td>iceoperations@intcx.com</td>\n",
       "      <td>None</td>\n",
       "      <td>None</td>\n",
       "      <td>**ICEHELPDESK &lt;**ICEHELPDESK@intcx.com&gt;, **Int...</td>\n",
       "      <td>ICE Operations &lt;ICEOperations@intcx.com&gt;</td>\n",
       "      <td></td>\n",
       "      <td></td>\n",
       "      <td>Hi,\\n\\n\\n  Following the e-mail you have rece...</td>\n",
       "      <td>arnold-j/notes_inbox/50.</td>\n",
       "    </tr>\n",
       "    <tr>\n",
       "      <th>3</th>\n",
       "      <td>&lt;29084893.1075849630138.JavaMail.evans@thyme&gt;</td>\n",
       "      <td>Mon, 27 Nov 2000 01:49:00 -0800</td>\n",
       "      <td>Invitation: EBS/GSS Meeting w/Bristol Babcock ...</td>\n",
       "      <td>anthony.gilmore@enron.com, colleen.koenig@enro...</td>\n",
       "      <td>jeff.youngflesh@enron.com</td>\n",
       "      <td>None</td>\n",
       "      <td>None</td>\n",
       "      <td>Anthony Gilmore, Colleen Koenig, Jennifer Stew...</td>\n",
       "      <td>Jeff Youngflesh</td>\n",
       "      <td></td>\n",
       "      <td></td>\n",
       "      <td>Conference Room TBD.  \\n\\nThis meeting will be...</td>\n",
       "      <td>arnold-j/notes_inbox/3.</td>\n",
       "    </tr>\n",
       "    <tr>\n",
       "      <th>4</th>\n",
       "      <td>&lt;30248874.1075857584813.JavaMail.evans@thyme&gt;</td>\n",
       "      <td>Tue, 12 Dec 2000 09:33:00 -0800</td>\n",
       "      <td>Harvard Mgmt</td>\n",
       "      <td>mike.grigsby@enron.com</td>\n",
       "      <td>caroline.abramo@enron.com</td>\n",
       "      <td>john.arnold@enron.com</td>\n",
       "      <td>john.arnold@enron.com</td>\n",
       "      <td>Mike Grigsby</td>\n",
       "      <td>Caroline Abramo</td>\n",
       "      <td>John Arnold</td>\n",
       "      <td></td>\n",
       "      <td>Mike- I have their trader coming into the offi...</td>\n",
       "      <td>arnold-j/notes_inbox/9.</td>\n",
       "    </tr>\n",
       "  </tbody>\n",
       "</table>\n",
       "</div>"
      ],
      "text/plain": [
       "                                              ID  \\\n",
       "0  <17334447.1075857585446.JavaMail.evans@thyme>   \n",
       "1  <19171686.1075857585034.JavaMail.evans@thyme>   \n",
       "2  <29887033.1075857630725.JavaMail.evans@thyme>   \n",
       "3  <29084893.1075849630138.JavaMail.evans@thyme>   \n",
       "4  <30248874.1075857584813.JavaMail.evans@thyme>   \n",
       "\n",
       "                              Date  \\\n",
       "0  Thu, 16 Nov 2000 09:30:00 -0800   \n",
       "1  Fri, 08 Dec 2000 05:05:00 -0800   \n",
       "2  Tue, 15 May 2001 09:43:00 -0700   \n",
       "3  Mon, 27 Nov 2000 01:49:00 -0800   \n",
       "4  Tue, 12 Dec 2000 09:33:00 -0800   \n",
       "\n",
       "                                             Subject  \\\n",
       "0                                             Status   \n",
       "1                                 re:summer inverses   \n",
       "2                      The WTI Bullet swap contracts   \n",
       "3  Invitation: EBS/GSS Meeting w/Bristol Babcock ...   \n",
       "4                                       Harvard Mgmt   \n",
       "\n",
       "                                                  To  \\\n",
       "0                                  jarnold@enron.com   \n",
       "1                              john.arnold@enron.com   \n",
       "2  icehelpdesk@intcx.com, internalmarketing@intcx...   \n",
       "3  anthony.gilmore@enron.com, colleen.koenig@enro...   \n",
       "4                             mike.grigsby@enron.com   \n",
       "\n",
       "                        From                     Cc                    Bcc  \\\n",
       "0            msagel@home.com                   None                   None   \n",
       "1    slafontaine@globalp.com                   None                   None   \n",
       "2    iceoperations@intcx.com                   None                   None   \n",
       "3  jeff.youngflesh@enron.com                   None                   None   \n",
       "4  caroline.abramo@enron.com  john.arnold@enron.com  john.arnold@enron.com   \n",
       "\n",
       "                                                X-To  \\\n",
       "0                  \"John Arnold\" <jarnold@enron.com>   \n",
       "1                              John.Arnold@enron.com   \n",
       "2  **ICEHELPDESK <**ICEHELPDESK@intcx.com>, **Int...   \n",
       "3  Anthony Gilmore, Colleen Koenig, Jennifer Stew...   \n",
       "4                                       Mike Grigsby   \n",
       "\n",
       "                                     X-From         X-Cc X-Bcc  \\\n",
       "0            \"Mark Sagel\" <msagel@home.com>                      \n",
       "1                   slafontaine@globalp.com                      \n",
       "2  ICE Operations <ICEOperations@intcx.com>                      \n",
       "3                           Jeff Youngflesh                      \n",
       "4                           Caroline Abramo  John Arnold         \n",
       "\n",
       "                                                Body                      File  \n",
       "0  John:\\n?\\nI'm not really sure what happened be...  arnold-j/notes_inbox/36.  \n",
       "1  i suck-hope youve made more money in natgas la...  arnold-j/notes_inbox/19.  \n",
       "2   Hi,\\n\\n\\n  Following the e-mail you have rece...  arnold-j/notes_inbox/50.  \n",
       "3  Conference Room TBD.  \\n\\nThis meeting will be...   arnold-j/notes_inbox/3.  \n",
       "4  Mike- I have their trader coming into the offi...   arnold-j/notes_inbox/9.  "
      ]
     },
     "metadata": {},
     "execution_count": 18
    }
   ],
   "metadata": {}
  },
  {
   "cell_type": "code",
   "execution_count": 16,
   "source": [
    "filter = df.File.str.contains(\"calendar\")\n",
    "df_meetings = df[filter]\n",
    "df_emails = df[~filter]"
   ],
   "outputs": [],
   "metadata": {}
  },
  {
   "cell_type": "code",
   "execution_count": 17,
   "source": [
    "print(f\"Number of meetings: {df_meetings.shape[0]}\")\n",
    "print(f\"Number of emails: {df_emails.shape[0]}\")\n",
    "print(f\"Emails / Meetings ratio: {df_emails.shape[0] / df_meetings.shape[0]}\")"
   ],
   "outputs": [
    {
     "output_type": "stream",
     "name": "stdout",
     "text": [
      "Number of meetings: 6232\n",
      "Number of emails: 511169\n",
      "Emails / Meetings ratio: 82.02326700898588\n"
     ]
    }
   ],
   "metadata": {}
  },
  {
   "cell_type": "markdown",
   "source": [
    "## 2. L1 ranking: find candidate emails (up to 200) to each meeting\n",
    "### 2.1. Build document frequency for each word in email"
   ],
   "metadata": {}
  },
  {
   "cell_type": "code",
   "execution_count": 22,
   "source": [
    "doc_freq = Counter()\n",
    "for column in ['Subject', 'Body']:\n",
    "    for text in tqdm(df[column]):\n",
    "        doc_freq.update(set(tokenize(text)))"
   ],
   "outputs": [
    {
     "output_type": "display_data",
     "data": {
      "application/vnd.jupyter.widget-view+json": {
       "version_major": 2,
       "version_minor": 0,
       "model_id": "6c81c2d70d3d4d30bbf570b87f063ffc"
      },
      "text/plain": [
       "  0%|          | 0/517401 [00:00<?, ?it/s]"
      ]
     },
     "metadata": {}
    },
    {
     "output_type": "display_data",
     "data": {
      "application/vnd.jupyter.widget-view+json": {
       "version_major": 2,
       "version_minor": 0,
       "model_id": "521895e5207c4a78830f811b7f83c1a5"
      },
      "text/plain": [
       "  0%|          | 0/517401 [00:00<?, ?it/s]"
      ]
     },
     "metadata": {}
    }
   ],
   "metadata": {}
  },
  {
   "cell_type": "code",
   "execution_count": 18,
   "source": [
    "enron_df_path = r\"/Users/anton/datasets/enron_df.p\""
   ],
   "outputs": [],
   "metadata": {}
  },
  {
   "cell_type": "code",
   "execution_count": 23,
   "source": [
    "pickle.dump(doc_freq, open(enron_df_path, \"wb\"))\n",
    "print(os.path.getsize(enron_df_path))"
   ],
   "outputs": [
    {
     "output_type": "stream",
     "name": "stdout",
     "text": [
      "18254379\n"
     ]
    }
   ],
   "metadata": {}
  },
  {
   "cell_type": "code",
   "execution_count": 19,
   "source": [
    "doc_freq = pickle.load(open(enron_df_path, \"rb\"))"
   ],
   "outputs": [],
   "metadata": {}
  },
  {
   "cell_type": "code",
   "execution_count": 20,
   "source": [
    "len(doc_freq)"
   ],
   "outputs": [
    {
     "output_type": "execute_result",
     "data": {
      "text/plain": [
       "698155"
      ]
     },
     "metadata": {},
     "execution_count": 20
    }
   ],
   "metadata": {}
  },
  {
   "cell_type": "code",
   "execution_count": 24,
   "source": [
    "doc_freq.most_common(20)  # most common words"
   ],
   "outputs": [
    {
     "output_type": "execute_result",
     "data": {
      "text/plain": [
       "[('the', 423056),\n",
       " ('to', 413287),\n",
       " ('and', 368052),\n",
       " ('for', 363579),\n",
       " ('of', 345295),\n",
       " ('on', 331826),\n",
       " ('you', 326065),\n",
       " ('a', 321187),\n",
       " ('is', 305843),\n",
       " ('in', 305037),\n",
       " ('I', 274604),\n",
       " ('To', 256965),\n",
       " ('have', 253450),\n",
       " ('this', 252973),\n",
       " ('be', 250607),\n",
       " ('that', 244642),\n",
       " ('with', 238975),\n",
       " ('by', 225529),\n",
       " ('s', 225062),\n",
       " ('Subject', 224242)]"
      ]
     },
     "metadata": {},
     "execution_count": 24
    }
   ],
   "metadata": {}
  },
  {
   "cell_type": "code",
   "execution_count": 27,
   "source": [
    "doc_freq.most_common()[:-20-1:-1]   # least common words"
   ],
   "outputs": [
    {
     "output_type": "execute_result",
     "data": {
      "text/plain": [
       "[('Correctable', 1),\n",
       " ('PACIFICORP_OU', 1),\n",
       " ('emis_transmission_scheduling', 1),\n",
       " ('EMISOASIS', 1),\n",
       " ('SCHDOASIS', 1),\n",
       " ('Robert_L', 1),\n",
       " ('singlebus', 1),\n",
       " ('ARef', 1),\n",
       " ('ETags', 1),\n",
       " ('SLC_CN', 1),\n",
       " ('Larocco', 1),\n",
       " ('40wscc', 1),\n",
       " ('ISASarians', 1),\n",
       " ('WON_Security_Policy', 1),\n",
       " ('01CL', 1),\n",
       " ('01RL', 1),\n",
       " ('ATC_posting_background_10', 1),\n",
       " ('ATCmethodolgy_10', 1),\n",
       " ('VancouverMinutes', 1),\n",
       " ('ESIBW', 1)]"
      ]
     },
     "metadata": {},
     "execution_count": 27
    }
   ],
   "metadata": {}
  },
  {
   "cell_type": "code",
   "execution_count": 22,
   "source": [
    "subject = df_meetings.iloc[0].Subject\n",
    "body = df_meetings.iloc[0].Body\n",
    "print(subject)\n",
    "print(body)\n",
    "Counter({word: doc_freq[word] for word in tokenize(subject + \" \" + body)}).most_common()[:-11:-1]"
   ],
   "outputs": [
    {
     "output_type": "stream",
     "name": "stdout",
     "text": [
      "Mtg: Budget Meeting - Whalley\n",
      "Greg Whalley will be holding a budget meeting on Tuesday, Feb. 6 @ 3:00 p.m. in EB3321.  This invitation is extended to all CEOs and/or COOs reporting to Wholesale Services.  Should you have any questions, please contact me immediately.  \n",
      "\n",
      "Confirmed Attendees:\n",
      "Louise Kitchen\n",
      "Dave Delainey\n",
      "Jeff McMahon\n",
      "Jeff Shankman\n",
      "Jim Hughes\n",
      "Wes Colwell\n",
      "\n"
     ]
    },
    {
     "output_type": "execute_result",
     "data": {
      "text/plain": [
       "[('COOs', 16),\n",
       " ('EB3321', 258),\n",
       " ('Confirmed', 534),\n",
       " ('Attendees', 981),\n",
       " ('CEOs', 1014),\n",
       " ('Colwell', 1780),\n",
       " ('Wes', 2308),\n",
       " ('Budget', 2327),\n",
       " ('Mtg', 2834),\n",
       " ('McMahon', 2923)]"
      ]
     },
     "metadata": {},
     "execution_count": 22
    }
   ],
   "metadata": {}
  },
  {
   "cell_type": "code",
   "execution_count": 25,
   "source": [
    "pd.DataFrame([{\"Word\": word, \"Freq\": doc_freq[word]} for word in tokenize(subject + \" \" + body)]).sort_values(by=\"Freq\")"
   ],
   "outputs": [
    {
     "output_type": "execute_result",
     "data": {
      "text/html": [
       "<div>\n",
       "<style scoped>\n",
       "    .dataframe tbody tr th:only-of-type {\n",
       "        vertical-align: middle;\n",
       "    }\n",
       "\n",
       "    .dataframe tbody tr th {\n",
       "        vertical-align: top;\n",
       "    }\n",
       "\n",
       "    .dataframe thead th {\n",
       "        text-align: right;\n",
       "    }\n",
       "</style>\n",
       "<table border=\"1\" class=\"dataframe\">\n",
       "  <thead>\n",
       "    <tr style=\"text-align: right;\">\n",
       "      <th></th>\n",
       "      <th>Word</th>\n",
       "      <th>Freq</th>\n",
       "    </tr>\n",
       "  </thead>\n",
       "  <tbody>\n",
       "    <tr>\n",
       "      <th>31</th>\n",
       "      <td>COOs</td>\n",
       "      <td>16</td>\n",
       "    </tr>\n",
       "    <tr>\n",
       "      <th>21</th>\n",
       "      <td>EB3321</td>\n",
       "      <td>258</td>\n",
       "    </tr>\n",
       "    <tr>\n",
       "      <th>45</th>\n",
       "      <td>Confirmed</td>\n",
       "      <td>534</td>\n",
       "    </tr>\n",
       "    <tr>\n",
       "      <th>46</th>\n",
       "      <td>Attendees</td>\n",
       "      <td>981</td>\n",
       "    </tr>\n",
       "    <tr>\n",
       "      <th>28</th>\n",
       "      <td>CEOs</td>\n",
       "      <td>1014</td>\n",
       "    </tr>\n",
       "    <tr>\n",
       "      <th>58</th>\n",
       "      <td>Colwell</td>\n",
       "      <td>1780</td>\n",
       "    </tr>\n",
       "    <tr>\n",
       "      <th>57</th>\n",
       "      <td>Wes</td>\n",
       "      <td>2308</td>\n",
       "    </tr>\n",
       "    <tr>\n",
       "      <th>1</th>\n",
       "      <td>Budget</td>\n",
       "      <td>2327</td>\n",
       "    </tr>\n",
       "    <tr>\n",
       "      <th>0</th>\n",
       "      <td>Mtg</td>\n",
       "      <td>2834</td>\n",
       "    </tr>\n",
       "    <tr>\n",
       "      <th>52</th>\n",
       "      <td>McMahon</td>\n",
       "      <td>2923</td>\n",
       "    </tr>\n",
       "    <tr>\n",
       "      <th>56</th>\n",
       "      <td>Hughes</td>\n",
       "      <td>3559</td>\n",
       "    </tr>\n",
       "    <tr>\n",
       "      <th>23</th>\n",
       "      <td>invitation</td>\n",
       "      <td>3871</td>\n",
       "    </tr>\n",
       "    <tr>\n",
       "      <th>25</th>\n",
       "      <td>extended</td>\n",
       "      <td>4063</td>\n",
       "    </tr>\n",
       "    <tr>\n",
       "      <th>3</th>\n",
       "      <td>Whalley</td>\n",
       "      <td>4895</td>\n",
       "    </tr>\n",
       "    <tr>\n",
       "      <th>5</th>\n",
       "      <td>Whalley</td>\n",
       "      <td>4895</td>\n",
       "    </tr>\n",
       "    <tr>\n",
       "      <th>10</th>\n",
       "      <td>budget</td>\n",
       "      <td>5374</td>\n",
       "    </tr>\n",
       "    <tr>\n",
       "      <th>54</th>\n",
       "      <td>Shankman</td>\n",
       "      <td>5743</td>\n",
       "    </tr>\n",
       "    <tr>\n",
       "      <th>8</th>\n",
       "      <td>holding</td>\n",
       "      <td>5747</td>\n",
       "    </tr>\n",
       "    <tr>\n",
       "      <th>48</th>\n",
       "      <td>Kitchen</td>\n",
       "      <td>6387</td>\n",
       "    </tr>\n",
       "    <tr>\n",
       "      <th>34</th>\n",
       "      <td>Wholesale</td>\n",
       "      <td>6559</td>\n",
       "    </tr>\n",
       "    <tr>\n",
       "      <th>50</th>\n",
       "      <td>Delainey</td>\n",
       "      <td>6614</td>\n",
       "    </tr>\n",
       "    <tr>\n",
       "      <th>32</th>\n",
       "      <td>reporting</td>\n",
       "      <td>7951</td>\n",
       "    </tr>\n",
       "    <tr>\n",
       "      <th>47</th>\n",
       "      <td>Louise</td>\n",
       "      <td>8156</td>\n",
       "    </tr>\n",
       "    <tr>\n",
       "      <th>14</th>\n",
       "      <td>Feb</td>\n",
       "      <td>8205</td>\n",
       "    </tr>\n",
       "    <tr>\n",
       "      <th>36</th>\n",
       "      <td>Should</td>\n",
       "      <td>8870</td>\n",
       "    </tr>\n",
       "    <tr>\n",
       "      <th>4</th>\n",
       "      <td>Greg</td>\n",
       "      <td>17057</td>\n",
       "    </tr>\n",
       "    <tr>\n",
       "      <th>49</th>\n",
       "      <td>Dave</td>\n",
       "      <td>17059</td>\n",
       "    </tr>\n",
       "    <tr>\n",
       "      <th>18</th>\n",
       "      <td>p</td>\n",
       "      <td>19653</td>\n",
       "    </tr>\n",
       "    <tr>\n",
       "      <th>44</th>\n",
       "      <td>immediately</td>\n",
       "      <td>22205</td>\n",
       "    </tr>\n",
       "    <tr>\n",
       "      <th>2</th>\n",
       "      <td>Meeting</td>\n",
       "      <td>23268</td>\n",
       "    </tr>\n",
       "    <tr>\n",
       "      <th>55</th>\n",
       "      <td>Jim</td>\n",
       "      <td>23637</td>\n",
       "    </tr>\n",
       "    <tr>\n",
       "      <th>35</th>\n",
       "      <td>Services</td>\n",
       "      <td>28713</td>\n",
       "    </tr>\n",
       "    <tr>\n",
       "      <th>13</th>\n",
       "      <td>Tuesday</td>\n",
       "      <td>43878</td>\n",
       "    </tr>\n",
       "    <tr>\n",
       "      <th>53</th>\n",
       "      <td>Jeff</td>\n",
       "      <td>47568</td>\n",
       "    </tr>\n",
       "    <tr>\n",
       "      <th>51</th>\n",
       "      <td>Jeff</td>\n",
       "      <td>47568</td>\n",
       "    </tr>\n",
       "    <tr>\n",
       "      <th>11</th>\n",
       "      <td>meeting</td>\n",
       "      <td>54142</td>\n",
       "    </tr>\n",
       "    <tr>\n",
       "      <th>15</th>\n",
       "      <td>6</td>\n",
       "      <td>59324</td>\n",
       "    </tr>\n",
       "    <tr>\n",
       "      <th>42</th>\n",
       "      <td>contact</td>\n",
       "      <td>59890</td>\n",
       "    </tr>\n",
       "    <tr>\n",
       "      <th>19</th>\n",
       "      <td>m</td>\n",
       "      <td>68961</td>\n",
       "    </tr>\n",
       "    <tr>\n",
       "      <th>40</th>\n",
       "      <td>questions</td>\n",
       "      <td>80035</td>\n",
       "    </tr>\n",
       "    <tr>\n",
       "      <th>17</th>\n",
       "      <td>00</td>\n",
       "      <td>81665</td>\n",
       "    </tr>\n",
       "    <tr>\n",
       "      <th>16</th>\n",
       "      <td>3</td>\n",
       "      <td>106966</td>\n",
       "    </tr>\n",
       "    <tr>\n",
       "      <th>22</th>\n",
       "      <td>This</td>\n",
       "      <td>108813</td>\n",
       "    </tr>\n",
       "    <tr>\n",
       "      <th>41</th>\n",
       "      <td>please</td>\n",
       "      <td>127457</td>\n",
       "    </tr>\n",
       "    <tr>\n",
       "      <th>27</th>\n",
       "      <td>all</td>\n",
       "      <td>128818</td>\n",
       "    </tr>\n",
       "    <tr>\n",
       "      <th>39</th>\n",
       "      <td>any</td>\n",
       "      <td>155849</td>\n",
       "    </tr>\n",
       "    <tr>\n",
       "      <th>43</th>\n",
       "      <td>me</td>\n",
       "      <td>178058</td>\n",
       "    </tr>\n",
       "    <tr>\n",
       "      <th>30</th>\n",
       "      <td>or</td>\n",
       "      <td>183690</td>\n",
       "    </tr>\n",
       "    <tr>\n",
       "      <th>6</th>\n",
       "      <td>will</td>\n",
       "      <td>222131</td>\n",
       "    </tr>\n",
       "    <tr>\n",
       "      <th>7</th>\n",
       "      <td>be</td>\n",
       "      <td>250607</td>\n",
       "    </tr>\n",
       "    <tr>\n",
       "      <th>38</th>\n",
       "      <td>have</td>\n",
       "      <td>253450</td>\n",
       "    </tr>\n",
       "    <tr>\n",
       "      <th>20</th>\n",
       "      <td>in</td>\n",
       "      <td>305037</td>\n",
       "    </tr>\n",
       "    <tr>\n",
       "      <th>24</th>\n",
       "      <td>is</td>\n",
       "      <td>305843</td>\n",
       "    </tr>\n",
       "    <tr>\n",
       "      <th>9</th>\n",
       "      <td>a</td>\n",
       "      <td>321187</td>\n",
       "    </tr>\n",
       "    <tr>\n",
       "      <th>37</th>\n",
       "      <td>you</td>\n",
       "      <td>326065</td>\n",
       "    </tr>\n",
       "    <tr>\n",
       "      <th>12</th>\n",
       "      <td>on</td>\n",
       "      <td>331826</td>\n",
       "    </tr>\n",
       "    <tr>\n",
       "      <th>29</th>\n",
       "      <td>and</td>\n",
       "      <td>368052</td>\n",
       "    </tr>\n",
       "    <tr>\n",
       "      <th>26</th>\n",
       "      <td>to</td>\n",
       "      <td>413287</td>\n",
       "    </tr>\n",
       "    <tr>\n",
       "      <th>33</th>\n",
       "      <td>to</td>\n",
       "      <td>413287</td>\n",
       "    </tr>\n",
       "  </tbody>\n",
       "</table>\n",
       "</div>"
      ],
      "text/plain": [
       "           Word    Freq\n",
       "31         COOs      16\n",
       "21       EB3321     258\n",
       "45    Confirmed     534\n",
       "46    Attendees     981\n",
       "28         CEOs    1014\n",
       "58      Colwell    1780\n",
       "57          Wes    2308\n",
       "1        Budget    2327\n",
       "0           Mtg    2834\n",
       "52      McMahon    2923\n",
       "56       Hughes    3559\n",
       "23   invitation    3871\n",
       "25     extended    4063\n",
       "3       Whalley    4895\n",
       "5       Whalley    4895\n",
       "10       budget    5374\n",
       "54     Shankman    5743\n",
       "8       holding    5747\n",
       "48      Kitchen    6387\n",
       "34    Wholesale    6559\n",
       "50     Delainey    6614\n",
       "32    reporting    7951\n",
       "47       Louise    8156\n",
       "14          Feb    8205\n",
       "36       Should    8870\n",
       "4          Greg   17057\n",
       "49         Dave   17059\n",
       "18            p   19653\n",
       "44  immediately   22205\n",
       "2       Meeting   23268\n",
       "55          Jim   23637\n",
       "35     Services   28713\n",
       "13      Tuesday   43878\n",
       "53         Jeff   47568\n",
       "51         Jeff   47568\n",
       "11      meeting   54142\n",
       "15            6   59324\n",
       "42      contact   59890\n",
       "19            m   68961\n",
       "40    questions   80035\n",
       "17           00   81665\n",
       "16            3  106966\n",
       "22         This  108813\n",
       "41       please  127457\n",
       "27          all  128818\n",
       "39          any  155849\n",
       "43           me  178058\n",
       "30           or  183690\n",
       "6          will  222131\n",
       "7            be  250607\n",
       "38         have  253450\n",
       "20           in  305037\n",
       "24           is  305843\n",
       "9             a  321187\n",
       "37          you  326065\n",
       "12           on  331826\n",
       "29          and  368052\n",
       "26           to  413287\n",
       "33           to  413287"
      ]
     },
     "metadata": {},
     "execution_count": 25
    }
   ],
   "metadata": {}
  },
  {
   "cell_type": "code",
   "execution_count": 21,
   "source": [
    "MAX_DOC_FREQ = 100\n",
    "\n",
    "postings = defaultdict(list)\n",
    "\n",
    "for index, email in tqdm(df_emails.iterrows(), total=df_emails.shape[0]):\n",
    "    email_words = set(tokenize(email.Subject + \" \" + email.Body))\n",
    "    for word in email_words:\n",
    "        if doc_freq[word] < MAX_DOC_FREQ:\n",
    "            postings[word].append(index)"
   ],
   "outputs": [
    {
     "output_type": "display_data",
     "data": {
      "application/vnd.jupyter.widget-view+json": {
       "version_major": 2,
       "version_minor": 0,
       "model_id": "27e41baef86b4f06b73d3b9a25cd277e"
      },
      "text/plain": [
       "  0%|          | 0/511169 [00:00<?, ?it/s]"
      ]
     },
     "metadata": {}
    }
   ],
   "metadata": {}
  },
  {
   "cell_type": "code",
   "execution_count": 21,
   "source": [
    "enron_postings_path = r\"/Users/anton/datasets/enron_postings.p\""
   ],
   "outputs": [],
   "metadata": {}
  },
  {
   "cell_type": "code",
   "execution_count": 23,
   "source": [
    "pickle.dump(postings, open(enron_postings_path, \"wb\"))\n",
    "print(os.path.getsize(enron_postings_path))"
   ],
   "outputs": [
    {
     "output_type": "stream",
     "name": "stdout",
     "text": [
      "41901106\n"
     ]
    }
   ],
   "metadata": {}
  },
  {
   "cell_type": "code",
   "execution_count": 22,
   "source": [
    "postings = pickle.load(open(enron_postings_path, \"rb\"))"
   ],
   "outputs": [],
   "metadata": {}
  },
  {
   "cell_type": "code",
   "execution_count": 23,
   "source": [
    "def get_email_to_score(query):\n",
    "    email_to_score = defaultdict(float)\n",
    "    for word in tokenize(query):\n",
    "        score = 1 / (doc_freq[word] or 1)\n",
    "        for email in postings.get(word, []):\n",
    "            email_to_score[email] += score\n",
    "    return email_to_score\n",
    "\n",
    "rows = []\n",
    "for index, meeting in tqdm(df_meetings.iterrows(), total=df_meetings.shape[0]):\n",
    "    for column in ['Subject', 'Body']:\n",
    "        email_to_score = get_email_to_score(meeting[column])\n",
    "        for email, score in email_to_score.items():\n",
    "            rows.append({'MeetingID': index, 'Column': column, 'EmailID': email, 'Score': score})\n",
    "\n",
    "df_candidates = pd.DataFrame(rows)"
   ],
   "outputs": [
    {
     "output_type": "display_data",
     "data": {
      "application/vnd.jupyter.widget-view+json": {
       "version_major": 2,
       "version_minor": 0,
       "model_id": "6d0dc74bb6964d758b1c2bc91dee10ac"
      },
      "text/plain": [
       "  0%|          | 0/6232 [00:00<?, ?it/s]"
      ]
     },
     "metadata": {}
    }
   ],
   "metadata": {}
  },
  {
   "cell_type": "code",
   "execution_count": 24,
   "source": [
    "df_candidates.shape"
   ],
   "outputs": [
    {
     "output_type": "execute_result",
     "data": {
      "text/plain": [
       "(1211788, 4)"
      ]
     },
     "metadata": {},
     "execution_count": 24
    }
   ],
   "metadata": {}
  },
  {
   "cell_type": "code",
   "execution_count": 25,
   "source": [
    "{column: df_candidates[df_candidates.Column == column].shape[0] for column in ['Subject', 'Body']}"
   ],
   "outputs": [
    {
     "output_type": "execute_result",
     "data": {
      "text/plain": [
       "{'Subject': 55683, 'Body': 1156105}"
      ]
     },
     "metadata": {},
     "execution_count": 25
    }
   ],
   "metadata": {}
  },
  {
   "cell_type": "code",
   "execution_count": 26,
   "source": [
    "df_candidates.sample(n=10)"
   ],
   "outputs": [
    {
     "output_type": "execute_result",
     "data": {
      "text/html": [
       "<div>\n",
       "<style scoped>\n",
       "    .dataframe tbody tr th:only-of-type {\n",
       "        vertical-align: middle;\n",
       "    }\n",
       "\n",
       "    .dataframe tbody tr th {\n",
       "        vertical-align: top;\n",
       "    }\n",
       "\n",
       "    .dataframe thead th {\n",
       "        text-align: right;\n",
       "    }\n",
       "</style>\n",
       "<table border=\"1\" class=\"dataframe\">\n",
       "  <thead>\n",
       "    <tr style=\"text-align: right;\">\n",
       "      <th></th>\n",
       "      <th>MeetingID</th>\n",
       "      <th>Column</th>\n",
       "      <th>EmailID</th>\n",
       "      <th>Score</th>\n",
       "    </tr>\n",
       "  </thead>\n",
       "  <tbody>\n",
       "    <tr>\n",
       "      <th>1171477</th>\n",
       "      <td>470695</td>\n",
       "      <td>Body</td>\n",
       "      <td>343527</td>\n",
       "      <td>0.049383</td>\n",
       "    </tr>\n",
       "    <tr>\n",
       "      <th>1010653</th>\n",
       "      <td>470085</td>\n",
       "      <td>Body</td>\n",
       "      <td>171357</td>\n",
       "      <td>0.010526</td>\n",
       "    </tr>\n",
       "    <tr>\n",
       "      <th>270417</th>\n",
       "      <td>467025</td>\n",
       "      <td>Body</td>\n",
       "      <td>173140</td>\n",
       "      <td>0.152955</td>\n",
       "    </tr>\n",
       "    <tr>\n",
       "      <th>1035431</th>\n",
       "      <td>470136</td>\n",
       "      <td>Body</td>\n",
       "      <td>22970</td>\n",
       "      <td>0.018519</td>\n",
       "    </tr>\n",
       "    <tr>\n",
       "      <th>114932</th>\n",
       "      <td>466471</td>\n",
       "      <td>Body</td>\n",
       "      <td>81671</td>\n",
       "      <td>0.011364</td>\n",
       "    </tr>\n",
       "    <tr>\n",
       "      <th>961976</th>\n",
       "      <td>469900</td>\n",
       "      <td>Body</td>\n",
       "      <td>156474</td>\n",
       "      <td>0.024390</td>\n",
       "    </tr>\n",
       "    <tr>\n",
       "      <th>227618</th>\n",
       "      <td>466845</td>\n",
       "      <td>Body</td>\n",
       "      <td>151468</td>\n",
       "      <td>0.010417</td>\n",
       "    </tr>\n",
       "    <tr>\n",
       "      <th>579084</th>\n",
       "      <td>468393</td>\n",
       "      <td>Body</td>\n",
       "      <td>257090</td>\n",
       "      <td>0.023810</td>\n",
       "    </tr>\n",
       "    <tr>\n",
       "      <th>712272</th>\n",
       "      <td>468995</td>\n",
       "      <td>Body</td>\n",
       "      <td>166618</td>\n",
       "      <td>0.062500</td>\n",
       "    </tr>\n",
       "    <tr>\n",
       "      <th>469934</th>\n",
       "      <td>467842</td>\n",
       "      <td>Body</td>\n",
       "      <td>158594</td>\n",
       "      <td>0.011905</td>\n",
       "    </tr>\n",
       "  </tbody>\n",
       "</table>\n",
       "</div>"
      ],
      "text/plain": [
       "         MeetingID Column  EmailID     Score\n",
       "1171477     470695   Body   343527  0.049383\n",
       "1010653     470085   Body   171357  0.010526\n",
       "270417      467025   Body   173140  0.152955\n",
       "1035431     470136   Body    22970  0.018519\n",
       "114932      466471   Body    81671  0.011364\n",
       "961976      469900   Body   156474  0.024390\n",
       "227618      466845   Body   151468  0.010417\n",
       "579084      468393   Body   257090  0.023810\n",
       "712272      468995   Body   166618  0.062500\n",
       "469934      467842   Body   158594  0.011905"
      ]
     },
     "metadata": {},
     "execution_count": 26
    }
   ],
   "metadata": {}
  },
  {
   "cell_type": "code",
   "execution_count": 27,
   "source": [
    "df_merged = df_meetings[['Subject', 'Body']].merge(df_candidates, left_index=True, right_on='MeetingID')\n",
    "df_merged.rename(columns={'Subject': 'Meeting_Subject', 'Body': 'Meeting_Body'}, inplace=True)\n",
    "df_merged.sample(n=5)"
   ],
   "outputs": [
    {
     "output_type": "execute_result",
     "data": {
      "text/html": [
       "<div>\n",
       "<style scoped>\n",
       "    .dataframe tbody tr th:only-of-type {\n",
       "        vertical-align: middle;\n",
       "    }\n",
       "\n",
       "    .dataframe tbody tr th {\n",
       "        vertical-align: top;\n",
       "    }\n",
       "\n",
       "    .dataframe thead th {\n",
       "        text-align: right;\n",
       "    }\n",
       "</style>\n",
       "<table border=\"1\" class=\"dataframe\">\n",
       "  <thead>\n",
       "    <tr style=\"text-align: right;\">\n",
       "      <th></th>\n",
       "      <th>Meeting_Subject</th>\n",
       "      <th>Meeting_Body</th>\n",
       "      <th>MeetingID</th>\n",
       "      <th>Column</th>\n",
       "      <th>EmailID</th>\n",
       "      <th>Score</th>\n",
       "    </tr>\n",
       "  </thead>\n",
       "  <tbody>\n",
       "    <tr>\n",
       "      <th>75829</th>\n",
       "      <td>Fundamentals Meeting</td>\n",
       "      <td>MEETING ROOM : eb49C1\\n\\n\\n1. Weather Update\\n...</td>\n",
       "      <td>424719</td>\n",
       "      <td>Body</td>\n",
       "      <td>108518</td>\n",
       "      <td>0.012821</td>\n",
       "    </tr>\n",
       "    <tr>\n",
       "      <th>803486</th>\n",
       "      <td>Former Gov. Wilson Criticizes Gov. Davis - Edi...</td>\n",
       "      <td>Deregulation not to blame but Davis is: His in...</td>\n",
       "      <td>469391</td>\n",
       "      <td>Body</td>\n",
       "      <td>215343</td>\n",
       "      <td>0.010638</td>\n",
       "    </tr>\n",
       "    <tr>\n",
       "      <th>827294</th>\n",
       "      <td>California Public Affairs Strategy</td>\n",
       "      <td>To make sure that Enron is not missing any opp...</td>\n",
       "      <td>469487</td>\n",
       "      <td>Body</td>\n",
       "      <td>485460</td>\n",
       "      <td>0.196744</td>\n",
       "    </tr>\n",
       "    <tr>\n",
       "      <th>360180</th>\n",
       "      <td>Re: Press Clipping - Germany (Enron Mention)</td>\n",
       "      <td>The quotes are accurate, but I did not say Cal...</td>\n",
       "      <td>467435</td>\n",
       "      <td>Body</td>\n",
       "      <td>491012</td>\n",
       "      <td>0.013699</td>\n",
       "    </tr>\n",
       "    <tr>\n",
       "      <th>717906</th>\n",
       "      <td>FW: EFC Thank you e-mails to Board Members &amp; Misc</td>\n",
       "      <td>Here's ad campaign that I found through Olivia...</td>\n",
       "      <td>469002</td>\n",
       "      <td>Body</td>\n",
       "      <td>47769</td>\n",
       "      <td>0.018182</td>\n",
       "    </tr>\n",
       "  </tbody>\n",
       "</table>\n",
       "</div>"
      ],
      "text/plain": [
       "                                          Meeting_Subject  \\\n",
       "75829                                Fundamentals Meeting   \n",
       "803486  Former Gov. Wilson Criticizes Gov. Davis - Edi...   \n",
       "827294                 California Public Affairs Strategy   \n",
       "360180       Re: Press Clipping - Germany (Enron Mention)   \n",
       "717906  FW: EFC Thank you e-mails to Board Members & Misc   \n",
       "\n",
       "                                             Meeting_Body  MeetingID Column  \\\n",
       "75829   MEETING ROOM : eb49C1\\n\\n\\n1. Weather Update\\n...     424719   Body   \n",
       "803486  Deregulation not to blame but Davis is: His in...     469391   Body   \n",
       "827294  To make sure that Enron is not missing any opp...     469487   Body   \n",
       "360180  The quotes are accurate, but I did not say Cal...     467435   Body   \n",
       "717906  Here's ad campaign that I found through Olivia...     469002   Body   \n",
       "\n",
       "        EmailID     Score  \n",
       "75829    108518  0.012821  \n",
       "803486   215343  0.010638  \n",
       "827294   485460  0.196744  \n",
       "360180   491012  0.013699  \n",
       "717906    47769  0.018182  "
      ]
     },
     "metadata": {},
     "execution_count": 27
    }
   ],
   "metadata": {}
  },
  {
   "cell_type": "code",
   "execution_count": 28,
   "source": [
    "df_merged = df_emails[['Subject', 'Body']].merge(df_merged, left_index=True, right_on='EmailID')\n",
    "df_merged.rename(columns={'Subject': 'Email_Subject', 'Body': 'Email_Body'}, inplace=True)\n",
    "df_merged.sample(n=5)"
   ],
   "outputs": [
    {
     "output_type": "execute_result",
     "data": {
      "text/html": [
       "<div>\n",
       "<style scoped>\n",
       "    .dataframe tbody tr th:only-of-type {\n",
       "        vertical-align: middle;\n",
       "    }\n",
       "\n",
       "    .dataframe tbody tr th {\n",
       "        vertical-align: top;\n",
       "    }\n",
       "\n",
       "    .dataframe thead th {\n",
       "        text-align: right;\n",
       "    }\n",
       "</style>\n",
       "<table border=\"1\" class=\"dataframe\">\n",
       "  <thead>\n",
       "    <tr style=\"text-align: right;\">\n",
       "      <th></th>\n",
       "      <th>Email_Subject</th>\n",
       "      <th>Email_Body</th>\n",
       "      <th>Meeting_Subject</th>\n",
       "      <th>Meeting_Body</th>\n",
       "      <th>MeetingID</th>\n",
       "      <th>Column</th>\n",
       "      <th>EmailID</th>\n",
       "      <th>Score</th>\n",
       "    </tr>\n",
       "  </thead>\n",
       "  <tbody>\n",
       "    <tr>\n",
       "      <th>1010334</th>\n",
       "      <td>RIGZONE Industry News</td>\n",
       "      <td>&lt;http://www.rigzone.com/images/spacer.gif&gt;\\t...</td>\n",
       "      <td>Hot list of Public Affairs issues in ESA</td>\n",
       "      <td>To give you a broad perspective on the issues ...</td>\n",
       "      <td>470083</td>\n",
       "      <td>Body</td>\n",
       "      <td>362697</td>\n",
       "      <td>0.010309</td>\n",
       "    </tr>\n",
       "    <tr>\n",
       "      <th>802108</th>\n",
       "      <td>FW: You are phenomenal !!</td>\n",
       "      <td>\\n\\n-----Original Message----- \\nFrom: Keiser...</td>\n",
       "      <td>Re: Government Affairs Meeting</td>\n",
       "      <td>Go ahead.\\n\\n\\nFrom: Elizabeth Linnell on 04/2...</td>\n",
       "      <td>469385</td>\n",
       "      <td>Body</td>\n",
       "      <td>356399</td>\n",
       "      <td>0.010309</td>\n",
       "    </tr>\n",
       "    <tr>\n",
       "      <th>937417</th>\n",
       "      <td>Whitepaper Download</td>\n",
       "      <td>FYI\\n\\nVince\\n---------------------- Forwarded...</td>\n",
       "      <td>Senate Environment Committee Markup Tomorrow (...</td>\n",
       "      <td>---------------------- Forwarded by Jeffrey Ke...</td>\n",
       "      <td>469830</td>\n",
       "      <td>Body</td>\n",
       "      <td>53761</td>\n",
       "      <td>0.018182</td>\n",
       "    </tr>\n",
       "    <tr>\n",
       "      <th>799845</th>\n",
       "      <td>Trade Count and Volumes for May 17, 2001</td>\n",
       "      <td>\\n\\nEnronOnline\\nTrade Counts and Volume for M...</td>\n",
       "      <td>Management Report 02/22/00</td>\n",
       "      <td>Attached is the Management Report for 02/22/00...</td>\n",
       "      <td>469367</td>\n",
       "      <td>Body</td>\n",
       "      <td>70524</td>\n",
       "      <td>0.010101</td>\n",
       "    </tr>\n",
       "    <tr>\n",
       "      <th>39521</th>\n",
       "      <td>RE: Preliminary Information Request List  [Wat...</td>\n",
       "      <td>i've heard 3 things about you today...\\n\\nin o...</td>\n",
       "      <td>FYI - EB 3321  Wholesale Deal Mtg w/ M.Patrick...</td>\n",
       "      <td>\\nTime change per e-mail on 9/14/01 Michele Be...</td>\n",
       "      <td>222575</td>\n",
       "      <td>Subject</td>\n",
       "      <td>222698</td>\n",
       "      <td>0.031250</td>\n",
       "    </tr>\n",
       "  </tbody>\n",
       "</table>\n",
       "</div>"
      ],
      "text/plain": [
       "                                             Email_Subject  \\\n",
       "1010334                              RIGZONE Industry News   \n",
       "802108                           FW: You are phenomenal !!   \n",
       "937417                                 Whitepaper Download   \n",
       "799845            Trade Count and Volumes for May 17, 2001   \n",
       "39521    RE: Preliminary Information Request List  [Wat...   \n",
       "\n",
       "                                                Email_Body  \\\n",
       "1010334    <http://www.rigzone.com/images/spacer.gif>\\t...   \n",
       "802108    \\n\\n-----Original Message----- \\nFrom: Keiser...   \n",
       "937417   FYI\\n\\nVince\\n---------------------- Forwarded...   \n",
       "799845   \\n\\nEnronOnline\\nTrade Counts and Volume for M...   \n",
       "39521    i've heard 3 things about you today...\\n\\nin o...   \n",
       "\n",
       "                                           Meeting_Subject  \\\n",
       "1010334           Hot list of Public Affairs issues in ESA   \n",
       "802108                      Re: Government Affairs Meeting   \n",
       "937417   Senate Environment Committee Markup Tomorrow (...   \n",
       "799845                          Management Report 02/22/00   \n",
       "39521    FYI - EB 3321  Wholesale Deal Mtg w/ M.Patrick...   \n",
       "\n",
       "                                              Meeting_Body  MeetingID  \\\n",
       "1010334  To give you a broad perspective on the issues ...     470083   \n",
       "802108   Go ahead.\\n\\n\\nFrom: Elizabeth Linnell on 04/2...     469385   \n",
       "937417   ---------------------- Forwarded by Jeffrey Ke...     469830   \n",
       "799845   Attached is the Management Report for 02/22/00...     469367   \n",
       "39521    \\nTime change per e-mail on 9/14/01 Michele Be...     222575   \n",
       "\n",
       "          Column  EmailID     Score  \n",
       "1010334     Body   362697  0.010309  \n",
       "802108      Body   356399  0.010309  \n",
       "937417      Body    53761  0.018182  \n",
       "799845      Body    70524  0.010101  \n",
       "39521    Subject   222698  0.031250  "
      ]
     },
     "metadata": {},
     "execution_count": 28
    }
   ],
   "metadata": {}
  },
  {
   "cell_type": "code",
   "execution_count": 29,
   "source": [
    "df_merged['CorrectedScore'] = df_merged.progress_apply(lambda row: row.Score + (1000 if row.Column == 'Subject' else 0), axis=1)\n",
    "pd.concat([df_merged[df_merged.Column == column].sample(3) for column in ['Subject', 'Body']])"
   ],
   "outputs": [
    {
     "output_type": "display_data",
     "data": {
      "application/vnd.jupyter.widget-view+json": {
       "version_major": 2,
       "version_minor": 0,
       "model_id": "73b9c30d5dee42cb822da6161d392d62"
      },
      "text/plain": [
       "  0%|          | 0/1211788 [00:00<?, ?it/s]"
      ]
     },
     "metadata": {}
    },
    {
     "output_type": "execute_result",
     "data": {
      "text/html": [
       "<div>\n",
       "<style scoped>\n",
       "    .dataframe tbody tr th:only-of-type {\n",
       "        vertical-align: middle;\n",
       "    }\n",
       "\n",
       "    .dataframe tbody tr th {\n",
       "        vertical-align: top;\n",
       "    }\n",
       "\n",
       "    .dataframe thead th {\n",
       "        text-align: right;\n",
       "    }\n",
       "</style>\n",
       "<table border=\"1\" class=\"dataframe\">\n",
       "  <thead>\n",
       "    <tr style=\"text-align: right;\">\n",
       "      <th></th>\n",
       "      <th>Email_Subject</th>\n",
       "      <th>Email_Body</th>\n",
       "      <th>Meeting_Subject</th>\n",
       "      <th>Meeting_Body</th>\n",
       "      <th>MeetingID</th>\n",
       "      <th>Column</th>\n",
       "      <th>EmailID</th>\n",
       "      <th>Score</th>\n",
       "      <th>CorrectedScore</th>\n",
       "    </tr>\n",
       "  </thead>\n",
       "  <tbody>\n",
       "    <tr>\n",
       "      <th>98840</th>\n",
       "      <td>RIGZONE Industry News</td>\n",
       "      <td>&lt;http://www.rigzone.com/images/spacer.gif&gt;\\t...</td>\n",
       "      <td>Camisea</td>\n",
       "      <td>fyi\\n---------------------- Forwarded by Steve...</td>\n",
       "      <td>466418</td>\n",
       "      <td>Subject</td>\n",
       "      <td>363575</td>\n",
       "      <td>0.028571</td>\n",
       "      <td>1000.028571</td>\n",
       "    </tr>\n",
       "    <tr>\n",
       "      <th>69179</th>\n",
       "      <td>RE: Skelton option</td>\n",
       "      <td>I need to talk to the commercial guy on the de...</td>\n",
       "      <td>G. Smith, B. Shaffer</td>\n",
       "      <td>Set up by Carolyn Perry/54696</td>\n",
       "      <td>363127</td>\n",
       "      <td>Subject</td>\n",
       "      <td>290460</td>\n",
       "      <td>0.011628</td>\n",
       "      <td>1000.011628</td>\n",
       "    </tr>\n",
       "    <tr>\n",
       "      <th>1068857</th>\n",
       "      <td>EC documents on California crisis</td>\n",
       "      <td>Hi, Rick,\\n\\nI am sorry to have forgotten to c...</td>\n",
       "      <td>RE: Eurelectric Congress, Madrid, June</td>\n",
       "      <td>meeting file\\n----- Forwarded by Steven J Kean...</td>\n",
       "      <td>470298</td>\n",
       "      <td>Subject</td>\n",
       "      <td>358800</td>\n",
       "      <td>0.012658</td>\n",
       "      <td>1000.012658</td>\n",
       "    </tr>\n",
       "    <tr>\n",
       "      <th>597490</th>\n",
       "      <td>California Energy Crisis</td>\n",
       "      <td>---------------------- Forwarded by Vince J Ka...</td>\n",
       "      <td>Re: California Energy Crisis</td>\n",
       "      <td>FYI - SRS\\n---------------------- Forwarded by...</td>\n",
       "      <td>468518</td>\n",
       "      <td>Body</td>\n",
       "      <td>36289</td>\n",
       "      <td>0.049215</td>\n",
       "      <td>0.049215</td>\n",
       "    </tr>\n",
       "    <tr>\n",
       "      <th>1132375</th>\n",
       "      <td>Tokyo visit</td>\n",
       "      <td>SK - I've printed this out &amp; put it in your me...</td>\n",
       "      <td>Re: Visit by METI Director</td>\n",
       "      <td>Steve, we received a request from METI in Toky...</td>\n",
       "      <td>470504</td>\n",
       "      <td>Body</td>\n",
       "      <td>488970</td>\n",
       "      <td>0.098765</td>\n",
       "      <td>0.098765</td>\n",
       "    </tr>\n",
       "    <tr>\n",
       "      <th>485064</th>\n",
       "      <td>PowerMarketers.com Daily Power Report for 8 Fe...</td>\n",
       "      <td>Attention POWER REPORT Readers: Go to \\nhttp:/...</td>\n",
       "      <td>Re: Department of Energy Pre-departure Briefin...</td>\n",
       "      <td>mac-\\n\\ni have a slightly different view on yo...</td>\n",
       "      <td>467925</td>\n",
       "      <td>Body</td>\n",
       "      <td>22064</td>\n",
       "      <td>0.025000</td>\n",
       "      <td>0.025000</td>\n",
       "    </tr>\n",
       "  </tbody>\n",
       "</table>\n",
       "</div>"
      ],
      "text/plain": [
       "                                             Email_Subject  \\\n",
       "98840                                RIGZONE Industry News   \n",
       "69179                                   RE: Skelton option   \n",
       "1068857                  EC documents on California crisis   \n",
       "597490                            California Energy Crisis   \n",
       "1132375                                        Tokyo visit   \n",
       "485064   PowerMarketers.com Daily Power Report for 8 Fe...   \n",
       "\n",
       "                                                Email_Body  \\\n",
       "98840      <http://www.rigzone.com/images/spacer.gif>\\t...   \n",
       "69179    I need to talk to the commercial guy on the de...   \n",
       "1068857  Hi, Rick,\\n\\nI am sorry to have forgotten to c...   \n",
       "597490   ---------------------- Forwarded by Vince J Ka...   \n",
       "1132375  SK - I've printed this out & put it in your me...   \n",
       "485064   Attention POWER REPORT Readers: Go to \\nhttp:/...   \n",
       "\n",
       "                                           Meeting_Subject  \\\n",
       "98840                                              Camisea   \n",
       "69179                                 G. Smith, B. Shaffer   \n",
       "1068857             RE: Eurelectric Congress, Madrid, June   \n",
       "597490                        Re: California Energy Crisis   \n",
       "1132375                         Re: Visit by METI Director   \n",
       "485064   Re: Department of Energy Pre-departure Briefin...   \n",
       "\n",
       "                                              Meeting_Body  MeetingID  \\\n",
       "98840    fyi\\n---------------------- Forwarded by Steve...     466418   \n",
       "69179                        Set up by Carolyn Perry/54696     363127   \n",
       "1068857  meeting file\\n----- Forwarded by Steven J Kean...     470298   \n",
       "597490   FYI - SRS\\n---------------------- Forwarded by...     468518   \n",
       "1132375  Steve, we received a request from METI in Toky...     470504   \n",
       "485064   mac-\\n\\ni have a slightly different view on yo...     467925   \n",
       "\n",
       "          Column  EmailID     Score  CorrectedScore  \n",
       "98840    Subject   363575  0.028571     1000.028571  \n",
       "69179    Subject   290460  0.011628     1000.011628  \n",
       "1068857  Subject   358800  0.012658     1000.012658  \n",
       "597490      Body    36289  0.049215        0.049215  \n",
       "1132375     Body   488970  0.098765        0.098765  \n",
       "485064      Body    22064  0.025000        0.025000  "
      ]
     },
     "metadata": {},
     "execution_count": 29
    }
   ],
   "metadata": {}
  },
  {
   "cell_type": "code",
   "execution_count": 30,
   "source": [
    "EMAILS_PER_MEETING = 200\n",
    "\n",
    "df_top_candidates = df_merged.sort_values('CorrectedScore', ascending=False).groupby('MeetingID').head(EMAILS_PER_MEETING)\n",
    "df_top_candidates.head(5)"
   ],
   "outputs": [
    {
     "output_type": "execute_result",
     "data": {
      "text/html": [
       "<div>\n",
       "<style scoped>\n",
       "    .dataframe tbody tr th:only-of-type {\n",
       "        vertical-align: middle;\n",
       "    }\n",
       "\n",
       "    .dataframe tbody tr th {\n",
       "        vertical-align: top;\n",
       "    }\n",
       "\n",
       "    .dataframe thead th {\n",
       "        text-align: right;\n",
       "    }\n",
       "</style>\n",
       "<table border=\"1\" class=\"dataframe\">\n",
       "  <thead>\n",
       "    <tr style=\"text-align: right;\">\n",
       "      <th></th>\n",
       "      <th>Email_Subject</th>\n",
       "      <th>Email_Body</th>\n",
       "      <th>Meeting_Subject</th>\n",
       "      <th>Meeting_Body</th>\n",
       "      <th>MeetingID</th>\n",
       "      <th>Column</th>\n",
       "      <th>EmailID</th>\n",
       "      <th>Score</th>\n",
       "      <th>CorrectedScore</th>\n",
       "    </tr>\n",
       "  </thead>\n",
       "  <tbody>\n",
       "    <tr>\n",
       "      <th>35727</th>\n",
       "      <td>FW: Solar Migration - Very Important</td>\n",
       "      <td>Ina, does this affect us?  Thanks.\\n\\njohn\\n\\n...</td>\n",
       "      <td>EB-27-C-2- Associate Luncheon w/SB, GP, MP (As...</td>\n",
       "      <td>Treebeards catering (order placed 9/24/01) - cv</td>\n",
       "      <td>222468</td>\n",
       "      <td>Subject</td>\n",
       "      <td>188983</td>\n",
       "      <td>1.000000</td>\n",
       "      <td>1001.000000</td>\n",
       "    </tr>\n",
       "    <tr>\n",
       "      <th>40091</th>\n",
       "      <td>Updated: Canceled - EB-2746 - Commercializatio...</td>\n",
       "      <td>When: Friday, October  5, 2001 1:30 PM-2:30 PM...</td>\n",
       "      <td>*CANCELLED* ECS 4102 - Commercialization Meeti...</td>\n",
       "      <td>Monday wkly meeting - if occurs on HOLIDAY, wi...</td>\n",
       "      <td>222582</td>\n",
       "      <td>Subject</td>\n",
       "      <td>226765</td>\n",
       "      <td>0.921429</td>\n",
       "      <td>1000.921429</td>\n",
       "    </tr>\n",
       "    <tr>\n",
       "      <th>40090</th>\n",
       "      <td>Out of Office AutoReply: *CANCELLED*ECS 4102 -...</td>\n",
       "      <td>I will be out of the office Friday, November 1...</td>\n",
       "      <td>*CANCELLED* ECS 4102 - Commercialization Meeti...</td>\n",
       "      <td>Monday wkly meeting - if occurs on HOLIDAY, wi...</td>\n",
       "      <td>222582</td>\n",
       "      <td>Subject</td>\n",
       "      <td>222173</td>\n",
       "      <td>0.921429</td>\n",
       "      <td>1000.921429</td>\n",
       "    </tr>\n",
       "    <tr>\n",
       "      <th>35728</th>\n",
       "      <td>Candidates Selected for Sally Beck's Group</td>\n",
       "      <td>Ted,\\n\\nHere are the candidates that we have s...</td>\n",
       "      <td>EB-27-C-2- Associate Luncheon w/SB, GP, MP (As...</td>\n",
       "      <td>Treebeards catering (order placed 9/24/01) - cv</td>\n",
       "      <td>222468</td>\n",
       "      <td>Subject</td>\n",
       "      <td>223209</td>\n",
       "      <td>0.759028</td>\n",
       "      <td>1000.759028</td>\n",
       "    </tr>\n",
       "    <tr>\n",
       "      <th>72171</th>\n",
       "      <td>Windows 2000 Traning - EB0568</td>\n",
       "      <td>Training for Windows 2000 - EB0568</td>\n",
       "      <td>Windows 2000 Traning - EB0568</td>\n",
       "      <td>Training for Windows 2000 - EB0568</td>\n",
       "      <td>386216</td>\n",
       "      <td>Subject</td>\n",
       "      <td>392805</td>\n",
       "      <td>0.750000</td>\n",
       "      <td>1000.750000</td>\n",
       "    </tr>\n",
       "  </tbody>\n",
       "</table>\n",
       "</div>"
      ],
      "text/plain": [
       "                                           Email_Subject  \\\n",
       "35727               FW: Solar Migration - Very Important   \n",
       "40091  Updated: Canceled - EB-2746 - Commercializatio...   \n",
       "40090  Out of Office AutoReply: *CANCELLED*ECS 4102 -...   \n",
       "35728         Candidates Selected for Sally Beck's Group   \n",
       "72171                      Windows 2000 Traning - EB0568   \n",
       "\n",
       "                                              Email_Body  \\\n",
       "35727  Ina, does this affect us?  Thanks.\\n\\njohn\\n\\n...   \n",
       "40091  When: Friday, October  5, 2001 1:30 PM-2:30 PM...   \n",
       "40090  I will be out of the office Friday, November 1...   \n",
       "35728  Ted,\\n\\nHere are the candidates that we have s...   \n",
       "72171                 Training for Windows 2000 - EB0568   \n",
       "\n",
       "                                         Meeting_Subject  \\\n",
       "35727  EB-27-C-2- Associate Luncheon w/SB, GP, MP (As...   \n",
       "40091  *CANCELLED* ECS 4102 - Commercialization Meeti...   \n",
       "40090  *CANCELLED* ECS 4102 - Commercialization Meeti...   \n",
       "35728  EB-27-C-2- Associate Luncheon w/SB, GP, MP (As...   \n",
       "72171                      Windows 2000 Traning - EB0568   \n",
       "\n",
       "                                            Meeting_Body  MeetingID   Column  \\\n",
       "35727    Treebeards catering (order placed 9/24/01) - cv     222468  Subject   \n",
       "40091  Monday wkly meeting - if occurs on HOLIDAY, wi...     222582  Subject   \n",
       "40090  Monday wkly meeting - if occurs on HOLIDAY, wi...     222582  Subject   \n",
       "35728    Treebeards catering (order placed 9/24/01) - cv     222468  Subject   \n",
       "72171                 Training for Windows 2000 - EB0568     386216  Subject   \n",
       "\n",
       "       EmailID     Score  CorrectedScore  \n",
       "35727   188983  1.000000     1001.000000  \n",
       "40091   226765  0.921429     1000.921429  \n",
       "40090   222173  0.921429     1000.921429  \n",
       "35728   223209  0.759028     1000.759028  \n",
       "72171   392805  0.750000     1000.750000  "
      ]
     },
     "metadata": {},
     "execution_count": 30
    }
   ],
   "metadata": {}
  },
  {
   "cell_type": "code",
   "execution_count": 31,
   "source": [
    "df_top_candidates.shape[0]"
   ],
   "outputs": [
    {
     "output_type": "execute_result",
     "data": {
      "text/plain": [
       "530524"
      ]
     },
     "metadata": {},
     "execution_count": 31
    }
   ],
   "metadata": {}
  },
  {
   "cell_type": "code",
   "execution_count": 32,
   "source": [
    "{column: df_top_candidates[df_top_candidates.Column == column].shape[0] for column in ['Subject', 'Body']}"
   ],
   "outputs": [
    {
     "output_type": "execute_result",
     "data": {
      "text/plain": [
       "{'Subject': 55612, 'Body': 474912}"
      ]
     },
     "metadata": {},
     "execution_count": 32
    }
   ],
   "metadata": {}
  },
  {
   "cell_type": "code",
   "execution_count": 37,
   "source": [
    "df_top_candidates.to_parquet(r\"/Users/anton/datasets/enron_top_candidates.parquet\")"
   ],
   "outputs": [],
   "metadata": {}
  },
  {
   "cell_type": "markdown",
   "source": [
    "## 3. L2 ranking: rank candidate emails using OpenAI GPT-3"
   ],
   "metadata": {}
  },
  {
   "cell_type": "code",
   "execution_count": 3,
   "source": [
    "with open(\"/Users/anton/openai_api_key.txt\", \"r\") as f:\n",
    "    openai.api_key = f.read().strip()"
   ],
   "outputs": [],
   "metadata": {}
  },
  {
   "cell_type": "code",
   "execution_count": 4,
   "source": [
    "def query_openai_search(query, documents):\n",
    "    result = openai.Engine(\"davinci-msft\").search(query=query, documents=documents)\n",
    "    return {element[\"document\"]: element[\"score\"] for element in result.data}"
   ],
   "outputs": [],
   "metadata": {}
  },
  {
   "cell_type": "code",
   "execution_count": 5,
   "source": [
    "%%time\n",
    "result = query_openai_search(query=\"test\", documents=[\"test\" for i in range(3)])\n",
    "print(result)"
   ],
   "outputs": [
    {
     "output_type": "stream",
     "name": "stdout",
     "text": [
      "{0: 616.678, 1: 628.068, 2: 606.766}\n",
      "CPU times: user 31.1 ms, sys: 23.3 ms, total: 54.4 ms\n",
      "Wall time: 3.07 s\n"
     ]
    }
   ],
   "metadata": {
    "tags": []
   }
  },
  {
   "cell_type": "code",
   "execution_count": 7,
   "source": [
    "%%time\n",
    "result = query_openai_search(query=\"fruit\", documents=[\"apple\", \"orange\", \"apple juice\", \"cat\", \"visual studio code\"])\n",
    "print(result)"
   ],
   "outputs": [
    {
     "output_type": "stream",
     "name": "stdout",
     "text": [
      "{0: 657.127, 1: 288.99, 2: 637.704, 3: 138.706, 4: -84.733}\n",
      "CPU times: user 24.8 ms, sys: 5.34 ms, total: 30.1 ms\n",
      "Wall time: 4.47 s\n"
     ]
    }
   ],
   "metadata": {}
  },
  {
   "cell_type": "code",
   "execution_count": 36,
   "source": [
    "# For GPT-3 the maximum document length (in tokens) is 2034 minus the number of tokens in the query:\n",
    "# https://beta.openai.com/docs/api-reference/searches/create#searches/create-documents\n",
    "MAX_DOC_LENGTH = 3000\n",
    "\n",
    "def get_query_text(subject, body, max_doc_length = MAX_DOC_LENGTH):\n",
    "    text = f\"Subject: {subject}\\n\\n{body}\"\n",
    "    return text[:MAX_DOC_LENGTH]\n",
    "\n",
    "print(get_query_text(\"subject\", \"body\" * 100000))"
   ],
   "outputs": [
    {
     "output_type": "stream",
     "name": "stdout",
     "text": [
      "Subject: subject\n",
      "\n",
      "bodybodybodybodybodybodybodybodybodybodybodybodybodybodybodybodybodybodybodybodybodybodybodybodybodybodybodybodybodybodybodybodybodybodybodybodybodybodybodybodybodybodybodybodybodybodybodybodybodybodybodybodybodybodybodybodybodybodybodybodybodybodybodybodybodybodybodybodybodybodybodybodybodybodybodybodybodybodybodybodybodybodybodybodybodybodybodybodybodybodybodybodybodybodybodybodybodybodybodybodybodybodybodybodybodybodybodybodybodybodybodybodybodybodybodybodybodybodybodybodybodybodybodybodybodybodybodybodybodybodybodybodybodybodybodybodybodybodybodybodybodybodybodybodybodybodybodybodybodybodybodybodybodybodybodybodybodybodybodybodybodybodybodybodybodybodybodybodybodybodybodybodybodybodybodybodybodybodybodybodybodybodybodybodybodybodybodybodybodybodybodybodybodybodybodybodybodybodybodybodybodybodybodybodybodybodybodybodybodybodybodybodybodybodybodybodybodybodybodybodybodybodybodybodybodybodybodybodybodybodybodybodybodybodybodybodybodybodybodybodybodybodybodybodybodybodybodybodybodybodybodybodybodybodybodybodybodybodybodybodybodybodybodybodybodybodybodybodybodybodybodybodybodybodybodybodybodybodybodybodybodybodybodybodybodybodybodybodybodybodybodybodybodybodybodybodybodybodybodybodybodybodybodybodybodybodybodybodybodybodybodybodybodybodybodybodybodybodybodybodybodybodybodybodybodybodybodybodybodybodybodybodybodybodybodybodybodybodybodybodybodybodybodybodybodybodybodybodybodybodybodybodybodybodybodybodybodybodybodybodybodybodybodybodybodybodybodybodybodybodybodybodybodybodybodybodybodybodybodybodybodybodybodybodybodybodybodybodybodybodybodybodybodybodybodybodybodybodybodybodybodybodybodybodybodybodybodybodybodybodybodybodybodybodybodybodybodybodybodybodybodybodybodybodybodybodybodybodybodybodybodybodybodybodybodybodybodybodybodybodybodybodybodybodybodybodybodybodybodybodybodybodybodybodybodybodybodybodybodybodybodybodybodybodybodybodybodybodybodybodybodybodybodybodybodybodybodybodybodybodybodybodybodybodybodybodybodybodybodybodybodybodybodybodybodybodybodybodybodybodybodybodybodybodybodybodybodybodybodybodybodybodybodybodybodybodybodybodybodybodybodybodybodybodybodybodybodybodybodybodybodybodybodybodybodybodybodybodybodybodybodybodybodybodybodybodybodybodybodybodybodybodybodybodybodybodybodybodybodybodybodybodybodybodybodybodybodybodybodybodybodybodybodybodybodybodybodybodybodybodybodybodybodybodybodybodybodybodybodybodybodybodybodybodybodybodybodybodybodybodybodybodybodybodybodybodybodybodybodybodybodybodybodybodybodybodybodybodybodybodybodybodybodybodybodybodybodybodybodybodybodybodybodybodybodybodybodybodybodybodybodybodybodybodybodybodybodybodybodybodybodybodybodybodybodybodybodybodybodybodybodybodybodybodybodybodybodybodybodybodybodybodybodybodybodybodybodybodybodybodybodybodybodybodybodybodybodybodybodybodybodybodybodybodybodybodybodybodybodybodybodybodybodybodybodybodybodybodybodybodybodybodybodybodybodybodybodybodybodybodybodybodybodybodybodybodybodybodybodybodybodybodybodybodybodybodybodybodybodybodybodybodybodybodybodybo\n"
     ]
    }
   ],
   "metadata": {
    "tags": []
   }
  },
  {
   "cell_type": "code",
   "execution_count": 79,
   "source": [
    "df_grouped_candidates = df_top_candidates.groupby('MeetingID')\n",
    "\n",
    "rows = []\n",
    "pbar = tqdm(df_grouped_candidates, total=df_grouped_candidates.ngroups)\n",
    "\n",
    "for meeting_id, df_group in pbar:\n",
    "    max_doc_length = MAX_DOC_LENGTH\n",
    "\n",
    "    for attempt in range(3):\n",
    "        try:\n",
    "            first_row = df_group.iloc[0]\n",
    "            query = get_query_text(first_row.Meeting_Subject, first_row.Meeting_Body, max_doc_length / 2)\n",
    "            query_length = len(query)\n",
    "\n",
    "            documents = []\n",
    "            email_ids = []\n",
    "            for _, row in df_group.iterrows():\n",
    "                documents.append(get_query_text(row.Email_Subject, row.Email_Body, max_doc_length - query_length))\n",
    "                email_ids.append(row.EmailID)\n",
    "\n",
    "            query_result = query_openai_search(query, documents)\n",
    "            for doc, score in query_result.items():\n",
    "                rows.append({'MeetingID': meeting_id, 'EmailID': email_ids[doc], 'GPTScore': score})\n",
    "\n",
    "        except Exception as e:\n",
    "            if 'over the length limit' in str(e):\n",
    "                max_doc_length = int(max_doc_length / 2)\n",
    "                pbar.write(f'Exception for meeting {meeting_id}, retrying with smaller max doc length {max_doc_length}: {e}')\n",
    "            else:\n",
    "                pbar.write(f'Exception for meeting {meeting_id}, retrying: {e}')\n",
    "            continue\n",
    "        break\n",
    "\n",
    "df_gpt = pd.DataFrame(rows)"
   ],
   "outputs": [
    {
     "output_type": "stream",
     "name": "stdout",
     "text": [
      "ERROR! Session/line number was not unique in database. History logging moved to new session 142\n"
     ]
    },
    {
     "output_type": "display_data",
     "data": {
      "application/vnd.jupyter.widget-view+json": {
       "version_major": 2,
       "version_minor": 0,
       "model_id": "d7ff0ee704144f4992b8afd9f0818573"
      },
      "text/plain": [
       "  0%|          | 0/4736 [00:00<?, ?it/s]"
      ]
     },
     "metadata": {}
    },
    {
     "output_type": "stream",
     "name": "stdout",
     "text": [
      "ttribute 'decode'\n",
      "Exception for meeting 470777, retrying with smaller doc length: 'int' object has no attribute 'decode'\n",
      "Exception for meeting 470777, retrying with smaller doc length: 'int' object has no attribute 'decode'\n",
      "Exception for meeting 470780, retrying with smaller doc length: 'int' object has no attribute 'decode'\n",
      "Exception for meeting 470780, retrying with smaller doc length: 'int' object has no attribute 'decode'\n",
      "Exception for meeting 470780, retrying with smaller doc length: 'int' object has no attribute 'decode'\n",
      "Exception for meeting 470781, retrying with smaller doc length: 'int' object has no attribute 'decode'\n",
      "Exception for meeting 470781, retrying with smaller doc length: 'int' object has no attribute 'decode'\n",
      "Exception for meeting 470781, retrying with smaller doc length: 'int' object has no attribute 'decode'\n",
      "Exception for meeting 470783, retrying with smaller doc length: 'int' object has no attribute 'decode'\n",
      "Exception for meeting 470783, retrying with smaller doc length: 'int' object has no attribute 'decode'\n",
      "Exception for meeting 470783, retrying with smaller doc length: 'int' object has no attribute 'decode'\n",
      "Exception for meeting 470784, retrying with smaller doc length: 'int' object has no attribute 'decode'\n",
      "Exception for meeting 470784, retrying with smaller doc length: 'int' object has no attribute 'decode'\n",
      "Exception for meeting 470784, retrying with smaller doc length: 'int' object has no attribute 'decode'\n",
      "Exception for meeting 470785, retrying with smaller doc length: 'int' object has no attribute 'decode'\n",
      "Exception for meeting 470785, retrying with smaller doc length: 'int' object has no attribute 'decode'\n",
      "Exception for meeting 470785, retrying with smaller doc length: 'int' object has no attribute 'decode'\n",
      "Exception for meeting 470786, retrying with smaller doc length: 'int' object has no attribute 'decode'\n",
      "Exception for meeting 470786, retrying with smaller doc length: 'int' object has no attribute 'decode'\n",
      "Exception for meeting 470786, retrying with smaller doc length: 'int' object has no attribute 'decode'\n",
      "Exception for meeting 470787, retrying with smaller doc length: 'int' object has no attribute 'decode'\n",
      "Exception for meeting 470787, retrying with smaller doc length: 'int' object has no attribute 'decode'\n",
      "Exception for meeting 470787, retrying with smaller doc length: 'int' object has no attribute 'decode'\n",
      "Exception for meeting 470788, retrying with smaller doc length: 'int' object has no attribute 'decode'\n",
      "Exception for meeting 470788, retrying with smaller doc length: 'int' object has no attribute 'decode'\n",
      "Exception for meeting 470788, retrying with smaller doc length: 'int' object has no attribute 'decode'\n",
      "Exception for meeting 470790, retrying with smaller doc length: 'int' object has no attribute 'decode'\n",
      "Exception for meeting 470790, retrying with smaller doc length: 'int' object has no attribute 'decode'\n",
      "Exception for meeting 470790, retrying with smaller doc length: 'int' object has no attribute 'decode'\n",
      "Exception for meeting 470791, retrying with smaller doc length: 'int' object has no attribute 'decode'\n",
      "Exception for meeting 470791, retrying with smaller doc length: 'int' object has no attribute 'decode'\n",
      "Exception for meeting 470791, retrying with smaller doc length: 'int' object has no attribute 'decode'\n",
      "Exception for meeting 470792, retrying with smaller doc length: 'int' object has no attribute 'decode'\n",
      "Exception for meeting 470792, retrying with smaller doc length: 'int' object has no attribute 'decode'\n",
      "Exception for meeting 470792, retrying with smaller doc length: 'int' object has no attribute 'decode'\n",
      "Exception for meeting 470793, retrying with smaller doc length: 'int' object has no attribute 'decode'\n",
      "Exception for meeting 470793, retrying with smaller doc length: 'int' object has no attribute 'decode'\n",
      "Exception for meeting 470793, retrying with smaller doc length: 'int' object has no attribute 'decode'\n",
      "Exception for meeting 470794, retrying with smaller doc length: 'int' object has no attribute 'decode'\n",
      "Exception for meeting 470794, retrying with smaller doc length: 'int' object has no attribute 'decode'\n",
      "Exception for meeting 470794, retrying with smaller doc length: 'int' object has no attribute 'decode'\n",
      "Exception for meeting 470796, retrying with smaller doc length: 'int' object has no attribute 'decode'\n",
      "Exception for meeting 470796, retrying with smaller doc length: 'int' object has no attribute 'decode'\n",
      "Exception for meeting 470796, retrying with smaller doc length: 'int' object has no attribute 'decode'\n",
      "Exception for meeting 470799, retrying with smaller doc length: 'int' object has no attribute 'decode'\n",
      "Exception for meeting 470799, retrying with smaller doc length: 'int' object has no attribute 'decode'\n",
      "Exception for meeting 470799, retrying with smaller doc length: 'int' object has no attribute 'decode'\n",
      "Exception for meeting 470800, retrying with smaller doc length: 'int' object has no attribute 'decode'\n",
      "Exception for meeting 470800, retrying with smaller doc length: 'int' object has no attribute 'decode'\n",
      "Exception for meeting 470800, retrying with smaller doc length: 'int' object has no attribute 'decode'\n",
      "Exception for meeting 470801, retrying with smaller doc length: 'int' object has no attribute 'decode'\n",
      "Exception for meeting 470801, retrying with smaller doc length: 'int' object has no attribute 'decode'\n",
      "Exception for meeting 470801, retrying with smaller doc length: 'int' object has no attribute 'decode'\n",
      "Exception for meeting 470802, retrying with smaller doc length: 'int' object has no attribute 'decode'\n",
      "Exception for meeting 470802, retrying with smaller doc length: 'int' object has no attribute 'decode'\n",
      "Exception for meeting 470802, retrying with smaller doc length: 'int' object has no attribute 'decode'\n",
      "Exception for meeting 470803, retrying with smaller doc length: 'int' object has no attribute 'decode'\n",
      "Exception for meeting 470803, retrying with smaller doc length: 'int' object has no attribute 'decode'\n",
      "Exception for meeting 470803, retrying with smaller doc length: 'int' object has no attribute 'decode'\n",
      "Exception for meeting 470804, retrying with smaller doc length: 'int' object has no attribute 'decode'\n",
      "Exception for meeting 470804, retrying with smaller doc length: 'int' object has no attribute 'decode'\n",
      "Exception for meeting 470804, retrying with smaller doc length: 'int' object has no attribute 'decode'\n",
      "Exception for meeting 470808, retrying with smaller doc length: 'int' object has no attribute 'decode'\n",
      "Exception for meeting 470808, retrying with smaller doc length: 'int' object has no attribute 'decode'\n",
      "Exception for meeting 470808, retrying with smaller doc length: 'int' object has no attribute 'decode'\n",
      "Exception for meeting 470809, retrying with smaller doc length: 'int' object has no attribute 'decode'\n",
      "Exception for meeting 470809, retrying with smaller doc length: 'int' object has no attribute 'decode'\n",
      "Exception for meeting 470809, retrying with smaller doc length: 'int' object has no attribute 'decode'\n",
      "Exception for meeting 470811, retrying with smaller doc length: 'int' object has no attribute 'decode'\n",
      "Exception for meeting 470811, retrying with smaller doc length: 'int' object has no attribute 'decode'\n",
      "Exception for meeting 470811, retrying with smaller doc length: 'int' object has no attribute 'decode'\n",
      "Exception for meeting 470812, retrying with smaller doc length: 'int' object has no attribute 'decode'\n",
      "Exception for meeting 470812, retrying with smaller doc length: 'int' object has no attribute 'decode'\n",
      "Exception for meeting 470812, retrying with smaller doc length: 'int' object has no attribute 'decode'\n",
      "Exception for meeting 470813, retrying with smaller doc length: 'int' object has no attribute 'decode'\n",
      "Exception for meeting 470813, retrying with smaller doc length: 'int' object has no attribute 'decode'\n",
      "Exception for meeting 470813, retrying with smaller doc length: 'int' object has no attribute 'decode'\n",
      "Exception for meeting 470814, retrying with smaller doc length: 'int' object has no attribute 'decode'\n",
      "Exception for meeting 470814, retrying with smaller doc length: 'int' object has no attribute 'decode'\n",
      "Exception for meeting 470814, retrying with smaller doc length: 'int' object has no attribute 'decode'\n",
      "Exception for meeting 470815, retrying with smaller doc length: 'int' object has no attribute 'decode'\n",
      "Exception for meeting 470815, retrying with smaller doc length: 'int' object has no attribute 'decode'\n",
      "Exception for meeting 470815, retrying with smaller doc length: 'int' object has no attribute 'decode'\n",
      "Exception for meeting 470817, retrying with smaller doc length: 'int' object has no attribute 'decode'\n",
      "Exception for meeting 470817, retrying with smaller doc length: 'int' object has no attribute 'decode'\n",
      "Exception for meeting 470817, retrying with smaller doc length: 'int' object has no attribute 'decode'\n",
      "Exception for meeting 470818, retrying with smaller doc length: 'int' object has no attribute 'decode'\n",
      "Exception for meeting 470818, retrying with smaller doc length: 'int' object has no attribute 'decode'\n",
      "Exception for meeting 470818, retrying with smaller doc length: 'int' object has no attribute 'decode'\n",
      "Exception for meeting 470819, retrying with smaller doc length: 'int' object has no attribute 'decode'\n",
      "Exception for meeting 470819, retrying with smaller doc length: 'int' object has no attribute 'decode'\n",
      "Exception for meeting 470819, retrying with smaller doc length: 'int' object has no attribute 'decode'\n",
      "Exception for meeting 470820, retrying with smaller doc length: 'int' object has no attribute 'decode'\n",
      "Exception for meeting 470820, retrying with smaller doc length: 'int' object has no attribute 'decode'\n",
      "Exception for meeting 470820, retrying with smaller doc length: 'int' object has no attribute 'decode'\n",
      "Exception for meeting 491102, retrying with smaller doc length: 'int' object has no attribute 'decode'\n",
      "Exception for meeting 491102, retrying with smaller doc length: 'int' object has no attribute 'decode'\n",
      "Exception for meeting 491102, retrying with smaller doc length: 'int' object has no attribute 'decode'\n",
      "Exception for meeting 491103, retrying with smaller doc length: 'int' object has no attribute 'decode'\n",
      "Exception for meeting 491103, retrying with smaller doc length: 'int' object has no attribute 'decode'\n",
      "Exception for meeting 491103, retrying with smaller doc length: 'int' object has no attribute 'decode'\n",
      "Exception for meeting 491104, retrying with smaller doc length: 'int' object has no attribute 'decode'\n",
      "Exception for meeting 491104, retrying with smaller doc length: 'int' object has no attribute 'decode'\n",
      "Exception for meeting 491104, retrying with smaller doc length: 'int' object has no attribute 'decode'\n",
      "Exception for meeting 491106, retrying with smaller doc length: 'int' object has no attribute 'decode'\n",
      "Exception for meeting 491106, retrying with smaller doc length: 'int' object has no attribute 'decode'\n",
      "Exception for meeting 491106, retrying with smaller doc length: 'int' object has no attribute 'decode'\n",
      "Exception for meeting 494783, retrying with smaller doc length: 'int' object has no attribute 'decode'\n",
      "Exception for meeting 494783, retrying with smaller doc length: 'int' object has no attribute 'decode'\n",
      "Exception for meeting 494783, retrying with smaller doc length: 'int' object has no attribute 'decode'\n",
      "Exception for meeting 494785, retrying with smaller doc length: 'int' object has no attribute 'decode'\n",
      "Exception for meeting 494785, retrying with smaller doc length: 'int' object has no attribute 'decode'\n",
      "Exception for meeting 494785, retrying with smaller doc length: 'int' object has no attribute 'decode'\n",
      "Exception for meeting 494786, retrying with smaller doc length: 'int' object has no attribute 'decode'\n",
      "Exception for meeting 494786, retrying with smaller doc length: 'int' object has no attribute 'decode'\n",
      "Exception for meeting 494786, retrying with smaller doc length: 'int' object has no attribute 'decode'\n",
      "Exception for meeting 494787, retrying with smaller doc length: 'int' object has no attribute 'decode'\n",
      "Exception for meeting 494787, retrying with smaller doc length: 'int' object has no attribute 'decode'\n",
      "Exception for meeting 494787, retrying with smaller doc length: 'int' object has no attribute 'decode'\n",
      "Exception for meeting 494788, retrying with smaller doc length: 'int' object has no attribute 'decode'\n",
      "Exception for meeting 494788, retrying with smaller doc length: 'int' object has no attribute 'decode'\n",
      "Exception for meeting 494788, retrying with smaller doc length: 'int' object has no attribute 'decode'\n",
      "Exception for meeting 499156, retrying with smaller doc length: 'int' object has no attribute 'decode'\n",
      "Exception for meeting 499156, retrying with smaller doc length: 'int' object has no attribute 'decode'\n",
      "Exception for meeting 499156, retrying with smaller doc length: 'int' object has no attribute 'decode'\n",
      "Exception for meeting 499158, retrying with smaller doc length: 'int' object has no attribute 'decode'\n",
      "Exception for meeting 499158, retrying with smaller doc length: 'int' object has no attribute 'decode'\n",
      "Exception for meeting 499158, retrying with smaller doc length: 'int' object has no attribute 'decode'\n",
      "Exception for meeting 499159, retrying with smaller doc length: 'int' object has no attribute 'decode'\n",
      "Exception for meeting 499159, retrying with smaller doc length: 'int' object has no attribute 'decode'\n",
      "Exception for meeting 499159, retrying with smaller doc length: 'int' object has no attribute 'decode'\n",
      "Exception for meeting 499160, retrying with smaller doc length: 'int' object has no attribute 'decode'\n",
      "Exception for meeting 499160, retrying with smaller doc length: 'int' object has no attribute 'decode'\n",
      "Exception for meeting 499160, retrying with smaller doc length: 'int' object has no attribute 'decode'\n",
      "Exception for meeting 499162, retrying with smaller doc length: 'int' object has no attribute 'decode'\n",
      "Exception for meeting 499162, retrying with smaller doc length: 'int' object has no attribute 'decode'\n",
      "Exception for meeting 499162, retrying with smaller doc length: 'int' object has no attribute 'decode'\n",
      "Exception for meeting 503382, retrying with smaller doc length: 'int' object has no attribute 'decode'\n",
      "Exception for meeting 503382, retrying with smaller doc length: 'int' object has no attribute 'decode'\n",
      "Exception for meeting 503382, retrying with smaller doc length: 'int' object has no attribute 'decode'\n",
      "Exception for meeting 503383, retrying with smaller doc length: 'int' object has no attribute 'decode'\n",
      "Exception for meeting 503383, retrying with smaller doc length: 'int' object has no attribute 'decode'\n",
      "Exception for meeting 503383, retrying with smaller doc length: 'int' object has no attribute 'decode'\n",
      "Exception for meeting 503385, retrying with smaller doc length: 'int' object has no attribute 'decode'\n",
      "Exception for meeting 503385, retrying with smaller doc length: 'int' object has no attribute 'decode'\n",
      "Exception for meeting 503385, retrying with smaller doc length: 'int' object has no attribute 'decode'\n",
      "Exception for meeting 503389, retrying with smaller doc length: 'int' object has no attribute 'decode'\n",
      "Exception for meeting 503389, retrying with smaller doc length: 'int' object has no attribute 'decode'\n",
      "Exception for meeting 503389, retrying with smaller doc length: 'int' object has no attribute 'decode'\n",
      "Exception for meeting 503390, retrying with smaller doc length: 'int' object has no attribute 'decode'\n",
      "Exception for meeting 503390, retrying with smaller doc length: 'int' object has no attribute 'decode'\n",
      "Exception for meeting 503390, retrying with smaller doc length: 'int' object has no attribute 'decode'\n",
      "Exception for meeting 503392, retrying with smaller doc length: 'int' object has no attribute 'decode'\n",
      "Exception for meeting 503392, retrying with smaller doc length: 'int' object has no attribute 'decode'\n",
      "Exception for meeting 503392, retrying with smaller doc length: 'int' object has no attribute 'decode'\n",
      "Exception for meeting 503394, retrying with smaller doc length: 'int' object has no attribute 'decode'\n",
      "Exception for meeting 503394, retrying with smaller doc length: 'int' object has no attribute 'decode'\n",
      "Exception for meeting 503394, retrying with smaller doc length: 'int' object has no attribute 'decode'\n",
      "Exception for meeting 503398, retrying with smaller doc length: 'int' object has no attribute 'decode'\n",
      "Exception for meeting 503398, retrying with smaller doc length: 'int' object has no attribute 'decode'\n",
      "Exception for meeting 503398, retrying with smaller doc length: 'int' object has no attribute 'decode'\n",
      "Exception for meeting 503399, retrying with smaller doc length: 'int' object has no attribute 'decode'\n",
      "Exception for meeting 503399, retrying with smaller doc length: 'int' object has no attribute 'decode'\n",
      "Exception for meeting 503399, retrying with smaller doc length: 'int' object has no attribute 'decode'\n",
      "Exception for meeting 503402, retrying with smaller doc length: 'int' object has no attribute 'decode'\n",
      "Exception for meeting 503402, retrying with smaller doc length: 'int' object has no attribute 'decode'\n",
      "Exception for meeting 503402, retrying with smaller doc length: 'int' object has no attribute 'decode'\n",
      "Exception for meeting 503403, retrying with smaller doc length: 'int' object has no attribute 'decode'\n",
      "Exception for meeting 503403, retrying with smaller doc length: 'int' object has no attribute 'decode'\n",
      "Exception for meeting 503403, retrying with smaller doc length: 'int' object has no attribute 'decode'\n",
      "Exception for meeting 503404, retrying with smaller doc length: 'int' object has no attribute 'decode'\n",
      "Exception for meeting 503404, retrying with smaller doc length: 'int' object has no attribute 'decode'\n",
      "Exception for meeting 503404, retrying with smaller doc length: 'int' object has no attribute 'decode'\n",
      "Exception for meeting 503407, retrying with smaller doc length: 'int' object has no attribute 'decode'\n",
      "Exception for meeting 503407, retrying with smaller doc length: 'int' object has no attribute 'decode'\n",
      "Exception for meeting 503407, retrying with smaller doc length: 'int' object has no attribute 'decode'\n",
      "Exception for meeting 503408, retrying with smaller doc length: 'int' object has no attribute 'decode'\n",
      "Exception for meeting 503408, retrying with smaller doc length: 'int' object has no attribute 'decode'\n",
      "Exception for meeting 503408, retrying with smaller doc length: 'int' object has no attribute 'decode'\n",
      "Exception for meeting 503409, retrying with smaller doc length: 'int' object has no attribute 'decode'\n",
      "Exception for meeting 503409, retrying with smaller doc length: 'int' object has no attribute 'decode'\n",
      "Exception for meeting 503409, retrying with smaller doc length: 'int' object has no attribute 'decode'\n",
      "Exception for meeting 503410, retrying with smaller doc length: 'int' object has no attribute 'decode'\n",
      "Exception for meeting 503410, retrying with smaller doc length: 'int' object has no attribute 'decode'\n",
      "Exception for meeting 503410, retrying with smaller doc length: 'int' object has no attribute 'decode'\n",
      "Exception for meeting 503411, retrying with smaller doc length: 'int' object has no attribute 'decode'\n",
      "Exception for meeting 503411, retrying with smaller doc length: 'int' object has no attribute 'decode'\n",
      "Exception for meeting 503411, retrying with smaller doc length: 'int' object has no attribute 'decode'\n",
      "Exception for meeting 503413, retrying with smaller doc length: 'int' object has no attribute 'decode'\n",
      "Exception for meeting 503413, retrying with smaller doc length: 'int' object has no attribute 'decode'\n",
      "Exception for meeting 503413, retrying with smaller doc length: 'int' object has no attribute 'decode'\n",
      "Exception for meeting 517046, retrying with smaller doc length: 'int' object has no attribute 'decode'\n",
      "Exception for meeting 517046, retrying with smaller doc length: 'int' object has no attribute 'decode'\n",
      "Exception for meeting 517046, retrying with smaller doc length: 'int' object has no attribute 'decode'\n"
     ]
    }
   ],
   "metadata": {
    "tags": []
   }
  },
  {
   "cell_type": "code",
   "execution_count": 84,
   "source": [
    "len(rows)"
   ],
   "outputs": [
    {
     "output_type": "execute_result",
     "data": {
      "text/plain": [
       "129014"
      ]
     },
     "metadata": {},
     "execution_count": 84
    }
   ],
   "metadata": {}
  },
  {
   "cell_type": "code",
   "execution_count": 85,
   "source": [
    "df_gpt = pd.DataFrame(rows)"
   ],
   "outputs": [],
   "metadata": {}
  },
  {
   "cell_type": "code",
   "execution_count": 86,
   "source": [
    "df_gpt.shape"
   ],
   "outputs": [
    {
     "output_type": "execute_result",
     "data": {
      "text/plain": [
       "(129014, 3)"
      ]
     },
     "metadata": {},
     "execution_count": 86
    }
   ],
   "metadata": {}
  },
  {
   "cell_type": "code",
   "execution_count": 87,
   "source": [
    "df_gpt.head()"
   ],
   "outputs": [
    {
     "output_type": "execute_result",
     "data": {
      "text/html": [
       "<div>\n",
       "<style scoped>\n",
       "    .dataframe tbody tr th:only-of-type {\n",
       "        vertical-align: middle;\n",
       "    }\n",
       "\n",
       "    .dataframe tbody tr th {\n",
       "        vertical-align: top;\n",
       "    }\n",
       "\n",
       "    .dataframe thead th {\n",
       "        text-align: right;\n",
       "    }\n",
       "</style>\n",
       "<table border=\"1\" class=\"dataframe\">\n",
       "  <thead>\n",
       "    <tr style=\"text-align: right;\">\n",
       "      <th></th>\n",
       "      <th>MeetingID</th>\n",
       "      <th>EmailID</th>\n",
       "      <th>GPTScore</th>\n",
       "    </tr>\n",
       "  </thead>\n",
       "  <tbody>\n",
       "    <tr>\n",
       "      <th>0</th>\n",
       "      <td>5787</td>\n",
       "      <td>152710</td>\n",
       "      <td>50.664</td>\n",
       "    </tr>\n",
       "    <tr>\n",
       "      <th>1</th>\n",
       "      <td>5787</td>\n",
       "      <td>303462</td>\n",
       "      <td>34.774</td>\n",
       "    </tr>\n",
       "    <tr>\n",
       "      <th>2</th>\n",
       "      <td>5787</td>\n",
       "      <td>90925</td>\n",
       "      <td>79.344</td>\n",
       "    </tr>\n",
       "    <tr>\n",
       "      <th>3</th>\n",
       "      <td>5787</td>\n",
       "      <td>74282</td>\n",
       "      <td>290.176</td>\n",
       "    </tr>\n",
       "    <tr>\n",
       "      <th>4</th>\n",
       "      <td>5787</td>\n",
       "      <td>153709</td>\n",
       "      <td>53.086</td>\n",
       "    </tr>\n",
       "  </tbody>\n",
       "</table>\n",
       "</div>"
      ],
      "text/plain": [
       "   MeetingID  EmailID  GPTScore\n",
       "0       5787   152710    50.664\n",
       "1       5787   303462    34.774\n",
       "2       5787    90925    79.344\n",
       "3       5787    74282   290.176\n",
       "4       5787   153709    53.086"
      ]
     },
     "metadata": {},
     "execution_count": 87
    }
   ],
   "metadata": {}
  },
  {
   "cell_type": "code",
   "execution_count": 88,
   "source": [
    "df_gpt.to_json(r\"/Users/anton/datasets/enron_gpt_output.jsonl\", lines=True, orient='records')"
   ],
   "outputs": [],
   "metadata": {}
  },
  {
   "cell_type": "code",
   "execution_count": 23,
   "source": [
    "df_gpt = pd.read_json(r\"/Users/anton/datasets/enron_gpt_output.jsonl\", lines=True, orient='records')"
   ],
   "outputs": [],
   "metadata": {}
  },
  {
   "cell_type": "code",
   "execution_count": null,
   "source": [],
   "outputs": [],
   "metadata": {}
  },
  {
   "cell_type": "code",
   "execution_count": null,
   "source": [],
   "outputs": [],
   "metadata": {}
  },
  {
   "cell_type": "code",
   "execution_count": null,
   "source": [],
   "outputs": [],
   "metadata": {}
  },
  {
   "cell_type": "code",
   "execution_count": 3,
   "source": [
    "import pandas as pd\n",
    "\n",
    "# lets not truncate output too much\n",
    "pd.set_option('display.max_colwidth', 150)\n",
    "\n",
    "docs_df = pd.DataFrame([\n",
    "        [\"d1\", \"this is the first document of many documents\"],\n",
    "        [\"d2\", \"this is another document\"],\n",
    "        [\"d3\", \"the topic of this document is unknown\"]\n",
    "    ], columns=[\"docno\", \"text\"])\n",
    "\n",
    "docs_df"
   ],
   "outputs": [
    {
     "output_type": "execute_result",
     "data": {
      "text/html": [
       "<div>\n",
       "<style scoped>\n",
       "    .dataframe tbody tr th:only-of-type {\n",
       "        vertical-align: middle;\n",
       "    }\n",
       "\n",
       "    .dataframe tbody tr th {\n",
       "        vertical-align: top;\n",
       "    }\n",
       "\n",
       "    .dataframe thead th {\n",
       "        text-align: right;\n",
       "    }\n",
       "</style>\n",
       "<table border=\"1\" class=\"dataframe\">\n",
       "  <thead>\n",
       "    <tr style=\"text-align: right;\">\n",
       "      <th></th>\n",
       "      <th>docno</th>\n",
       "      <th>text</th>\n",
       "    </tr>\n",
       "  </thead>\n",
       "  <tbody>\n",
       "    <tr>\n",
       "      <th>0</th>\n",
       "      <td>d1</td>\n",
       "      <td>this is the first document of many documents</td>\n",
       "    </tr>\n",
       "    <tr>\n",
       "      <th>1</th>\n",
       "      <td>d2</td>\n",
       "      <td>this is another document</td>\n",
       "    </tr>\n",
       "    <tr>\n",
       "      <th>2</th>\n",
       "      <td>d3</td>\n",
       "      <td>the topic of this document is unknown</td>\n",
       "    </tr>\n",
       "  </tbody>\n",
       "</table>\n",
       "</div>"
      ],
      "text/plain": [
       "  docno                                          text\n",
       "0    d1  this is the first document of many documents\n",
       "1    d2                      this is another document\n",
       "2    d3         the topic of this document is unknown"
      ]
     },
     "metadata": {},
     "execution_count": 3
    }
   ],
   "metadata": {}
  },
  {
   "cell_type": "code",
   "execution_count": 4,
   "source": [
    "indexer = pt.DFIndexer(\"/Users/Anton/datasets/index_3docs\", overwrite=True)\n",
    "index_ref = indexer.index(docs_df[\"text\"], docs_df[\"docno\"])\n",
    "index_ref.toString()"
   ],
   "outputs": [
    {
     "output_type": "execute_result",
     "data": {
      "text/plain": [
       "'/Users/Anton/datasets/index_3docs/data.properties'"
      ]
     },
     "metadata": {},
     "execution_count": 4
    }
   ],
   "metadata": {}
  },
  {
   "cell_type": "code",
   "execution_count": 5,
   "source": [
    "!ls -al /Users/Anton/datasets/index_3docs"
   ],
   "outputs": [
    {
     "output_type": "stream",
     "name": "stdout",
     "text": [
      "total 72\n",
      "drwxr-xr-x  10 anton  staff   320 Apr  5 17:22 \u001b[1m\u001b[36m.\u001b[m\u001b[m\n",
      "drwxr-xr-x   5 anton  staff   160 Apr  5 17:22 \u001b[1m\u001b[36m..\u001b[m\u001b[m\n",
      "-rw-r--r--   1 anton  staff     3 Apr  5 17:22 data.direct.bf\n",
      "-rw-r--r--   1 anton  staff    51 Apr  5 17:22 data.document.fsarrayfile\n",
      "-rw-r--r--   1 anton  staff     4 Apr  5 17:22 data.inverted.bf\n",
      "-rw-r--r--   1 anton  staff   344 Apr  5 17:22 data.lexicon.fsomapfile\n",
      "-rw-r--r--   1 anton  staff   249 Apr  5 17:22 data.lexicon.fsomaphash\n",
      "-rw-r--r--   1 anton  staff    24 Apr  5 17:22 data.meta.idx\n",
      "-rw-r--r--   1 anton  staff    36 Apr  5 17:22 data.meta.zdata\n",
      "-rw-r--r--   1 anton  staff  4193 Apr  5 17:22 data.properties\n"
     ]
    }
   ],
   "metadata": {}
  },
  {
   "cell_type": "code",
   "execution_count": 6,
   "source": [
    "index = pt.IndexFactory.of(index_ref)\n",
    "\n",
    "#lets see what type index is.\n",
    "type(index)"
   ],
   "outputs": [
    {
     "output_type": "execute_result",
     "data": {
      "text/plain": [
       "jnius.reflect.org.terrier.structures.Index"
      ]
     },
     "metadata": {},
     "execution_count": 6
    }
   ],
   "metadata": {}
  },
  {
   "cell_type": "code",
   "execution_count": 7,
   "source": [
    "br = pt.BatchRetrieve(index, wmodel=\"Tf\")\n",
    "br.search(\"document\")"
   ],
   "outputs": [
    {
     "output_type": "execute_result",
     "data": {
      "text/html": [
       "<div>\n",
       "<style scoped>\n",
       "    .dataframe tbody tr th:only-of-type {\n",
       "        vertical-align: middle;\n",
       "    }\n",
       "\n",
       "    .dataframe tbody tr th {\n",
       "        vertical-align: top;\n",
       "    }\n",
       "\n",
       "    .dataframe thead th {\n",
       "        text-align: right;\n",
       "    }\n",
       "</style>\n",
       "<table border=\"1\" class=\"dataframe\">\n",
       "  <thead>\n",
       "    <tr style=\"text-align: right;\">\n",
       "      <th></th>\n",
       "      <th>qid</th>\n",
       "      <th>docid</th>\n",
       "      <th>docno</th>\n",
       "      <th>rank</th>\n",
       "      <th>score</th>\n",
       "      <th>query</th>\n",
       "    </tr>\n",
       "  </thead>\n",
       "  <tbody>\n",
       "    <tr>\n",
       "      <th>0</th>\n",
       "      <td>1</td>\n",
       "      <td>0</td>\n",
       "      <td>d1</td>\n",
       "      <td>0</td>\n",
       "      <td>2.0</td>\n",
       "      <td>document</td>\n",
       "    </tr>\n",
       "    <tr>\n",
       "      <th>1</th>\n",
       "      <td>1</td>\n",
       "      <td>2</td>\n",
       "      <td>d3</td>\n",
       "      <td>1</td>\n",
       "      <td>1.0</td>\n",
       "      <td>document</td>\n",
       "    </tr>\n",
       "    <tr>\n",
       "      <th>2</th>\n",
       "      <td>1</td>\n",
       "      <td>1</td>\n",
       "      <td>d2</td>\n",
       "      <td>2</td>\n",
       "      <td>1.0</td>\n",
       "      <td>document</td>\n",
       "    </tr>\n",
       "  </tbody>\n",
       "</table>\n",
       "</div>"
      ],
      "text/plain": [
       "  qid  docid docno  rank  score     query\n",
       "0   1      0    d1     0    2.0  document\n",
       "1   1      2    d3     1    1.0  document\n",
       "2   1      1    d2     2    1.0  document"
      ]
     },
     "metadata": {},
     "execution_count": 7
    }
   ],
   "metadata": {}
  },
  {
   "cell_type": "code",
   "execution_count": null,
   "source": [],
   "outputs": [],
   "metadata": {}
  },
  {
   "cell_type": "code",
   "execution_count": null,
   "source": [],
   "outputs": [],
   "metadata": {}
  },
  {
   "cell_type": "code",
   "execution_count": null,
   "source": [],
   "outputs": [],
   "metadata": {}
  },
  {
   "cell_type": "code",
   "execution_count": null,
   "source": [],
   "outputs": [],
   "metadata": {}
  },
  {
   "cell_type": "code",
   "execution_count": 4,
   "source": [],
   "outputs": [],
   "metadata": {}
  },
  {
   "cell_type": "code",
   "execution_count": 5,
   "source": [],
   "outputs": [
    {
     "output_type": "stream",
     "name": "stdout",
     "text": [
      "3313\n"
     ]
    }
   ],
   "metadata": {
    "tags": []
   }
  },
  {
   "cell_type": "code",
   "execution_count": 6,
   "source": [
    "mail_files[150]"
   ],
   "outputs": [
    {
     "output_type": "execute_result",
     "data": {
      "text/plain": [
       "'hyatt-k/deleted_items/atoka_lateral/3.'"
      ]
     },
     "metadata": {},
     "execution_count": 6
    }
   ],
   "metadata": {}
  },
  {
   "cell_type": "code",
   "execution_count": 28,
   "source": [
    "calendar_messages = []\n",
    "\n",
    "for user in os.listdir(enron_path):\n",
    "    calendar_dir = os.path.join(enron_path, user, \"calendar\")\n",
    "    if os.path.isdir(calendar_dir):\n",
    "        for root, _, files in os.walk(calendar_dir):\n",
    "            for file_name in files:\n",
    "                f = os.path.join(root, file_name)\n",
    "                with open(os.path.join(calendar_dir, f), 'rb') as file:\n",
    "                    msg = email.parser.BytesParser(policy=policy.default).parse(file)\n",
    "                    calendar_messages.append(parse_message(msg))\n",
    "\n",
    "print(len(calendar_messages))"
   ],
   "outputs": [
    {
     "output_type": "stream",
     "name": "stdout",
     "text": [
      "6133\n"
     ]
    }
   ],
   "metadata": {
    "tags": []
   }
  },
  {
   "cell_type": "code",
   "execution_count": 29,
   "source": [
    "df_calendar = pd.DataFrame(calendar_messages)"
   ],
   "outputs": [],
   "metadata": {
    "tags": []
   }
  },
  {
   "cell_type": "code",
   "execution_count": 30,
   "source": [
    "calendar_messages[0]"
   ],
   "outputs": [
    {
     "output_type": "execute_result",
     "data": {
      "text/plain": [
       "{'Date': 'Wed, 21 Feb 2001 12:39:49 -0800',\n",
       " 'Subject': 'Mtg: Budget Meeting - Whalley',\n",
       " 'To': None,\n",
       " 'From': 'lavorato@enron.com',\n",
       " 'Cc': None,\n",
       " 'Bcc': None,\n",
       " 'X-To': '',\n",
       " 'X-From': 'Lavorato, John',\n",
       " 'X-Cc': '',\n",
       " 'X-Bcc': '',\n",
       " 'Body': 'Greg Whalley will be holding a budget meeting on Tuesday, Feb. 6 @ 3:00 p.m. in EB3321.  This invitation is extended to all CEOs and/or COOs reporting to Wholesale Services.  Should you have any questions, please contact me immediately.  \\n\\nConfirmed Attendees:\\nLouise Kitchen\\nDave Delainey\\nJeff McMahon\\nJeff Shankman\\nJim Hughes\\nWes Colwell\\n'}"
      ]
     },
     "metadata": {},
     "execution_count": 30
    }
   ],
   "metadata": {}
  },
  {
   "cell_type": "code",
   "execution_count": 31,
   "source": [
    "df_calendar"
   ],
   "outputs": [
    {
     "output_type": "execute_result",
     "data": {
      "text/html": [
       "<div>\n",
       "<style scoped>\n",
       "    .dataframe tbody tr th:only-of-type {\n",
       "        vertical-align: middle;\n",
       "    }\n",
       "\n",
       "    .dataframe tbody tr th {\n",
       "        vertical-align: top;\n",
       "    }\n",
       "\n",
       "    .dataframe thead th {\n",
       "        text-align: right;\n",
       "    }\n",
       "</style>\n",
       "<table border=\"1\" class=\"dataframe\">\n",
       "  <thead>\n",
       "    <tr style=\"text-align: right;\">\n",
       "      <th></th>\n",
       "      <th>Date</th>\n",
       "      <th>Subject</th>\n",
       "      <th>To</th>\n",
       "      <th>From</th>\n",
       "      <th>Cc</th>\n",
       "      <th>Bcc</th>\n",
       "      <th>X-To</th>\n",
       "      <th>X-From</th>\n",
       "      <th>X-Cc</th>\n",
       "      <th>X-Bcc</th>\n",
       "      <th>Body</th>\n",
       "    </tr>\n",
       "  </thead>\n",
       "  <tbody>\n",
       "    <tr>\n",
       "      <th>0</th>\n",
       "      <td>Wed, 21 Feb 2001 12:39:49 -0800</td>\n",
       "      <td>Mtg: Budget Meeting - Whalley</td>\n",
       "      <td>None</td>\n",
       "      <td>lavorato@enron.com</td>\n",
       "      <td>None</td>\n",
       "      <td>None</td>\n",
       "      <td></td>\n",
       "      <td>Lavorato, John</td>\n",
       "      <td></td>\n",
       "      <td></td>\n",
       "      <td>Greg Whalley will be holding a budget meeting on Tuesday, Feb. 6 @ 3:00 p.m. in EB3321.  This invitation is extended to all CEOs and/or COOs repor...</td>\n",
       "    </tr>\n",
       "    <tr>\n",
       "      <th>1</th>\n",
       "      <td>Thu, 14 Jun 2001 13:16:25 -0700</td>\n",
       "      <td>Lunch: Dan Leff</td>\n",
       "      <td>None</td>\n",
       "      <td>kimberly.hillis@enron.com</td>\n",
       "      <td>None</td>\n",
       "      <td>None</td>\n",
       "      <td></td>\n",
       "      <td>Hillis, Kimberly &lt;/O=ENRON/OU=NA/CN=RECIPIENTS/CN=KHILLIS&gt;</td>\n",
       "      <td></td>\n",
       "      <td></td>\n",
       "      <td>Esmerelda Hinojosa - x57390</td>\n",
       "    </tr>\n",
       "    <tr>\n",
       "      <th>2</th>\n",
       "      <td>Thu, 26 Jul 2001 07:05:22 -0700</td>\n",
       "      <td>Mtg: Heath Schiesser - Xcellorator</td>\n",
       "      <td>None</td>\n",
       "      <td>kimberly.hillis@enron.com</td>\n",
       "      <td>None</td>\n",
       "      <td>None</td>\n",
       "      <td></td>\n",
       "      <td>Hillis, Kimberly &lt;/O=ENRON/OU=NA/CN=RECIPIENTS/CN=KHILLIS&gt;</td>\n",
       "      <td></td>\n",
       "      <td></td>\n",
       "      <td>Annitta Granado - 39724</td>\n",
       "    </tr>\n",
       "    <tr>\n",
       "      <th>3</th>\n",
       "      <td>Wed, 23 May 2001 12:08:24 -0700</td>\n",
       "      <td>Mtg: Wes Colwell - Flash to Actual</td>\n",
       "      <td>None</td>\n",
       "      <td>hillis@enron.com</td>\n",
       "      <td>None</td>\n",
       "      <td>None</td>\n",
       "      <td></td>\n",
       "      <td>Hillis, Kimberly</td>\n",
       "      <td></td>\n",
       "      <td></td>\n",
       "      <td>\\n\\n -----Original Message-----\\nFrom: \\tTijerina, Shirley  \\nSent:\\tWednesday, May 23, 2001 2:34 PM\\nTo:\\tBlack, Don; Ruffer, Mary Lynne; Herndon...</td>\n",
       "    </tr>\n",
       "    <tr>\n",
       "      <th>4</th>\n",
       "      <td>Wed, 21 Mar 2001 06:16:25 -0800</td>\n",
       "      <td>Golf: With Greg Whalley (Noon T-time)</td>\n",
       "      <td>None</td>\n",
       "      <td>hillis@enron.com</td>\n",
       "      <td>None</td>\n",
       "      <td>None</td>\n",
       "      <td></td>\n",
       "      <td>Hillis, Kimberly</td>\n",
       "      <td></td>\n",
       "      <td></td>\n",
       "      <td>Kim,\\n\\nJust blk off from 11:00a.m. til the rest of the day.  Memorial Park Golf Course.  (Florida Scramble)  I forward more details later.  \\nNoo...</td>\n",
       "    </tr>\n",
       "    <tr>\n",
       "      <th>...</th>\n",
       "      <td>...</td>\n",
       "      <td>...</td>\n",
       "      <td>...</td>\n",
       "      <td>...</td>\n",
       "      <td>...</td>\n",
       "      <td>...</td>\n",
       "      <td>...</td>\n",
       "      <td>...</td>\n",
       "      <td>...</td>\n",
       "      <td>...</td>\n",
       "      <td>...</td>\n",
       "    </tr>\n",
       "    <tr>\n",
       "      <th>6128</th>\n",
       "      <td>Mon, 05 Nov 2001 11:24:29 -0800</td>\n",
       "      <td>Air Products Interruptible Proposal</td>\n",
       "      <td>mike.curry@enron.com, doug.gilbert-smith@enron.com, m..forney@enron.com, l..day@enron.com, madhup.kumar@enron.com, jeffrey.miller@enron.com, judy....</td>\n",
       "      <td>judy.martinez@enron.com</td>\n",
       "      <td>None</td>\n",
       "      <td>None</td>\n",
       "      <td>Curry, Mike &lt;/O=ENRON/OU=NA/CN=RECIPIENTS/CN=Mcurry&gt;, Gilbert-smith, Doug &lt;/O=ENRON/OU=NA/CN=RECIPIENTS/CN=Dsmith3&gt;, Forney, John M. &lt;/O=ENRON/OU=...</td>\n",
       "      <td>Martinez, Judy &lt;/O=ENRON/OU=NA/CN=RECIPIENTS/CN=JMARTIN2&gt;</td>\n",
       "      <td></td>\n",
       "      <td></td>\n",
       "      <td>When: Wednesday, November 07, 2001 9:00 AM-10:00 AM (GMT-06:00) Central Time (US &amp; Canada).\\nWhere: EB - 3143B\\n\\n*~*~*~*~*~*~*~*~*~*\\n</td>\n",
       "    </tr>\n",
       "    <tr>\n",
       "      <th>6129</th>\n",
       "      <td>Thu, 18 Oct 2001 16:35:17 -0700</td>\n",
       "      <td>Action Required:  Attend West Power Staff Meeting</td>\n",
       "      <td>debra.davidson@enron.com, tim.belden@enron.com, tom.alonso@enron.com, mark.fischer@enron.com, sean.crandall@enron.com, robert.badeer@enron.com, h....</td>\n",
       "      <td>debra.davidson@enron.com</td>\n",
       "      <td>anna.mehrer@enron.com</td>\n",
       "      <td>anna.mehrer@enron.com</td>\n",
       "      <td>Davidson, Debra &lt;/O=ENRON/OU=NA/CN=RECIPIENTS/CN=Ddavids3&gt;, Belden, Tim &lt;/O=ENRON/OU=NA/CN=RECIPIENTS/CN=Tbelden&gt;, Alonso, Tom &lt;/O=ENRON/OU=NA/CN=...</td>\n",
       "      <td>Davidson, Debra &lt;/O=ENRON/OU=NA/CN=RECIPIENTS/CN=DDAVIDS3&gt;</td>\n",
       "      <td>Mehrer, Anna &lt;/O=ENRON/OU=NA/CN=RECIPIENTS/CN=Amehrer&gt;</td>\n",
       "      <td></td>\n",
       "      <td>Please make plans to attend a West Power Trading luncheon staff meeting.\\n\\nDate:  Monday, October 22\\nPlace:  Mt. Hood Conference Room\\nTime:  11...</td>\n",
       "    </tr>\n",
       "    <tr>\n",
       "      <th>6130</th>\n",
       "      <td>Mon, 01 Oct 2001 12:49:10 -0700</td>\n",
       "      <td>Revised:  Randy Hardy</td>\n",
       "      <td>anna.mehrer@enron.com, tim.belden@enron.com, sean.crandall@enron.com, diana.scholtes@enron.com, mike.swerzbin@enron.com, h..foster@enron.com, paul...</td>\n",
       "      <td>anna.mehrer@enron.com</td>\n",
       "      <td>debra.davidson@enron.com</td>\n",
       "      <td>debra.davidson@enron.com</td>\n",
       "      <td>Mehrer, Anna &lt;/O=ENRON/OU=NA/CN=RECIPIENTS/CN=Amehrer&gt;, Belden, Tim &lt;/O=ENRON/OU=NA/CN=RECIPIENTS/CN=Tbelden&gt;, Crandall, Sean &lt;/O=ENRON/OU=NA/CN=R...</td>\n",
       "      <td>Mehrer, Anna &lt;/O=ENRON/OU=NA/CN=RECIPIENTS/CN=AMEHRER&gt;</td>\n",
       "      <td>Davidson, Debra &lt;/O=ENRON/OU=NA/CN=RECIPIENTS/CN=Ddavids3&gt;</td>\n",
       "      <td></td>\n",
       "      <td>This has replaced the previously scheduled meeting.</td>\n",
       "    </tr>\n",
       "    <tr>\n",
       "      <th>6131</th>\n",
       "      <td>Mon, 01 Oct 2001 12:49:10 -0700</td>\n",
       "      <td>Revised:  Randy Hardy</td>\n",
       "      <td>anna.mehrer@enron.com, tim.belden@enron.com, sean.crandall@enron.com, diana.scholtes@enron.com, mike.swerzbin@enron.com, h..foster@enron.com, paul...</td>\n",
       "      <td>anna.mehrer@enron.com</td>\n",
       "      <td>debra.davidson@enron.com</td>\n",
       "      <td>debra.davidson@enron.com</td>\n",
       "      <td>Mehrer, Anna &lt;/O=ENRON/OU=NA/CN=RECIPIENTS/CN=Amehrer&gt;, Belden, Tim &lt;/O=ENRON/OU=NA/CN=RECIPIENTS/CN=Tbelden&gt;, Crandall, Sean &lt;/O=ENRON/OU=NA/CN=R...</td>\n",
       "      <td>Mehrer, Anna &lt;/O=ENRON/OU=NA/CN=RECIPIENTS/CN=AMEHRER&gt;</td>\n",
       "      <td>Davidson, Debra &lt;/O=ENRON/OU=NA/CN=RECIPIENTS/CN=Ddavids3&gt;</td>\n",
       "      <td></td>\n",
       "      <td>This has replaced the previously scheduled meeting.</td>\n",
       "    </tr>\n",
       "    <tr>\n",
       "      <th>6132</th>\n",
       "      <td>Fri, 14 Sep 2001 11:31:32 -0700</td>\n",
       "      <td>Updated: Want a Workable Market for Coordinated Transmission, Energy, and A/S Markets in the West?</td>\n",
       "      <td>alan.comnes@enron.com, diana.scholtes@enron.com, sean.crandall@enron.com, mark.fischer@enron.com, tom.alonso@enron.com, chris.mallory@enron.com, b...</td>\n",
       "      <td>alan.comnes@enron.com</td>\n",
       "      <td>lysa.tracy@enron.com</td>\n",
       "      <td>lysa.tracy@enron.com</td>\n",
       "      <td>Comnes, Alan &lt;/O=ENRON/OU=NA/CN=RECIPIENTS/CN=Acomnes&gt;, Scholtes, Diana &lt;/O=ENRON/OU=NA/CN=RECIPIENTS/CN=Dscholt&gt;, Crandall, Sean &lt;/O=ENRON/OU=NA/...</td>\n",
       "      <td>Comnes, Alan &lt;/O=ENRON/OU=NA/CN=RECIPIENTS/CN=ACOMNES&gt;</td>\n",
       "      <td>Tracy, Lysa &lt;/O=ENRON/OU=NA/CN=RECIPIENTS/CN=Ltracy&gt;</td>\n",
       "      <td></td>\n",
       "      <td>Had to reschedule because D. Perrino could not get a flight in time.\\n\\nGovernment Affairs is participating in WSCC committees that are trying to ...</td>\n",
       "    </tr>\n",
       "  </tbody>\n",
       "</table>\n",
       "<p>6133 rows × 11 columns</p>\n",
       "</div>"
      ],
      "text/plain": [
       "                                 Date  \\\n",
       "0     Wed, 21 Feb 2001 12:39:49 -0800   \n",
       "1     Thu, 14 Jun 2001 13:16:25 -0700   \n",
       "2     Thu, 26 Jul 2001 07:05:22 -0700   \n",
       "3     Wed, 23 May 2001 12:08:24 -0700   \n",
       "4     Wed, 21 Mar 2001 06:16:25 -0800   \n",
       "...                               ...   \n",
       "6128  Mon, 05 Nov 2001 11:24:29 -0800   \n",
       "6129  Thu, 18 Oct 2001 16:35:17 -0700   \n",
       "6130  Mon, 01 Oct 2001 12:49:10 -0700   \n",
       "6131  Mon, 01 Oct 2001 12:49:10 -0700   \n",
       "6132  Fri, 14 Sep 2001 11:31:32 -0700   \n",
       "\n",
       "                                                                                                 Subject  \\\n",
       "0                                                                          Mtg: Budget Meeting - Whalley   \n",
       "1                                                                                        Lunch: Dan Leff   \n",
       "2                                                                     Mtg: Heath Schiesser - Xcellorator   \n",
       "3                                                                     Mtg: Wes Colwell - Flash to Actual   \n",
       "4                                                                  Golf: With Greg Whalley (Noon T-time)   \n",
       "...                                                                                                  ...   \n",
       "6128                                                                 Air Products Interruptible Proposal   \n",
       "6129                                                   Action Required:  Attend West Power Staff Meeting   \n",
       "6130                                                                               Revised:  Randy Hardy   \n",
       "6131                                                                               Revised:  Randy Hardy   \n",
       "6132  Updated: Want a Workable Market for Coordinated Transmission, Energy, and A/S Markets in the West?   \n",
       "\n",
       "                                                                                                                                                         To  \\\n",
       "0                                                                                                                                                      None   \n",
       "1                                                                                                                                                      None   \n",
       "2                                                                                                                                                      None   \n",
       "3                                                                                                                                                      None   \n",
       "4                                                                                                                                                      None   \n",
       "...                                                                                                                                                     ...   \n",
       "6128  mike.curry@enron.com, doug.gilbert-smith@enron.com, m..forney@enron.com, l..day@enron.com, madhup.kumar@enron.com, jeffrey.miller@enron.com, judy....   \n",
       "6129  debra.davidson@enron.com, tim.belden@enron.com, tom.alonso@enron.com, mark.fischer@enron.com, sean.crandall@enron.com, robert.badeer@enron.com, h....   \n",
       "6130  anna.mehrer@enron.com, tim.belden@enron.com, sean.crandall@enron.com, diana.scholtes@enron.com, mike.swerzbin@enron.com, h..foster@enron.com, paul...   \n",
       "6131  anna.mehrer@enron.com, tim.belden@enron.com, sean.crandall@enron.com, diana.scholtes@enron.com, mike.swerzbin@enron.com, h..foster@enron.com, paul...   \n",
       "6132  alan.comnes@enron.com, diana.scholtes@enron.com, sean.crandall@enron.com, mark.fischer@enron.com, tom.alonso@enron.com, chris.mallory@enron.com, b...   \n",
       "\n",
       "                           From                        Cc  \\\n",
       "0            lavorato@enron.com                      None   \n",
       "1     kimberly.hillis@enron.com                      None   \n",
       "2     kimberly.hillis@enron.com                      None   \n",
       "3              hillis@enron.com                      None   \n",
       "4              hillis@enron.com                      None   \n",
       "...                         ...                       ...   \n",
       "6128    judy.martinez@enron.com                      None   \n",
       "6129   debra.davidson@enron.com     anna.mehrer@enron.com   \n",
       "6130      anna.mehrer@enron.com  debra.davidson@enron.com   \n",
       "6131      anna.mehrer@enron.com  debra.davidson@enron.com   \n",
       "6132      alan.comnes@enron.com      lysa.tracy@enron.com   \n",
       "\n",
       "                           Bcc  \\\n",
       "0                         None   \n",
       "1                         None   \n",
       "2                         None   \n",
       "3                         None   \n",
       "4                         None   \n",
       "...                        ...   \n",
       "6128                      None   \n",
       "6129     anna.mehrer@enron.com   \n",
       "6130  debra.davidson@enron.com   \n",
       "6131  debra.davidson@enron.com   \n",
       "6132      lysa.tracy@enron.com   \n",
       "\n",
       "                                                                                                                                                       X-To  \\\n",
       "0                                                                                                                                                             \n",
       "1                                                                                                                                                             \n",
       "2                                                                                                                                                             \n",
       "3                                                                                                                                                             \n",
       "4                                                                                                                                                             \n",
       "...                                                                                                                                                     ...   \n",
       "6128  Curry, Mike </O=ENRON/OU=NA/CN=RECIPIENTS/CN=Mcurry>, Gilbert-smith, Doug </O=ENRON/OU=NA/CN=RECIPIENTS/CN=Dsmith3>, Forney, John M. </O=ENRON/OU=...   \n",
       "6129  Davidson, Debra </O=ENRON/OU=NA/CN=RECIPIENTS/CN=Ddavids3>, Belden, Tim </O=ENRON/OU=NA/CN=RECIPIENTS/CN=Tbelden>, Alonso, Tom </O=ENRON/OU=NA/CN=...   \n",
       "6130  Mehrer, Anna </O=ENRON/OU=NA/CN=RECIPIENTS/CN=Amehrer>, Belden, Tim </O=ENRON/OU=NA/CN=RECIPIENTS/CN=Tbelden>, Crandall, Sean </O=ENRON/OU=NA/CN=R...   \n",
       "6131  Mehrer, Anna </O=ENRON/OU=NA/CN=RECIPIENTS/CN=Amehrer>, Belden, Tim </O=ENRON/OU=NA/CN=RECIPIENTS/CN=Tbelden>, Crandall, Sean </O=ENRON/OU=NA/CN=R...   \n",
       "6132  Comnes, Alan </O=ENRON/OU=NA/CN=RECIPIENTS/CN=Acomnes>, Scholtes, Diana </O=ENRON/OU=NA/CN=RECIPIENTS/CN=Dscholt>, Crandall, Sean </O=ENRON/OU=NA/...   \n",
       "\n",
       "                                                          X-From  \\\n",
       "0                                                 Lavorato, John   \n",
       "1     Hillis, Kimberly </O=ENRON/OU=NA/CN=RECIPIENTS/CN=KHILLIS>   \n",
       "2     Hillis, Kimberly </O=ENRON/OU=NA/CN=RECIPIENTS/CN=KHILLIS>   \n",
       "3                                               Hillis, Kimberly   \n",
       "4                                               Hillis, Kimberly   \n",
       "...                                                          ...   \n",
       "6128   Martinez, Judy </O=ENRON/OU=NA/CN=RECIPIENTS/CN=JMARTIN2>   \n",
       "6129  Davidson, Debra </O=ENRON/OU=NA/CN=RECIPIENTS/CN=DDAVIDS3>   \n",
       "6130      Mehrer, Anna </O=ENRON/OU=NA/CN=RECIPIENTS/CN=AMEHRER>   \n",
       "6131      Mehrer, Anna </O=ENRON/OU=NA/CN=RECIPIENTS/CN=AMEHRER>   \n",
       "6132      Comnes, Alan </O=ENRON/OU=NA/CN=RECIPIENTS/CN=ACOMNES>   \n",
       "\n",
       "                                                            X-Cc X-Bcc  \\\n",
       "0                                                                        \n",
       "1                                                                        \n",
       "2                                                                        \n",
       "3                                                                        \n",
       "4                                                                        \n",
       "...                                                          ...   ...   \n",
       "6128                                                                     \n",
       "6129      Mehrer, Anna </O=ENRON/OU=NA/CN=RECIPIENTS/CN=Amehrer>         \n",
       "6130  Davidson, Debra </O=ENRON/OU=NA/CN=RECIPIENTS/CN=Ddavids3>         \n",
       "6131  Davidson, Debra </O=ENRON/OU=NA/CN=RECIPIENTS/CN=Ddavids3>         \n",
       "6132        Tracy, Lysa </O=ENRON/OU=NA/CN=RECIPIENTS/CN=Ltracy>         \n",
       "\n",
       "                                                                                                                                                       Body  \n",
       "0     Greg Whalley will be holding a budget meeting on Tuesday, Feb. 6 @ 3:00 p.m. in EB3321.  This invitation is extended to all CEOs and/or COOs repor...  \n",
       "1                                                                                                                               Esmerelda Hinojosa - x57390  \n",
       "2                                                                                                                                   Annitta Granado - 39724  \n",
       "3     \\n\\n -----Original Message-----\\nFrom: \\tTijerina, Shirley  \\nSent:\\tWednesday, May 23, 2001 2:34 PM\\nTo:\\tBlack, Don; Ruffer, Mary Lynne; Herndon...  \n",
       "4     Kim,\\n\\nJust blk off from 11:00a.m. til the rest of the day.  Memorial Park Golf Course.  (Florida Scramble)  I forward more details later.  \\nNoo...  \n",
       "...                                                                                                                                                     ...  \n",
       "6128                When: Wednesday, November 07, 2001 9:00 AM-10:00 AM (GMT-06:00) Central Time (US & Canada).\\nWhere: EB - 3143B\\n\\n*~*~*~*~*~*~*~*~*~*\\n  \n",
       "6129  Please make plans to attend a West Power Trading luncheon staff meeting.\\n\\nDate:  Monday, October 22\\nPlace:  Mt. Hood Conference Room\\nTime:  11...  \n",
       "6130                                                                                                    This has replaced the previously scheduled meeting.  \n",
       "6131                                                                                                    This has replaced the previously scheduled meeting.  \n",
       "6132  Had to reschedule because D. Perrino could not get a flight in time.\\n\\nGovernment Affairs is participating in WSCC committees that are trying to ...  \n",
       "\n",
       "[6133 rows x 11 columns]"
      ]
     },
     "metadata": {},
     "execution_count": 31
    }
   ],
   "metadata": {}
  },
  {
   "cell_type": "code",
   "execution_count": 33,
   "source": [
    "df_calendar.Subject.nunique()"
   ],
   "outputs": [
    {
     "output_type": "execute_result",
     "data": {
      "text/plain": [
       "5154"
      ]
     },
     "metadata": {},
     "execution_count": 33
    }
   ],
   "metadata": {}
  },
  {
   "cell_type": "code",
   "execution_count": null,
   "source": [],
   "outputs": [],
   "metadata": {}
  },
  {
   "cell_type": "code",
   "execution_count": 16,
   "source": [
    "print(msg)"
   ],
   "outputs": [
    {
     "output_type": "stream",
     "name": "stdout",
     "text": [
      "Message-ID: <21156393.1075857700266.JavaMail.evans@thyme>\n",
      "Date: Wed, 21 Feb 2001 12:39:49 -0800 (PST)\n",
      "From: lavorato@enron.com\n",
      "Subject: Mtg: Budget Meeting - Whalley\n",
      "Mime-Version: 1.0\n",
      "Content-Type: text/plain; charset=us-ascii\n",
      "Content-Transfer-Encoding: 7bit\n",
      "X-From: Lavorato, John\n",
      "X-To: \n",
      "X-cc: \n",
      "X-bcc: \n",
      "X-Folder: \\jlavora\\Calendar\n",
      "X-Origin: Lavorado-J\n",
      "X-FileName: jlavora.pst\n",
      "\n",
      "Greg Whalley will be holding a budget meeting on Tuesday, Feb. 6 @ 3:00 p.m. in EB3321.  This invitation is extended to all CEOs and/or COOs reporting to Wholesale Services.  Should you have any questions, please contact me immediately.  \n",
      "\n",
      "Confirmed Attendees:\n",
      "Louise Kitchen\n",
      "Dave Delainey\n",
      "Jeff McMahon\n",
      "Jeff Shankman\n",
      "Jim Hughes\n",
      "Wes Colwell\n",
      "\n"
     ]
    }
   ],
   "metadata": {}
  },
  {
   "cell_type": "code",
   "execution_count": 11,
   "source": [
    "msg.get_body()"
   ],
   "outputs": [
    {
     "output_type": "execute_result",
     "data": {
      "text/plain": [
       "<email.message.EmailMessage at 0x7ff32dda4710>"
      ]
     },
     "metadata": {},
     "execution_count": 11
    }
   ],
   "metadata": {}
  },
  {
   "cell_type": "code",
   "execution_count": 11,
   "source": [
    "def extract_msg_body(msg):\n",
    "    body = msg.get_body()\n",
    "    if not body['content-type']:\n",
    "        return body.get_content()\n",
    "    if body['content-type'].maintype == 'text':\n",
    "        if body['content-type'].subtype == 'plain':\n",
    "            return body.get_content()\n",
    "        elif body['content-type'].subtype == 'html':\n",
    "            content = DOCTYPE_REGEX.sub(\"\", body.get_content())\n",
    "            soup = bs4.BeautifulSoup(content, 'lxml')\n",
    "            [s.extract() for s in soup(['style', 'script', '[document]', 'head', 'title'])]\n",
    "            return soup.get_text()\n",
    "    return \"\""
   ],
   "outputs": [],
   "metadata": {}
  },
  {
   "cell_type": "code",
   "execution_count": 19,
   "source": [
    "extract_msg_body(msg)"
   ],
   "outputs": [
    {
     "output_type": "execute_result",
     "data": {
      "text/plain": [
       "'Greg Whalley will be holding a budget meeting on Tuesday, Feb. 6 @ 3:00 p.m. in EB3321.  This invitation is extended to all CEOs and/or COOs reporting to Wholesale Services.  Should you have any questions, please contact me immediately.  \\n\\nConfirmed Attendees:\\nLouise Kitchen\\nDave Delainey\\nJeff McMahon\\nJeff Shankman\\nJim Hughes\\nWes Colwell\\n'"
      ]
     },
     "metadata": {},
     "execution_count": 19
    }
   ],
   "metadata": {}
  },
  {
   "cell_type": "code",
   "execution_count": 20,
   "source": [
    "msg['Subject']"
   ],
   "outputs": [
    {
     "output_type": "execute_result",
     "data": {
      "text/plain": [
       "'Mtg: Budget Meeting - Whalley'"
      ]
     },
     "metadata": {},
     "execution_count": 20
    }
   ],
   "metadata": {}
  },
  {
   "cell_type": "code",
   "execution_count": 21,
   "source": [
    "msg.keys()"
   ],
   "outputs": [
    {
     "output_type": "execute_result",
     "data": {
      "text/plain": [
       "['Message-ID',\n",
       " 'Date',\n",
       " 'From',\n",
       " 'Subject',\n",
       " 'Mime-Version',\n",
       " 'Content-Type',\n",
       " 'Content-Transfer-Encoding',\n",
       " 'X-From',\n",
       " 'X-To',\n",
       " 'X-cc',\n",
       " 'X-bcc',\n",
       " 'X-Folder',\n",
       " 'X-Origin',\n",
       " 'X-FileName']"
      ]
     },
     "metadata": {},
     "execution_count": 21
    }
   ],
   "metadata": {}
  },
  {
   "cell_type": "code",
   "execution_count": 22,
   "source": [
    "with open(\"/Users/anton/Downloads/maildir/campbell-l/sent/7.\", 'rb') as file:\n",
    "    random_msg = email.parser.BytesParser(policy=policy.default).parse(file)"
   ],
   "outputs": [],
   "metadata": {}
  },
  {
   "cell_type": "code",
   "execution_count": 24,
   "source": [
    "print(random_msg)"
   ],
   "outputs": [
    {
     "output_type": "stream",
     "name": "stdout",
     "text": [
      "Message-ID: <26730414.1075851918003.JavaMail.evans@thyme>\n",
      "Date: Thu, 15 Jul 1999 09:09:00 -0700 (PDT)\n",
      "From: larry.campbell@enron.com\n",
      "To: team.monahans@enron.com\n",
      "Subject: Groundwater Monitoring to be Discontinued at the Puckett Plant\n",
      "Cc: william.kendrick@enron.com, michael.terraso@enron.com, \n",
      "\tbutch.russell@enron.com, rich.jolly@enron.com, bob.bandel@enron.com\n",
      "Mime-Version: 1.0\n",
      "Content-Type: text/plain; charset=us-ascii\n",
      "Content-Transfer-Encoding: 7bit\n",
      "Bcc: william.kendrick@enron.com, michael.terraso@enron.com, \n",
      "\tbutch.russell@enron.com, rich.jolly@enron.com, bob.bandel@enron.com\n",
      "X-From: Larry Campbell\n",
      "X-To: Team Monahans\n",
      "X-cc: William Kendrick, Michael Terraso, Butch Russell, Rich Jolly, Bob Bandel\n",
      "X-bcc: \n",
      "X-Folder: \\Larry_Campbell_Nov2001_1\\Notes Folders\\Sent\n",
      "X-Origin: CAMPBELL-L\n",
      "X-FileName: lcampbe.nsf\n",
      "\n",
      "Approval was received from the Texas Railroad Commission to discontinue \n",
      "groundwater monitoring at the Pucket Plant.  As you may remember, \n",
      "Transwestern constructed a permitted landfill to dispose of the entire \n",
      "facility near Ft. Stockton.  Groundwater montioring activities have been \n",
      "ongoing since aprox. 1988.  A permit condition states that if three years of \n",
      "groundwater sampling data confirms that the groundwater protection standard \n",
      "has not been exceeded, the groundwater monitoring activities can be \n",
      "terminated.  A letter from Leslie Savage granting this approval was received \n",
      "on July 14, 1999.  \n",
      "\n",
      "Ken Gray, all other conditions of the permit are still in effect (noxious \n",
      "weed and mesquite control, monthly site inspections recordkeeping etc.....).  \n",
      "Continue to keep the records accurate and up to date.  I anticipate that we \n",
      "will be required to monitor  and conduct housekeeping activities at the site \n",
      "indefinately.\n"
     ]
    }
   ],
   "metadata": {}
  },
  {
   "cell_type": "code",
   "execution_count": 8,
   "source": [
    "with open(\"/Users/anton/Downloads/maildir/campbell-l/importantstuff/5.\", 'rb') as file:\n",
    "    random_msg2 = email.parser.BytesParser(policy=policy.default).parse(file)"
   ],
   "outputs": [],
   "metadata": {}
  },
  {
   "cell_type": "code",
   "execution_count": 9,
   "source": [
    "print(random_msg2)"
   ],
   "outputs": [
    {
     "output_type": "stream",
     "name": "stdout",
     "text": [
      "Message-ID: <17123273.1075857873789.JavaMail.evans@thyme>\n",
      "Date: Tue, 5 Sep 2000 04:34:00 -0700 (PDT)\n",
      "From: kayne.coulter@enron.com\n",
      "To: larry.jester@enron.com, jay.wills@enron.com, cyril.price@enron.com, \n",
      "\tjohn.kinser@enron.com, rudy.acevedo@enron.com, \n",
      "\trichard.hrabal@enron.com, wayne.herndon@enron.com, \n",
      "\tjason.choate@enron.com, juan.hernandez@enron.com, \n",
      "\tgreg.trefz@enron.com, miguel.garcia@enron.com, \n",
      "\trussell.ballato@enron.com, joe.stepenovitch@enron.com, \n",
      "\tjoe.errigo@enron.com, doug.miller@enron.com, \n",
      "\tlarry.campbell@enron.com, juan.hernandez@enron.com, \n",
      "\tkeller.mayeaux@enron.com, chad.starnes@enron.com, \n",
      "\tdean.laurent@enron.com, don.baughman@enron.com, \n",
      "\tlawrence.clayton@enron.com\n",
      "Subject: NERC Training schedule\n",
      "Mime-Version: 1.0\n",
      "Content-Type: text/plain; charset=us-ascii\n",
      "Content-Transfer-Encoding: 7bit\n",
      "X-From: Kayne Coulter\n",
      "X-To: Larry Jester, Jay Wills, Cyril Price, John Kinser, Rudy Acevedo, Richard\n",
      " Hrabal, Wayne Herndon, Jason Choate, Juan Hernandez, Greg Trefz, Miguel\n",
      " Garcia, Russell Ballato, Joe Stepenovitch, Joe Errigo, Doug Miller, Larry F\n",
      " Campbell, Juan Hernandez, Keller Mayeaux, Chad Starnes, Dean Laurent, Don\n",
      " Baughman, Lawrence Clayton\n",
      "X-cc: \n",
      "X-bcc: \n",
      "X-Folder: \\Larry_Campbell_Dec2000\\Notes Folders\\Importantstuff\n",
      "X-Origin: Campbell-L\n",
      "X-FileName: lcampbel.nsf\n",
      "\n",
      "---------------------- Forwarded by Kayne Coulter/HOU/ECT on 09/05/2000 11:37 \n",
      "AM ---------------------------\n",
      "\n",
      "\n",
      "Keith Comeaux\n",
      "09/05/2000 11:03 AM\n",
      "To: mitch.robinson@enron.com, kayne.coulter@enron.com\n",
      "cc: Lloyd Will/HOU/ECT@ECT \n",
      "Subject: NERC Training schedule\n",
      "\n",
      "Mitch attached you will find the schedule for the NERC training . I will need \n",
      "room 3109 next to the control room for the weeks listed as classroom \n",
      "training. Kayne and Lloyd please share this schedule with all interested \n",
      "parties in your group. I will rely on you to have your people attend the \n",
      "training as listed or advise me of any problems.\n",
      "Thanks,\n",
      "Keith\n",
      "\n",
      "  \n",
      "\n"
     ]
    }
   ],
   "metadata": {}
  },
  {
   "cell_type": "code",
   "execution_count": 26,
   "source": [
    "len(pickle.dumps(random_msg2))"
   ],
   "outputs": [
    {
     "output_type": "execute_result",
     "data": {
      "text/plain": [
       "2373"
      ]
     },
     "metadata": {},
     "execution_count": 26
    }
   ],
   "metadata": {}
  },
  {
   "cell_type": "code",
   "execution_count": 12,
   "source": [
    "def parse_message(msg):\n",
    "    return {\n",
    "        'ID': msg['Message-ID'],\n",
    "        'Date': msg['Date'],\n",
    "        'Subject': msg['Subject'],\n",
    "        'To': msg['To'],\n",
    "        'From': msg['From'],\n",
    "        'Cc': msg['Cc'],\n",
    "        'Bcc': msg['Bcc'],\n",
    "        'X-To': msg['X-To'],\n",
    "        'X-From': msg['X-From'],\n",
    "        'X-Cc': msg['X-cc'],\n",
    "        'X-Bcc': msg['X-bcc'],\n",
    "        'Body': extract_msg_body(msg)\n",
    "    }"
   ],
   "outputs": [
    {
     "output_type": "stream",
     "name": "stdout",
     "text": [
      "{'Date': 'Tue, 05 Sep 2000 04:34:00 -0700', 'Subject': 'NERC Training schedule', 'To': 'larry.jester@enron.com, jay.wills@enron.com, cyril.price@enron.com, john.kinser@enron.com, rudy.acevedo@enron.com, richard.hrabal@enron.com, wayne.herndon@enron.com, jason.choate@enron.com, juan.hernandez@enron.com, greg.trefz@enron.com, miguel.garcia@enron.com, russell.ballato@enron.com, joe.stepenovitch@enron.com, joe.errigo@enron.com, doug.miller@enron.com, larry.campbell@enron.com, juan.hernandez@enron.com, keller.mayeaux@enron.com, chad.starnes@enron.com, dean.laurent@enron.com, don.baughman@enron.com, lawrence.clayton@enron.com', 'From': 'kayne.coulter@enron.com', 'Cc': None, 'Bcc': None, 'X-To': 'Larry Jester, Jay Wills, Cyril Price, John Kinser, Rudy Acevedo, Richard Hrabal, Wayne Herndon, Jason Choate, Juan Hernandez, Greg Trefz, Miguel Garcia, Russell Ballato, Joe Stepenovitch, Joe Errigo, Doug Miller, Larry F Campbell, Juan Hernandez, Keller Mayeaux, Chad Starnes, Dean Laurent, Don Baughman, Lawrence Clayton', 'X-From': 'Kayne Coulter', 'X-Cc': '', 'X-Bcc': '', 'Body': '---------------------- Forwarded by Kayne Coulter/HOU/ECT on 09/05/2000 11:37 \\nAM ---------------------------\\n\\n\\nKeith Comeaux\\n09/05/2000 11:03 AM\\nTo: mitch.robinson@enron.com, kayne.coulter@enron.com\\ncc: Lloyd Will/HOU/ECT@ECT \\nSubject: NERC Training schedule\\n\\nMitch attached you will find the schedule for the NERC training . I will need \\nroom 3109 next to the control room for the weeks listed as classroom \\ntraining. Kayne and Lloyd please share this schedule with all interested \\nparties in your group. I will rely on you to have your people attend the \\ntraining as listed or advise me of any problems.\\nThanks,\\nKeith\\n\\n  \\n'}\n"
     ]
    }
   ],
   "metadata": {}
  },
  {
   "cell_type": "code",
   "execution_count": 74,
   "source": [
    "def number_of_words(s):\n",
    "    return len(s.split())"
   ],
   "outputs": [],
   "metadata": {}
  },
  {
   "cell_type": "code",
   "execution_count": 75,
   "source": [
    "subject = random_msg2['Subject']\n",
    "body = extract_msg_body(random_msg2)\n",
    "print(subject, \"\\n\", body, \"\\n\", number_of_words(body))"
   ],
   "outputs": [
    {
     "output_type": "stream",
     "name": "stdout",
     "text": [
      "NERC Training schedule \n",
      " ---------------------- Forwarded by Kayne Coulter/HOU/ECT on 09/05/2000 11:37 \n",
      "AM ---------------------------\n",
      "\n",
      "\n",
      "Keith Comeaux\n",
      "09/05/2000 11:03 AM\n",
      "To: mitch.robinson@enron.com, kayne.coulter@enron.com\n",
      "cc: Lloyd Will/HOU/ECT@ECT \n",
      "Subject: NERC Training schedule\n",
      "\n",
      "Mitch attached you will find the schedule for the NERC training . I will need \n",
      "room 3109 next to the control room for the weeks listed as classroom \n",
      "training. Kayne and Lloyd please share this schedule with all interested \n",
      "parties in your group. I will rely on you to have your people attend the \n",
      "training as listed or advise me of any problems.\n",
      "Thanks,\n",
      "Keith\n",
      "\n",
      "  \n",
      " \n",
      " 90\n"
     ]
    }
   ],
   "metadata": {}
  },
  {
   "cell_type": "code",
   "execution_count": 82,
   "source": [
    "%%time\n",
    "result = query_openai_search(query=subject + body, documents=[subject + body for i in range(100)])"
   ],
   "outputs": [
    {
     "output_type": "stream",
     "name": "stdout",
     "text": [
      "CPU times: user 8.97 ms, sys: 2.46 ms, total: 11.4 ms\n",
      "Wall time: 5.22 s\n"
     ]
    }
   ],
   "metadata": {}
  },
  {
   "cell_type": "code",
   "execution_count": 79,
   "source": [
    "result.data"
   ],
   "outputs": [
    {
     "output_type": "execute_result",
     "data": {
      "text/plain": [
       "[<OpenAIObject search_result at 0x7fc74f7b67d8> JSON: {\n",
       "   \"document\": 0,\n",
       "   \"object\": \"search_result\",\n",
       "   \"score\": 301.315\n",
       " }, <OpenAIObject search_result at 0x7fc74f7b64c0> JSON: {\n",
       "   \"document\": 1,\n",
       "   \"object\": \"search_result\",\n",
       "   \"score\": 301.227\n",
       " }, <OpenAIObject search_result at 0x7fc74f7b6728> JSON: {\n",
       "   \"document\": 2,\n",
       "   \"object\": \"search_result\",\n",
       "   \"score\": 301.359\n",
       " }, <OpenAIObject search_result at 0x7fc74f7b6780> JSON: {\n",
       "   \"document\": 3,\n",
       "   \"object\": \"search_result\",\n",
       "   \"score\": 301.19\n",
       " }, <OpenAIObject search_result at 0x7fc74f7b6830> JSON: {\n",
       "   \"document\": 4,\n",
       "   \"object\": \"search_result\",\n",
       "   \"score\": 301.202\n",
       " }, <OpenAIObject search_result at 0x7fc74f7b6888> JSON: {\n",
       "   \"document\": 5,\n",
       "   \"object\": \"search_result\",\n",
       "   \"score\": 301.301\n",
       " }, <OpenAIObject search_result at 0x7fc74f7b6990> JSON: {\n",
       "   \"document\": 6,\n",
       "   \"object\": \"search_result\",\n",
       "   \"score\": 301.335\n",
       " }, <OpenAIObject search_result at 0x7fc74f7b69e8> JSON: {\n",
       "   \"document\": 7,\n",
       "   \"object\": \"search_result\",\n",
       "   \"score\": 301.267\n",
       " }, <OpenAIObject search_result at 0x7fc74f7b6a40> JSON: {\n",
       "   \"document\": 8,\n",
       "   \"object\": \"search_result\",\n",
       "   \"score\": 301.234\n",
       " }, <OpenAIObject search_result at 0x7fc74f7b6a98> JSON: {\n",
       "   \"document\": 9,\n",
       "   \"object\": \"search_result\",\n",
       "   \"score\": 301.319\n",
       " }, <OpenAIObject search_result at 0x7fc74f7b6af0> JSON: {\n",
       "   \"document\": 10,\n",
       "   \"object\": \"search_result\",\n",
       "   \"score\": 301.137\n",
       " }, <OpenAIObject search_result at 0x7fc74f7b6b48> JSON: {\n",
       "   \"document\": 11,\n",
       "   \"object\": \"search_result\",\n",
       "   \"score\": 301.226\n",
       " }, <OpenAIObject search_result at 0x7fc74f7b6ba0> JSON: {\n",
       "   \"document\": 12,\n",
       "   \"object\": \"search_result\",\n",
       "   \"score\": 301.336\n",
       " }, <OpenAIObject search_result at 0x7fc74f7b6bf8> JSON: {\n",
       "   \"document\": 13,\n",
       "   \"object\": \"search_result\",\n",
       "   \"score\": 301.186\n",
       " }, <OpenAIObject search_result at 0x7fc74f7b6c50> JSON: {\n",
       "   \"document\": 14,\n",
       "   \"object\": \"search_result\",\n",
       "   \"score\": 301.177\n",
       " }, <OpenAIObject search_result at 0x7fc74f7b6ca8> JSON: {\n",
       "   \"document\": 15,\n",
       "   \"object\": \"search_result\",\n",
       "   \"score\": 301.268\n",
       " }, <OpenAIObject search_result at 0x7fc74f7b6d00> JSON: {\n",
       "   \"document\": 16,\n",
       "   \"object\": \"search_result\",\n",
       "   \"score\": 301.23\n",
       " }, <OpenAIObject search_result at 0x7fc74f7b6d58> JSON: {\n",
       "   \"document\": 17,\n",
       "   \"object\": \"search_result\",\n",
       "   \"score\": 301.334\n",
       " }, <OpenAIObject search_result at 0x7fc74f7b6db0> JSON: {\n",
       "   \"document\": 18,\n",
       "   \"object\": \"search_result\",\n",
       "   \"score\": 301.127\n",
       " }, <OpenAIObject search_result at 0x7fc74f7b6e08> JSON: {\n",
       "   \"document\": 19,\n",
       "   \"object\": \"search_result\",\n",
       "   \"score\": 301.419\n",
       " }, <OpenAIObject search_result at 0x7fc74f7b6e60> JSON: {\n",
       "   \"document\": 20,\n",
       "   \"object\": \"search_result\",\n",
       "   \"score\": 301.205\n",
       " }, <OpenAIObject search_result at 0x7fc74f7b6eb8> JSON: {\n",
       "   \"document\": 21,\n",
       "   \"object\": \"search_result\",\n",
       "   \"score\": 301.378\n",
       " }, <OpenAIObject search_result at 0x7fc74f7b6f10> JSON: {\n",
       "   \"document\": 22,\n",
       "   \"object\": \"search_result\",\n",
       "   \"score\": 301.186\n",
       " }, <OpenAIObject search_result at 0x7fc74f7b6f68> JSON: {\n",
       "   \"document\": 23,\n",
       "   \"object\": \"search_result\",\n",
       "   \"score\": 301.256\n",
       " }, <OpenAIObject search_result at 0x7fc74f7b6fc0> JSON: {\n",
       "   \"document\": 24,\n",
       "   \"object\": \"search_result\",\n",
       "   \"score\": 301.256\n",
       " }, <OpenAIObject search_result at 0x7fc74fb58048> JSON: {\n",
       "   \"document\": 25,\n",
       "   \"object\": \"search_result\",\n",
       "   \"score\": 301.211\n",
       " }, <OpenAIObject search_result at 0x7fc74fb580a0> JSON: {\n",
       "   \"document\": 26,\n",
       "   \"object\": \"search_result\",\n",
       "   \"score\": 301.288\n",
       " }, <OpenAIObject search_result at 0x7fc74fb580f8> JSON: {\n",
       "   \"document\": 27,\n",
       "   \"object\": \"search_result\",\n",
       "   \"score\": 301.189\n",
       " }, <OpenAIObject search_result at 0x7fc74fb58150> JSON: {\n",
       "   \"document\": 28,\n",
       "   \"object\": \"search_result\",\n",
       "   \"score\": 301.197\n",
       " }, <OpenAIObject search_result at 0x7fc74fb581a8> JSON: {\n",
       "   \"document\": 29,\n",
       "   \"object\": \"search_result\",\n",
       "   \"score\": 301.102\n",
       " }, <OpenAIObject search_result at 0x7fc74fb58200> JSON: {\n",
       "   \"document\": 30,\n",
       "   \"object\": \"search_result\",\n",
       "   \"score\": 301.296\n",
       " }, <OpenAIObject search_result at 0x7fc74fb58258> JSON: {\n",
       "   \"document\": 31,\n",
       "   \"object\": \"search_result\",\n",
       "   \"score\": 301.302\n",
       " }, <OpenAIObject search_result at 0x7fc74fb582b0> JSON: {\n",
       "   \"document\": 32,\n",
       "   \"object\": \"search_result\",\n",
       "   \"score\": 301.149\n",
       " }, <OpenAIObject search_result at 0x7fc74fb58308> JSON: {\n",
       "   \"document\": 33,\n",
       "   \"object\": \"search_result\",\n",
       "   \"score\": 301.354\n",
       " }, <OpenAIObject search_result at 0x7fc74fb58360> JSON: {\n",
       "   \"document\": 34,\n",
       "   \"object\": \"search_result\",\n",
       "   \"score\": 301.334\n",
       " }, <OpenAIObject search_result at 0x7fc74fb583b8> JSON: {\n",
       "   \"document\": 35,\n",
       "   \"object\": \"search_result\",\n",
       "   \"score\": 301.192\n",
       " }, <OpenAIObject search_result at 0x7fc74fb58410> JSON: {\n",
       "   \"document\": 36,\n",
       "   \"object\": \"search_result\",\n",
       "   \"score\": 301.324\n",
       " }, <OpenAIObject search_result at 0x7fc74fb58468> JSON: {\n",
       "   \"document\": 37,\n",
       "   \"object\": \"search_result\",\n",
       "   \"score\": 301.343\n",
       " }, <OpenAIObject search_result at 0x7fc74fb584c0> JSON: {\n",
       "   \"document\": 38,\n",
       "   \"object\": \"search_result\",\n",
       "   \"score\": 301.348\n",
       " }, <OpenAIObject search_result at 0x7fc74fb58518> JSON: {\n",
       "   \"document\": 39,\n",
       "   \"object\": \"search_result\",\n",
       "   \"score\": 301.3\n",
       " }, <OpenAIObject search_result at 0x7fc74fb58570> JSON: {\n",
       "   \"document\": 40,\n",
       "   \"object\": \"search_result\",\n",
       "   \"score\": 301.205\n",
       " }, <OpenAIObject search_result at 0x7fc74fb585c8> JSON: {\n",
       "   \"document\": 41,\n",
       "   \"object\": \"search_result\",\n",
       "   \"score\": 301.226\n",
       " }, <OpenAIObject search_result at 0x7fc74fb58620> JSON: {\n",
       "   \"document\": 42,\n",
       "   \"object\": \"search_result\",\n",
       "   \"score\": 301.301\n",
       " }, <OpenAIObject search_result at 0x7fc74fb58678> JSON: {\n",
       "   \"document\": 43,\n",
       "   \"object\": \"search_result\",\n",
       "   \"score\": 301.331\n",
       " }, <OpenAIObject search_result at 0x7fc74fb586d0> JSON: {\n",
       "   \"document\": 44,\n",
       "   \"object\": \"search_result\",\n",
       "   \"score\": 301.2\n",
       " }, <OpenAIObject search_result at 0x7fc74fb58728> JSON: {\n",
       "   \"document\": 45,\n",
       "   \"object\": \"search_result\",\n",
       "   \"score\": 301.21\n",
       " }, <OpenAIObject search_result at 0x7fc74fb58780> JSON: {\n",
       "   \"document\": 46,\n",
       "   \"object\": \"search_result\",\n",
       "   \"score\": 301.268\n",
       " }, <OpenAIObject search_result at 0x7fc74fb587d8> JSON: {\n",
       "   \"document\": 47,\n",
       "   \"object\": \"search_result\",\n",
       "   \"score\": 301.273\n",
       " }, <OpenAIObject search_result at 0x7fc74fb58830> JSON: {\n",
       "   \"document\": 48,\n",
       "   \"object\": \"search_result\",\n",
       "   \"score\": 301.28\n",
       " }, <OpenAIObject search_result at 0x7fc74fb58888> JSON: {\n",
       "   \"document\": 49,\n",
       "   \"object\": \"search_result\",\n",
       "   \"score\": 301.256\n",
       " }, <OpenAIObject search_result at 0x7fc74fb588e0> JSON: {\n",
       "   \"document\": 50,\n",
       "   \"object\": \"search_result\",\n",
       "   \"score\": 301.105\n",
       " }, <OpenAIObject search_result at 0x7fc74fb58938> JSON: {\n",
       "   \"document\": 51,\n",
       "   \"object\": \"search_result\",\n",
       "   \"score\": 301.365\n",
       " }, <OpenAIObject search_result at 0x7fc74fb58990> JSON: {\n",
       "   \"document\": 52,\n",
       "   \"object\": \"search_result\",\n",
       "   \"score\": 301.254\n",
       " }, <OpenAIObject search_result at 0x7fc74fb589e8> JSON: {\n",
       "   \"document\": 53,\n",
       "   \"object\": \"search_result\",\n",
       "   \"score\": 301.041\n",
       " }, <OpenAIObject search_result at 0x7fc74fb58a40> JSON: {\n",
       "   \"document\": 54,\n",
       "   \"object\": \"search_result\",\n",
       "   \"score\": 301.249\n",
       " }, <OpenAIObject search_result at 0x7fc74fb58a98> JSON: {\n",
       "   \"document\": 55,\n",
       "   \"object\": \"search_result\",\n",
       "   \"score\": 301.255\n",
       " }, <OpenAIObject search_result at 0x7fc74fb58af0> JSON: {\n",
       "   \"document\": 56,\n",
       "   \"object\": \"search_result\",\n",
       "   \"score\": 301.126\n",
       " }, <OpenAIObject search_result at 0x7fc74fb58b48> JSON: {\n",
       "   \"document\": 57,\n",
       "   \"object\": \"search_result\",\n",
       "   \"score\": 301.3\n",
       " }, <OpenAIObject search_result at 0x7fc74fb58ba0> JSON: {\n",
       "   \"document\": 58,\n",
       "   \"object\": \"search_result\",\n",
       "   \"score\": 301.126\n",
       " }, <OpenAIObject search_result at 0x7fc74fb58bf8> JSON: {\n",
       "   \"document\": 59,\n",
       "   \"object\": \"search_result\",\n",
       "   \"score\": 301.443\n",
       " }, <OpenAIObject search_result at 0x7fc74fb58c50> JSON: {\n",
       "   \"document\": 60,\n",
       "   \"object\": \"search_result\",\n",
       "   \"score\": 301.292\n",
       " }, <OpenAIObject search_result at 0x7fc74fb58ca8> JSON: {\n",
       "   \"document\": 61,\n",
       "   \"object\": \"search_result\",\n",
       "   \"score\": 301.183\n",
       " }, <OpenAIObject search_result at 0x7fc74fb58d00> JSON: {\n",
       "   \"document\": 62,\n",
       "   \"object\": \"search_result\",\n",
       "   \"score\": 301.327\n",
       " }, <OpenAIObject search_result at 0x7fc74f20bba0> JSON: {\n",
       "   \"document\": 63,\n",
       "   \"object\": \"search_result\",\n",
       "   \"score\": 301.301\n",
       " }, <OpenAIObject search_result at 0x7fc74f681a98> JSON: {\n",
       "   \"document\": 64,\n",
       "   \"object\": \"search_result\",\n",
       "   \"score\": 301.287\n",
       " }, <OpenAIObject search_result at 0x7fc74f7b6570> JSON: {\n",
       "   \"document\": 65,\n",
       "   \"object\": \"search_result\",\n",
       "   \"score\": 301.343\n",
       " }, <OpenAIObject search_result at 0x7fc74f7b6468> JSON: {\n",
       "   \"document\": 66,\n",
       "   \"object\": \"search_result\",\n",
       "   \"score\": 301.24\n",
       " }, <OpenAIObject search_result at 0x7fc74f7b6678> JSON: {\n",
       "   \"document\": 67,\n",
       "   \"object\": \"search_result\",\n",
       "   \"score\": 301.289\n",
       " }, <OpenAIObject search_result at 0x7fc74fb58d58> JSON: {\n",
       "   \"document\": 68,\n",
       "   \"object\": \"search_result\",\n",
       "   \"score\": 301.287\n",
       " }, <OpenAIObject search_result at 0x7fc74fb58db0> JSON: {\n",
       "   \"document\": 69,\n",
       "   \"object\": \"search_result\",\n",
       "   \"score\": 301.221\n",
       " }, <OpenAIObject search_result at 0x7fc74fb58e08> JSON: {\n",
       "   \"document\": 70,\n",
       "   \"object\": \"search_result\",\n",
       "   \"score\": 301.126\n",
       " }, <OpenAIObject search_result at 0x7fc74fb58e60> JSON: {\n",
       "   \"document\": 71,\n",
       "   \"object\": \"search_result\",\n",
       "   \"score\": 301.212\n",
       " }, <OpenAIObject search_result at 0x7fc74fb58eb8> JSON: {\n",
       "   \"document\": 72,\n",
       "   \"object\": \"search_result\",\n",
       "   \"score\": 301.287\n",
       " }, <OpenAIObject search_result at 0x7fc74fb58f10> JSON: {\n",
       "   \"document\": 73,\n",
       "   \"object\": \"search_result\",\n",
       "   \"score\": 301.25\n",
       " }, <OpenAIObject search_result at 0x7fc74fb58f68> JSON: {\n",
       "   \"document\": 74,\n",
       "   \"object\": \"search_result\",\n",
       "   \"score\": 301.282\n",
       " }, <OpenAIObject search_result at 0x7fc74fb58fc0> JSON: {\n",
       "   \"document\": 75,\n",
       "   \"object\": \"search_result\",\n",
       "   \"score\": 301.249\n",
       " }, <OpenAIObject search_result at 0x7fc74fac6048> JSON: {\n",
       "   \"document\": 76,\n",
       "   \"object\": \"search_result\",\n",
       "   \"score\": 301.278\n",
       " }, <OpenAIObject search_result at 0x7fc74fac60a0> JSON: {\n",
       "   \"document\": 77,\n",
       "   \"object\": \"search_result\",\n",
       "   \"score\": 301.231\n",
       " }, <OpenAIObject search_result at 0x7fc74fac60f8> JSON: {\n",
       "   \"document\": 78,\n",
       "   \"object\": \"search_result\",\n",
       "   \"score\": 301.253\n",
       " }, <OpenAIObject search_result at 0x7fc74fac6150> JSON: {\n",
       "   \"document\": 79,\n",
       "   \"object\": \"search_result\",\n",
       "   \"score\": 301.325\n",
       " }, <OpenAIObject search_result at 0x7fc74fac61a8> JSON: {\n",
       "   \"document\": 80,\n",
       "   \"object\": \"search_result\",\n",
       "   \"score\": 301.243\n",
       " }, <OpenAIObject search_result at 0x7fc74fac6200> JSON: {\n",
       "   \"document\": 81,\n",
       "   \"object\": \"search_result\",\n",
       "   \"score\": 301.277\n",
       " }, <OpenAIObject search_result at 0x7fc74fac6258> JSON: {\n",
       "   \"document\": 82,\n",
       "   \"object\": \"search_result\",\n",
       "   \"score\": 301.174\n",
       " }, <OpenAIObject search_result at 0x7fc74fac62b0> JSON: {\n",
       "   \"document\": 83,\n",
       "   \"object\": \"search_result\",\n",
       "   \"score\": 301.211\n",
       " }, <OpenAIObject search_result at 0x7fc74fac6308> JSON: {\n",
       "   \"document\": 84,\n",
       "   \"object\": \"search_result\",\n",
       "   \"score\": 301.182\n",
       " }, <OpenAIObject search_result at 0x7fc74fac6360> JSON: {\n",
       "   \"document\": 85,\n",
       "   \"object\": \"search_result\",\n",
       "   \"score\": 301.213\n",
       " }, <OpenAIObject search_result at 0x7fc74fac63b8> JSON: {\n",
       "   \"document\": 86,\n",
       "   \"object\": \"search_result\",\n",
       "   \"score\": 301.234\n",
       " }, <OpenAIObject search_result at 0x7fc74fac6410> JSON: {\n",
       "   \"document\": 87,\n",
       "   \"object\": \"search_result\",\n",
       "   \"score\": 301.192\n",
       " }, <OpenAIObject search_result at 0x7fc74fac6468> JSON: {\n",
       "   \"document\": 88,\n",
       "   \"object\": \"search_result\",\n",
       "   \"score\": 301.249\n",
       " }, <OpenAIObject search_result at 0x7fc74fac64c0> JSON: {\n",
       "   \"document\": 89,\n",
       "   \"object\": \"search_result\",\n",
       "   \"score\": 301.205\n",
       " }, <OpenAIObject search_result at 0x7fc74fac6518> JSON: {\n",
       "   \"document\": 90,\n",
       "   \"object\": \"search_result\",\n",
       "   \"score\": 301.243\n",
       " }, <OpenAIObject search_result at 0x7fc74fac6570> JSON: {\n",
       "   \"document\": 91,\n",
       "   \"object\": \"search_result\",\n",
       "   \"score\": 301.212\n",
       " }, <OpenAIObject search_result at 0x7fc74fac65c8> JSON: {\n",
       "   \"document\": 92,\n",
       "   \"object\": \"search_result\",\n",
       "   \"score\": 301.221\n",
       " }, <OpenAIObject search_result at 0x7fc74fac6620> JSON: {\n",
       "   \"document\": 93,\n",
       "   \"object\": \"search_result\",\n",
       "   \"score\": 301.197\n",
       " }, <OpenAIObject search_result at 0x7fc74fac6678> JSON: {\n",
       "   \"document\": 94,\n",
       "   \"object\": \"search_result\",\n",
       "   \"score\": 301.249\n",
       " }, <OpenAIObject search_result at 0x7fc74fac66d0> JSON: {\n",
       "   \"document\": 95,\n",
       "   \"object\": \"search_result\",\n",
       "   \"score\": 301.283\n",
       " }, <OpenAIObject search_result at 0x7fc74fac6728> JSON: {\n",
       "   \"document\": 96,\n",
       "   \"object\": \"search_result\",\n",
       "   \"score\": 301.215\n",
       " }, <OpenAIObject search_result at 0x7fc74fac6780> JSON: {\n",
       "   \"document\": 97,\n",
       "   \"object\": \"search_result\",\n",
       "   \"score\": 301.112\n",
       " }, <OpenAIObject search_result at 0x7fc74fac67d8> JSON: {\n",
       "   \"document\": 98,\n",
       "   \"object\": \"search_result\",\n",
       "   \"score\": 301.194\n",
       " }, <OpenAIObject search_result at 0x7fc74fac6830> JSON: {\n",
       "   \"document\": 99,\n",
       "   \"object\": \"search_result\",\n",
       "   \"score\": 301.26\n",
       " }]"
      ]
     },
     "metadata": {},
     "execution_count": 79
    }
   ],
   "metadata": {}
  },
  {
   "cell_type": "code",
   "execution_count": null,
   "source": [],
   "outputs": [],
   "metadata": {}
  }
 ]
}