{
 "cells": [
  {
   "cell_type": "code",
   "execution_count": 1,
   "metadata": {},
   "outputs": [
    {
     "name": "stdout",
     "output_type": "stream",
     "text": [
      "Requirement already satisfied: transformers in /opt/anaconda3/lib/python3.11/site-packages (4.42.4)\n",
      "Requirement already satisfied: filelock in /opt/anaconda3/lib/python3.11/site-packages (from transformers) (3.13.1)\n",
      "Requirement already satisfied: huggingface-hub<1.0,>=0.23.2 in /opt/anaconda3/lib/python3.11/site-packages (from transformers) (0.23.4)\n",
      "Requirement already satisfied: numpy<2.0,>=1.17 in /opt/anaconda3/lib/python3.11/site-packages (from transformers) (1.26.4)\n",
      "Requirement already satisfied: packaging>=20.0 in /opt/anaconda3/lib/python3.11/site-packages (from transformers) (23.1)\n",
      "Requirement already satisfied: pyyaml>=5.1 in /opt/anaconda3/lib/python3.11/site-packages (from transformers) (6.0.1)\n",
      "Requirement already satisfied: regex!=2019.12.17 in /opt/anaconda3/lib/python3.11/site-packages (from transformers) (2023.10.3)\n",
      "Requirement already satisfied: requests in /opt/anaconda3/lib/python3.11/site-packages (from transformers) (2.31.0)\n",
      "Requirement already satisfied: safetensors>=0.4.1 in /opt/anaconda3/lib/python3.11/site-packages (from transformers) (0.4.3)\n",
      "Requirement already satisfied: tokenizers<0.20,>=0.19 in /opt/anaconda3/lib/python3.11/site-packages (from transformers) (0.19.1)\n",
      "Requirement already satisfied: tqdm>=4.27 in /opt/anaconda3/lib/python3.11/site-packages (from transformers) (4.65.0)\n",
      "Requirement already satisfied: fsspec>=2023.5.0 in /opt/anaconda3/lib/python3.11/site-packages (from huggingface-hub<1.0,>=0.23.2->transformers) (2023.10.0)\n",
      "Requirement already satisfied: typing-extensions>=3.7.4.3 in /opt/anaconda3/lib/python3.11/site-packages (from huggingface-hub<1.0,>=0.23.2->transformers) (4.9.0)\n",
      "Requirement already satisfied: charset-normalizer<4,>=2 in /opt/anaconda3/lib/python3.11/site-packages (from requests->transformers) (2.0.4)\n",
      "Requirement already satisfied: idna<4,>=2.5 in /opt/anaconda3/lib/python3.11/site-packages (from requests->transformers) (3.4)\n",
      "Requirement already satisfied: urllib3<3,>=1.21.1 in /opt/anaconda3/lib/python3.11/site-packages (from requests->transformers) (2.0.7)\n",
      "Requirement already satisfied: certifi>=2017.4.17 in /opt/anaconda3/lib/python3.11/site-packages (from requests->transformers) (2024.7.4)\n",
      "Requirement already satisfied: torch in /opt/anaconda3/lib/python3.11/site-packages (2.3.1)\n",
      "Requirement already satisfied: filelock in /opt/anaconda3/lib/python3.11/site-packages (from torch) (3.13.1)\n",
      "Requirement already satisfied: typing-extensions>=4.8.0 in /opt/anaconda3/lib/python3.11/site-packages (from torch) (4.9.0)\n",
      "Requirement already satisfied: sympy in /opt/anaconda3/lib/python3.11/site-packages (from torch) (1.12)\n",
      "Requirement already satisfied: networkx in /opt/anaconda3/lib/python3.11/site-packages (from torch) (3.1)\n",
      "Requirement already satisfied: jinja2 in /opt/anaconda3/lib/python3.11/site-packages (from torch) (3.1.3)\n",
      "Requirement already satisfied: fsspec in /opt/anaconda3/lib/python3.11/site-packages (from torch) (2023.10.0)\n",
      "Requirement already satisfied: MarkupSafe>=2.0 in /opt/anaconda3/lib/python3.11/site-packages (from jinja2->torch) (2.1.3)\n",
      "Requirement already satisfied: mpmath>=0.19 in /opt/anaconda3/lib/python3.11/site-packages (from sympy->torch) (1.3.0)\n"
     ]
    }
   ],
   "source": [
    "!pip install transformers\n",
    "!pip install torch"
   ]
  },
  {
   "cell_type": "code",
   "execution_count": 2,
   "metadata": {},
   "outputs": [],
   "source": [
    "from transformers import AutoTokenizer, AutoModel\n",
    "import torch\n",
    "import numpy as np"
   ]
  },
  {
   "cell_type": "code",
   "execution_count": 3,
   "metadata": {},
   "outputs": [],
   "source": [
    "def get_embeddings(text_list, model_name=\"bert-base-uncased\"):\n",
    "    tokenizer = AutoTokenizer.from_pretrained(model_name)\n",
    "    model = AutoModel.from_pretrained(model_name)\n",
    "\n",
    "    inputs = tokenizer(text_list, return_tensors=\"pt\", padding=True, truncation=True)\n",
    "    \n",
    "    with torch.no_grad():\n",
    "        outputs = model(**inputs)\n",
    "    \n",
    "    embeddings = outputs.last_hidden_state.mean(dim=1)\n",
    "    embeddings = embeddings.numpy()\n",
    "    \n",
    "    return embeddings"
   ]
  },
  {
   "cell_type": "code",
   "execution_count": 4,
   "metadata": {},
   "outputs": [],
   "source": [
    "sentiments = [\n",
    "    \"Amazing\", \"Awful\", \"Bad\", \"Beautiful\", \"Boring\", \"Brilliant\", \"Clunky\", \"Confusing\", \"Cool\", \n",
    "    \"Delightful\", \"Disappointing\", \"Dreadful\", \"Effective\", \"Enjoyable\", \"Excellent\", \"Exceptional\", \n",
    "    \"Exciting\", \"Fantastic\", \"Fascinating\", \"Flawless\", \"Frustrating\", \"Good\", \"Great\", \"Horrible\", \n",
    "    \"Impressive\", \"Incredible\", \"Inspiring\", \"Interesting\", \"Lame\", \"Lackluster\", \"Lovely\", \"Magnificent\", \n",
    "    \"Mediocre\", \"Memorable\", \"Miserable\", \"Nice\", \"Outstanding\", \"Overrated\", \"Pathetic\", \"Perfect\", \n",
    "    \"Phenomenal\", \"Pleasing\", \"Poor\", \"Predictable\", \"Refreshing\", \"Remarkable\", \"Rewarding\", \"Riveting\", \n",
    "    \"Satisfying\", \"Sensational\", \"Slow\", \"Spectacular\", \"Stale\", \"Stunning\", \"Subpar\", \"Superb\", \n",
    "    \"Surprising\", \"Terrible\", \"Thrilling\", \"Tiresome\", \"Top-notch\", \"Unbelievable\", \"Underwhelming\", \n",
    "    \"Uninspired\", \"Unpleasant\", \"Unsatisfactory\", \"Unwatchable\", \"Uplifting\", \"Vibrant\", \"Wondrous\", \n",
    "    \"Worthless\", \"Wretched\", \"Zippy\", \"Appalling\", \"Astounding\", \"Average\", \"Cheesy\", \"Competent\", \n",
    "    \"Depressing\", \"Disastrous\", \"Engaging\", \"Enigmatic\", \"Exceptional\", \"Forgettable\", \"Heartwarming\", \n",
    "    \"Inconsistent\", \"Inspiring\", \"Lackluster\", \"Mediocre\", \"Overwhelming\", \"Pathetic\", \"Predictable\", \n",
    "    \"Repetitive\", \"Refreshing\", \"Stunning\", \"Tense\", \"Thought-provoking\", \"Timeless\", \"Uneven\", \"Unpredictable\"\n",
    "]"
   ]
  },
  {
   "cell_type": "code",
   "execution_count": 5,
   "metadata": {},
   "outputs": [],
   "source": [
    "def cosine_similarity(vector1, vector2):\n",
    "    dot_product = np.dot(vector1, vector2)\n",
    "    norm_vector1 = np.linalg.norm(vector1)\n",
    "    norm_vector2 = np.linalg.norm(vector2)\n",
    "    return dot_product / (norm_vector1 * norm_vector2)"
   ]
  },
  {
   "cell_type": "code",
   "execution_count": 6,
   "metadata": {},
   "outputs": [],
   "source": [
    "def compute_similarities(entities, query):\n",
    "    embeddings = get_embeddings([query] + entities)\n",
    "    num_words = embeddings.shape[0]\n",
    "    similarities = np.zeros((num_words, num_words))\n",
    "\n",
    "    for i in range(num_words):\n",
    "        for j in range(num_words):\n",
    "            similarities[i, j] = cosine_similarity(embeddings[i], embeddings[j])\n",
    "\n",
    "    return similarities\n",
    "\n",
    "similarities = compute_similarities(sentiments, query=\"Something really positive\")"
   ]
  },
  {
   "cell_type": "code",
   "execution_count": 7,
   "metadata": {},
   "outputs": [],
   "source": [
    "def similarity_relevance(similarities):\n",
    "    return sorted(range(len(similarities) - 1), key=lambda i: similarities[0, i+1], reverse=True)\n",
    "\n",
    "similarity_order = similarity_relevance(similarities)"
   ]
  },
  {
   "cell_type": "code",
   "execution_count": 8,
   "metadata": {},
   "outputs": [],
   "source": [
    "def print_selected(ranking, similarities, entities):\n",
    "    for i in ranking:\n",
    "        print(f\"{similarities[0, i+1]}\\t{entities[i]}\")"
   ]
  },
  {
   "cell_type": "code",
   "execution_count": 9,
   "metadata": {},
   "outputs": [
    {
     "name": "stdout",
     "output_type": "stream",
     "text": [
      "0.7485777735710144\tCool\n",
      "0.7452228665351868\tSensational\n",
      "0.7436078190803528\tNice\n",
      "0.7379644513130188\tAmazing\n",
      "0.7372422814369202\tInteresting\n",
      "0.7350696325302124\tSurprising\n",
      "0.7315787672996521\tPerfect\n"
     ]
    }
   ],
   "source": [
    "print_selected(similarity_order[:7], similarities, sentiments)"
   ]
  },
  {
   "cell_type": "markdown",
   "metadata": {},
   "source": [
    "Reference implementation:\n",
    "https://github.com/langchain-ai/langchain/blob/18da9f5e59892051be90b5070ae0c03180fef0b1/libs/community/langchain_community/vectorstores/utils.py#L23"
   ]
  },
  {
   "cell_type": "code",
   "execution_count": 22,
   "metadata": {},
   "outputs": [],
   "source": [
    "def maximal_marginal_relevance(similarities, num_to_select, lambda_param):\n",
    "    most_similar = np.argmax(similarities[0, 1:])\n",
    "\n",
    "    selected = [most_similar]\n",
    "    candidates = set(range(len(similarities) - 1))\n",
    "    candidates.remove(most_similar)\n",
    "\n",
    "    while (len(selected) < num_to_select):\n",
    "        if not candidates:\n",
    "            break\n",
    "\n",
    "        mmr_scores = {}\n",
    "        for i in candidates:\n",
    "            mmr_scores[i] = lambda_param * similarities[i+1, 0] - (1 - lambda_param) * max([similarities[i+1, j+1] for j in selected])\n",
    "\n",
    "        next_best = max(mmr_scores, key=mmr_scores.get)\n",
    "        selected.append(next_best)\n",
    "        candidates.remove(next_best)\n",
    "    return selected"
   ]
  },
  {
   "cell_type": "code",
   "execution_count": 11,
   "metadata": {},
   "outputs": [
    {
     "name": "stderr",
     "output_type": "stream",
     "text": [
      "....\n",
      "----------------------------------------------------------------------\n",
      "Ran 4 tests in 0.002s\n",
      "\n",
      "OK\n"
     ]
    },
    {
     "data": {
      "text/plain": [
       "<unittest.main.TestProgram at 0x154af5cd0>"
      ]
     },
     "execution_count": 11,
     "metadata": {},
     "output_type": "execute_result"
    }
   ],
   "source": [
    "import unittest\n",
    "\n",
    "class TestMaximalMarginalRelevance(unittest.TestCase):\n",
    "    def test_basic_case(self):\n",
    "        similarities = np.array([\n",
    "            [1, 0.8, 0.6],\n",
    "            [0.8, 1, 0.5],\n",
    "            [0.6, 0.5, 1]\n",
    "        ])\n",
    "        result = maximal_marginal_relevance(similarities, 2, 0.5)\n",
    "        self.assertEqual(result, [0, 1])\n",
    "\n",
    "    def test_single_selection(self):\n",
    "        similarities = np.array([\n",
    "            [1, 0.8, 0.9],\n",
    "            [0.8, 1, 0.7],\n",
    "            [0.9, 0.7, 1]\n",
    "        ])\n",
    "        result = maximal_marginal_relevance(similarities, 1, 0.5)\n",
    "        self.assertEqual(result, [1])\n",
    "\n",
    "    def test_all_selection(self):\n",
    "        similarities = np.array([\n",
    "            [1, 0.8, 0.6, 0.4],\n",
    "            [0.8, 1, 0.5, 0.2],\n",
    "            [0.6, 0.5, 1, 0.1],\n",
    "            [0.4, 0.1, 0.2, 1]\n",
    "        ])\n",
    "        result = maximal_marginal_relevance(similarities, 3, 0.5)\n",
    "        self.assertEqual(result, [0, 2, 1])\n",
    "\n",
    "    def test_lambda_param(self):\n",
    "        similarities = np.array([\n",
    "            [1, 0.8, 0.6, 0.4],\n",
    "            [0.8, 1, 0.5, 0.2],\n",
    "            [0.6, 0.5, 1, 0.1],\n",
    "            [0.4, 0.1, 0.2, 1]\n",
    "        ])\n",
    "        result = maximal_marginal_relevance(similarities, 3, 0.9)\n",
    "        self.assertEqual(result, [0, 1, 2])\n",
    "\n",
    "unittest.main(argv=[''], exit=False)"
   ]
  },
  {
   "cell_type": "code",
   "execution_count": 12,
   "metadata": {},
   "outputs": [],
   "source": [
    "selected = maximal_marginal_relevance(similarities, num_to_select = 10, lambda_param = 0.7)"
   ]
  },
  {
   "cell_type": "code",
   "execution_count": 13,
   "metadata": {},
   "outputs": [
    {
     "name": "stdout",
     "output_type": "stream",
     "text": [
      "0.7485777735710144\tCool\n",
      "0.7452228665351868\tSensational\n",
      "0.7044647932052612\tInspiring\n",
      "0.7350696325302124\tSurprising\n",
      "0.7195003628730774\tPhenomenal\n",
      "0.7436078190803528\tNice\n",
      "0.6781834363937378\tUnwatchable\n"
     ]
    }
   ],
   "source": [
    "print_selected(selected[:7], similarities, sentiments)"
   ]
  },
  {
   "cell_type": "code",
   "execution_count": 14,
   "metadata": {},
   "outputs": [],
   "source": [
    "article_titles = [\n",
    "    # Culture\n",
    "    \"The Revival of Ancient Traditions in Modern Society\",\n",
    "    \"Exploring the Intersection of Art and Technology\",\n",
    "    \"A Deep Dive into Indigenous Music Around the World\",\n",
    "    \"How Street Art is Shaping Urban Culture\",\n",
    "    \"Cultural Festivals You Can't Miss This Year\",\n",
    "    \"The Impact of Globalization on Local Cultures\",\n",
    "    \"Art Exhibitions That Will Transform Your Perspective\",\n",
    "    \"The Role of Storytelling in Preserving Heritage\",\n",
    "    \"Cultural Icons: Then and Now\",\n",
    "    \"The Influence of Eastern Philosophy in Western Culture\",\n",
    "    \"Exploring London's Cultural Scene\",\n",
    "    \"The Evolution of Theatre in London\",\n",
    "\n",
    "    # Weather\n",
    "    \"Understanding the Science Behind Extreme Weather Events\",\n",
    "    \"How Climate Change is Affecting Global Weather Patterns\",\n",
    "    \"Preparing for Hurricane Season: What You Need to Know\",\n",
    "    \"The Future of Weather Forecasting: Innovations and Challenges\",\n",
    "    \"Heatwaves: Causes, Effects, and Mitigation Strategies\",\n",
    "    \"The Impact of El Niño and La Niña on Global Weather\",\n",
    "    \"Winter Storms: Preparing for the Unexpected\",\n",
    "    \"The Role of Satellites in Modern Weather Prediction\",\n",
    "    \"How Urbanization Affects Local Weather Patterns\",\n",
    "    \"The Growing Threat of Tornadoes in Unusual Places\",\n",
    "    \"Climate Change and Its Impact on Cultural Heritage Sites\",\n",
    "    \"Weather Patterns Affecting London This Summer\",\n",
    "    \"How London's Weather Has Changed Over the Decades\",\n",
    "\n",
    "    # World News\n",
    "    \"Global Leaders Convene to Discuss Climate Action\",\n",
    "    \"The Economic Impacts of the Latest Trade Agreements\",\n",
    "    \"Humanitarian Crisis: Providing Aid to War-Torn Regions\",\n",
    "    \"Elections Around the World: Key Outcomes and Implications\",\n",
    "    \"Technological Advancements in Developing Nations\",\n",
    "    \"Cultural Heritage Sites Under Threat: What Can Be Done?\",\n",
    "    \"The Role of Social Media in Modern Revolutions\",\n",
    "    \"Global Health Initiatives: Progress and Challenges\",\n",
    "    \"Diplomatic Tensions and Their Global Ramifications\",\n",
    "    \"The Rise of Populism: A Global Perspective\",\n",
    "    \"The Growing Influence of Social Media on Photography\",\n",
    "    \"London's Role in Global Climate Talks\",\n",
    "    \"Brexit and Its Impact on London's Economy\",\n",
    "\n",
    "    # Programming Languages\n",
    "    \"The Evolution of Programming Languages Over the Decades\",\n",
    "    \"Top 10 Programming Languages to Learn in 2024\",\n",
    "    \"How Python Became the Go-To Language for Data Science\",\n",
    "    \"The Growing Popularity of Rust in Systems Programming\",\n",
    "    \"Comparing Functional and Object-Oriented Programming Paradigms\",\n",
    "    \"The Impact of Open Source on Programming Language Development\",\n",
    "    \"A Look at the Future of JavaScript Frameworks\",\n",
    "    \"Why Go is the Language of Choice for Cloud Computing\",\n",
    "    \"The Role of Swift in Apple's Ecosystem\",\n",
    "    \"Emerging Programming Languages to Keep an Eye On\",\n",
    "    \"Python Tips for Mastering Data Science\",\n",
    "    \"London's Tech Scene and Programming Trends\",\n",
    "    \"How London's Startups are Using AI\",\n",
    "\n",
    "    # Photography News\n",
    "    \"The Latest Trends in Wildlife Photography\",\n",
    "    \"How Drones are Revolutionizing Aerial Photography\",\n",
    "    \"The Best New Cameras and Lenses of the Year\",\n",
    "    \"Exploring the World of Underwater Photography\",\n",
    "    \"Tips for Mastering Street Photography\",\n",
    "    \"The Art of Portrait Photography: Techniques and Tips\",\n",
    "    \"The Role of Post-Processing in Modern Photography\",\n",
    "    \"The Intersection of Photography and Virtual Reality\",\n",
    "    \"How to Build a Professional Photography Portfolio\",\n",
    "    \"The Growing Influence of Social Media on Photography\",\n",
    "    \"Exploring London's Best Photography Spots\",\n",
    "    \"The Best Photography Exhibitions in London\",\n",
    "\n",
    "    # Things to Do in London\n",
    "    \"Top 10 Must-Visit Museums in London\",\n",
    "    \"Exploring London's Hidden Gems: Off the Beaten Path\",\n",
    "    \"A Foodie's Guide to London's Best Restaurants\",\n",
    "    \"The Best Theatres and Shows to Catch in London\",\n",
    "    \"Historic Landmarks You Can't Miss in London\",\n",
    "    \"Family-Friendly Activities in London\",\n",
    "    \"Exploring London's Vibrant Nightlife Scene\",\n",
    "    \"The Best Parks and Green Spaces in London\",\n",
    "    \"Unique Shopping Experiences in London\",\n",
    "    \"Day Trips from London: Exploring the Countryside\",\n",
    "    \"Cultural Festivals in London This Year\",\n",
    "    \"Top Photography Spots in London\",\n",
    "    \"London's Tech Scene and Programming Trends\",\n",
    "    \"Best Photo Spots in London\"\n",
    "]"
   ]
  },
  {
   "cell_type": "code",
   "execution_count": 105,
   "metadata": {},
   "outputs": [],
   "source": [
    "article_titles = [\n",
    "    # Culture\n",
    "    \"The Revival of Ancient Traditions in Modern Society\",\n",
    "    \"Exploring the Intersection of Art and Technology\",\n",
    "    \"A Deep Dive into Indigenous Music Around the World\",\n",
    "    \"How Street Art is Shaping Urban Culture\",\n",
    "    \"Cultural Festivals You Can't Miss This Year\",\n",
    "    \"The Impact of Globalization on Local Cultures\",\n",
    "    \"Art Exhibitions That Will Transform Your Perspective\",\n",
    "    \"The Evolution of Theatre in London\",\n",
    "    \"The Influence of Eastern Philosophy in Western Culture\",\n",
    "    \"Exploring London's Cultural Scene\",\n",
    "\n",
    "    # Weather\n",
    "    \"Understanding the Science Behind Extreme Weather Events\",\n",
    "    \"How Climate Change is Affecting Global Weather Patterns\",\n",
    "    \"Preparing for Hurricane Season: What You Need to Know\",\n",
    "    \"The Future of Weather Forecasting: Innovations and Challenges\",\n",
    "    \"Heatwaves: Causes, Effects, and Mitigation Strategies\",\n",
    "    \"The Impact of El Niño and La Niña on Global Weather\",\n",
    "    \"Winter Storms: Preparing for the Unexpected\",\n",
    "    \"How Urbanization Affects Local Weather Patterns\",\n",
    "    \"Weather Patterns Affecting London This Summer\",\n",
    "    \"How London's Weather Has Changed Over the Decades\",\n",
    "\n",
    "    # World News\n",
    "    \"Global Leaders Convene to Discuss Climate Action\",\n",
    "    \"The Economic Impacts of the Latest Trade Agreements\",\n",
    "    \"Technological Advancements in Developing Nations\",\n",
    "    \"Elections Around the World: Key Outcomes and Implications\",\n",
    "    \"The Role of Social Media in Modern Revolutions\",\n",
    "    \"Global Health Initiatives: Progress and Challenges\",\n",
    "    \"Diplomatic Tensions and Their Global Ramifications\",\n",
    "    \"The Growing Influence of Social Media on Photography\",\n",
    "    \"London's Role in Global Climate Talks\",\n",
    "    \"Brexit and Its Impact on London's Economy\",\n",
    "\n",
    "    # Programming Languages\n",
    "    \"Top 10 Programming Languages to Learn in 2024\",\n",
    "    \"How Python Became the Go-To Language for Data Science\",\n",
    "    \"The Growing Popularity of Rust in Systems Programming\",\n",
    "    \"Comparing Functional and Object-Oriented Programming Paradigms\",\n",
    "    \"The Impact of Open Source on Programming Language Development\",\n",
    "    \"The Role of Swift in Apple's Ecosystem\",\n",
    "    \"Emerging Programming Languages to Keep an Eye On\",\n",
    "    \"Python Tips for Mastering Data Science\",\n",
    "    \"London's Tech Scene and Programming Trends\",\n",
    "    \"How London's Startups are Using AI\",\n",
    "\n",
    "    # Photography News\n",
    "    \"The Intersection of Photography and Virtual Reality\",\n",
    "    \"How Drones are Revolutionizing Aerial Photography\",\n",
    "    \"The Best New Cameras and Lenses of the Year\",\n",
    "    \"Exploring the World of Underwater Photography\",\n",
    "    \"The Art of Portrait Photography: Techniques and Tips\",\n",
    "    \"The Role of Post-Processing in Modern Photography\",\n",
    "    \"The Intersection of Photography and Virtual Reality\",\n",
    "    \"How to Build a Professional Photography Portfolio\",\n",
    "    \"Exploring London's Best Photography Spots\",\n",
    "    \"The Best Photography Exhibitions in London\",\n",
    "\n",
    "    # Things to Do in London\n",
    "    \"Historic Landmarks You Can't Miss in London\",\n",
    "    \"Family-Friendly Activities in London\",\n",
    "    \"Family-Friendly Events in London\",\n",
    "    \"The Best Parks and Green Spaces in London\",\n",
    "    \"Unique Shopping Experiences in London\",\n",
    "    \"Day Trips from London: Exploring the Countryside\",\n",
    "    \"Cultural Festivals in London This Year\",\n",
    "    \"Top Photography Spots in London\",\n",
    "    \"London's Tech Scene and Programming Trends\",\n",
    "    \"Best Photo Spots in London\"\n",
    "]"
   ]
  },
  {
   "cell_type": "code",
   "execution_count": 106,
   "metadata": {},
   "outputs": [
    {
     "name": "stdout",
     "output_type": "stream",
     "text": [
      "60\n"
     ]
    }
   ],
   "source": [
    "print(len(article_titles))"
   ]
  },
  {
   "cell_type": "code",
   "execution_count": 107,
   "metadata": {},
   "outputs": [],
   "source": [
    "article_similarities = compute_similarities(article_titles, query=\"London\")"
   ]
  },
  {
   "cell_type": "code",
   "execution_count": 108,
   "metadata": {},
   "outputs": [
    {
     "name": "stdout",
     "output_type": "stream",
     "text": [
      "0.7103888392448425\tFamily-Friendly Activities in London\n",
      "0.7099422812461853\tThe Best Photography Exhibitions in London\n",
      "0.7076156735420227\tUnique Shopping Experiences in London\n",
      "0.7006320357322693\tFamily-Friendly Events in London\n",
      "0.6981644034385681\tBest Photo Spots in London\n",
      "0.6938719153404236\tTop Photography Spots in London\n",
      "0.6879022121429443\tExploring London's Cultural Scene\n"
     ]
    }
   ],
   "source": [
    "article_similarity_order = similarity_relevance(article_similarities)\n",
    "print_selected(article_similarity_order[:7], article_similarities, article_titles)"
   ]
  },
  {
   "cell_type": "markdown",
   "metadata": {},
   "source": [
    "- Includes very similar \"Family-Friendly Activities in London\" and \"Family-Friendly Events in London\"\n",
    "- Includes very similar \"Best Photo Spots in London\" and \"Top Photography Spots in London\""
   ]
  },
  {
   "cell_type": "code",
   "execution_count": 109,
   "metadata": {},
   "outputs": [
    {
     "name": "stdout",
     "output_type": "stream",
     "text": [
      "0.7103888392448425\tFamily-Friendly Activities in London\n",
      "0.685788631439209\tThe Evolution of Theatre in London\n",
      "0.7099422812461853\tThe Best Photography Exhibitions in London\n",
      "0.7076156735420227\tUnique Shopping Experiences in London\n",
      "0.6879022121429443\tExploring London's Cultural Scene\n",
      "0.6938719153404236\tTop Photography Spots in London\n",
      "0.6432080268859863\tDay Trips from London: Exploring the Countryside\n"
     ]
    }
   ],
   "source": [
    "article_mmr_order = maximal_marginal_relevance(article_similarities, num_to_select = 10, lambda_param = .7)\n",
    "print_selected(article_mmr_order[:7], article_similarities, article_titles)"
   ]
  },
  {
   "cell_type": "markdown",
   "metadata": {},
   "source": [
    "- Does not include these duplicated articles\n",
    "- All articles are still related to London"
   ]
  },
  {
   "cell_type": "code",
   "execution_count": 100,
   "metadata": {},
   "outputs": [
    {
     "name": "stdout",
     "output_type": "stream",
     "text": [
      "0.7103888392448425\tFamily-Friendly Activities in London\n",
      "0.685788631439209\tThe Evolution of Theatre in London\n",
      "0.6981644034385681\tBest Photo Spots in London\n",
      "0.6072949767112732\tWeather Patterns Affecting London This Summer\n",
      "0.5159177780151367\tPython Tips for Mastering Data Science\n",
      "0.6396927237510681\tThe Best Parks and Green Spaces in London\n",
      "0.7076156735420227\tUnique Shopping Experiences in London\n"
     ]
    }
   ],
   "source": [
    "article_mmr_order = maximal_marginal_relevance(article_similarities, num_to_select = 10, lambda_param = .5)\n",
    "print_selected(article_mmr_order[:7], article_similarities, article_titles)"
   ]
  },
  {
   "cell_type": "markdown",
   "metadata": {},
   "source": [
    "- Does not include these duplicated articles\n",
    "- But includes an article \"Python Tips for Mastering Data Science\" which is not very related to London"
   ]
  },
  {
   "cell_type": "code",
   "execution_count": 101,
   "metadata": {},
   "outputs": [
    {
     "name": "stdout",
     "output_type": "stream",
     "text": [
      "0.7103888392448425\tFamily-Friendly Activities in London\n",
      "0.7099422812461853\tThe Best Photography Exhibitions in London\n",
      "0.7076156735420227\tUnique Shopping Experiences in London\n",
      "0.685788631439209\tThe Evolution of Theatre in London\n",
      "0.6879022121429443\tExploring London's Cultural Scene\n",
      "0.6938719153404236\tTop Photography Spots in London\n",
      "0.6981644034385681\tBest Photo Spots in London\n"
     ]
    }
   ],
   "source": [
    "article_mmr_order = maximal_marginal_relevance(article_similarities, num_to_select = 10, lambda_param = .8)\n",
    "print_selected(article_mmr_order[:7], article_similarities, article_titles)"
   ]
  },
  {
   "cell_type": "markdown",
   "metadata": {},
   "source": [
    "- Now all articles are related to London\n",
    "- But still includes a similar pair of articles \"Top Photography Spots in London\" and \"Best Photo Spots in London\""
   ]
  }
 ],
 "metadata": {
  "kernelspec": {
   "display_name": "base",
   "language": "python",
   "name": "python3"
  },
  "language_info": {
   "codemirror_mode": {
    "name": "ipython",
    "version": 3
   },
   "file_extension": ".py",
   "mimetype": "text/x-python",
   "name": "python",
   "nbconvert_exporter": "python",
   "pygments_lexer": "ipython3",
   "version": "3.11.9"
  }
 },
 "nbformat": 4,
 "nbformat_minor": 2
}
